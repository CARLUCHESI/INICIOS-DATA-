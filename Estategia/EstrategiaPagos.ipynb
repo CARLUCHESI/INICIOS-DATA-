{
 "cells": [
  {
   "cell_type": "markdown",
   "metadata": {},
   "source": [
    " **INDICE------------------------------------------------------------------------------------------** <a id='back'></a>\n",
    "\n",
    "* [Introducción](#intro)\n",
    "* [1/ er.Etapa 1. Carga de los archivos y Descripción de los datos.](#data_review)\n",
    "    * [1.1Conclusiones](#data_review_conclusions)\n",
    "* [2/do.Etapa 2. Preparación de los datos](#data_preprocessing)\n",
    "    * [2.1 Datos del dataframe llamadas](#header_style)\n",
    "    * [2.2 Datos del dataframe internet](#missing_values)\n",
    "    * [2.3 Datos del dataframe mensajes](#duplicates)\n",
    "    * [2.4 Datos del dataframe planes](#data_preprocessing_conclusions)\n",
    "    * [2.5  Datos del dataframe usuarios](#data_preprocessing_usuario) \n",
    "    * [2.6  El número de llamadas realizadas y minutos utilizados al mes.](#data_preprocessing_usuario1)\n",
    "    * [2.7  La cantidad de los SMS enviados por mes.](#data_preprocessing_usuario2)\n",
    "    * [2.8  El volumen de datos por mes.](#data_preprocessing_usuario3)\n",
    "    * [2.9   Los ingresos mensuales por cada usuario.](#data_preprocessing_usuario4)    \n",
    "* [3/er.Etapa 3. Análisis Exploratorio de Datos (EDA)](#EDA)\n",
    "    * [3.1 Comportamiento de los clientes en la muestra](#EDA31)\n",
    "    * [3.2 Consumos de los diferentes servicios por parte de los clientes](#EDA32)\n",
    "    * [3.3 Descripción de las distribuciones.](#EDA33)\n",
    "* [4/to.Etapa 4. Prueba de hipótesis](#hypotheses)\n",
    "    * [Hipótesis 1:El ingreso promedio de los usuarios de las tarifas Ultimate y Surf difiere.](#week1)\n",
    "    * [4.2 Hipótesis 2: El ingreso promedio de los usuarios en el área de estados Nueva York-Nueva Jersey es diferente al de los usuarios de otras regiones.](#week)\n",
    "* [5/to.Conclusiones](#end)\n",
    "* [6/to. Recomendaciones](#R6)"
   ]
  },
  {
   "cell_type": "markdown",
   "metadata": {},
   "source": [
    "<a id='intro'></a>\n",
    "# Introducción \n",
    "La empresa de telecomunicaciones Megaline ofrece a sus clientes dos tarifas de prepago, Surf y Ultimate. El departamento comercial quiere saber cuál de los planes genera más ingresos para ajustar el presupuesto de publicidad.\n",
    "\n",
    "Por el motivo antes expuesto, se nos proporcionarón los datos de 500 clientes de Megaline: quiénes son los clientes, de dónde son, qué tarifa usan y la cantidad de llamadas que hicieron y los mensajes de texto que enviaron en 2018.\n",
    "\n",
    "**Se nos hizó la solicitud de determinar qué tarifa de prepago genera más ingresos.** Si analizamos el comportamiento de los clientes a por medio de los datos proporcionados fundamentaremos nuestra sugerencia para solventar el ejercicio del departamento comercial en su objetivo de optimizar los planes del presupuesto de publicidad.\n",
    "\n",
    "Descripción de las tarifas.\n",
    "\n",
    "Nota: Megaline redondea los segundos a minutos y los megabytes a gigabytes. Para llamadas, cada llamada individual se redondea: incluso si la llamada duró solo un segundo, se contará como un minuto. Para tráfico web, las sesiones web individuales no se redondean. En vez de esto, el total del mes se redondea hacia arriba. Si alguien usa 1025 megabytes este mes, se le cobrarán 2 gigabytes.\n",
    "\n"
   ]
  },
  {
   "cell_type": "markdown",
   "metadata": {},
   "source": [
    "Surf\n",
    "1. Pago mensual: 20\n",
    "2. 500 minutos al mes, 50 SMS y 15 GB de datos\n",
    "3. Si se exceden los límites del paquete:\n",
    "    * 1 minuto: 3 centavos\n",
    "    * 1 SMS: 3 centavos\n",
    "    * 1 GB de datos: 10\n",
    "\n",
    "Ultimate\n",
    "1. Pago mensual: 70\n",
    "2. 300 minutos al mes, 1000 SMS y 30 GB de datos\n",
    "3. Si se exceden los límites del paquete:\n",
    "    * 1 minuto: 1 centavo\n",
    "    * 1 SMS: 1 centavo\n",
    "    * 1 GB de datos: 7\n"
   ]
  },
  {
   "cell_type": "markdown",
   "metadata": {},
   "source": [
    "<a id='data_review'></a>\n",
    "## /er. Etapa 1. Carga de los archivos  y Descripción de los datos.\n",
    " "
   ]
  },
  {
   "cell_type": "markdown",
   "metadata": {},
   "source": [
    "Procedamos a cargar las librerías que son necesarias para el proyecto. "
   ]
  },
  {
   "cell_type": "code",
   "execution_count": 773,
   "metadata": {},
   "outputs": [],
   "source": [
    "# Cargar todas las librerías\n",
    "import pandas as pd\n",
    "import numpy as np \n",
    "import matplotlib.pyplot as plt \n",
    "import seaborn as sns\n",
    "import math\n",
    "from datetime import datetime\n",
    "\n",
    "from scipy.stats import gamma\n",
    "from typing import List\n",
    "from scipy import stats as st\n"
   ]
  },
  {
   "cell_type": "markdown",
   "metadata": {},
   "source": [
    "Importemos los datos del proyecto para mirar la información en general."
   ]
  },
  {
   "cell_type": "code",
   "execution_count": 774,
   "metadata": {},
   "outputs": [],
   "source": [
    "# Cargamos los diversos archivos con los  de datos que nos proporcionarón\n",
    "llamadas = pd.read_csv('/datasets/megaline_calls.csv')\n",
    "internet = pd.read_csv('/datasets/megaline_internet.csv')\n",
    "mensajes = pd.read_csv('/datasets/megaline_messages.csv')\n",
    "planes = pd.read_csv('/datasets/megaline_plans.csv')\n",
    "usuarios = pd.read_csv('/datasets/megaline_users.csv')"
   ]
  },
  {
   "cell_type": "markdown",
   "metadata": {},
   "source": [
    "Revisemos que estructura tienen cada Data Frame y su contenido en datos."
   ]
  },
  {
   "cell_type": "code",
   "execution_count": 775,
   "metadata": {},
   "outputs": [
    {
     "name": "stdout",
     "output_type": "stream",
     "text": [
      "DATA FRAME llamadas\n",
      "**************************************************\n",
      "<class 'pandas.core.frame.DataFrame'>\n",
      "RangeIndex: 137735 entries, 0 to 137734\n",
      "Data columns (total 4 columns):\n",
      " #   Column     Non-Null Count   Dtype  \n",
      "---  ------     --------------   -----  \n",
      " 0   id         137735 non-null  object \n",
      " 1   user_id    137735 non-null  int64  \n",
      " 2   call_date  137735 non-null  object \n",
      " 3   duration   137735 non-null  float64\n",
      "dtypes: float64(1), int64(1), object(2)\n",
      "memory usage: 4.2+ MB\n"
     ]
    }
   ],
   "source": [
    "#primero veamos la estructura de los dataFrames importados\n",
    "print('DATA FRAME llamadas')\n",
    "print('**************************************************')\n",
    "llamadas.info()"
   ]
  },
  {
   "cell_type": "markdown",
   "metadata": {},
   "source": [
    "La tabla calls (datos sobre las llamadas):\n",
    "* **id** — identificador único de la llamada\n",
    "* **call_date** — fecha de la llamada\n",
    "* **duration** — duración de la llamada (en minutos)\n",
    "* **user_id** — el identificador del usuario que realiza la llamada\n",
    "\n",
    "Por el tipo de valor que tiene la variable 'call_date' debe de ser tipo fecha y no object procediendo para asignar al tipo de datos correcto para esta variable."
   ]
  },
  {
   "cell_type": "code",
   "execution_count": 776,
   "metadata": {
    "scrolled": true
   },
   "outputs": [
    {
     "data": {
      "text/plain": [
       "count    137735.000000\n",
       "mean          6.745927\n",
       "std           5.839241\n",
       "min           0.000000\n",
       "25%           1.290000\n",
       "50%           5.980000\n",
       "75%          10.690000\n",
       "max          37.600000\n",
       "Name: duration, dtype: float64"
      ]
     },
     "execution_count": 776,
     "metadata": {},
     "output_type": "execute_result"
    }
   ],
   "source": [
    "#Observemos que datos continene cada una de las tabla 'llamadas'\n",
    "llamadas['duration'].describe()"
   ]
  },
  {
   "cell_type": "markdown",
   "metadata": {},
   "source": [
    "Tenemos llamadas con duración cero, es necesario dar un analisís para verificar su validez."
   ]
  },
  {
   "cell_type": "code",
   "execution_count": 777,
   "metadata": {
    "scrolled": true
   },
   "outputs": [
    {
     "name": "stdout",
     "output_type": "stream",
     "text": [
      "DATA FRAME internet\n",
      "**************************************************\n",
      "<class 'pandas.core.frame.DataFrame'>\n",
      "RangeIndex: 104825 entries, 0 to 104824\n",
      "Data columns (total 4 columns):\n",
      " #   Column        Non-Null Count   Dtype  \n",
      "---  ------        --------------   -----  \n",
      " 0   id            104825 non-null  object \n",
      " 1   user_id       104825 non-null  int64  \n",
      " 2   session_date  104825 non-null  object \n",
      " 3   mb_used       104825 non-null  float64\n",
      "dtypes: float64(1), int64(1), object(2)\n",
      "memory usage: 3.2+ MB\n"
     ]
    }
   ],
   "source": [
    "#primero veamos la estructura de los dataFrames importados\n",
    "print('DATA FRAME internet')\n",
    "print('**************************************************')\n",
    "internet.info()"
   ]
  },
  {
   "cell_type": "markdown",
   "metadata": {},
   "source": [
    "Es necesario realizar un cambio en el tipo datos de la columna **sesion_date** debido a que guarda datos tipo fecha."
   ]
  },
  {
   "cell_type": "code",
   "execution_count": 778,
   "metadata": {
    "scrolled": true
   },
   "outputs": [
    {
     "data": {
      "text/plain": [
       "count    104825.000000\n",
       "mean        366.713701\n",
       "std         277.170542\n",
       "min           0.000000\n",
       "25%         136.080000\n",
       "50%         343.980000\n",
       "75%         554.610000\n",
       "max        1693.470000\n",
       "Name: mb_used, dtype: float64"
      ]
     },
     "execution_count": 778,
     "metadata": {},
     "output_type": "execute_result"
    }
   ],
   "source": [
    "#Observemos que datos continene cada una de las tabla 'internet'\n",
    "internet['mb_used'].describe()"
   ]
  },
  {
   "cell_type": "markdown",
   "metadata": {},
   "source": [
    "La tabla internet (datos sobre las sesiones web):\n",
    "* **id** — identificador único de la sesión\n",
    "* **mb_used** — el volumen de datos gastados durante la sesión (en megabytes)\n",
    "* **session_date** — fecha de la sesión web\n",
    "* **user_id** — identificador del usuario"
   ]
  },
  {
   "cell_type": "markdown",
   "metadata": {},
   "source": [
    "No logramos ver valores problemáticos."
   ]
  },
  {
   "cell_type": "code",
   "execution_count": 779,
   "metadata": {},
   "outputs": [
    {
     "name": "stdout",
     "output_type": "stream",
     "text": [
      "DATA FRAME mensajes\n",
      "**************************************************\n",
      "<class 'pandas.core.frame.DataFrame'>\n",
      "RangeIndex: 76051 entries, 0 to 76050\n",
      "Data columns (total 3 columns):\n",
      " #   Column        Non-Null Count  Dtype \n",
      "---  ------        --------------  ----- \n",
      " 0   id            76051 non-null  object\n",
      " 1   user_id       76051 non-null  int64 \n",
      " 2   message_date  76051 non-null  object\n",
      "dtypes: int64(1), object(2)\n",
      "memory usage: 1.7+ MB\n"
     ]
    }
   ],
   "source": [
    "#primero veamos la estructura de los dataFrames importados\n",
    "print('DATA FRAME mensajes')\n",
    "print('**************************************************')\n",
    "mensajes.info()"
   ]
  },
  {
   "cell_type": "markdown",
   "metadata": {},
   "source": [
    "La tabla messages (mensajes de datos sobre los SMS):\n",
    "* **id** — identificador único del SMS\n",
    "* **message_date** — fecha del SMS\n",
    "* **user_id** — el identificador del usuario que manda el SMS"
   ]
  },
  {
   "cell_type": "markdown",
   "metadata": {},
   "source": [
    "Por el tipo de valor que tiene la variable **message_date** debe de ser tipo fecha y no object."
   ]
  },
  {
   "cell_type": "code",
   "execution_count": 780,
   "metadata": {},
   "outputs": [
    {
     "name": "stdout",
     "output_type": "stream",
     "text": [
      "DATA FRAME planes\n",
      "**************************************************\n",
      "<class 'pandas.core.frame.DataFrame'>\n",
      "RangeIndex: 2 entries, 0 to 1\n",
      "Data columns (total 8 columns):\n",
      " #   Column                 Non-Null Count  Dtype  \n",
      "---  ------                 --------------  -----  \n",
      " 0   messages_included      2 non-null      int64  \n",
      " 1   mb_per_month_included  2 non-null      int64  \n",
      " 2   minutes_included       2 non-null      int64  \n",
      " 3   usd_monthly_pay        2 non-null      int64  \n",
      " 4   usd_per_gb             2 non-null      int64  \n",
      " 5   usd_per_message        2 non-null      float64\n",
      " 6   usd_per_minute         2 non-null      float64\n",
      " 7   plan_name              2 non-null      object \n",
      "dtypes: float64(2), int64(5), object(1)\n",
      "memory usage: 256.0+ bytes\n"
     ]
    }
   ],
   "source": [
    "#primero veamos la estructura de los dataFrames importados\n",
    "print('DATA FRAME planes')\n",
    "print('**************************************************')\n",
    "planes.info()"
   ]
  },
  {
   "cell_type": "markdown",
   "metadata": {},
   "source": [
    "La tabla planes (planes de datos sobre las tarifas):\n",
    "* **plan_name** — nombre de la tarifa\n",
    "* **usd_monthly_pay** — pago mensual en dólares estadounidenses\n",
    "* **minutes_included** — minutos incluidos al mes\n",
    "* **messages_included** — SMS incluidos al mes\n",
    "* **mb_per_month_included** — datos incluidos al mes (en megabytes)\n",
    "* **usd_per_minute** — precio por minuto tras exceder los límites del paquete (por ejemplo, si el paquete incluye 100 minutos el operador cobrará el minuto 101)\n",
    "* **usd_per_message** — precio por SMS tras exceder los límites del paquete\n",
    "* **usd_per_gb** — precio por gigabyte de los datos extra tras exceder los * límites del paquete (1 GB = 1024 megabytes)"
   ]
  },
  {
   "cell_type": "markdown",
   "metadata": {},
   "source": [
    "No tenemos datos problemáticos en esta tabla, revisemos si hay duplicados."
   ]
  },
  {
   "cell_type": "markdown",
   "metadata": {},
   "source": [
    "No hay mucho que verificar en esta tabla continuremos con la siguiente."
   ]
  },
  {
   "cell_type": "code",
   "execution_count": 781,
   "metadata": {},
   "outputs": [
    {
     "name": "stdout",
     "output_type": "stream",
     "text": [
      "DATA FRAME usuarios\n",
      "**************************************************\n",
      "<class 'pandas.core.frame.DataFrame'>\n",
      "RangeIndex: 500 entries, 0 to 499\n",
      "Data columns (total 8 columns):\n",
      " #   Column      Non-Null Count  Dtype \n",
      "---  ------      --------------  ----- \n",
      " 0   user_id     500 non-null    int64 \n",
      " 1   first_name  500 non-null    object\n",
      " 2   last_name   500 non-null    object\n",
      " 3   age         500 non-null    int64 \n",
      " 4   city        500 non-null    object\n",
      " 5   reg_date    500 non-null    object\n",
      " 6   plan        500 non-null    object\n",
      " 7   churn_date  34 non-null     object\n",
      "dtypes: int64(2), object(6)\n",
      "memory usage: 31.4+ KB\n"
     ]
    }
   ],
   "source": [
    "#primero veamos la estructura de los dataFrames importados\n",
    "print('DATA FRAME usuarios')\n",
    "print('**************************************************')\n",
    "usuarios.info()"
   ]
  },
  {
   "cell_type": "markdown",
   "metadata": {},
   "source": [
    "La tabla users (datos sobre los usuarios) guarda las siguientes variables:\n",
    "* **user_id** — identificador único del usuario\n",
    "* **first_name** — nombre del usuario\n",
    "* **last_name** — apellido del usuario\n",
    "* **age** — edad del usuario (en años)\n",
    "* **reg_date** — fecha de suscripción (dd, mm, aa)\n",
    "* **churn_date** — la fecha en que el usuario dejó de usar el servicio (si el valor es ausente, la tarifa se estaba usando cuando se recuperaron estos datos)\n",
    "* **city** — ciudad de residencia del usuario\n",
    "* **plan** — nombre de la tarifa"
   ]
  },
  {
   "cell_type": "markdown",
   "metadata": {},
   "source": [
    " En la tabla 'usuarios' en la columna 'churn_date', -la fecha en que el usuario dejó de usar el servicio -(si el valor es ausente, la tarifa se estaba usando cuando se recuperaron estos datos). Por lo anterior no es critico la precencia de valores ausentes en esta columna.\n",
    " \n",
    " Respecto a las demás columnas no presentan valores ausentes.Pero hay que poner al tipo de datos correctos los valores de la columna **churn_date** y **reg_date** ."
   ]
  },
  {
   "cell_type": "code",
   "execution_count": 782,
   "metadata": {},
   "outputs": [
    {
     "data": {
      "text/plain": [
       "count    500.000000\n",
       "mean      45.486000\n",
       "std       16.972269\n",
       "min       18.000000\n",
       "25%       30.000000\n",
       "50%       46.000000\n",
       "75%       61.000000\n",
       "max       75.000000\n",
       "Name: age, dtype: float64"
      ]
     },
     "execution_count": 782,
     "metadata": {},
     "output_type": "execute_result"
    }
   ],
   "source": [
    "#Observemos que datos continene cada una de las tabla 'usuarios'\n",
    "usuarios['age'].describe()"
   ]
  },
  {
   "cell_type": "code",
   "execution_count": 783,
   "metadata": {},
   "outputs": [
    {
     "data": {
      "text/plain": [
       "0"
      ]
     },
     "execution_count": 783,
     "metadata": {},
     "output_type": "execute_result"
    }
   ],
   "source": [
    "#Comprobando si hay valores duplicados en esta tabla\n",
    "usuarios.duplicated().sum()"
   ]
  },
  {
   "cell_type": "markdown",
   "metadata": {},
   "source": [
    "<a id='data_review_conclusions'></a>\n",
    "### Conclusiones.\n",
    "Es necesario realizar el cambio de tipo de datos para las columnas que contienen, datos tipo fechas. También  es necesario analizar el caso de posibles valores atípicos dentro del dataframe **llamadas** en la variable **duration**."
   ]
  },
  {
   "cell_type": "markdown",
   "metadata": {},
   "source": [
    "<a id='data_preprocessing'></a>\n",
    "## /do.  Etapa 2. Preparación de los datos\n"
   ]
  },
  {
   "cell_type": "markdown",
   "metadata": {},
   "source": [
    "<a id='header_style'></a>\n",
    "### Datos del dataframe llamadas."
   ]
  },
  {
   "cell_type": "markdown",
   "metadata": {},
   "source": [
    "En la tabla llamadas tenemos tipos de datos que guardas datos 'fechas' vamos a insertarlos en el tipo de datos correcto."
   ]
  },
  {
   "cell_type": "code",
   "execution_count": 784,
   "metadata": {
    "scrolled": true
   },
   "outputs": [
    {
     "data": {
      "image/png": "[encoded data removed]",
      "text/plain": [
       "<Figure size 432x288 with 1 Axes>"
      ]
     },
     "metadata": {
      "needs_background": "light"
     },
     "output_type": "display_data"
    }
   ],
   "source": [
    "#realizamos el cambio de tipo de dato de la columna 'call_date' en el DataFrame 'llamadas'\n",
    "llamadas['call_date']= pd.to_datetime(llamadas['call_date'], format='%Y-%m-%d')\n",
    "llamadas['call_date'].hist()\n",
    "plt.title('FRECUENCIA DE FECHAS DE LAS LLAMADAS TELÉFONICAS')\n",
    "plt.xlabel('fechas')\n",
    "plt.ylabel('frecuencia')\n",
    "plt.show()"
   ]
  },
  {
   "cell_type": "markdown",
   "metadata": {},
   "source": [
    "Se aprecian valores problemáticos que tienen una duración de cero, revisaremos si existen duplicados"
   ]
  },
  {
   "cell_type": "code",
   "execution_count": 785,
   "metadata": {},
   "outputs": [
    {
     "data": {
      "text/plain": [
       "0"
      ]
     },
     "execution_count": 785,
     "metadata": {},
     "output_type": "execute_result"
    }
   ],
   "source": [
    "#verificando la existencia de valores duplicados\n",
    "llamadas.duplicated().sum()"
   ]
  },
  {
   "cell_type": "markdown",
   "metadata": {},
   "source": [
    "Tenemos llamadas que tienen una duración de cero. Es un valor problemático si tenemos encuenta que probablemente no entran en el cobro de ningún plan. Calculemos que porcentaje de datos representan del total para esta columna."
   ]
  },
  {
   "cell_type": "code",
   "execution_count": 786,
   "metadata": {},
   "outputs": [
    {
     "name": "stdout",
     "output_type": "stream",
     "text": [
      "NÚMERO DE LLAMADAS CON DURACIÓN CERO:           26834\n",
      "NÚMERO DE LLAMADAS REGISTRADAS EN TOTAL:       137735\n",
      "PORCENTAJE DE LLAMADAS CON CERO DE DURACIÓN:   19.48%\n"
     ]
    }
   ],
   "source": [
    "#calculamos la cantidad de llamdas con duración cero\n",
    "cantidad_llamadas_cero = llamadas['duration'].loc[llamadas['duration']==0].count()\n",
    "print('NÚMERO DE LLAMADAS CON DURACIÓN CERO:          ', cantidad_llamadas_cero)\n",
    "#calculamos la cantidad de datos en la columna 'duration'\n",
    "cantidad_llamadas= len(llamadas['duration'])\n",
    "print('NÚMERO DE LLAMADAS REGISTRADAS EN TOTAL:      ', cantidad_llamadas)\n",
    "#calculamos el porcentaje que representan los datos con valor cero \n",
    "porcentaje_llamadas_cero = cantidad_llamadas_cero / cantidad_llamadas\n",
    "print('PORCENTAJE DE LLAMADAS CON CERO DE DURACIÓN: ',  \"{: .2%}\".format(porcentaje_llamadas_cero))"
   ]
  },
  {
   "cell_type": "markdown",
   "metadata": {},
   "source": [
    "Es un porcentaje considerable de los datos no es conveniente, eliminarlos. Vamos a estudiar cual es su origen. Pueden ser el resultado de marcar erroneamente un número telefónico. Para este caso podemos observar si es que el usuario nos es repetitivo significativamente en el marcaje de un mismo número teléfonico."
   ]
  },
  {
   "cell_type": "code",
   "execution_count": 787,
   "metadata": {},
   "outputs": [
    {
     "data": {
      "text/html": [
       "<div>\n",
       "<style scoped>\n",
       "    .dataframe tbody tr th:only-of-type {\n",
       "        vertical-align: middle;\n",
       "    }\n",
       "\n",
       "    .dataframe tbody tr th {\n",
       "        vertical-align: top;\n",
       "    }\n",
       "\n",
       "    .dataframe thead th {\n",
       "        text-align: right;\n",
       "    }\n",
       "</style>\n",
       "<table border=\"1\" class=\"dataframe\">\n",
       "  <thead>\n",
       "    <tr style=\"text-align: right;\">\n",
       "      <th></th>\n",
       "      <th>id</th>\n",
       "      <th>user_id</th>\n",
       "      <th>call_date</th>\n",
       "      <th>duration</th>\n",
       "    </tr>\n",
       "  </thead>\n",
       "  <tbody>\n",
       "    <tr>\n",
       "      <th>19</th>\n",
       "      <td>1001_4</td>\n",
       "      <td>1001</td>\n",
       "      <td>2018-12-05</td>\n",
       "      <td>0.0</td>\n",
       "    </tr>\n",
       "    <tr>\n",
       "      <th>25</th>\n",
       "      <td>1001_13</td>\n",
       "      <td>1001</td>\n",
       "      <td>2018-12-24</td>\n",
       "      <td>0.0</td>\n",
       "    </tr>\n",
       "    <tr>\n",
       "      <th>31</th>\n",
       "      <td>1001_30</td>\n",
       "      <td>1001</td>\n",
       "      <td>2018-10-17</td>\n",
       "      <td>0.0</td>\n",
       "    </tr>\n",
       "    <tr>\n",
       "      <th>32</th>\n",
       "      <td>1001_31</td>\n",
       "      <td>1001</td>\n",
       "      <td>2018-11-03</td>\n",
       "      <td>0.0</td>\n",
       "    </tr>\n",
       "    <tr>\n",
       "      <th>34</th>\n",
       "      <td>1001_35</td>\n",
       "      <td>1001</td>\n",
       "      <td>2018-12-21</td>\n",
       "      <td>0.0</td>\n",
       "    </tr>\n",
       "    <tr>\n",
       "      <th>...</th>\n",
       "      <td>...</td>\n",
       "      <td>...</td>\n",
       "      <td>...</td>\n",
       "      <td>...</td>\n",
       "    </tr>\n",
       "    <tr>\n",
       "      <th>137714</th>\n",
       "      <td>1499_183</td>\n",
       "      <td>1499</td>\n",
       "      <td>2018-11-10</td>\n",
       "      <td>0.0</td>\n",
       "    </tr>\n",
       "    <tr>\n",
       "      <th>137715</th>\n",
       "      <td>1499_184</td>\n",
       "      <td>1499</td>\n",
       "      <td>2018-09-15</td>\n",
       "      <td>0.0</td>\n",
       "    </tr>\n",
       "    <tr>\n",
       "      <th>137720</th>\n",
       "      <td>1499_189</td>\n",
       "      <td>1499</td>\n",
       "      <td>2018-12-27</td>\n",
       "      <td>0.0</td>\n",
       "    </tr>\n",
       "    <tr>\n",
       "      <th>137722</th>\n",
       "      <td>1499_191</td>\n",
       "      <td>1499</td>\n",
       "      <td>2018-12-24</td>\n",
       "      <td>0.0</td>\n",
       "    </tr>\n",
       "    <tr>\n",
       "      <th>137725</th>\n",
       "      <td>1499_194</td>\n",
       "      <td>1499</td>\n",
       "      <td>2018-10-31</td>\n",
       "      <td>0.0</td>\n",
       "    </tr>\n",
       "  </tbody>\n",
       "</table>\n",
       "<p>26834 rows × 4 columns</p>\n",
       "</div>"
      ],
      "text/plain": [
       "              id  user_id  call_date  duration\n",
       "19        1001_4     1001 2018-12-05       0.0\n",
       "25       1001_13     1001 2018-12-24       0.0\n",
       "31       1001_30     1001 2018-10-17       0.0\n",
       "32       1001_31     1001 2018-11-03       0.0\n",
       "34       1001_35     1001 2018-12-21       0.0\n",
       "...          ...      ...        ...       ...\n",
       "137714  1499_183     1499 2018-11-10       0.0\n",
       "137715  1499_184     1499 2018-09-15       0.0\n",
       "137720  1499_189     1499 2018-12-27       0.0\n",
       "137722  1499_191     1499 2018-12-24       0.0\n",
       "137725  1499_194     1499 2018-10-31       0.0\n",
       "\n",
       "[26834 rows x 4 columns]"
      ]
     },
     "execution_count": 787,
     "metadata": {},
     "output_type": "execute_result"
    }
   ],
   "source": [
    "#Filtro de las llamadas que se encuentran con valor cero en su duración\n",
    "llamadas_cero = llamadas.loc[llamadas['duration']==0]\n",
    "llamadas_cero"
   ]
  },
  {
   "cell_type": "markdown",
   "metadata": {},
   "source": [
    "Vamos a segmentar la información por el identificador de usario y analizar la perspectiva que nos muestran los datos."
   ]
  },
  {
   "cell_type": "code",
   "execution_count": 788,
   "metadata": {},
   "outputs": [
    {
     "data": {
      "image/png": "[encoded data removed]",
      "text/plain": [
       "<Figure size 432x288 with 1 Axes>"
      ]
     },
     "metadata": {
      "needs_background": "light"
     },
     "output_type": "display_data"
    }
   ],
   "source": [
    "#calculamos un objeto tipo Series para poder encontrar la moda \n",
    "#en la columna de user_id\n",
    "maximo = llamadas_cero[\"user_id\"].value_counts() > 100\n",
    "#con maximo.index[0] tenemos la moda, con este estadístico podemos buscar un comportamiento\n",
    "#significativo desde la frecuencia de llamadas conformen a el periodo 2018-01 al 2019-01\n",
    "no_maximo = llamadas_cero[llamadas_cero[\"user_id\"] == maximo.index[0]]\n",
    "no_maximo[\"call_date\"].hist(color = 'teal')\n",
    "plt.title('FRECUENCIA DE FECHAS DE LAS LLAMADAS TELÉFONICAS MUESTRA CON \"DURATION CERO\"')\n",
    "plt.xlabel('fechas')\n",
    "plt.ylabel('frecuencia')\n",
    "plt.show()"
   ]
  },
  {
   "cell_type": "markdown",
   "metadata": {},
   "source": [
    "Vamos a observar como se comporta los el estadistíco, con el número de llamadas restantes."
   ]
  },
  {
   "cell_type": "code",
   "execution_count": 789,
   "metadata": {
    "scrolled": false
   },
   "outputs": [
    {
     "data": {
      "image/png": "[encoded data removed]",
      "text/plain": [
       "<Figure size 432x288 with 1 Axes>"
      ]
     },
     "metadata": {
      "needs_background": "light"
     },
     "output_type": "display_data"
    }
   ],
   "source": [
    "no_maximot = llamadas[(llamadas[\"user_id\"] == maximo.index[0]) & (llamadas['duration']!=0)]\n",
    "no_maximot[\"call_date\"].hist(color = 'teal')\n",
    "plt.title('FRECUENCIA DE FECHAS DE LAS LLAMADAS TELÉFONICAS MUESTRA CON \"DURATION\" MAYOR QUE CERO')\n",
    "plt.xlabel('fechas')\n",
    "plt.ylabel('frecuencia')\n",
    "plt.show()"
   ]
  },
  {
   "cell_type": "markdown",
   "metadata": {},
   "source": [
    "Vemos una estructura similar en el histograma 3 montes y 2 valles, podemos tener cierta certeza de que los datos conservan la estructura del resto del DataFrame. No tenemos evidencia de que sean valores atípicos. \n"
   ]
  },
  {
   "cell_type": "code",
   "execution_count": 790,
   "metadata": {},
   "outputs": [],
   "source": [
    "llamadas['mes_año'] = pd.DatetimeIndex(llamadas['call_date']).month\n",
    "#Diccionarios de días y meses\n",
    "meses = {\n",
    "    1: \"Enero\",\n",
    "    2: \"Febrero\",\n",
    "    3: \"Marzo\",\n",
    "    4: \"Abril\",\n",
    "    5: \"Mayo\",\n",
    "    6: \"Junio\",\n",
    "    7: \"Julio\",\n",
    "    8: \"Agosto\",\n",
    "    9: \"Septiembre\",\n",
    "    10: \"Octubre\",\n",
    "    11: \"Noviembre\",\n",
    "    12: \"Diciembre\",\n",
    "}\n",
    "\n",
    "llamadas['mes'] = llamadas['mes_año'].map(meses)"
   ]
  },
  {
   "cell_type": "code",
   "execution_count": 791,
   "metadata": {},
   "outputs": [
    {
     "data": {
      "text/html": [
       "<div>\n",
       "<style scoped>\n",
       "    .dataframe tbody tr th:only-of-type {\n",
       "        vertical-align: middle;\n",
       "    }\n",
       "\n",
       "    .dataframe tbody tr th {\n",
       "        vertical-align: top;\n",
       "    }\n",
       "\n",
       "    .dataframe thead th {\n",
       "        text-align: right;\n",
       "    }\n",
       "</style>\n",
       "<table border=\"1\" class=\"dataframe\">\n",
       "  <thead>\n",
       "    <tr style=\"text-align: right;\">\n",
       "      <th></th>\n",
       "      <th>llamadas</th>\n",
       "      <th>mes</th>\n",
       "    </tr>\n",
       "  </thead>\n",
       "  <tbody>\n",
       "    <tr>\n",
       "      <th>12</th>\n",
       "      <td>30614</td>\n",
       "      <td>Diciembre</td>\n",
       "    </tr>\n",
       "    <tr>\n",
       "      <th>11</th>\n",
       "      <td>24651</td>\n",
       "      <td>Noviembre</td>\n",
       "    </tr>\n",
       "    <tr>\n",
       "      <th>10</th>\n",
       "      <td>21064</td>\n",
       "      <td>Octubre</td>\n",
       "    </tr>\n",
       "    <tr>\n",
       "      <th>9</th>\n",
       "      <td>16523</td>\n",
       "      <td>Septiembre</td>\n",
       "    </tr>\n",
       "    <tr>\n",
       "      <th>8</th>\n",
       "      <td>13590</td>\n",
       "      <td>Agosto</td>\n",
       "    </tr>\n",
       "    <tr>\n",
       "      <th>7</th>\n",
       "      <td>11105</td>\n",
       "      <td>Julio</td>\n",
       "    </tr>\n",
       "    <tr>\n",
       "      <th>6</th>\n",
       "      <td>8221</td>\n",
       "      <td>Junio</td>\n",
       "    </tr>\n",
       "    <tr>\n",
       "      <th>5</th>\n",
       "      <td>5959</td>\n",
       "      <td>Mayo</td>\n",
       "    </tr>\n",
       "    <tr>\n",
       "      <th>4</th>\n",
       "      <td>3442</td>\n",
       "      <td>Abril</td>\n",
       "    </tr>\n",
       "    <tr>\n",
       "      <th>3</th>\n",
       "      <td>1620</td>\n",
       "      <td>Marzo</td>\n",
       "    </tr>\n",
       "    <tr>\n",
       "      <th>2</th>\n",
       "      <td>774</td>\n",
       "      <td>Febrero</td>\n",
       "    </tr>\n",
       "    <tr>\n",
       "      <th>1</th>\n",
       "      <td>172</td>\n",
       "      <td>Enero</td>\n",
       "    </tr>\n",
       "  </tbody>\n",
       "</table>\n",
       "</div>"
      ],
      "text/plain": [
       "    llamadas         mes\n",
       "12     30614   Diciembre\n",
       "11     24651   Noviembre\n",
       "10     21064     Octubre\n",
       "9      16523  Septiembre\n",
       "8      13590      Agosto\n",
       "7      11105       Julio\n",
       "6       8221       Junio\n",
       "5       5959        Mayo\n",
       "4       3442       Abril\n",
       "3       1620       Marzo\n",
       "2        774     Febrero\n",
       "1        172       Enero"
      ]
     },
     "execution_count": 791,
     "metadata": {},
     "output_type": "execute_result"
    }
   ],
   "source": [
    "#Creamos un frame auxiliar para observar el comportamiento de el número de\n",
    "#de fechas en call_date \n",
    "data1 = pd.DataFrame()\n",
    "data1['llamadas'] = llamadas['mes_año'].value_counts()\n",
    "data1['mes'] = llamadas['mes_año'].value_counts().index.map(meses)\n",
    "data1"
   ]
  },
  {
   "cell_type": "code",
   "execution_count": 792,
   "metadata": {},
   "outputs": [
    {
     "data": {
      "image/png": "[encoded data removed]",
      "text/plain": [
       "<Figure size 432x288 with 1 Axes>"
      ]
     },
     "metadata": {
      "needs_background": "light"
     },
     "output_type": "display_data"
    }
   ],
   "source": [
    "#usando los valores de la tabla construimos un diagrama de barras\n",
    "frecuencia=data1['llamadas']\n",
    "variable = data1['mes']\n",
    "sns.barplot(x=variable, y=frecuencia)\n",
    "plt.title('Frecuencia de llamadas por mes del año')\n",
    "plt.xlabel('mes del año')\n",
    "plt.ylabel('frecuencia')\n",
    "plt.xticks(rotation=45)\n",
    "plt.show()"
   ]
  },
  {
   "cell_type": "markdown",
   "metadata": {},
   "source": [
    "Podemos observar como el número de llamadas se incrementa a lo largo del fin de cada año. Se debe observar una tendencia similiar con los datos cuya duración de llamada es cero. Por el supuesto que a mayor número de llamadas mayor el error en la marcación."
   ]
  },
  {
   "cell_type": "code",
   "execution_count": 793,
   "metadata": {},
   "outputs": [
    {
     "data": {
      "text/html": [
       "<div>\n",
       "<style scoped>\n",
       "    .dataframe tbody tr th:only-of-type {\n",
       "        vertical-align: middle;\n",
       "    }\n",
       "\n",
       "    .dataframe tbody tr th {\n",
       "        vertical-align: top;\n",
       "    }\n",
       "\n",
       "    .dataframe thead th {\n",
       "        text-align: right;\n",
       "    }\n",
       "</style>\n",
       "<table border=\"1\" class=\"dataframe\">\n",
       "  <thead>\n",
       "    <tr style=\"text-align: right;\">\n",
       "      <th></th>\n",
       "      <th>llamadas</th>\n",
       "      <th>mes</th>\n",
       "    </tr>\n",
       "  </thead>\n",
       "  <tbody>\n",
       "    <tr>\n",
       "      <th>12</th>\n",
       "      <td>5948</td>\n",
       "      <td>Diciembre</td>\n",
       "    </tr>\n",
       "    <tr>\n",
       "      <th>11</th>\n",
       "      <td>4782</td>\n",
       "      <td>Noviembre</td>\n",
       "    </tr>\n",
       "    <tr>\n",
       "      <th>10</th>\n",
       "      <td>4143</td>\n",
       "      <td>Octubre</td>\n",
       "    </tr>\n",
       "    <tr>\n",
       "      <th>9</th>\n",
       "      <td>3245</td>\n",
       "      <td>Septiembre</td>\n",
       "    </tr>\n",
       "    <tr>\n",
       "      <th>8</th>\n",
       "      <td>2702</td>\n",
       "      <td>Agosto</td>\n",
       "    </tr>\n",
       "    <tr>\n",
       "      <th>7</th>\n",
       "      <td>2136</td>\n",
       "      <td>Julio</td>\n",
       "    </tr>\n",
       "    <tr>\n",
       "      <th>6</th>\n",
       "      <td>1565</td>\n",
       "      <td>Junio</td>\n",
       "    </tr>\n",
       "    <tr>\n",
       "      <th>5</th>\n",
       "      <td>1182</td>\n",
       "      <td>Mayo</td>\n",
       "    </tr>\n",
       "    <tr>\n",
       "      <th>4</th>\n",
       "      <td>637</td>\n",
       "      <td>Abril</td>\n",
       "    </tr>\n",
       "    <tr>\n",
       "      <th>3</th>\n",
       "      <td>310</td>\n",
       "      <td>Marzo</td>\n",
       "    </tr>\n",
       "    <tr>\n",
       "      <th>2</th>\n",
       "      <td>145</td>\n",
       "      <td>Febrero</td>\n",
       "    </tr>\n",
       "    <tr>\n",
       "      <th>1</th>\n",
       "      <td>39</td>\n",
       "      <td>Enero</td>\n",
       "    </tr>\n",
       "  </tbody>\n",
       "</table>\n",
       "</div>"
      ],
      "text/plain": [
       "    llamadas         mes\n",
       "12      5948   Diciembre\n",
       "11      4782   Noviembre\n",
       "10      4143     Octubre\n",
       "9       3245  Septiembre\n",
       "8       2702      Agosto\n",
       "7       2136       Julio\n",
       "6       1565       Junio\n",
       "5       1182        Mayo\n",
       "4        637       Abril\n",
       "3        310       Marzo\n",
       "2        145     Febrero\n",
       "1         39       Enero"
      ]
     },
     "execution_count": 793,
     "metadata": {},
     "output_type": "execute_result"
    }
   ],
   "source": [
    "# Refrescando el Filtro de las llamadas que se encuentran con valor cero en su duración\n",
    "llamadas_cero = llamadas.loc[llamadas['duration']==0]\n",
    "#Procedemos a trazar las fechas vs el número de llamadas para este filtro\n",
    "#Creamos un frame auxiliar para observar el comportamiento de el número de\n",
    "#de fechas en call_date \n",
    "data2 = pd.DataFrame()\n",
    "data2['llamadas'] = llamadas_cero['mes_año'].value_counts()\n",
    "data2['mes'] = llamadas['mes_año'].value_counts().index.map(meses)\n",
    "data2"
   ]
  },
  {
   "cell_type": "code",
   "execution_count": 794,
   "metadata": {},
   "outputs": [
    {
     "data": {
      "image/png": "[encoded data removed]",
      "text/plain": [
       "<Figure size 432x288 with 1 Axes>"
      ]
     },
     "metadata": {
      "needs_background": "light"
     },
     "output_type": "display_data"
    }
   ],
   "source": [
    "#usando los valores de la tabla construimos un diagrama de barras\n",
    "frecuencia=data2['llamadas']\n",
    "variable = data2['mes']\n",
    "sns.barplot(x=variable, y=frecuencia)\n",
    "plt.title('Frecuencia de llamadas con duracion CERO por mes del año')\n",
    "plt.xlabel('mes del año')\n",
    "plt.ylabel('frecuencia')\n",
    "plt.xticks(rotation=45)\n",
    "plt.show()"
   ]
  },
  {
   "cell_type": "markdown",
   "metadata": {},
   "source": [
    "La gráfica indica que existe una tendencia aumentar el número de llamadas con duración cero. A lo largo del la fecha en que se hicieron. Y se mantiene la tendencia al filtrar las llamadas con duración cero."
   ]
  },
  {
   "cell_type": "markdown",
   "metadata": {},
   "source": [
    "Si estamos midiendo que plan de venta de datos es más conveniente para un usuario, es claro que se inclinará por aquel plan que no lo penalice si se equivoca al hacer una llamada. El patrón que tenemos revela una consitencia con el marcaje y el uso de la llamada en la duración. Tomando esta reflexión indicaremos que estas llamadas pueden ser tomadas en cuenta en el estudio aunque con cierta restricción, pués hay que analizar el tipo de tratamiento que hace la compañia en tipo de llamadas con duración cero.\n",
    "\n",
    " Para cada llamada individual se redondea: incluso si la llamada duró solo un segundo, se contará como un minuto. De acuerdo con esto estas llamadas se considerán que no entran en el plan de cobro. Lo que beneficia al usuario. El enfoque que se le debe dar a estos datos es ver si el usuario mantiene una tendencia que indique alguna preferencia para el caso de que tenemos que este tipo de clientes hacen uso de una robustes de marcajes por lo que entenderemos, que son personas relacionadas con operaciones de enlace ó de mercadotecnia en empresas."
   ]
  },
  {
   "cell_type": "markdown",
   "metadata": {},
   "source": [
    "Observemos los cuartiles en forma gráfica para visualizar los valores que son atípicos en la variable 'duration'."
   ]
  },
  {
   "cell_type": "code",
   "execution_count": 795,
   "metadata": {
    "scrolled": true
   },
   "outputs": [
    {
     "data": {
      "image/png": "[encoded data removed]",
      "text/plain": [
       "<Figure size 432x288 with 1 Axes>"
      ]
     },
     "metadata": {
      "needs_background": "light"
     },
     "output_type": "display_data"
    }
   ],
   "source": [
    "# Mediante un grafico tipo boxplot tenemos la visualización de los quartiles en la \n",
    "#variable para este dataframe de llamanadas.\n",
    "llamadas.boxplot('duration')\n",
    "plt.title('Valores de la columna DURATION')\n",
    "plt.show()"
   ]
  },
  {
   "cell_type": "code",
   "execution_count": 796,
   "metadata": {},
   "outputs": [],
   "source": [
    "#definimos una función para calcular quartiles\n",
    "def calcula_quartiles(columna, tabla):\n",
    "    Q1 = tabla[columna].quantile(0.25)\n",
    "    Q3 = tabla[columna].quantile(0.75)\n",
    "    IQR = Q3 - Q1\n",
    "    print(\"PRIMER QUARTILE:  \", Q1)\n",
    "    print(\"TERCER QUARTILE:  \", Q3)\n",
    "    print(\"RANGO INTERCUÁTIL:\", IQR)\n",
    "    lim_max = Q3 + 1.5*IQR\n",
    "    lim_min = Q1 - 1.5*IQR\n",
    "    print(\"LIMITE DEL SUPERIOR PARA VALORES TIPICOS DE LA VARIABLE \", columna, \": \", lim_max)\n",
    "    print(\"LIMITE DEL INFERIOR PARA VALORES TIPICOS DE LA VARIABLE \", columna, \": \", lim_min)\n",
    "    return [lim_min, lim_max]"
   ]
  },
  {
   "cell_type": "code",
   "execution_count": 797,
   "metadata": {
    "scrolled": true
   },
   "outputs": [
    {
     "name": "stdout",
     "output_type": "stream",
     "text": [
      "PRIMER QUARTILE:   1.29\n",
      "TERCER QUARTILE:   10.69\n",
      "RANGO INTERCUÁTIL: 9.399999999999999\n",
      "LIMITE DEL SUPERIOR PARA VALORES TIPICOS DE LA VARIABLE  duration :  24.79\n",
      "LIMITE DEL INFERIOR PARA VALORES TIPICOS DE LA VARIABLE  duration :  -12.809999999999999\n"
     ]
    }
   ],
   "source": [
    "[lim_min_llam_duration , lim_max_llam_duration] = calcula_quartiles('duration', llamadas)"
   ]
  },
  {
   "cell_type": "markdown",
   "metadata": {},
   "source": [
    "Corregimos el límite inferior debido a que sabemos que no hay valores negativos realistas para la variable 'duration'."
   ]
  },
  {
   "cell_type": "code",
   "execution_count": 798,
   "metadata": {},
   "outputs": [
    {
     "name": "stdout",
     "output_type": "stream",
     "text": [
      "LIMITE DEL SUPERIOR PARA VALORES TIPICOS DE LA VARIABLE duration:  24.79\n",
      "LIMITE DEL INFERIOR PARA VALORES TIPICOS DE LA VARIABLE duration:  0\n"
     ]
    }
   ],
   "source": [
    "#definimos los límites para los valores típicos en la variable duration para el dataframe llamadas\n",
    "lim_min_llam_duration = 0\n",
    "print(\"LIMITE DEL SUPERIOR PARA VALORES TIPICOS DE LA VARIABLE duration: \", lim_max_llam_duration)\n",
    "print(\"LIMITE DEL INFERIOR PARA VALORES TIPICOS DE LA VARIABLE duration: \", lim_min_llam_duration)"
   ]
  },
  {
   "cell_type": "markdown",
   "metadata": {},
   "source": [
    "<a id='missing_values'></a>\n",
    "### Datos del dataframe internet."
   ]
  },
  {
   "cell_type": "markdown",
   "metadata": {},
   "source": [
    "Para el DataFrame **internet** Se procede a realizar el cambio de tipo de datos de la variable **session_date**."
   ]
  },
  {
   "cell_type": "code",
   "execution_count": 799,
   "metadata": {},
   "outputs": [
    {
     "data": {
      "image/png": "[encoded data removed]",
      "text/plain": [
       "<Figure size 432x288 with 1 Axes>"
      ]
     },
     "metadata": {
      "needs_background": "light"
     },
     "output_type": "display_data"
    }
   ],
   "source": [
    "#cambio de tipo de datos de la variable para que se maneje como fecha\n",
    "internet['session_date'] = pd.to_datetime(internet['session_date'], format= '%Y-%m-%d')\n",
    "internet['session_date'].hist(color = 'purple')\n",
    "plt.title('Frecuencia de las fechas con uso de Internet')\n",
    "plt.xlabel('fechas')\n",
    "plt.ylabel('frecuencia')\n",
    "plt.show()"
   ]
  },
  {
   "cell_type": "code",
   "execution_count": 800,
   "metadata": {},
   "outputs": [
    {
     "data": {
      "text/plain": [
       "0"
      ]
     },
     "execution_count": 800,
     "metadata": {},
     "output_type": "execute_result"
    }
   ],
   "source": [
    "#Comprovemos si hay valores duplicados\n",
    "internet.duplicated().sum()"
   ]
  },
  {
   "cell_type": "markdown",
   "metadata": {},
   "source": [
    "No tenemos valores duplicados para el dataframe de **internet**."
   ]
  },
  {
   "cell_type": "markdown",
   "metadata": {},
   "source": [
    "<a id='duplicates'></a>\n",
    "### Datos del dataframe mensajes."
   ]
  },
  {
   "cell_type": "markdown",
   "metadata": {},
   "source": [
    "En este dataframe procedemos a cambiar al tipo de datos correcto la columna **message_date**."
   ]
  },
  {
   "cell_type": "code",
   "execution_count": 801,
   "metadata": {},
   "outputs": [
    {
     "data": {
      "image/png": "[encoded data removed]",
      "text/plain": [
       "<Figure size 432x288 with 1 Axes>"
      ]
     },
     "metadata": {
      "needs_background": "light"
     },
     "output_type": "display_data"
    }
   ],
   "source": [
    "#cambio de tipo de datos de la variable para que se maneje como fecha\n",
    "mensajes['message_date'] = pd.to_datetime(mensajes['message_date'], format= '%Y-%m-%d')\n",
    "mensajes['message_date'].hist(color = 'Gray')\n",
    "plt.title('Frecuencia de las fechas con uso de mensajes')\n",
    "plt.xlabel('fechas')\n",
    "plt.ylabel('frecuencia')\n",
    "plt.show()"
   ]
  },
  {
   "cell_type": "code",
   "execution_count": 802,
   "metadata": {},
   "outputs": [
    {
     "data": {
      "text/plain": [
       "0"
      ]
     },
     "execution_count": 802,
     "metadata": {},
     "output_type": "execute_result"
    }
   ],
   "source": [
    "#Comprovemos si hay valores duplicados\n",
    "mensajes.duplicated().sum()"
   ]
  },
  {
   "cell_type": "markdown",
   "metadata": {},
   "source": [
    "<a id='data_preprocessing_conclusions'></a>\n",
    "### Datos del dataframe planes."
   ]
  },
  {
   "cell_type": "code",
   "execution_count": 803,
   "metadata": {
    "scrolled": true
   },
   "outputs": [
    {
     "data": {
      "text/html": [
       "<div>\n",
       "<style scoped>\n",
       "    .dataframe tbody tr th:only-of-type {\n",
       "        vertical-align: middle;\n",
       "    }\n",
       "\n",
       "    .dataframe tbody tr th {\n",
       "        vertical-align: top;\n",
       "    }\n",
       "\n",
       "    .dataframe thead th {\n",
       "        text-align: right;\n",
       "    }\n",
       "</style>\n",
       "<table border=\"1\" class=\"dataframe\">\n",
       "  <thead>\n",
       "    <tr style=\"text-align: right;\">\n",
       "      <th></th>\n",
       "      <th>messages_included</th>\n",
       "      <th>mb_per_month_included</th>\n",
       "      <th>minutes_included</th>\n",
       "      <th>usd_monthly_pay</th>\n",
       "      <th>usd_per_gb</th>\n",
       "      <th>usd_per_message</th>\n",
       "      <th>usd_per_minute</th>\n",
       "      <th>plan_name</th>\n",
       "    </tr>\n",
       "  </thead>\n",
       "  <tbody>\n",
       "    <tr>\n",
       "      <th>0</th>\n",
       "      <td>50</td>\n",
       "      <td>15360</td>\n",
       "      <td>500</td>\n",
       "      <td>20</td>\n",
       "      <td>10</td>\n",
       "      <td>0.03</td>\n",
       "      <td>0.03</td>\n",
       "      <td>surf</td>\n",
       "    </tr>\n",
       "    <tr>\n",
       "      <th>1</th>\n",
       "      <td>1000</td>\n",
       "      <td>30720</td>\n",
       "      <td>3000</td>\n",
       "      <td>70</td>\n",
       "      <td>7</td>\n",
       "      <td>0.01</td>\n",
       "      <td>0.01</td>\n",
       "      <td>ultimate</td>\n",
       "    </tr>\n",
       "  </tbody>\n",
       "</table>\n",
       "</div>"
      ],
      "text/plain": [
       "   messages_included  mb_per_month_included  minutes_included  \\\n",
       "0                 50                  15360               500   \n",
       "1               1000                  30720              3000   \n",
       "\n",
       "   usd_monthly_pay  usd_per_gb  usd_per_message  usd_per_minute plan_name  \n",
       "0               20          10             0.03            0.03      surf  \n",
       "1               70           7             0.01            0.01  ultimate  "
      ]
     },
     "execution_count": 803,
     "metadata": {},
     "output_type": "execute_result"
    }
   ],
   "source": [
    "#Observemos que datos continene cada una de las tabla 'planes'\n",
    "planes.head()"
   ]
  },
  {
   "cell_type": "markdown",
   "metadata": {},
   "source": [
    "<a id='data_preprocessing_usuario'></a>\n",
    "### Datos del dataframe usuarios."
   ]
  },
  {
   "cell_type": "markdown",
   "metadata": {},
   "source": [
    "En este dataframe procedemos a cambiar al tipo de datos correcto la columna **reg_date** y **churn_date**."
   ]
  },
  {
   "cell_type": "code",
   "execution_count": 804,
   "metadata": {},
   "outputs": [
    {
     "data": {
      "image/png": "[encoded data removed]",
      "text/plain": [
       "<Figure size 432x288 with 1 Axes>"
      ]
     },
     "metadata": {
      "needs_background": "light"
     },
     "output_type": "display_data"
    }
   ],
   "source": [
    "#Convirtiendo al tipo de datos correctos las variables almacenan información\n",
    "#tipo fechas\n",
    "usuarios['reg_date'] = pd.to_datetime(usuarios['reg_date'], format= '%Y-%m-%d')\n",
    "usuarios['churn_date'] = pd.to_datetime(usuarios['churn_date'], format= '%Y-%m-%d')\n",
    "usuarios['reg_date'].hist(color='brown')\n",
    "plt.title('Frecuencia de las fechas en que el USUARIO dejó de usar el servicio')\n",
    "plt.xlabel('fechas')\n",
    "plt.ylabel('frecuencia')\n",
    "plt.show()"
   ]
  },
  {
   "cell_type": "code",
   "execution_count": 805,
   "metadata": {
    "scrolled": true
   },
   "outputs": [
    {
     "data": {
      "image/png": "[encoded data removed]",
      "text/plain": [
       "<Figure size 432x288 with 1 Axes>"
      ]
     },
     "metadata": {
      "needs_background": "light"
     },
     "output_type": "display_data"
    }
   ],
   "source": [
    "#revisando valores de la columan 'churn_date'\n",
    "usuarios['churn_date'].hist(color='burlywood')\n",
    "plt.title('Frecuencia de las fechas de suscripción de los USUARIOS')\n",
    "plt.xlabel('fechas')\n",
    "plt.ylabel('frecuencia')\n",
    "plt.show()"
   ]
  },
  {
   "cell_type": "markdown",
   "metadata": {},
   "source": [
    "Para cada usuario, vamos a buscar:\n",
    "* El número de llamadas realizadas y minutos utilizados al mes\n",
    "* La cantidad de los SMS enviados por mes.\n",
    "* El volumen de datos por mes.\n",
    "* Los ingresos mensuales de cada usuario."
   ]
  },
  {
   "cell_type": "markdown",
   "metadata": {},
   "source": [
    "<a id='data_preprocessing_usuario1'></a>\n",
    "### El número de llamadas realizadas y minutos utilizados al mes."
   ]
  },
  {
   "cell_type": "code",
   "execution_count": 806,
   "metadata": {},
   "outputs": [
    {
     "data": {
      "text/html": [
       "<div>\n",
       "<style scoped>\n",
       "    .dataframe tbody tr th:only-of-type {\n",
       "        vertical-align: middle;\n",
       "    }\n",
       "\n",
       "    .dataframe tbody tr th {\n",
       "        vertical-align: top;\n",
       "    }\n",
       "\n",
       "    .dataframe thead th {\n",
       "        text-align: right;\n",
       "    }\n",
       "</style>\n",
       "<table border=\"1\" class=\"dataframe\">\n",
       "  <thead>\n",
       "    <tr style=\"text-align: right;\">\n",
       "      <th></th>\n",
       "      <th>id</th>\n",
       "      <th>user_id</th>\n",
       "      <th>call_date</th>\n",
       "      <th>duration</th>\n",
       "      <th>mes_año</th>\n",
       "      <th>mes</th>\n",
       "    </tr>\n",
       "  </thead>\n",
       "  <tbody>\n",
       "    <tr>\n",
       "      <th>0</th>\n",
       "      <td>1000_93</td>\n",
       "      <td>1000</td>\n",
       "      <td>2018-12-27</td>\n",
       "      <td>9.0</td>\n",
       "      <td>12</td>\n",
       "      <td>Diciembre</td>\n",
       "    </tr>\n",
       "    <tr>\n",
       "      <th>1</th>\n",
       "      <td>1000_145</td>\n",
       "      <td>1000</td>\n",
       "      <td>2018-12-27</td>\n",
       "      <td>14.0</td>\n",
       "      <td>12</td>\n",
       "      <td>Diciembre</td>\n",
       "    </tr>\n",
       "    <tr>\n",
       "      <th>2</th>\n",
       "      <td>1000_247</td>\n",
       "      <td>1000</td>\n",
       "      <td>2018-12-27</td>\n",
       "      <td>15.0</td>\n",
       "      <td>12</td>\n",
       "      <td>Diciembre</td>\n",
       "    </tr>\n",
       "    <tr>\n",
       "      <th>3</th>\n",
       "      <td>1000_309</td>\n",
       "      <td>1000</td>\n",
       "      <td>2018-12-28</td>\n",
       "      <td>6.0</td>\n",
       "      <td>12</td>\n",
       "      <td>Diciembre</td>\n",
       "    </tr>\n",
       "    <tr>\n",
       "      <th>4</th>\n",
       "      <td>1000_380</td>\n",
       "      <td>1000</td>\n",
       "      <td>2018-12-30</td>\n",
       "      <td>5.0</td>\n",
       "      <td>12</td>\n",
       "      <td>Diciembre</td>\n",
       "    </tr>\n",
       "    <tr>\n",
       "      <th>...</th>\n",
       "      <td>...</td>\n",
       "      <td>...</td>\n",
       "      <td>...</td>\n",
       "      <td>...</td>\n",
       "      <td>...</td>\n",
       "      <td>...</td>\n",
       "    </tr>\n",
       "    <tr>\n",
       "      <th>137730</th>\n",
       "      <td>1499_199</td>\n",
       "      <td>1499</td>\n",
       "      <td>2018-11-21</td>\n",
       "      <td>9.0</td>\n",
       "      <td>11</td>\n",
       "      <td>Noviembre</td>\n",
       "    </tr>\n",
       "    <tr>\n",
       "      <th>137731</th>\n",
       "      <td>1499_200</td>\n",
       "      <td>1499</td>\n",
       "      <td>2018-10-20</td>\n",
       "      <td>11.0</td>\n",
       "      <td>10</td>\n",
       "      <td>Octubre</td>\n",
       "    </tr>\n",
       "    <tr>\n",
       "      <th>137732</th>\n",
       "      <td>1499_201</td>\n",
       "      <td>1499</td>\n",
       "      <td>2018-09-21</td>\n",
       "      <td>9.0</td>\n",
       "      <td>9</td>\n",
       "      <td>Septiembre</td>\n",
       "    </tr>\n",
       "    <tr>\n",
       "      <th>137733</th>\n",
       "      <td>1499_202</td>\n",
       "      <td>1499</td>\n",
       "      <td>2018-10-10</td>\n",
       "      <td>1.0</td>\n",
       "      <td>10</td>\n",
       "      <td>Octubre</td>\n",
       "    </tr>\n",
       "    <tr>\n",
       "      <th>137734</th>\n",
       "      <td>1499_203</td>\n",
       "      <td>1499</td>\n",
       "      <td>2018-12-29</td>\n",
       "      <td>14.0</td>\n",
       "      <td>12</td>\n",
       "      <td>Diciembre</td>\n",
       "    </tr>\n",
       "  </tbody>\n",
       "</table>\n",
       "<p>137735 rows × 6 columns</p>\n",
       "</div>"
      ],
      "text/plain": [
       "              id  user_id  call_date  duration  mes_año         mes\n",
       "0        1000_93     1000 2018-12-27       9.0       12   Diciembre\n",
       "1       1000_145     1000 2018-12-27      14.0       12   Diciembre\n",
       "2       1000_247     1000 2018-12-27      15.0       12   Diciembre\n",
       "3       1000_309     1000 2018-12-28       6.0       12   Diciembre\n",
       "4       1000_380     1000 2018-12-30       5.0       12   Diciembre\n",
       "...          ...      ...        ...       ...      ...         ...\n",
       "137730  1499_199     1499 2018-11-21       9.0       11   Noviembre\n",
       "137731  1499_200     1499 2018-10-20      11.0       10     Octubre\n",
       "137732  1499_201     1499 2018-09-21       9.0        9  Septiembre\n",
       "137733  1499_202     1499 2018-10-10       1.0       10     Octubre\n",
       "137734  1499_203     1499 2018-12-29      14.0       12   Diciembre\n",
       "\n",
       "[137735 rows x 6 columns]"
      ]
     },
     "execution_count": 806,
     "metadata": {},
     "output_type": "execute_result"
    }
   ],
   "source": [
    "#Megaline redondea llamadas, cada llamada individual se redondea\n",
    "llamadas['duration'] = llamadas['duration'].apply(np.ceil)  \n",
    "llamadas"
   ]
  },
  {
   "cell_type": "code",
   "execution_count": 807,
   "metadata": {},
   "outputs": [
    {
     "data": {
      "text/html": [
       "<div>\n",
       "<style scoped>\n",
       "    .dataframe tbody tr th:only-of-type {\n",
       "        vertical-align: middle;\n",
       "    }\n",
       "\n",
       "    .dataframe tbody tr th {\n",
       "        vertical-align: top;\n",
       "    }\n",
       "\n",
       "    .dataframe thead th {\n",
       "        text-align: right;\n",
       "    }\n",
       "</style>\n",
       "<table border=\"1\" class=\"dataframe\">\n",
       "  <thead>\n",
       "    <tr style=\"text-align: right;\">\n",
       "      <th></th>\n",
       "      <th></th>\n",
       "      <th>duration</th>\n",
       "    </tr>\n",
       "    <tr>\n",
       "      <th>user_id</th>\n",
       "      <th>mes</th>\n",
       "      <th></th>\n",
       "    </tr>\n",
       "  </thead>\n",
       "  <tbody>\n",
       "    <tr>\n",
       "      <th>1000</th>\n",
       "      <th>Diciembre</th>\n",
       "      <td>124.0</td>\n",
       "    </tr>\n",
       "    <tr>\n",
       "      <th rowspan=\"4\" valign=\"top\">1001</th>\n",
       "      <th>Agosto</th>\n",
       "      <td>182.0</td>\n",
       "    </tr>\n",
       "    <tr>\n",
       "      <th>Diciembre</th>\n",
       "      <td>412.0</td>\n",
       "    </tr>\n",
       "    <tr>\n",
       "      <th>Noviembre</th>\n",
       "      <td>426.0</td>\n",
       "    </tr>\n",
       "    <tr>\n",
       "      <th>Octubre</th>\n",
       "      <td>393.0</td>\n",
       "    </tr>\n",
       "    <tr>\n",
       "      <th>...</th>\n",
       "      <th>...</th>\n",
       "      <td>...</td>\n",
       "    </tr>\n",
       "    <tr>\n",
       "      <th>1498</th>\n",
       "      <th>Septiembre</th>\n",
       "      <td>363.0</td>\n",
       "    </tr>\n",
       "    <tr>\n",
       "      <th rowspan=\"4\" valign=\"top\">1499</th>\n",
       "      <th>Diciembre</th>\n",
       "      <td>496.0</td>\n",
       "    </tr>\n",
       "    <tr>\n",
       "      <th>Noviembre</th>\n",
       "      <td>308.0</td>\n",
       "    </tr>\n",
       "    <tr>\n",
       "      <th>Octubre</th>\n",
       "      <td>385.0</td>\n",
       "    </tr>\n",
       "    <tr>\n",
       "      <th>Septiembre</th>\n",
       "      <td>346.0</td>\n",
       "    </tr>\n",
       "  </tbody>\n",
       "</table>\n",
       "<p>2258 rows × 1 columns</p>\n",
       "</div>"
      ],
      "text/plain": [
       "                    duration\n",
       "user_id mes                 \n",
       "1000    Diciembre      124.0\n",
       "1001    Agosto         182.0\n",
       "        Diciembre      412.0\n",
       "        Noviembre      426.0\n",
       "        Octubre        393.0\n",
       "...                      ...\n",
       "1498    Septiembre     363.0\n",
       "1499    Diciembre      496.0\n",
       "        Noviembre      308.0\n",
       "        Octubre        385.0\n",
       "        Septiembre     346.0\n",
       "\n",
       "[2258 rows x 1 columns]"
      ]
     },
     "execution_count": 807,
     "metadata": {},
     "output_type": "execute_result"
    }
   ],
   "source": [
    "#realizamos una tabla dinámica para calcular el número de minutos usados  por cada usuario al mes\n",
    "analisis_usu2 = llamadas.pivot_table(index = ['user_id', 'mes'], values = 'duration', aggfunc = 'sum' )\n",
    "analisis_usu2"
   ]
  },
  {
   "cell_type": "code",
   "execution_count": 808,
   "metadata": {},
   "outputs": [
    {
     "data": {
      "text/html": [
       "<div>\n",
       "<style scoped>\n",
       "    .dataframe tbody tr th:only-of-type {\n",
       "        vertical-align: middle;\n",
       "    }\n",
       "\n",
       "    .dataframe tbody tr th {\n",
       "        vertical-align: top;\n",
       "    }\n",
       "\n",
       "    .dataframe thead th {\n",
       "        text-align: right;\n",
       "    }\n",
       "</style>\n",
       "<table border=\"1\" class=\"dataframe\">\n",
       "  <thead>\n",
       "    <tr style=\"text-align: right;\">\n",
       "      <th></th>\n",
       "      <th></th>\n",
       "      <th>id</th>\n",
       "    </tr>\n",
       "    <tr>\n",
       "      <th>user_id</th>\n",
       "      <th>mes</th>\n",
       "      <th></th>\n",
       "    </tr>\n",
       "  </thead>\n",
       "  <tbody>\n",
       "    <tr>\n",
       "      <th>1000</th>\n",
       "      <th>Diciembre</th>\n",
       "      <td>16</td>\n",
       "    </tr>\n",
       "    <tr>\n",
       "      <th rowspan=\"4\" valign=\"top\">1001</th>\n",
       "      <th>Agosto</th>\n",
       "      <td>27</td>\n",
       "    </tr>\n",
       "    <tr>\n",
       "      <th>Diciembre</th>\n",
       "      <td>56</td>\n",
       "    </tr>\n",
       "    <tr>\n",
       "      <th>Noviembre</th>\n",
       "      <td>64</td>\n",
       "    </tr>\n",
       "    <tr>\n",
       "      <th>Octubre</th>\n",
       "      <td>65</td>\n",
       "    </tr>\n",
       "    <tr>\n",
       "      <th>...</th>\n",
       "      <th>...</th>\n",
       "      <td>...</td>\n",
       "    </tr>\n",
       "    <tr>\n",
       "      <th>1498</th>\n",
       "      <th>Septiembre</th>\n",
       "      <td>45</td>\n",
       "    </tr>\n",
       "    <tr>\n",
       "      <th rowspan=\"4\" valign=\"top\">1499</th>\n",
       "      <th>Diciembre</th>\n",
       "      <td>65</td>\n",
       "    </tr>\n",
       "    <tr>\n",
       "      <th>Noviembre</th>\n",
       "      <td>45</td>\n",
       "    </tr>\n",
       "    <tr>\n",
       "      <th>Octubre</th>\n",
       "      <td>53</td>\n",
       "    </tr>\n",
       "    <tr>\n",
       "      <th>Septiembre</th>\n",
       "      <td>41</td>\n",
       "    </tr>\n",
       "  </tbody>\n",
       "</table>\n",
       "<p>2258 rows × 1 columns</p>\n",
       "</div>"
      ],
      "text/plain": [
       "                    id\n",
       "user_id mes           \n",
       "1000    Diciembre   16\n",
       "1001    Agosto      27\n",
       "        Diciembre   56\n",
       "        Noviembre   64\n",
       "        Octubre     65\n",
       "...                 ..\n",
       "1498    Septiembre  45\n",
       "1499    Diciembre   65\n",
       "        Noviembre   45\n",
       "        Octubre     53\n",
       "        Septiembre  41\n",
       "\n",
       "[2258 rows x 1 columns]"
      ]
     },
     "execution_count": 808,
     "metadata": {},
     "output_type": "execute_result"
    }
   ],
   "source": [
    "#realizamos una tabla dinámica para calcular el número de llamadas hechas por cada usuario por mes\n",
    "analisis_usu1 = llamadas.pivot_table(index = ['user_id', 'mes'],  values = 'id',  aggfunc = 'count')\n",
    "analisis_usu1"
   ]
  },
  {
   "cell_type": "code",
   "execution_count": 809,
   "metadata": {},
   "outputs": [
    {
     "data": {
      "text/html": [
       "<div>\n",
       "<style scoped>\n",
       "    .dataframe tbody tr th:only-of-type {\n",
       "        vertical-align: middle;\n",
       "    }\n",
       "\n",
       "    .dataframe tbody tr th {\n",
       "        vertical-align: top;\n",
       "    }\n",
       "\n",
       "    .dataframe thead th {\n",
       "        text-align: right;\n",
       "    }\n",
       "</style>\n",
       "<table border=\"1\" class=\"dataframe\">\n",
       "  <thead>\n",
       "    <tr style=\"text-align: right;\">\n",
       "      <th></th>\n",
       "      <th></th>\n",
       "      <th>duration</th>\n",
       "      <th>llamadas</th>\n",
       "    </tr>\n",
       "    <tr>\n",
       "      <th>user_id</th>\n",
       "      <th>mes</th>\n",
       "      <th></th>\n",
       "      <th></th>\n",
       "    </tr>\n",
       "  </thead>\n",
       "  <tbody>\n",
       "    <tr>\n",
       "      <th>1000</th>\n",
       "      <th>Diciembre</th>\n",
       "      <td>124.0</td>\n",
       "      <td>16</td>\n",
       "    </tr>\n",
       "    <tr>\n",
       "      <th rowspan=\"4\" valign=\"top\">1001</th>\n",
       "      <th>Agosto</th>\n",
       "      <td>182.0</td>\n",
       "      <td>27</td>\n",
       "    </tr>\n",
       "    <tr>\n",
       "      <th>Diciembre</th>\n",
       "      <td>412.0</td>\n",
       "      <td>56</td>\n",
       "    </tr>\n",
       "    <tr>\n",
       "      <th>Noviembre</th>\n",
       "      <td>426.0</td>\n",
       "      <td>64</td>\n",
       "    </tr>\n",
       "    <tr>\n",
       "      <th>Octubre</th>\n",
       "      <td>393.0</td>\n",
       "      <td>65</td>\n",
       "    </tr>\n",
       "    <tr>\n",
       "      <th>...</th>\n",
       "      <th>...</th>\n",
       "      <td>...</td>\n",
       "      <td>...</td>\n",
       "    </tr>\n",
       "    <tr>\n",
       "      <th>1498</th>\n",
       "      <th>Septiembre</th>\n",
       "      <td>363.0</td>\n",
       "      <td>45</td>\n",
       "    </tr>\n",
       "    <tr>\n",
       "      <th rowspan=\"4\" valign=\"top\">1499</th>\n",
       "      <th>Diciembre</th>\n",
       "      <td>496.0</td>\n",
       "      <td>65</td>\n",
       "    </tr>\n",
       "    <tr>\n",
       "      <th>Noviembre</th>\n",
       "      <td>308.0</td>\n",
       "      <td>45</td>\n",
       "    </tr>\n",
       "    <tr>\n",
       "      <th>Octubre</th>\n",
       "      <td>385.0</td>\n",
       "      <td>53</td>\n",
       "    </tr>\n",
       "    <tr>\n",
       "      <th>Septiembre</th>\n",
       "      <td>346.0</td>\n",
       "      <td>41</td>\n",
       "    </tr>\n",
       "  </tbody>\n",
       "</table>\n",
       "<p>2258 rows × 2 columns</p>\n",
       "</div>"
      ],
      "text/plain": [
       "                    duration  llamadas\n",
       "user_id mes                           \n",
       "1000    Diciembre      124.0        16\n",
       "1001    Agosto         182.0        27\n",
       "        Diciembre      412.0        56\n",
       "        Noviembre      426.0        64\n",
       "        Octubre        393.0        65\n",
       "...                      ...       ...\n",
       "1498    Septiembre     363.0        45\n",
       "1499    Diciembre      496.0        65\n",
       "        Noviembre      308.0        45\n",
       "        Octubre        385.0        53\n",
       "        Septiembre     346.0        41\n",
       "\n",
       "[2258 rows x 2 columns]"
      ]
     },
     "execution_count": 809,
     "metadata": {},
     "output_type": "execute_result"
    }
   ],
   "source": [
    "#El número de llamadas realizadas y minutos utilizados al mes\n",
    "analisis_usu3 = analisis_usu2.join(analisis_usu1, on=['user_id', 'mes'])\n",
    "analisis_usu3 = analisis_usu3.rename(columns = {\"id\":\"llamadas\"})\n",
    "analisis_usu3"
   ]
  },
  {
   "cell_type": "markdown",
   "metadata": {},
   "source": [
    "Tenemos en la tabla de arriba el por usuario el número de llamadas por usuario al mes y la cantidad de minutos usuados en esa llamadas por cada usuario al mes. Procedamos a configurar otra tabla donde podamos observar la cantidad de mensajes por usuario durante cada mes."
   ]
  },
  {
   "cell_type": "markdown",
   "metadata": {},
   "source": [
    "<a id='data_preprocessing_usuario2'></a>\n",
    "### La cantidad de los SMS enviados por mes."
   ]
  },
  {
   "cell_type": "markdown",
   "metadata": {},
   "source": [
    "Vamos a necesitar caracterizar la columna de la tabla de denominadad 'mensajes', para esto es necesario conformar una nueva columna llamada mes."
   ]
  },
  {
   "cell_type": "code",
   "execution_count": 810,
   "metadata": {},
   "outputs": [
    {
     "data": {
      "text/html": [
       "<div>\n",
       "<style scoped>\n",
       "    .dataframe tbody tr th:only-of-type {\n",
       "        vertical-align: middle;\n",
       "    }\n",
       "\n",
       "    .dataframe tbody tr th {\n",
       "        vertical-align: top;\n",
       "    }\n",
       "\n",
       "    .dataframe thead th {\n",
       "        text-align: right;\n",
       "    }\n",
       "</style>\n",
       "<table border=\"1\" class=\"dataframe\">\n",
       "  <thead>\n",
       "    <tr style=\"text-align: right;\">\n",
       "      <th></th>\n",
       "      <th></th>\n",
       "      <th>mensajes</th>\n",
       "    </tr>\n",
       "    <tr>\n",
       "      <th>user_id</th>\n",
       "      <th>mes</th>\n",
       "      <th></th>\n",
       "    </tr>\n",
       "  </thead>\n",
       "  <tbody>\n",
       "    <tr>\n",
       "      <th>1000</th>\n",
       "      <th>Diciembre</th>\n",
       "      <td>11</td>\n",
       "    </tr>\n",
       "    <tr>\n",
       "      <th rowspan=\"4\" valign=\"top\">1001</th>\n",
       "      <th>Agosto</th>\n",
       "      <td>30</td>\n",
       "    </tr>\n",
       "    <tr>\n",
       "      <th>Diciembre</th>\n",
       "      <td>44</td>\n",
       "    </tr>\n",
       "    <tr>\n",
       "      <th>Noviembre</th>\n",
       "      <td>36</td>\n",
       "    </tr>\n",
       "    <tr>\n",
       "      <th>Octubre</th>\n",
       "      <td>53</td>\n",
       "    </tr>\n",
       "    <tr>\n",
       "      <th>...</th>\n",
       "      <th>...</th>\n",
       "      <td>...</td>\n",
       "    </tr>\n",
       "    <tr>\n",
       "      <th rowspan=\"4\" valign=\"top\">1496</th>\n",
       "      <th>Diciembre</th>\n",
       "      <td>11</td>\n",
       "    </tr>\n",
       "    <tr>\n",
       "      <th>Noviembre</th>\n",
       "      <td>13</td>\n",
       "    </tr>\n",
       "    <tr>\n",
       "      <th>Octubre</th>\n",
       "      <td>18</td>\n",
       "    </tr>\n",
       "    <tr>\n",
       "      <th>Septiembre</th>\n",
       "      <td>21</td>\n",
       "    </tr>\n",
       "    <tr>\n",
       "      <th>1497</th>\n",
       "      <th>Diciembre</th>\n",
       "      <td>50</td>\n",
       "    </tr>\n",
       "  </tbody>\n",
       "</table>\n",
       "<p>1806 rows × 1 columns</p>\n",
       "</div>"
      ],
      "text/plain": [
       "                    mensajes\n",
       "user_id mes                 \n",
       "1000    Diciembre         11\n",
       "1001    Agosto            30\n",
       "        Diciembre         44\n",
       "        Noviembre         36\n",
       "        Octubre           53\n",
       "...                      ...\n",
       "1496    Diciembre         11\n",
       "        Noviembre         13\n",
       "        Octubre           18\n",
       "        Septiembre        21\n",
       "1497    Diciembre         50\n",
       "\n",
       "[1806 rows x 1 columns]"
      ]
     },
     "execution_count": 810,
     "metadata": {},
     "output_type": "execute_result"
    }
   ],
   "source": [
    "#categorizamos la fecha de la tabla mensajes por medio de la columna nueva de mes\n",
    "mensajes['mes'] = pd.DatetimeIndex(mensajes['message_date']).month\n",
    "#utilizamos el diccionario meses para poner a 1 para 'enero', 2 para 'febrero'....\n",
    "mensajes['mes'] = mensajes['mes'].map(meses)\n",
    "#realizamos una tabla dinámica para poder resumir la cantidad de mensajes por cada usuari al mes\n",
    "analisis_usu4 = mensajes.pivot_table(index = ['user_id', 'mes'],  values = 'id',  aggfunc = 'count')\n",
    "analisis_usu4 = analisis_usu4.rename(columns = {\"id\":\"mensajes\"})\n",
    "analisis_usu4"
   ]
  },
  {
   "cell_type": "markdown",
   "metadata": {},
   "source": [
    "<a id='data_preprocessing_usuario3'></a>\n",
    "### El volumen de datos por mes."
   ]
  },
  {
   "cell_type": "markdown",
   "metadata": {},
   "source": [
    "De la misma forma que en el inciso anterior, tenemos que caracterizar las fechas de la tabla 'ddd' por mes. Para posteriormente realizar una tabla dinámica que sume el número de volumen de datos por mes para cada usuario."
   ]
  },
  {
   "cell_type": "code",
   "execution_count": 811,
   "metadata": {},
   "outputs": [
    {
     "data": {
      "text/html": [
       "<div>\n",
       "<style scoped>\n",
       "    .dataframe tbody tr th:only-of-type {\n",
       "        vertical-align: middle;\n",
       "    }\n",
       "\n",
       "    .dataframe tbody tr th {\n",
       "        vertical-align: top;\n",
       "    }\n",
       "\n",
       "    .dataframe thead th {\n",
       "        text-align: right;\n",
       "    }\n",
       "</style>\n",
       "<table border=\"1\" class=\"dataframe\">\n",
       "  <thead>\n",
       "    <tr style=\"text-align: right;\">\n",
       "      <th></th>\n",
       "      <th></th>\n",
       "      <th>volumen_datos</th>\n",
       "    </tr>\n",
       "    <tr>\n",
       "      <th>user_id</th>\n",
       "      <th>mes</th>\n",
       "      <th></th>\n",
       "    </tr>\n",
       "  </thead>\n",
       "  <tbody>\n",
       "    <tr>\n",
       "      <th>1000</th>\n",
       "      <th>Diciembre</th>\n",
       "      <td>1901.47</td>\n",
       "    </tr>\n",
       "    <tr>\n",
       "      <th rowspan=\"4\" valign=\"top\">1001</th>\n",
       "      <th>Agosto</th>\n",
       "      <td>6919.15</td>\n",
       "    </tr>\n",
       "    <tr>\n",
       "      <th>Diciembre</th>\n",
       "      <td>19369.18</td>\n",
       "    </tr>\n",
       "    <tr>\n",
       "      <th>Noviembre</th>\n",
       "      <td>18504.30</td>\n",
       "    </tr>\n",
       "    <tr>\n",
       "      <th>Octubre</th>\n",
       "      <td>22330.49</td>\n",
       "    </tr>\n",
       "    <tr>\n",
       "      <th>...</th>\n",
       "      <th>...</th>\n",
       "      <td>...</td>\n",
       "    </tr>\n",
       "    <tr>\n",
       "      <th>1498</th>\n",
       "      <th>Septiembre</th>\n",
       "      <td>22827.28</td>\n",
       "    </tr>\n",
       "    <tr>\n",
       "      <th rowspan=\"4\" valign=\"top\">1499</th>\n",
       "      <th>Diciembre</th>\n",
       "      <td>22059.21</td>\n",
       "    </tr>\n",
       "    <tr>\n",
       "      <th>Noviembre</th>\n",
       "      <td>16813.83</td>\n",
       "    </tr>\n",
       "    <tr>\n",
       "      <th>Octubre</th>\n",
       "      <td>19492.43</td>\n",
       "    </tr>\n",
       "    <tr>\n",
       "      <th>Septiembre</th>\n",
       "      <td>12984.76</td>\n",
       "    </tr>\n",
       "  </tbody>\n",
       "</table>\n",
       "<p>2277 rows × 1 columns</p>\n",
       "</div>"
      ],
      "text/plain": [
       "                    volumen_datos\n",
       "user_id mes                      \n",
       "1000    Diciembre         1901.47\n",
       "1001    Agosto            6919.15\n",
       "        Diciembre        19369.18\n",
       "        Noviembre        18504.30\n",
       "        Octubre          22330.49\n",
       "...                           ...\n",
       "1498    Septiembre       22827.28\n",
       "1499    Diciembre        22059.21\n",
       "        Noviembre        16813.83\n",
       "        Octubre          19492.43\n",
       "        Septiembre       12984.76\n",
       "\n",
       "[2277 rows x 1 columns]"
      ]
     },
     "execution_count": 811,
     "metadata": {},
     "output_type": "execute_result"
    }
   ],
   "source": [
    "#vamos a crear la columna de mes en la tabla internet\n",
    "internet['mes'] =  pd.DatetimeIndex(internet['session_date']).month\n",
    "#vamos a cambiar en la columna mes por medio del diccionario y tengamos \n",
    "#'enero' si es 1 , 'febrero' si es 2....\n",
    "internet['mes'] =  internet['mes'].map(meses)\n",
    "#realizamos una tabla dinámica para poder resumir la cantidad de mensajes por cada usuari al mes\n",
    "analisis_usu5 = internet.pivot_table(index = ['user_id', 'mes'],  values = 'mb_used',  aggfunc = 'sum')\n",
    "analisis_usu5= analisis_usu5.rename(columns = {\"mb_used\":\"volumen_datos\"})\n",
    "analisis_usu5"
   ]
  },
  {
   "cell_type": "markdown",
   "metadata": {},
   "source": [
    "<a id='data_preprocessing_usuario4'></a>\n",
    "### Los ingresos mensuales por cada usuario. \n",
    "Restaremos el límite del paquete gratuito del número total de llamadas, SMS y datos; multiplicando el resultado por el valor de tarifa de llamadas; agregando posteriormente el cargo mensual según la tarifa de llamadas. \n",
    "Para restar el límite del paquete gratuito del número total de llamdas, SMS, y datos; primero debemos identificar en que plan de datos se encuentra cada usuario, devido a que en dependiendo del plan será el calculo de ingreso adicional, porque justamente cada plan tiene un limite distinto de uso de de llamadas, SMS y datos.En la tabla usuario con la variable plan — nombre de la tarifa de cada usuario- podemos identificarlo. Ahora lo siguiente es poder usar una de las tablas dinámicas para realizar la diferencia."
   ]
  },
  {
   "cell_type": "code",
   "execution_count": 812,
   "metadata": {},
   "outputs": [
    {
     "data": {
      "text/html": [
       "<div>\n",
       "<style scoped>\n",
       "    .dataframe tbody tr th:only-of-type {\n",
       "        vertical-align: middle;\n",
       "    }\n",
       "\n",
       "    .dataframe tbody tr th {\n",
       "        vertical-align: top;\n",
       "    }\n",
       "\n",
       "    .dataframe thead th {\n",
       "        text-align: right;\n",
       "    }\n",
       "</style>\n",
       "<table border=\"1\" class=\"dataframe\">\n",
       "  <thead>\n",
       "    <tr style=\"text-align: right;\">\n",
       "      <th></th>\n",
       "      <th>user_id</th>\n",
       "      <th>plan</th>\n",
       "    </tr>\n",
       "  </thead>\n",
       "  <tbody>\n",
       "    <tr>\n",
       "      <th>0</th>\n",
       "      <td>1000</td>\n",
       "      <td>ultimate</td>\n",
       "    </tr>\n",
       "    <tr>\n",
       "      <th>1</th>\n",
       "      <td>1001</td>\n",
       "      <td>surf</td>\n",
       "    </tr>\n",
       "    <tr>\n",
       "      <th>2</th>\n",
       "      <td>1002</td>\n",
       "      <td>surf</td>\n",
       "    </tr>\n",
       "    <tr>\n",
       "      <th>3</th>\n",
       "      <td>1003</td>\n",
       "      <td>surf</td>\n",
       "    </tr>\n",
       "    <tr>\n",
       "      <th>4</th>\n",
       "      <td>1004</td>\n",
       "      <td>surf</td>\n",
       "    </tr>\n",
       "    <tr>\n",
       "      <th>...</th>\n",
       "      <td>...</td>\n",
       "      <td>...</td>\n",
       "    </tr>\n",
       "    <tr>\n",
       "      <th>495</th>\n",
       "      <td>1495</td>\n",
       "      <td>surf</td>\n",
       "    </tr>\n",
       "    <tr>\n",
       "      <th>496</th>\n",
       "      <td>1496</td>\n",
       "      <td>surf</td>\n",
       "    </tr>\n",
       "    <tr>\n",
       "      <th>497</th>\n",
       "      <td>1497</td>\n",
       "      <td>ultimate</td>\n",
       "    </tr>\n",
       "    <tr>\n",
       "      <th>498</th>\n",
       "      <td>1498</td>\n",
       "      <td>surf</td>\n",
       "    </tr>\n",
       "    <tr>\n",
       "      <th>499</th>\n",
       "      <td>1499</td>\n",
       "      <td>surf</td>\n",
       "    </tr>\n",
       "  </tbody>\n",
       "</table>\n",
       "<p>500 rows × 2 columns</p>\n",
       "</div>"
      ],
      "text/plain": [
       "     user_id      plan\n",
       "0       1000  ultimate\n",
       "1       1001      surf\n",
       "2       1002      surf\n",
       "3       1003      surf\n",
       "4       1004      surf\n",
       "..       ...       ...\n",
       "495     1495      surf\n",
       "496     1496      surf\n",
       "497     1497  ultimate\n",
       "498     1498      surf\n",
       "499     1499      surf\n",
       "\n",
       "[500 rows x 2 columns]"
      ]
     },
     "execution_count": 812,
     "metadata": {},
     "output_type": "execute_result"
    }
   ],
   "source": [
    "#Restaremos el límite del paquete gratuito del número total de llamadas, SMS y datos\n",
    "#mostraremos el plan para cada usuario\n",
    "planes_sus = usuarios[['user_id', 'plan']]\n",
    "planes_sus.sort_values(by='user_id', ascending=True)\n",
    "planes_sus"
   ]
  },
  {
   "cell_type": "markdown",
   "metadata": {},
   "source": [
    "Ahora vamos a identificar en una tabla mediante las claves de la columna **user_id**, en las tablas de llamadas, mensajes e internet."
   ]
  },
  {
   "cell_type": "code",
   "execution_count": 813,
   "metadata": {},
   "outputs": [
    {
     "data": {
      "text/html": [
       "<div>\n",
       "<style scoped>\n",
       "    .dataframe tbody tr th:only-of-type {\n",
       "        vertical-align: middle;\n",
       "    }\n",
       "\n",
       "    .dataframe tbody tr th {\n",
       "        vertical-align: top;\n",
       "    }\n",
       "\n",
       "    .dataframe thead th {\n",
       "        text-align: right;\n",
       "    }\n",
       "</style>\n",
       "<table border=\"1\" class=\"dataframe\">\n",
       "  <thead>\n",
       "    <tr style=\"text-align: right;\">\n",
       "      <th></th>\n",
       "      <th></th>\n",
       "      <th>duration</th>\n",
       "      <th>llamadas</th>\n",
       "      <th>mensajes</th>\n",
       "    </tr>\n",
       "    <tr>\n",
       "      <th>user_id</th>\n",
       "      <th>mes</th>\n",
       "      <th></th>\n",
       "      <th></th>\n",
       "      <th></th>\n",
       "    </tr>\n",
       "  </thead>\n",
       "  <tbody>\n",
       "    <tr>\n",
       "      <th>1000</th>\n",
       "      <th>Diciembre</th>\n",
       "      <td>124.0</td>\n",
       "      <td>16</td>\n",
       "      <td>11.0</td>\n",
       "    </tr>\n",
       "    <tr>\n",
       "      <th rowspan=\"4\" valign=\"top\">1001</th>\n",
       "      <th>Agosto</th>\n",
       "      <td>182.0</td>\n",
       "      <td>27</td>\n",
       "      <td>30.0</td>\n",
       "    </tr>\n",
       "    <tr>\n",
       "      <th>Diciembre</th>\n",
       "      <td>412.0</td>\n",
       "      <td>56</td>\n",
       "      <td>44.0</td>\n",
       "    </tr>\n",
       "    <tr>\n",
       "      <th>Noviembre</th>\n",
       "      <td>426.0</td>\n",
       "      <td>64</td>\n",
       "      <td>36.0</td>\n",
       "    </tr>\n",
       "    <tr>\n",
       "      <th>Octubre</th>\n",
       "      <td>393.0</td>\n",
       "      <td>65</td>\n",
       "      <td>53.0</td>\n",
       "    </tr>\n",
       "    <tr>\n",
       "      <th>...</th>\n",
       "      <th>...</th>\n",
       "      <td>...</td>\n",
       "      <td>...</td>\n",
       "      <td>...</td>\n",
       "    </tr>\n",
       "    <tr>\n",
       "      <th>1498</th>\n",
       "      <th>Septiembre</th>\n",
       "      <td>363.0</td>\n",
       "      <td>45</td>\n",
       "      <td>NaN</td>\n",
       "    </tr>\n",
       "    <tr>\n",
       "      <th rowspan=\"4\" valign=\"top\">1499</th>\n",
       "      <th>Diciembre</th>\n",
       "      <td>496.0</td>\n",
       "      <td>65</td>\n",
       "      <td>NaN</td>\n",
       "    </tr>\n",
       "    <tr>\n",
       "      <th>Noviembre</th>\n",
       "      <td>308.0</td>\n",
       "      <td>45</td>\n",
       "      <td>NaN</td>\n",
       "    </tr>\n",
       "    <tr>\n",
       "      <th>Octubre</th>\n",
       "      <td>385.0</td>\n",
       "      <td>53</td>\n",
       "      <td>NaN</td>\n",
       "    </tr>\n",
       "    <tr>\n",
       "      <th>Septiembre</th>\n",
       "      <td>346.0</td>\n",
       "      <td>41</td>\n",
       "      <td>NaN</td>\n",
       "    </tr>\n",
       "  </tbody>\n",
       "</table>\n",
       "<p>2258 rows × 3 columns</p>\n",
       "</div>"
      ],
      "text/plain": [
       "                    duration  llamadas  mensajes\n",
       "user_id mes                                     \n",
       "1000    Diciembre      124.0        16      11.0\n",
       "1001    Agosto         182.0        27      30.0\n",
       "        Diciembre      412.0        56      44.0\n",
       "        Noviembre      426.0        64      36.0\n",
       "        Octubre        393.0        65      53.0\n",
       "...                      ...       ...       ...\n",
       "1498    Septiembre     363.0        45       NaN\n",
       "1499    Diciembre      496.0        65       NaN\n",
       "        Noviembre      308.0        45       NaN\n",
       "        Octubre        385.0        53       NaN\n",
       "        Septiembre     346.0        41       NaN\n",
       "\n",
       "[2258 rows x 3 columns]"
      ]
     },
     "execution_count": 813,
     "metadata": {},
     "output_type": "execute_result"
    }
   ],
   "source": [
    "#aislemos para cada usuario el número total de llamadas, SMS y datos\n",
    "#para esto usemos la tabla dinámica analisi_usu4, implementada anteriormente junto con la tabla \n",
    "#dinámica analisis_usu3 para tener en una sola tabla la información para cada usuario\n",
    "#del número de llamadas, mensajes,  y SMS  .\n",
    "analisis_usu_t1 = analisis_usu3.join(analisis_usu4, on=['user_id', 'mes'])\n",
    "analisis_usu_t1"
   ]
  },
  {
   "cell_type": "code",
   "execution_count": 814,
   "metadata": {
    "scrolled": false
   },
   "outputs": [
    {
     "data": {
      "text/html": [
       "<div>\n",
       "<style scoped>\n",
       "    .dataframe tbody tr th:only-of-type {\n",
       "        vertical-align: middle;\n",
       "    }\n",
       "\n",
       "    .dataframe tbody tr th {\n",
       "        vertical-align: top;\n",
       "    }\n",
       "\n",
       "    .dataframe thead th {\n",
       "        text-align: right;\n",
       "    }\n",
       "</style>\n",
       "<table border=\"1\" class=\"dataframe\">\n",
       "  <thead>\n",
       "    <tr style=\"text-align: right;\">\n",
       "      <th></th>\n",
       "      <th></th>\n",
       "      <th>volumen_datos</th>\n",
       "      <th>duration</th>\n",
       "      <th>llamadas</th>\n",
       "      <th>mensajes</th>\n",
       "    </tr>\n",
       "    <tr>\n",
       "      <th>user_id</th>\n",
       "      <th>mes</th>\n",
       "      <th></th>\n",
       "      <th></th>\n",
       "      <th></th>\n",
       "      <th></th>\n",
       "    </tr>\n",
       "  </thead>\n",
       "  <tbody>\n",
       "    <tr>\n",
       "      <th>1000</th>\n",
       "      <th>Diciembre</th>\n",
       "      <td>1901.47</td>\n",
       "      <td>124.0</td>\n",
       "      <td>16.0</td>\n",
       "      <td>11.0</td>\n",
       "    </tr>\n",
       "    <tr>\n",
       "      <th rowspan=\"4\" valign=\"top\">1001</th>\n",
       "      <th>Agosto</th>\n",
       "      <td>6919.15</td>\n",
       "      <td>182.0</td>\n",
       "      <td>27.0</td>\n",
       "      <td>30.0</td>\n",
       "    </tr>\n",
       "    <tr>\n",
       "      <th>Diciembre</th>\n",
       "      <td>19369.18</td>\n",
       "      <td>412.0</td>\n",
       "      <td>56.0</td>\n",
       "      <td>44.0</td>\n",
       "    </tr>\n",
       "    <tr>\n",
       "      <th>Noviembre</th>\n",
       "      <td>18504.30</td>\n",
       "      <td>426.0</td>\n",
       "      <td>64.0</td>\n",
       "      <td>36.0</td>\n",
       "    </tr>\n",
       "    <tr>\n",
       "      <th>Octubre</th>\n",
       "      <td>22330.49</td>\n",
       "      <td>393.0</td>\n",
       "      <td>65.0</td>\n",
       "      <td>53.0</td>\n",
       "    </tr>\n",
       "    <tr>\n",
       "      <th>...</th>\n",
       "      <th>...</th>\n",
       "      <td>...</td>\n",
       "      <td>...</td>\n",
       "      <td>...</td>\n",
       "      <td>...</td>\n",
       "    </tr>\n",
       "    <tr>\n",
       "      <th>1498</th>\n",
       "      <th>Septiembre</th>\n",
       "      <td>22827.28</td>\n",
       "      <td>363.0</td>\n",
       "      <td>45.0</td>\n",
       "      <td>NaN</td>\n",
       "    </tr>\n",
       "    <tr>\n",
       "      <th rowspan=\"4\" valign=\"top\">1499</th>\n",
       "      <th>Diciembre</th>\n",
       "      <td>22059.21</td>\n",
       "      <td>496.0</td>\n",
       "      <td>65.0</td>\n",
       "      <td>NaN</td>\n",
       "    </tr>\n",
       "    <tr>\n",
       "      <th>Noviembre</th>\n",
       "      <td>16813.83</td>\n",
       "      <td>308.0</td>\n",
       "      <td>45.0</td>\n",
       "      <td>NaN</td>\n",
       "    </tr>\n",
       "    <tr>\n",
       "      <th>Octubre</th>\n",
       "      <td>19492.43</td>\n",
       "      <td>385.0</td>\n",
       "      <td>53.0</td>\n",
       "      <td>NaN</td>\n",
       "    </tr>\n",
       "    <tr>\n",
       "      <th>Septiembre</th>\n",
       "      <td>12984.76</td>\n",
       "      <td>346.0</td>\n",
       "      <td>41.0</td>\n",
       "      <td>NaN</td>\n",
       "    </tr>\n",
       "  </tbody>\n",
       "</table>\n",
       "<p>2277 rows × 4 columns</p>\n",
       "</div>"
      ],
      "text/plain": [
       "                    volumen_datos  duration  llamadas  mensajes\n",
       "user_id mes                                                    \n",
       "1000    Diciembre         1901.47     124.0      16.0      11.0\n",
       "1001    Agosto            6919.15     182.0      27.0      30.0\n",
       "        Diciembre        19369.18     412.0      56.0      44.0\n",
       "        Noviembre        18504.30     426.0      64.0      36.0\n",
       "        Octubre          22330.49     393.0      65.0      53.0\n",
       "...                           ...       ...       ...       ...\n",
       "1498    Septiembre       22827.28     363.0      45.0       NaN\n",
       "1499    Diciembre        22059.21     496.0      65.0       NaN\n",
       "        Noviembre        16813.83     308.0      45.0       NaN\n",
       "        Octubre          19492.43     385.0      53.0       NaN\n",
       "        Septiembre       12984.76     346.0      41.0       NaN\n",
       "\n",
       "[2277 rows x 4 columns]"
      ]
     },
     "execution_count": 814,
     "metadata": {},
     "output_type": "execute_result"
    }
   ],
   "source": [
    "#ahora pasemos para cada usuario el volumen de datos de cada usuario por mes\n",
    "analisis_usu_t2 = analisis_usu5.join(analisis_usu_t1, on=['user_id', 'mes'])\n",
    "analisis_usu_t2"
   ]
  },
  {
   "cell_type": "code",
   "execution_count": 815,
   "metadata": {},
   "outputs": [
    {
     "data": {
      "text/html": [
       "<div>\n",
       "<style scoped>\n",
       "    .dataframe tbody tr th:only-of-type {\n",
       "        vertical-align: middle;\n",
       "    }\n",
       "\n",
       "    .dataframe tbody tr th {\n",
       "        vertical-align: top;\n",
       "    }\n",
       "\n",
       "    .dataframe thead th {\n",
       "        text-align: right;\n",
       "    }\n",
       "</style>\n",
       "<table border=\"1\" class=\"dataframe\">\n",
       "  <thead>\n",
       "    <tr style=\"text-align: right;\">\n",
       "      <th></th>\n",
       "      <th>user_id</th>\n",
       "      <th>mes</th>\n",
       "      <th>volumen_datos</th>\n",
       "      <th>duration</th>\n",
       "      <th>llamadas</th>\n",
       "      <th>mensajes</th>\n",
       "    </tr>\n",
       "  </thead>\n",
       "  <tbody>\n",
       "    <tr>\n",
       "      <th>0</th>\n",
       "      <td>1000</td>\n",
       "      <td>Diciembre</td>\n",
       "      <td>1901.47</td>\n",
       "      <td>124.0</td>\n",
       "      <td>16.0</td>\n",
       "      <td>11.0</td>\n",
       "    </tr>\n",
       "    <tr>\n",
       "      <th>1</th>\n",
       "      <td>1001</td>\n",
       "      <td>Agosto</td>\n",
       "      <td>6919.15</td>\n",
       "      <td>182.0</td>\n",
       "      <td>27.0</td>\n",
       "      <td>30.0</td>\n",
       "    </tr>\n",
       "    <tr>\n",
       "      <th>2</th>\n",
       "      <td>1001</td>\n",
       "      <td>Diciembre</td>\n",
       "      <td>19369.18</td>\n",
       "      <td>412.0</td>\n",
       "      <td>56.0</td>\n",
       "      <td>44.0</td>\n",
       "    </tr>\n",
       "    <tr>\n",
       "      <th>3</th>\n",
       "      <td>1001</td>\n",
       "      <td>Noviembre</td>\n",
       "      <td>18504.30</td>\n",
       "      <td>426.0</td>\n",
       "      <td>64.0</td>\n",
       "      <td>36.0</td>\n",
       "    </tr>\n",
       "    <tr>\n",
       "      <th>4</th>\n",
       "      <td>1001</td>\n",
       "      <td>Octubre</td>\n",
       "      <td>22330.49</td>\n",
       "      <td>393.0</td>\n",
       "      <td>65.0</td>\n",
       "      <td>53.0</td>\n",
       "    </tr>\n",
       "    <tr>\n",
       "      <th>...</th>\n",
       "      <td>...</td>\n",
       "      <td>...</td>\n",
       "      <td>...</td>\n",
       "      <td>...</td>\n",
       "      <td>...</td>\n",
       "      <td>...</td>\n",
       "    </tr>\n",
       "    <tr>\n",
       "      <th>2272</th>\n",
       "      <td>1498</td>\n",
       "      <td>Septiembre</td>\n",
       "      <td>22827.28</td>\n",
       "      <td>363.0</td>\n",
       "      <td>45.0</td>\n",
       "      <td>NaN</td>\n",
       "    </tr>\n",
       "    <tr>\n",
       "      <th>2273</th>\n",
       "      <td>1499</td>\n",
       "      <td>Diciembre</td>\n",
       "      <td>22059.21</td>\n",
       "      <td>496.0</td>\n",
       "      <td>65.0</td>\n",
       "      <td>NaN</td>\n",
       "    </tr>\n",
       "    <tr>\n",
       "      <th>2274</th>\n",
       "      <td>1499</td>\n",
       "      <td>Noviembre</td>\n",
       "      <td>16813.83</td>\n",
       "      <td>308.0</td>\n",
       "      <td>45.0</td>\n",
       "      <td>NaN</td>\n",
       "    </tr>\n",
       "    <tr>\n",
       "      <th>2275</th>\n",
       "      <td>1499</td>\n",
       "      <td>Octubre</td>\n",
       "      <td>19492.43</td>\n",
       "      <td>385.0</td>\n",
       "      <td>53.0</td>\n",
       "      <td>NaN</td>\n",
       "    </tr>\n",
       "    <tr>\n",
       "      <th>2276</th>\n",
       "      <td>1499</td>\n",
       "      <td>Septiembre</td>\n",
       "      <td>12984.76</td>\n",
       "      <td>346.0</td>\n",
       "      <td>41.0</td>\n",
       "      <td>NaN</td>\n",
       "    </tr>\n",
       "  </tbody>\n",
       "</table>\n",
       "<p>2277 rows × 6 columns</p>\n",
       "</div>"
      ],
      "text/plain": [
       "      user_id         mes  volumen_datos  duration  llamadas  mensajes\n",
       "0        1000   Diciembre        1901.47     124.0      16.0      11.0\n",
       "1        1001      Agosto        6919.15     182.0      27.0      30.0\n",
       "2        1001   Diciembre       19369.18     412.0      56.0      44.0\n",
       "3        1001   Noviembre       18504.30     426.0      64.0      36.0\n",
       "4        1001     Octubre       22330.49     393.0      65.0      53.0\n",
       "...       ...         ...            ...       ...       ...       ...\n",
       "2272     1498  Septiembre       22827.28     363.0      45.0       NaN\n",
       "2273     1499   Diciembre       22059.21     496.0      65.0       NaN\n",
       "2274     1499   Noviembre       16813.83     308.0      45.0       NaN\n",
       "2275     1499     Octubre       19492.43     385.0      53.0       NaN\n",
       "2276     1499  Septiembre       12984.76     346.0      41.0       NaN\n",
       "\n",
       "[2277 rows x 6 columns]"
      ]
     },
     "execution_count": 815,
     "metadata": {},
     "output_type": "execute_result"
    }
   ],
   "source": [
    "# para agregar la información del tipo de plan para cada usuario\n",
    "#es necesario resetear el indice actual de la tabal analisis_usu_t2 \n",
    "dataframe1 = analisis_usu_t2.reset_index()\n",
    "dataframe1"
   ]
  },
  {
   "cell_type": "code",
   "execution_count": 816,
   "metadata": {},
   "outputs": [
    {
     "data": {
      "text/html": [
       "<div>\n",
       "<style scoped>\n",
       "    .dataframe tbody tr th:only-of-type {\n",
       "        vertical-align: middle;\n",
       "    }\n",
       "\n",
       "    .dataframe tbody tr th {\n",
       "        vertical-align: top;\n",
       "    }\n",
       "\n",
       "    .dataframe thead th {\n",
       "        text-align: right;\n",
       "    }\n",
       "</style>\n",
       "<table border=\"1\" class=\"dataframe\">\n",
       "  <thead>\n",
       "    <tr style=\"text-align: right;\">\n",
       "      <th></th>\n",
       "      <th>user_id</th>\n",
       "      <th>plan</th>\n",
       "      <th>mes</th>\n",
       "      <th>volumen_datos</th>\n",
       "      <th>duration</th>\n",
       "      <th>llamadas</th>\n",
       "      <th>mensajes</th>\n",
       "    </tr>\n",
       "  </thead>\n",
       "  <tbody>\n",
       "    <tr>\n",
       "      <th>0</th>\n",
       "      <td>1000</td>\n",
       "      <td>ultimate</td>\n",
       "      <td>Diciembre</td>\n",
       "      <td>1901.47</td>\n",
       "      <td>124.0</td>\n",
       "      <td>16.0</td>\n",
       "      <td>11.0</td>\n",
       "    </tr>\n",
       "    <tr>\n",
       "      <th>1</th>\n",
       "      <td>1001</td>\n",
       "      <td>surf</td>\n",
       "      <td>Agosto</td>\n",
       "      <td>6919.15</td>\n",
       "      <td>182.0</td>\n",
       "      <td>27.0</td>\n",
       "      <td>30.0</td>\n",
       "    </tr>\n",
       "    <tr>\n",
       "      <th>2</th>\n",
       "      <td>1001</td>\n",
       "      <td>surf</td>\n",
       "      <td>Diciembre</td>\n",
       "      <td>19369.18</td>\n",
       "      <td>412.0</td>\n",
       "      <td>56.0</td>\n",
       "      <td>44.0</td>\n",
       "    </tr>\n",
       "    <tr>\n",
       "      <th>3</th>\n",
       "      <td>1001</td>\n",
       "      <td>surf</td>\n",
       "      <td>Noviembre</td>\n",
       "      <td>18504.30</td>\n",
       "      <td>426.0</td>\n",
       "      <td>64.0</td>\n",
       "      <td>36.0</td>\n",
       "    </tr>\n",
       "    <tr>\n",
       "      <th>4</th>\n",
       "      <td>1001</td>\n",
       "      <td>surf</td>\n",
       "      <td>Octubre</td>\n",
       "      <td>22330.49</td>\n",
       "      <td>393.0</td>\n",
       "      <td>65.0</td>\n",
       "      <td>53.0</td>\n",
       "    </tr>\n",
       "    <tr>\n",
       "      <th>...</th>\n",
       "      <td>...</td>\n",
       "      <td>...</td>\n",
       "      <td>...</td>\n",
       "      <td>...</td>\n",
       "      <td>...</td>\n",
       "      <td>...</td>\n",
       "      <td>...</td>\n",
       "    </tr>\n",
       "    <tr>\n",
       "      <th>2272</th>\n",
       "      <td>1498</td>\n",
       "      <td>surf</td>\n",
       "      <td>Septiembre</td>\n",
       "      <td>22827.28</td>\n",
       "      <td>363.0</td>\n",
       "      <td>45.0</td>\n",
       "      <td>NaN</td>\n",
       "    </tr>\n",
       "    <tr>\n",
       "      <th>2273</th>\n",
       "      <td>1499</td>\n",
       "      <td>surf</td>\n",
       "      <td>Diciembre</td>\n",
       "      <td>22059.21</td>\n",
       "      <td>496.0</td>\n",
       "      <td>65.0</td>\n",
       "      <td>NaN</td>\n",
       "    </tr>\n",
       "    <tr>\n",
       "      <th>2274</th>\n",
       "      <td>1499</td>\n",
       "      <td>surf</td>\n",
       "      <td>Noviembre</td>\n",
       "      <td>16813.83</td>\n",
       "      <td>308.0</td>\n",
       "      <td>45.0</td>\n",
       "      <td>NaN</td>\n",
       "    </tr>\n",
       "    <tr>\n",
       "      <th>2275</th>\n",
       "      <td>1499</td>\n",
       "      <td>surf</td>\n",
       "      <td>Octubre</td>\n",
       "      <td>19492.43</td>\n",
       "      <td>385.0</td>\n",
       "      <td>53.0</td>\n",
       "      <td>NaN</td>\n",
       "    </tr>\n",
       "    <tr>\n",
       "      <th>2276</th>\n",
       "      <td>1499</td>\n",
       "      <td>surf</td>\n",
       "      <td>Septiembre</td>\n",
       "      <td>12984.76</td>\n",
       "      <td>346.0</td>\n",
       "      <td>41.0</td>\n",
       "      <td>NaN</td>\n",
       "    </tr>\n",
       "  </tbody>\n",
       "</table>\n",
       "<p>2277 rows × 7 columns</p>\n",
       "</div>"
      ],
      "text/plain": [
       "      user_id      plan         mes  volumen_datos  duration  llamadas  \\\n",
       "0        1000  ultimate   Diciembre        1901.47     124.0      16.0   \n",
       "1        1001      surf      Agosto        6919.15     182.0      27.0   \n",
       "2        1001      surf   Diciembre       19369.18     412.0      56.0   \n",
       "3        1001      surf   Noviembre       18504.30     426.0      64.0   \n",
       "4        1001      surf     Octubre       22330.49     393.0      65.0   \n",
       "...       ...       ...         ...            ...       ...       ...   \n",
       "2272     1498      surf  Septiembre       22827.28     363.0      45.0   \n",
       "2273     1499      surf   Diciembre       22059.21     496.0      65.0   \n",
       "2274     1499      surf   Noviembre       16813.83     308.0      45.0   \n",
       "2275     1499      surf     Octubre       19492.43     385.0      53.0   \n",
       "2276     1499      surf  Septiembre       12984.76     346.0      41.0   \n",
       "\n",
       "      mensajes  \n",
       "0         11.0  \n",
       "1         30.0  \n",
       "2         44.0  \n",
       "3         36.0  \n",
       "4         53.0  \n",
       "...        ...  \n",
       "2272       NaN  \n",
       "2273       NaN  \n",
       "2274       NaN  \n",
       "2275       NaN  \n",
       "2276       NaN  \n",
       "\n",
       "[2277 rows x 7 columns]"
      ]
     },
     "execution_count": 816,
     "metadata": {},
     "output_type": "execute_result"
    }
   ],
   "source": [
    "#Realizamos la inserción de los planes de cada usuario en \n",
    "#una nueva tabla\n",
    "analisis_usu_t3 = planes_sus.merge(right=dataframe1, on='user_id', how='right')\n",
    "h1 = analisis_usu_t3.copy()\n",
    "analisis_usu_t3"
   ]
  },
  {
   "cell_type": "code",
   "execution_count": 817,
   "metadata": {},
   "outputs": [
    {
     "data": {
      "text/html": [
       "<div>\n",
       "<style scoped>\n",
       "    .dataframe tbody tr th:only-of-type {\n",
       "        vertical-align: middle;\n",
       "    }\n",
       "\n",
       "    .dataframe tbody tr th {\n",
       "        vertical-align: top;\n",
       "    }\n",
       "\n",
       "    .dataframe thead th {\n",
       "        text-align: right;\n",
       "    }\n",
       "</style>\n",
       "<table border=\"1\" class=\"dataframe\">\n",
       "  <thead>\n",
       "    <tr style=\"text-align: right;\">\n",
       "      <th></th>\n",
       "      <th></th>\n",
       "      <th></th>\n",
       "      <th>volumen_datos</th>\n",
       "      <th>duration</th>\n",
       "      <th>llamadas</th>\n",
       "      <th>mensajes</th>\n",
       "    </tr>\n",
       "    <tr>\n",
       "      <th>user_id</th>\n",
       "      <th>plan</th>\n",
       "      <th>mes</th>\n",
       "      <th></th>\n",
       "      <th></th>\n",
       "      <th></th>\n",
       "      <th></th>\n",
       "    </tr>\n",
       "  </thead>\n",
       "  <tbody>\n",
       "    <tr>\n",
       "      <th>1000</th>\n",
       "      <th>ultimate</th>\n",
       "      <th>Diciembre</th>\n",
       "      <td>1901.47</td>\n",
       "      <td>124.0</td>\n",
       "      <td>16.0</td>\n",
       "      <td>11.0</td>\n",
       "    </tr>\n",
       "    <tr>\n",
       "      <th rowspan=\"4\" valign=\"top\">1001</th>\n",
       "      <th rowspan=\"4\" valign=\"top\">surf</th>\n",
       "      <th>Agosto</th>\n",
       "      <td>6919.15</td>\n",
       "      <td>182.0</td>\n",
       "      <td>27.0</td>\n",
       "      <td>30.0</td>\n",
       "    </tr>\n",
       "    <tr>\n",
       "      <th>Diciembre</th>\n",
       "      <td>19369.18</td>\n",
       "      <td>412.0</td>\n",
       "      <td>56.0</td>\n",
       "      <td>44.0</td>\n",
       "    </tr>\n",
       "    <tr>\n",
       "      <th>Noviembre</th>\n",
       "      <td>18504.30</td>\n",
       "      <td>426.0</td>\n",
       "      <td>64.0</td>\n",
       "      <td>36.0</td>\n",
       "    </tr>\n",
       "    <tr>\n",
       "      <th>Octubre</th>\n",
       "      <td>22330.49</td>\n",
       "      <td>393.0</td>\n",
       "      <td>65.0</td>\n",
       "      <td>53.0</td>\n",
       "    </tr>\n",
       "    <tr>\n",
       "      <th>...</th>\n",
       "      <th>...</th>\n",
       "      <th>...</th>\n",
       "      <td>...</td>\n",
       "      <td>...</td>\n",
       "      <td>...</td>\n",
       "      <td>...</td>\n",
       "    </tr>\n",
       "    <tr>\n",
       "      <th>1498</th>\n",
       "      <th>surf</th>\n",
       "      <th>Septiembre</th>\n",
       "      <td>22827.28</td>\n",
       "      <td>363.0</td>\n",
       "      <td>45.0</td>\n",
       "      <td>NaN</td>\n",
       "    </tr>\n",
       "    <tr>\n",
       "      <th rowspan=\"4\" valign=\"top\">1499</th>\n",
       "      <th rowspan=\"4\" valign=\"top\">surf</th>\n",
       "      <th>Diciembre</th>\n",
       "      <td>22059.21</td>\n",
       "      <td>496.0</td>\n",
       "      <td>65.0</td>\n",
       "      <td>NaN</td>\n",
       "    </tr>\n",
       "    <tr>\n",
       "      <th>Noviembre</th>\n",
       "      <td>16813.83</td>\n",
       "      <td>308.0</td>\n",
       "      <td>45.0</td>\n",
       "      <td>NaN</td>\n",
       "    </tr>\n",
       "    <tr>\n",
       "      <th>Octubre</th>\n",
       "      <td>19492.43</td>\n",
       "      <td>385.0</td>\n",
       "      <td>53.0</td>\n",
       "      <td>NaN</td>\n",
       "    </tr>\n",
       "    <tr>\n",
       "      <th>Septiembre</th>\n",
       "      <td>12984.76</td>\n",
       "      <td>346.0</td>\n",
       "      <td>41.0</td>\n",
       "      <td>NaN</td>\n",
       "    </tr>\n",
       "  </tbody>\n",
       "</table>\n",
       "<p>2277 rows × 4 columns</p>\n",
       "</div>"
      ],
      "text/plain": [
       "                             volumen_datos  duration  llamadas  mensajes\n",
       "user_id plan     mes                                                    \n",
       "1000    ultimate Diciembre         1901.47     124.0      16.0      11.0\n",
       "1001    surf     Agosto            6919.15     182.0      27.0      30.0\n",
       "                 Diciembre        19369.18     412.0      56.0      44.0\n",
       "                 Noviembre        18504.30     426.0      64.0      36.0\n",
       "                 Octubre          22330.49     393.0      65.0      53.0\n",
       "...                                    ...       ...       ...       ...\n",
       "1498    surf     Septiembre       22827.28     363.0      45.0       NaN\n",
       "1499    surf     Diciembre        22059.21     496.0      65.0       NaN\n",
       "                 Noviembre        16813.83     308.0      45.0       NaN\n",
       "                 Octubre          19492.43     385.0      53.0       NaN\n",
       "                 Septiembre       12984.76     346.0      41.0       NaN\n",
       "\n",
       "[2277 rows x 4 columns]"
      ]
     },
     "execution_count": 817,
     "metadata": {},
     "output_type": "execute_result"
    }
   ],
   "source": [
    "#ahora conformamos el nuevo indice incluyendo la columna nueva de plan\n",
    "analisis_usu_t3 = analisis_usu_t3.set_index(['user_id', 'plan', 'mes'])\n",
    "analisis_usu_t3"
   ]
  },
  {
   "cell_type": "markdown",
   "metadata": {},
   "source": [
    "Ahora tenemos identificado en una tabla  número total de llamadas, mensajes y datos. Podemos proceder a restar el límite gratuito de cada plan."
   ]
  },
  {
   "cell_type": "code",
   "execution_count": 818,
   "metadata": {},
   "outputs": [],
   "source": [
    "#dividimos la tabla anterior en los dos dataframes uno con los planes surf y otro \n",
    "#con los planes ultimante\n",
    "plan_surf = analisis_usu_t3.xs('surf', level='plan').copy()\n",
    "plan_ultimate = analisis_usu_t3.xs('ultimate', level='plan').copy()\n",
    "\n",
    "plan_surf.fillna(0, inplace=True)\n",
    "plan_ultimate.fillna(0, inplace=True)\n",
    "\n",
    "#creamos la columna 'diferencia_plan', para almacenar la resta del límite del paquete gratuito frente \n",
    "#al número total de llamadas\n",
    "\n",
    "#para el plan surf 500 minutos al mes, 50 SMS y 15 GB de datos\n",
    "plan_surf['dif_plan_SMS'] = plan_surf['mensajes'] - 50 \n",
    "# primero hay que convertir megabytes a gigabytes \n",
    "plan_surf['dif_plan_GB'] = plan_surf['volumen_datos']/1024\n",
    "plan_surf['dif_plan_GB'] = plan_surf['dif_plan_GB'] - 15  \n",
    "plan_surf['dif_plan_mins'] = plan_surf['duration'] - 500 \n",
    "\n",
    "\n",
    "#para el plan ultimate 3000 minutos al mes, 1000 SMS y 30 GB de datos\n",
    "plan_ultimate['dif_plan_SMS'] = plan_ultimate['mensajes'] - 1000 \n",
    "# primero hay que convertir megabytes a gigabytes \n",
    "plan_ultimate['dif_plan_GB'] = plan_ultimate['volumen_datos'] / 1024\n",
    "plan_ultimate['dif_plan_GB'] = plan_ultimate['dif_plan_GB'] - 30  \n",
    "plan_ultimate['dif_plan_mins'] = plan_ultimate['duration'] - 3000 "
   ]
  },
  {
   "cell_type": "markdown",
   "metadata": {},
   "source": [
    "Visualizando por separado la información conforme a un DataFrame para cada plan "
   ]
  },
  {
   "cell_type": "code",
   "execution_count": 819,
   "metadata": {},
   "outputs": [
    {
     "name": "stdout",
     "output_type": "stream",
     "text": [
      "DATAFRAME PARA LOS DATOS DEL PLAN SURF\n",
      "\n"
     ]
    }
   ],
   "source": [
    "#imprimimos los datos hayados para el plan surf\n",
    "print('DATAFRAME PARA LOS DATOS DEL PLAN SURF')\n",
    "print()\n",
    "#si la diferencia de los consumos es negativo significa que no hay saldo adicional\n",
    "#para cobrar en el plan tarifario del cliente por lo que se inicializan estas columnas\n",
    "#a cero\n",
    "plan_surf.loc[plan_surf['dif_plan_SMS'] < 0, 'dif_plan_SMS'] = 0\n",
    "plan_surf.loc[plan_surf['dif_plan_GB'] < 0, 'dif_plan_GB'] = 0\n",
    "plan_surf.loc[plan_surf['dif_plan_mins'] < 0, 'dif_plan_mins'] = 0\n"
   ]
  },
  {
   "cell_type": "code",
   "execution_count": 820,
   "metadata": {},
   "outputs": [
    {
     "name": "stdout",
     "output_type": "stream",
     "text": [
      "DATAFRAME PARA LOS DATOS DEL PLAN ULTIMATE\n",
      "\n"
     ]
    },
    {
     "data": {
      "text/html": [
       "<div>\n",
       "<style scoped>\n",
       "    .dataframe tbody tr th:only-of-type {\n",
       "        vertical-align: middle;\n",
       "    }\n",
       "\n",
       "    .dataframe tbody tr th {\n",
       "        vertical-align: top;\n",
       "    }\n",
       "\n",
       "    .dataframe thead th {\n",
       "        text-align: right;\n",
       "    }\n",
       "</style>\n",
       "<table border=\"1\" class=\"dataframe\">\n",
       "  <thead>\n",
       "    <tr style=\"text-align: right;\">\n",
       "      <th></th>\n",
       "      <th></th>\n",
       "      <th>volumen_datos</th>\n",
       "      <th>duration</th>\n",
       "      <th>llamadas</th>\n",
       "      <th>mensajes</th>\n",
       "      <th>dif_plan_SMS</th>\n",
       "      <th>dif_plan_GB</th>\n",
       "      <th>dif_plan_mins</th>\n",
       "    </tr>\n",
       "    <tr>\n",
       "      <th>user_id</th>\n",
       "      <th>mes</th>\n",
       "      <th></th>\n",
       "      <th></th>\n",
       "      <th></th>\n",
       "      <th></th>\n",
       "      <th></th>\n",
       "      <th></th>\n",
       "      <th></th>\n",
       "    </tr>\n",
       "  </thead>\n",
       "  <tbody>\n",
       "    <tr>\n",
       "      <th>1000</th>\n",
       "      <th>Diciembre</th>\n",
       "      <td>1901.47</td>\n",
       "      <td>124.0</td>\n",
       "      <td>16.0</td>\n",
       "      <td>11.0</td>\n",
       "      <td>0.0</td>\n",
       "      <td>0.000000</td>\n",
       "      <td>0.0</td>\n",
       "    </tr>\n",
       "    <tr>\n",
       "      <th rowspan=\"2\" valign=\"top\">1006</th>\n",
       "      <th>Diciembre</th>\n",
       "      <td>32118.82</td>\n",
       "      <td>59.0</td>\n",
       "      <td>9.0</td>\n",
       "      <td>139.0</td>\n",
       "      <td>0.0</td>\n",
       "      <td>1.366035</td>\n",
       "      <td>0.0</td>\n",
       "    </tr>\n",
       "    <tr>\n",
       "      <th>Noviembre</th>\n",
       "      <td>2068.37</td>\n",
       "      <td>10.0</td>\n",
       "      <td>2.0</td>\n",
       "      <td>15.0</td>\n",
       "      <td>0.0</td>\n",
       "      <td>0.000000</td>\n",
       "      <td>0.0</td>\n",
       "    </tr>\n",
       "    <tr>\n",
       "      <th rowspan=\"2\" valign=\"top\">1008</th>\n",
       "      <th>Diciembre</th>\n",
       "      <td>14689.33</td>\n",
       "      <td>634.0</td>\n",
       "      <td>85.0</td>\n",
       "      <td>26.0</td>\n",
       "      <td>0.0</td>\n",
       "      <td>0.000000</td>\n",
       "      <td>0.0</td>\n",
       "    </tr>\n",
       "    <tr>\n",
       "      <th>Noviembre</th>\n",
       "      <td>23676.72</td>\n",
       "      <td>446.0</td>\n",
       "      <td>63.0</td>\n",
       "      <td>37.0</td>\n",
       "      <td>0.0</td>\n",
       "      <td>0.000000</td>\n",
       "      <td>0.0</td>\n",
       "    </tr>\n",
       "    <tr>\n",
       "      <th>...</th>\n",
       "      <th>...</th>\n",
       "      <td>...</td>\n",
       "      <td>...</td>\n",
       "      <td>...</td>\n",
       "      <td>...</td>\n",
       "      <td>...</td>\n",
       "      <td>...</td>\n",
       "      <td>...</td>\n",
       "    </tr>\n",
       "    <tr>\n",
       "      <th rowspan=\"4\" valign=\"top\">1493</th>\n",
       "      <th>Diciembre</th>\n",
       "      <td>15289.09</td>\n",
       "      <td>473.0</td>\n",
       "      <td>65.0</td>\n",
       "      <td>0.0</td>\n",
       "      <td>0.0</td>\n",
       "      <td>0.000000</td>\n",
       "      <td>0.0</td>\n",
       "    </tr>\n",
       "    <tr>\n",
       "      <th>Noviembre</th>\n",
       "      <td>15630.78</td>\n",
       "      <td>500.0</td>\n",
       "      <td>73.0</td>\n",
       "      <td>0.0</td>\n",
       "      <td>0.0</td>\n",
       "      <td>0.000000</td>\n",
       "      <td>0.0</td>\n",
       "    </tr>\n",
       "    <tr>\n",
       "      <th>Octubre</th>\n",
       "      <td>16329.57</td>\n",
       "      <td>450.0</td>\n",
       "      <td>66.0</td>\n",
       "      <td>0.0</td>\n",
       "      <td>0.0</td>\n",
       "      <td>0.000000</td>\n",
       "      <td>0.0</td>\n",
       "    </tr>\n",
       "    <tr>\n",
       "      <th>Septiembre</th>\n",
       "      <td>14991.17</td>\n",
       "      <td>529.0</td>\n",
       "      <td>66.0</td>\n",
       "      <td>0.0</td>\n",
       "      <td>0.0</td>\n",
       "      <td>0.000000</td>\n",
       "      <td>0.0</td>\n",
       "    </tr>\n",
       "    <tr>\n",
       "      <th>1497</th>\n",
       "      <th>Diciembre</th>\n",
       "      <td>11106.55</td>\n",
       "      <td>300.0</td>\n",
       "      <td>54.0</td>\n",
       "      <td>50.0</td>\n",
       "      <td>0.0</td>\n",
       "      <td>0.000000</td>\n",
       "      <td>0.0</td>\n",
       "    </tr>\n",
       "  </tbody>\n",
       "</table>\n",
       "<p>719 rows × 7 columns</p>\n",
       "</div>"
      ],
      "text/plain": [
       "                    volumen_datos  duration  llamadas  mensajes  dif_plan_SMS  \\\n",
       "user_id mes                                                                     \n",
       "1000    Diciembre         1901.47     124.0      16.0      11.0           0.0   \n",
       "1006    Diciembre        32118.82      59.0       9.0     139.0           0.0   \n",
       "        Noviembre         2068.37      10.0       2.0      15.0           0.0   \n",
       "1008    Diciembre        14689.33     634.0      85.0      26.0           0.0   \n",
       "        Noviembre        23676.72     446.0      63.0      37.0           0.0   \n",
       "...                           ...       ...       ...       ...           ...   \n",
       "1493    Diciembre        15289.09     473.0      65.0       0.0           0.0   \n",
       "        Noviembre        15630.78     500.0      73.0       0.0           0.0   \n",
       "        Octubre          16329.57     450.0      66.0       0.0           0.0   \n",
       "        Septiembre       14991.17     529.0      66.0       0.0           0.0   \n",
       "1497    Diciembre        11106.55     300.0      54.0      50.0           0.0   \n",
       "\n",
       "                    dif_plan_GB  dif_plan_mins  \n",
       "user_id mes                                     \n",
       "1000    Diciembre      0.000000            0.0  \n",
       "1006    Diciembre      1.366035            0.0  \n",
       "        Noviembre      0.000000            0.0  \n",
       "1008    Diciembre      0.000000            0.0  \n",
       "        Noviembre      0.000000            0.0  \n",
       "...                         ...            ...  \n",
       "1493    Diciembre      0.000000            0.0  \n",
       "        Noviembre      0.000000            0.0  \n",
       "        Octubre        0.000000            0.0  \n",
       "        Septiembre     0.000000            0.0  \n",
       "1497    Diciembre      0.000000            0.0  \n",
       "\n",
       "[719 rows x 7 columns]"
      ]
     },
     "execution_count": 820,
     "metadata": {},
     "output_type": "execute_result"
    }
   ],
   "source": [
    "#imprimimos los datos hayados para el plan surf\n",
    "print('DATAFRAME PARA LOS DATOS DEL PLAN ULTIMATE')\n",
    "print()\n",
    "#si la diferencia de los consumos es negativo significa que no hay saldo adicional\n",
    "#para cobrar en el plan tarifario del cliente por lo que se inicializan estas columnas\n",
    "#a cero\n",
    "plan_ultimate.loc[plan_ultimate['dif_plan_SMS'] < 0, 'dif_plan_SMS'] = 0\n",
    "plan_ultimate.loc[plan_ultimate['dif_plan_GB'] < 0, 'dif_plan_GB'] = 0\n",
    "plan_ultimate.loc[plan_ultimate['dif_plan_mins'] < 0, 'dif_plan_mins'] = 0\n",
    "plan_ultimate"
   ]
  },
  {
   "cell_type": "code",
   "execution_count": 821,
   "metadata": {},
   "outputs": [],
   "source": [
    "#Megaline redondea los segundos a minutos\n",
    "plan_ultimate['dif_plan_mins'] = plan_ultimate['dif_plan_mins'].apply(np.ceil)  \n",
    "plan_surf['dif_plan_mins'] = plan_surf['dif_plan_mins'].apply(np.ceil)"
   ]
  },
  {
   "cell_type": "code",
   "execution_count": 822,
   "metadata": {},
   "outputs": [],
   "source": [
    "#definimos la variable que almacenará el cargo de cada usuario por mes\n",
    "plan_ultimate['cargo_mes'] = 0\n",
    "plan_surf['cargo_mes'] = 0\n",
    "# si la diferencia de lo \n",
    "#definamos una función que calcule el cargo mensual\n",
    "def cargo_mensual(renglon, tipo_plan):\n",
    "    cargomes = 0\n",
    "#focaliza el tipo de plan en el dataframe planes    \n",
    "    planes.loc[planes['plan_name'] == tipo_plan]\n",
    "#Pago mensual:            \n",
    "    cargomes = planes['mb_per_month_included']        \n",
    "# Si se exceden los límites del paquete : #1 minuto: #1 SMS: #1 GB de datos:    \n",
    "    if renglon['dif_plan_SMS'] > 0:\n",
    "        cargomes = renglon['dif_plan_SMS'] * planes['usd_per_message'] + cargomes\n",
    "\n",
    "    if renglon['dif_plan_GB'] > 0:\n",
    "        cargomes = renglon['dif_plan_GB'] * planes['usd_per_gb'] + cargomes\n",
    "\n",
    "    if renglon['dif_plan_mins'] > 0:\n",
    "        cargomes = renglon['dif_plan_mins'] * planes['usd_per_minute'] + cargomes\n",
    "    return cargomes\n",
    "#para el dataframe con la información del plan ultimate\n",
    "plan_ultimate['cargo_mes'] = plan_ultimate.agg(func=cargo_mensual, axis=1, tipo_plan = 'ultimate')\n",
    "plan_surf['cargo_mes'] = plan_surf.agg(func=cargo_mensual, axis=1, tipo_plan = 'surf')"
   ]
  },
  {
   "cell_type": "markdown",
   "metadata": {},
   "source": [
    "Relizaremos el cálculo del cargo mensual, pero fué necesario separar la información en dos dataframes: uno para los usuarios que se encuentran inscritos en el plan de datos SURF y otro dataframe para los usuarios que se encuentran inscritos en el plan de datos ULTIMATE."
   ]
  },
  {
   "cell_type": "code",
   "execution_count": 823,
   "metadata": {},
   "outputs": [
    {
     "data": {
      "text/html": [
       "<div>\n",
       "<style scoped>\n",
       "    .dataframe tbody tr th:only-of-type {\n",
       "        vertical-align: middle;\n",
       "    }\n",
       "\n",
       "    .dataframe tbody tr th {\n",
       "        vertical-align: top;\n",
       "    }\n",
       "\n",
       "    .dataframe thead th {\n",
       "        text-align: right;\n",
       "    }\n",
       "</style>\n",
       "<table border=\"1\" class=\"dataframe\">\n",
       "  <thead>\n",
       "    <tr style=\"text-align: right;\">\n",
       "      <th></th>\n",
       "      <th></th>\n",
       "      <th>dif_plan_SMS</th>\n",
       "      <th>dif_plan_GB</th>\n",
       "      <th>dif_plan_mins</th>\n",
       "      <th>cargo_mes</th>\n",
       "    </tr>\n",
       "    <tr>\n",
       "      <th>user_id</th>\n",
       "      <th>mes</th>\n",
       "      <th></th>\n",
       "      <th></th>\n",
       "      <th></th>\n",
       "      <th></th>\n",
       "    </tr>\n",
       "  </thead>\n",
       "  <tbody>\n",
       "    <tr>\n",
       "      <th>1000</th>\n",
       "      <th>Diciembre</th>\n",
       "      <td>0.0</td>\n",
       "      <td>0.000000</td>\n",
       "      <td>0.0</td>\n",
       "      <td>15360.000000</td>\n",
       "    </tr>\n",
       "    <tr>\n",
       "      <th rowspan=\"2\" valign=\"top\">1006</th>\n",
       "      <th>Diciembre</th>\n",
       "      <td>0.0</td>\n",
       "      <td>1.366035</td>\n",
       "      <td>0.0</td>\n",
       "      <td>15373.660352</td>\n",
       "    </tr>\n",
       "    <tr>\n",
       "      <th>Noviembre</th>\n",
       "      <td>0.0</td>\n",
       "      <td>0.000000</td>\n",
       "      <td>0.0</td>\n",
       "      <td>15360.000000</td>\n",
       "    </tr>\n",
       "    <tr>\n",
       "      <th rowspan=\"2\" valign=\"top\">1008</th>\n",
       "      <th>Diciembre</th>\n",
       "      <td>0.0</td>\n",
       "      <td>0.000000</td>\n",
       "      <td>0.0</td>\n",
       "      <td>15360.000000</td>\n",
       "    </tr>\n",
       "    <tr>\n",
       "      <th>Noviembre</th>\n",
       "      <td>0.0</td>\n",
       "      <td>0.000000</td>\n",
       "      <td>0.0</td>\n",
       "      <td>15360.000000</td>\n",
       "    </tr>\n",
       "    <tr>\n",
       "      <th>...</th>\n",
       "      <th>...</th>\n",
       "      <td>...</td>\n",
       "      <td>...</td>\n",
       "      <td>...</td>\n",
       "      <td>...</td>\n",
       "    </tr>\n",
       "    <tr>\n",
       "      <th rowspan=\"4\" valign=\"top\">1493</th>\n",
       "      <th>Diciembre</th>\n",
       "      <td>0.0</td>\n",
       "      <td>0.000000</td>\n",
       "      <td>0.0</td>\n",
       "      <td>15360.000000</td>\n",
       "    </tr>\n",
       "    <tr>\n",
       "      <th>Noviembre</th>\n",
       "      <td>0.0</td>\n",
       "      <td>0.000000</td>\n",
       "      <td>0.0</td>\n",
       "      <td>15360.000000</td>\n",
       "    </tr>\n",
       "    <tr>\n",
       "      <th>Octubre</th>\n",
       "      <td>0.0</td>\n",
       "      <td>0.000000</td>\n",
       "      <td>0.0</td>\n",
       "      <td>15360.000000</td>\n",
       "    </tr>\n",
       "    <tr>\n",
       "      <th>Septiembre</th>\n",
       "      <td>0.0</td>\n",
       "      <td>0.000000</td>\n",
       "      <td>0.0</td>\n",
       "      <td>15360.000000</td>\n",
       "    </tr>\n",
       "    <tr>\n",
       "      <th>1497</th>\n",
       "      <th>Diciembre</th>\n",
       "      <td>0.0</td>\n",
       "      <td>0.000000</td>\n",
       "      <td>0.0</td>\n",
       "      <td>15360.000000</td>\n",
       "    </tr>\n",
       "  </tbody>\n",
       "</table>\n",
       "<p>719 rows × 4 columns</p>\n",
       "</div>"
      ],
      "text/plain": [
       "                    dif_plan_SMS  dif_plan_GB  dif_plan_mins     cargo_mes\n",
       "user_id mes                                                               \n",
       "1000    Diciembre            0.0     0.000000            0.0  15360.000000\n",
       "1006    Diciembre            0.0     1.366035            0.0  15373.660352\n",
       "        Noviembre            0.0     0.000000            0.0  15360.000000\n",
       "1008    Diciembre            0.0     0.000000            0.0  15360.000000\n",
       "        Noviembre            0.0     0.000000            0.0  15360.000000\n",
       "...                          ...          ...            ...           ...\n",
       "1493    Diciembre            0.0     0.000000            0.0  15360.000000\n",
       "        Noviembre            0.0     0.000000            0.0  15360.000000\n",
       "        Octubre              0.0     0.000000            0.0  15360.000000\n",
       "        Septiembre           0.0     0.000000            0.0  15360.000000\n",
       "1497    Diciembre            0.0     0.000000            0.0  15360.000000\n",
       "\n",
       "[719 rows x 4 columns]"
      ]
     },
     "execution_count": 823,
     "metadata": {},
     "output_type": "execute_result"
    }
   ],
   "source": [
    "#Visualizando los cargos por mes para el plan de datos ULTIMANTE \n",
    "plan_ultimate[['dif_plan_SMS', 'dif_plan_GB', 'dif_plan_mins', 'cargo_mes']]"
   ]
  },
  {
   "cell_type": "code",
   "execution_count": 824,
   "metadata": {},
   "outputs": [
    {
     "data": {
      "text/html": [
       "<div>\n",
       "<style scoped>\n",
       "    .dataframe tbody tr th:only-of-type {\n",
       "        vertical-align: middle;\n",
       "    }\n",
       "\n",
       "    .dataframe tbody tr th {\n",
       "        vertical-align: top;\n",
       "    }\n",
       "\n",
       "    .dataframe thead th {\n",
       "        text-align: right;\n",
       "    }\n",
       "</style>\n",
       "<table border=\"1\" class=\"dataframe\">\n",
       "  <thead>\n",
       "    <tr style=\"text-align: right;\">\n",
       "      <th></th>\n",
       "      <th></th>\n",
       "      <th>dif_plan_SMS</th>\n",
       "      <th>dif_plan_GB</th>\n",
       "      <th>dif_plan_mins</th>\n",
       "      <th>cargo_mes</th>\n",
       "    </tr>\n",
       "    <tr>\n",
       "      <th>user_id</th>\n",
       "      <th>mes</th>\n",
       "      <th></th>\n",
       "      <th></th>\n",
       "      <th></th>\n",
       "      <th></th>\n",
       "    </tr>\n",
       "  </thead>\n",
       "  <tbody>\n",
       "    <tr>\n",
       "      <th rowspan=\"5\" valign=\"top\">1001</th>\n",
       "      <th>Agosto</th>\n",
       "      <td>0.0</td>\n",
       "      <td>0.000000</td>\n",
       "      <td>0.0</td>\n",
       "      <td>15360.000000</td>\n",
       "    </tr>\n",
       "    <tr>\n",
       "      <th>Diciembre</th>\n",
       "      <td>0.0</td>\n",
       "      <td>3.915215</td>\n",
       "      <td>0.0</td>\n",
       "      <td>15399.152148</td>\n",
       "    </tr>\n",
       "    <tr>\n",
       "      <th>Noviembre</th>\n",
       "      <td>0.0</td>\n",
       "      <td>3.070605</td>\n",
       "      <td>0.0</td>\n",
       "      <td>15390.706055</td>\n",
       "    </tr>\n",
       "    <tr>\n",
       "      <th>Octubre</th>\n",
       "      <td>3.0</td>\n",
       "      <td>6.807119</td>\n",
       "      <td>0.0</td>\n",
       "      <td>15428.161191</td>\n",
       "    </tr>\n",
       "    <tr>\n",
       "      <th>Septiembre</th>\n",
       "      <td>0.0</td>\n",
       "      <td>0.000000</td>\n",
       "      <td>0.0</td>\n",
       "      <td>15360.000000</td>\n",
       "    </tr>\n",
       "    <tr>\n",
       "      <th>...</th>\n",
       "      <th>...</th>\n",
       "      <td>...</td>\n",
       "      <td>...</td>\n",
       "      <td>...</td>\n",
       "      <td>...</td>\n",
       "    </tr>\n",
       "    <tr>\n",
       "      <th>1498</th>\n",
       "      <th>Septiembre</th>\n",
       "      <td>0.0</td>\n",
       "      <td>7.292266</td>\n",
       "      <td>0.0</td>\n",
       "      <td>15432.922656</td>\n",
       "    </tr>\n",
       "    <tr>\n",
       "      <th rowspan=\"4\" valign=\"top\">1499</th>\n",
       "      <th>Diciembre</th>\n",
       "      <td>0.0</td>\n",
       "      <td>6.542197</td>\n",
       "      <td>0.0</td>\n",
       "      <td>15425.421973</td>\n",
       "    </tr>\n",
       "    <tr>\n",
       "      <th>Noviembre</th>\n",
       "      <td>0.0</td>\n",
       "      <td>1.419756</td>\n",
       "      <td>0.0</td>\n",
       "      <td>15374.197559</td>\n",
       "    </tr>\n",
       "    <tr>\n",
       "      <th>Octubre</th>\n",
       "      <td>0.0</td>\n",
       "      <td>4.035576</td>\n",
       "      <td>0.0</td>\n",
       "      <td>15400.355762</td>\n",
       "    </tr>\n",
       "    <tr>\n",
       "      <th>Septiembre</th>\n",
       "      <td>0.0</td>\n",
       "      <td>0.000000</td>\n",
       "      <td>0.0</td>\n",
       "      <td>15360.000000</td>\n",
       "    </tr>\n",
       "  </tbody>\n",
       "</table>\n",
       "<p>1558 rows × 4 columns</p>\n",
       "</div>"
      ],
      "text/plain": [
       "                    dif_plan_SMS  dif_plan_GB  dif_plan_mins     cargo_mes\n",
       "user_id mes                                                               \n",
       "1001    Agosto               0.0     0.000000            0.0  15360.000000\n",
       "        Diciembre            0.0     3.915215            0.0  15399.152148\n",
       "        Noviembre            0.0     3.070605            0.0  15390.706055\n",
       "        Octubre              3.0     6.807119            0.0  15428.161191\n",
       "        Septiembre           0.0     0.000000            0.0  15360.000000\n",
       "...                          ...          ...            ...           ...\n",
       "1498    Septiembre           0.0     7.292266            0.0  15432.922656\n",
       "1499    Diciembre            0.0     6.542197            0.0  15425.421973\n",
       "        Noviembre            0.0     1.419756            0.0  15374.197559\n",
       "        Octubre              0.0     4.035576            0.0  15400.355762\n",
       "        Septiembre           0.0     0.000000            0.0  15360.000000\n",
       "\n",
       "[1558 rows x 4 columns]"
      ]
     },
     "execution_count": 824,
     "metadata": {},
     "output_type": "execute_result"
    }
   ],
   "source": [
    "#Visualizando los cargos por mes para el plan de datos SURF \n",
    "plan_surf[['dif_plan_SMS', 'dif_plan_GB', 'dif_plan_mins', 'cargo_mes']]"
   ]
  },
  {
   "cell_type": "markdown",
   "metadata": {},
   "source": [
    "<a id='EDA'></a>\n",
    "## /er. Etapa 3. Análisis Exploratorio de Datos (EDA) "
   ]
  },
  {
   "cell_type": "markdown",
   "metadata": {},
   "source": [
    "Describamos el comportamiento de los clientes.Por medio de los minutos, SMS y volumen de datos que requieren los usuarios de cada tarifa por mes; calculemos la media, la varianza y la desviación estándar. Con la información anterior trazaremos los histogramas correspondientes. Describeremos las distribuciones correspondientes.\n",
    "\n",
    "Finalmente analizaremos toda la información recopilada para observar que plan es el que de conformidad con el comportamiento de los clientes provoca qué tarifa de prepago genere más ingresos para la compañía."
   ]
  },
  {
   "cell_type": "markdown",
   "metadata": {},
   "source": [
    "<a id='EDA31'></a>\n",
    "###  Comportamiento  de los clientes en la muestra."
   ]
  },
  {
   "cell_type": "markdown",
   "metadata": {},
   "source": [
    "Para buscar que comportamiento presentan los clientes en la muestra, es necesario meditar acerca de que el plan que más a vendido, el plan que más ingreso reacauda a la compañia en el año, en el mes. Segmentar el conjunto de usuarios para los que más datos usan, los que más llamadas hacen, los que prefieren enviar mensajes."
   ]
  },
  {
   "cell_type": "code",
   "execution_count": 825,
   "metadata": {},
   "outputs": [
    {
     "name": "stdout",
     "output_type": "stream",
     "text": [
      "NÚMERO DE USUARIOS QUE SE ENCUENTRAN INSCRITOS EN EL PLAN \"SURF\":      339\n",
      "NÚMERO DE USUARIOS QUE SE ENCUENTRAN INSCRITOS EN EL PLAN \"ULTIMATE\":  161\n",
      "PORCENTAJE DE USUARIOS CON EL PLAN SURF VS. PLAN ULTIMANTE:            210.56%\n"
     ]
    }
   ],
   "source": [
    "#por medio de los datos de los dataframe para los planes 'SURF' y 'ULTIMATE'\n",
    "#veamos el número de usuarios de cada uno.\n",
    "num_surf =usuarios.loc[usuarios['plan'] == 'surf', 'plan'].count()\n",
    "num_ultimante = usuarios.loc[usuarios['plan'] == 'ultimate', 'plan'].count()\n",
    "#presentamos los resultados para los valores guardados en las variables\n",
    "print('NÚMERO DE USUARIOS QUE SE ENCUENTRAN INSCRITOS EN EL PLAN \"SURF\":     ',num_surf )\n",
    "print('NÚMERO DE USUARIOS QUE SE ENCUENTRAN INSCRITOS EN EL PLAN \"ULTIMATE\": ',num_ultimante )\n",
    "print('PORCENTAJE DE USUARIOS CON EL PLAN SURF VS. PLAN ULTIMANTE:          ', \"{: .2%}\".format(num_surf/num_ultimante) )"
   ]
  },
  {
   "cell_type": "code",
   "execution_count": 826,
   "metadata": {},
   "outputs": [
    {
     "name": "stdout",
     "output_type": "stream",
     "text": [
      "INGRESOS EN EL PERIODO COMPRENDIDO DE UN AÑO PARA EL PLAN SURF:       $23,990,100.30\n",
      "INGRESOS EN EL PERIODO COMPRENDIDO DE UN AÑO PARA EL PLAN ULTIMANTE:  $11,046,016.54\n"
     ]
    }
   ],
   "source": [
    "#Vamos a identificar los ingresos generados por los 2 planes\n",
    "print('INGRESOS EN EL PERIODO COMPRENDIDO DE UN AÑO PARA EL PLAN SURF:      ', \"${:0,.2f}\".format(plan_surf['cargo_mes'].sum()))\n",
    "print('INGRESOS EN EL PERIODO COMPRENDIDO DE UN AÑO PARA EL PLAN ULTIMANTE: ', \"${:0,.2f}\".format(plan_ultimate['cargo_mes'].sum()))"
   ]
  },
  {
   "cell_type": "markdown",
   "metadata": {},
   "source": [
    "Ahora hagamos la razón entre el los ingresos totales y el número de usuarios en cada plan. Este indicador nos permitira entender lo que cada usuario en promedio genera al año por cada plan."
   ]
  },
  {
   "cell_type": "code",
   "execution_count": 827,
   "metadata": {},
   "outputs": [
    {
     "name": "stdout",
     "output_type": "stream",
     "text": [
      "CANTIDAD DE INGRESOS POR NÚMERO DE USUARIOS EN EL PLAN SURF:       $70,767.26\n",
      "CANTIDAD DE INGRESOS POR NÚMERO DE USUARIOS EN EL PLAN ULTIMANTE:  $68,608.80\n"
     ]
    }
   ],
   "source": [
    "#Identificación entre los ingresos totales y el número de usuarios en cada plan\n",
    "print('CANTIDAD DE INGRESOS POR NÚMERO DE USUARIOS EN EL PLAN SURF:      ', \"${:0,.2f}\".format(plan_surf['cargo_mes'].sum()/num_surf))\n",
    "print('CANTIDAD DE INGRESOS POR NÚMERO DE USUARIOS EN EL PLAN ULTIMANTE: ', \"${:0,.2f}\".format(plan_ultimate['cargo_mes'].sum()/num_ultimante))"
   ]
  },
  {
   "cell_type": "markdown",
   "metadata": {},
   "source": [
    "Los ingresos por mes para cada plan nos puede dar una idea de las oportunidades, para mejorar la oferta de la compañia."
   ]
  },
  {
   "cell_type": "code",
   "execution_count": 828,
   "metadata": {},
   "outputs": [
    {
     "name": "stdout",
     "output_type": "stream",
     "text": [
      "PLAN ULTIMATE FACTURADO POR MESES\n"
     ]
    },
    {
     "data": {
      "text/html": [
       "<div>\n",
       "<style scoped>\n",
       "    .dataframe tbody tr th:only-of-type {\n",
       "        vertical-align: middle;\n",
       "    }\n",
       "\n",
       "    .dataframe tbody tr th {\n",
       "        vertical-align: top;\n",
       "    }\n",
       "\n",
       "    .dataframe thead th {\n",
       "        text-align: right;\n",
       "    }\n",
       "</style>\n",
       "<table border=\"1\" class=\"dataframe\">\n",
       "  <thead>\n",
       "    <tr style=\"text-align: right;\">\n",
       "      <th></th>\n",
       "      <th>cargo_mes</th>\n",
       "    </tr>\n",
       "    <tr>\n",
       "      <th>mes</th>\n",
       "      <th></th>\n",
       "    </tr>\n",
       "  </thead>\n",
       "  <tbody>\n",
       "    <tr>\n",
       "      <th>Abril</th>\n",
       "      <td>3.226431e+05</td>\n",
       "    </tr>\n",
       "    <tr>\n",
       "      <th>Agosto</th>\n",
       "      <td>1.090832e+06</td>\n",
       "    </tr>\n",
       "    <tr>\n",
       "      <th>Diciembre</th>\n",
       "      <td>2.320017e+06</td>\n",
       "    </tr>\n",
       "    <tr>\n",
       "      <th>Enero</th>\n",
       "      <td>6.144000e+04</td>\n",
       "    </tr>\n",
       "    <tr>\n",
       "      <th>Febrero</th>\n",
       "      <td>1.075200e+05</td>\n",
       "    </tr>\n",
       "    <tr>\n",
       "      <th>Julio</th>\n",
       "      <td>9.063960e+05</td>\n",
       "    </tr>\n",
       "    <tr>\n",
       "      <th>Junio</th>\n",
       "      <td>7.220192e+05</td>\n",
       "    </tr>\n",
       "    <tr>\n",
       "      <th>Marzo</th>\n",
       "      <td>1.843782e+05</td>\n",
       "    </tr>\n",
       "    <tr>\n",
       "      <th>Mayo</th>\n",
       "      <td>4.454614e+05</td>\n",
       "    </tr>\n",
       "    <tr>\n",
       "      <th>Noviembre</th>\n",
       "      <td>1.951011e+06</td>\n",
       "    </tr>\n",
       "    <tr>\n",
       "      <th>Octubre</th>\n",
       "      <td>1.613117e+06</td>\n",
       "    </tr>\n",
       "    <tr>\n",
       "      <th>Septiembre</th>\n",
       "      <td>1.321183e+06</td>\n",
       "    </tr>\n",
       "  </tbody>\n",
       "</table>\n",
       "</div>"
      ],
      "text/plain": [
       "               cargo_mes\n",
       "mes                     \n",
       "Abril       3.226431e+05\n",
       "Agosto      1.090832e+06\n",
       "Diciembre   2.320017e+06\n",
       "Enero       6.144000e+04\n",
       "Febrero     1.075200e+05\n",
       "Julio       9.063960e+05\n",
       "Junio       7.220192e+05\n",
       "Marzo       1.843782e+05\n",
       "Mayo        4.454614e+05\n",
       "Noviembre   1.951011e+06\n",
       "Octubre     1.613117e+06\n",
       "Septiembre  1.321183e+06"
      ]
     },
     "execution_count": 828,
     "metadata": {},
     "output_type": "execute_result"
    }
   ],
   "source": [
    "#Creamos una tabla dinámica para obtener la információn de lo facturado por mes para \n",
    "#el plan ULTIMATE\n",
    "print('PLAN ULTIMATE FACTURADO POR MESES')\n",
    "meses_ultimate = plan_ultimate.pivot_table(index='mes', values ='cargo_mes', aggfunc='sum')\n",
    "meses_ultimate"
   ]
  },
  {
   "cell_type": "code",
   "execution_count": 829,
   "metadata": {},
   "outputs": [
    {
     "name": "stdout",
     "output_type": "stream",
     "text": [
      "PLAN SURF FACTURADO POR MESES\n"
     ]
    },
    {
     "data": {
      "text/html": [
       "<div>\n",
       "<style scoped>\n",
       "    .dataframe tbody tr th:only-of-type {\n",
       "        vertical-align: middle;\n",
       "    }\n",
       "\n",
       "    .dataframe tbody tr th {\n",
       "        vertical-align: top;\n",
       "    }\n",
       "\n",
       "    .dataframe thead th {\n",
       "        text-align: right;\n",
       "    }\n",
       "</style>\n",
       "<table border=\"1\" class=\"dataframe\">\n",
       "  <thead>\n",
       "    <tr style=\"text-align: right;\">\n",
       "      <th></th>\n",
       "      <th>cargo_mes</th>\n",
       "    </tr>\n",
       "    <tr>\n",
       "      <th>mes</th>\n",
       "      <th></th>\n",
       "    </tr>\n",
       "  </thead>\n",
       "  <tbody>\n",
       "    <tr>\n",
       "      <th>Abril</th>\n",
       "      <td>7.535917e+05</td>\n",
       "    </tr>\n",
       "    <tr>\n",
       "      <th>Agosto</th>\n",
       "      <td>2.448878e+06</td>\n",
       "    </tr>\n",
       "    <tr>\n",
       "      <th>Diciembre</th>\n",
       "      <td>4.883999e+06</td>\n",
       "    </tr>\n",
       "    <tr>\n",
       "      <th>Enero</th>\n",
       "      <td>3.072000e+04</td>\n",
       "    </tr>\n",
       "    <tr>\n",
       "      <th>Febrero</th>\n",
       "      <td>1.383583e+05</td>\n",
       "    </tr>\n",
       "    <tr>\n",
       "      <th>Julio</th>\n",
       "      <td>1.847991e+06</td>\n",
       "    </tr>\n",
       "    <tr>\n",
       "      <th>Junio</th>\n",
       "      <td>1.461743e+06</td>\n",
       "    </tr>\n",
       "    <tr>\n",
       "      <th>Marzo</th>\n",
       "      <td>3.538258e+05</td>\n",
       "    </tr>\n",
       "    <tr>\n",
       "      <th>Mayo</th>\n",
       "      <td>1.169342e+06</td>\n",
       "    </tr>\n",
       "    <tr>\n",
       "      <th>Noviembre</th>\n",
       "      <td>4.326143e+06</td>\n",
       "    </tr>\n",
       "    <tr>\n",
       "      <th>Octubre</th>\n",
       "      <td>3.604194e+06</td>\n",
       "    </tr>\n",
       "    <tr>\n",
       "      <th>Septiembre</th>\n",
       "      <td>2.971314e+06</td>\n",
       "    </tr>\n",
       "  </tbody>\n",
       "</table>\n",
       "</div>"
      ],
      "text/plain": [
       "               cargo_mes\n",
       "mes                     \n",
       "Abril       7.535917e+05\n",
       "Agosto      2.448878e+06\n",
       "Diciembre   4.883999e+06\n",
       "Enero       3.072000e+04\n",
       "Febrero     1.383583e+05\n",
       "Julio       1.847991e+06\n",
       "Junio       1.461743e+06\n",
       "Marzo       3.538258e+05\n",
       "Mayo        1.169342e+06\n",
       "Noviembre   4.326143e+06\n",
       "Octubre     3.604194e+06\n",
       "Septiembre  2.971314e+06"
      ]
     },
     "execution_count": 829,
     "metadata": {},
     "output_type": "execute_result"
    }
   ],
   "source": [
    "#Creamos una tabla dinámica para obtener la információn de lo facturado por mes para \n",
    "#el plan SURF\n",
    "print('PLAN SURF FACTURADO POR MESES')\n",
    "meses_surf = plan_surf.pivot_table(index='mes', values ='cargo_mes', aggfunc='sum')\n",
    "meses_surf"
   ]
  },
  {
   "cell_type": "markdown",
   "metadata": {},
   "source": [
    "Hagamos una gráfica comparativa para poder observar el comportamiento entre los dos planes. Usando la información de las 2 tablas dinámicas, para tal efecto, pasamos a realizar una función de ambas tablas y sobre esta tabla realizamos la gráfica comparativa."
   ]
  },
  {
   "cell_type": "code",
   "execution_count": 830,
   "metadata": {},
   "outputs": [
    {
     "data": {
      "text/html": [
       "<div>\n",
       "<style scoped>\n",
       "    .dataframe tbody tr th:only-of-type {\n",
       "        vertical-align: middle;\n",
       "    }\n",
       "\n",
       "    .dataframe tbody tr th {\n",
       "        vertical-align: top;\n",
       "    }\n",
       "\n",
       "    .dataframe thead th {\n",
       "        text-align: right;\n",
       "    }\n",
       "</style>\n",
       "<table border=\"1\" class=\"dataframe\">\n",
       "  <thead>\n",
       "    <tr style=\"text-align: right;\">\n",
       "      <th></th>\n",
       "      <th>cargo_mes_x</th>\n",
       "      <th>cargo_mes_y</th>\n",
       "    </tr>\n",
       "    <tr>\n",
       "      <th>mes</th>\n",
       "      <th></th>\n",
       "      <th></th>\n",
       "    </tr>\n",
       "  </thead>\n",
       "  <tbody>\n",
       "    <tr>\n",
       "      <th>Abril</th>\n",
       "      <td>3.226431e+05</td>\n",
       "      <td>7.535917e+05</td>\n",
       "    </tr>\n",
       "    <tr>\n",
       "      <th>Agosto</th>\n",
       "      <td>1.090832e+06</td>\n",
       "      <td>2.448878e+06</td>\n",
       "    </tr>\n",
       "    <tr>\n",
       "      <th>Diciembre</th>\n",
       "      <td>2.320017e+06</td>\n",
       "      <td>4.883999e+06</td>\n",
       "    </tr>\n",
       "    <tr>\n",
       "      <th>Enero</th>\n",
       "      <td>6.144000e+04</td>\n",
       "      <td>3.072000e+04</td>\n",
       "    </tr>\n",
       "    <tr>\n",
       "      <th>Febrero</th>\n",
       "      <td>1.075200e+05</td>\n",
       "      <td>1.383583e+05</td>\n",
       "    </tr>\n",
       "    <tr>\n",
       "      <th>Julio</th>\n",
       "      <td>9.063960e+05</td>\n",
       "      <td>1.847991e+06</td>\n",
       "    </tr>\n",
       "    <tr>\n",
       "      <th>Junio</th>\n",
       "      <td>7.220192e+05</td>\n",
       "      <td>1.461743e+06</td>\n",
       "    </tr>\n",
       "    <tr>\n",
       "      <th>Marzo</th>\n",
       "      <td>1.843782e+05</td>\n",
       "      <td>3.538258e+05</td>\n",
       "    </tr>\n",
       "    <tr>\n",
       "      <th>Mayo</th>\n",
       "      <td>4.454614e+05</td>\n",
       "      <td>1.169342e+06</td>\n",
       "    </tr>\n",
       "    <tr>\n",
       "      <th>Noviembre</th>\n",
       "      <td>1.951011e+06</td>\n",
       "      <td>4.326143e+06</td>\n",
       "    </tr>\n",
       "    <tr>\n",
       "      <th>Octubre</th>\n",
       "      <td>1.613117e+06</td>\n",
       "      <td>3.604194e+06</td>\n",
       "    </tr>\n",
       "    <tr>\n",
       "      <th>Septiembre</th>\n",
       "      <td>1.321183e+06</td>\n",
       "      <td>2.971314e+06</td>\n",
       "    </tr>\n",
       "  </tbody>\n",
       "</table>\n",
       "</div>"
      ],
      "text/plain": [
       "             cargo_mes_x   cargo_mes_y\n",
       "mes                                   \n",
       "Abril       3.226431e+05  7.535917e+05\n",
       "Agosto      1.090832e+06  2.448878e+06\n",
       "Diciembre   2.320017e+06  4.883999e+06\n",
       "Enero       6.144000e+04  3.072000e+04\n",
       "Febrero     1.075200e+05  1.383583e+05\n",
       "Julio       9.063960e+05  1.847991e+06\n",
       "Junio       7.220192e+05  1.461743e+06\n",
       "Marzo       1.843782e+05  3.538258e+05\n",
       "Mayo        4.454614e+05  1.169342e+06\n",
       "Noviembre   1.951011e+06  4.326143e+06\n",
       "Octubre     1.613117e+06  3.604194e+06\n",
       "Septiembre  1.321183e+06  2.971314e+06"
      ]
     },
     "execution_count": 830,
     "metadata": {},
     "output_type": "execute_result"
    }
   ],
   "source": [
    "#implantamos las dos tablas en una, para unificar la información\n",
    "meses_plan = meses_ultimate.merge(right=meses_surf, on='mes', how='right')\n",
    "meses_plan"
   ]
  },
  {
   "cell_type": "code",
   "execution_count": 831,
   "metadata": {},
   "outputs": [
    {
     "data": {
      "image/png": "[encoded data removed]",
      "text/plain": [
       "<Figure size 432x288 with 1 Axes>"
      ]
     },
     "metadata": {
      "needs_background": "light"
     },
     "output_type": "display_data"
    }
   ],
   "source": [
    "#usando los valores de la tabla construimos un diagrama de barras para el plan SURF\n",
    "variableyS=meses_plan.reset_index()['cargo_mes_y']\n",
    "variablexS = meses_plan.reset_index()['mes']\n",
    "sns.barplot(x=variablexS, y=variableyS, alpha=0.7, label=\"SURF\", color=\"skyblue\")\n",
    "\n",
    "#usando los valores de la tabla construimos un diagrama de barras para el plan ULTIMATE\n",
    "variableyU=meses_plan.reset_index()['cargo_mes_x']\n",
    "variablexU = meses_plan.reset_index()['mes']\n",
    "sns.barplot(x=variablexU, y=variableyU, alpha=0.7, label=\"ULTIMATE\", color=\"gold\")\n",
    "\n",
    "#desplegamos ambos planes en una gráfica y visualizamos la comparación\n",
    "plt.title('COMPARATIVO DE LO FACTURADO POR MES PARA CADA PLAN')\n",
    "plt.xlabel('mes del año')\n",
    "plt.ylabel('cargo')\n",
    "plt.grid(True)\n",
    "plt.legend()\n",
    "plt.xticks(rotation=45)\n",
    "plt.show()"
   ]
  },
  {
   "cell_type": "markdown",
   "metadata": {},
   "source": [
    "<a id='EDA32'></a>\n",
    "###  Consumos de los diferentes servicios por parte de los clientes. "
   ]
  },
  {
   "cell_type": "markdown",
   "metadata": {},
   "source": [
    "Para configurar una medición de calidad con la que los planes satisfacen las necesidades de los clientes, será necesario partir de la evidencia que nos puede proporcionar actualmente nuestra muestra de datos. Para lograrlo debemos medir el consumo de los diferentes servicios y compararlo posteriormente con una métrica que mida el desempeño de los 2 planes servicios."
   ]
  },
  {
   "cell_type": "code",
   "execution_count": 832,
   "metadata": {},
   "outputs": [
    {
     "data": {
      "text/html": [
       "<div>\n",
       "<style scoped>\n",
       "    .dataframe tbody tr th:only-of-type {\n",
       "        vertical-align: middle;\n",
       "    }\n",
       "\n",
       "    .dataframe tbody tr th {\n",
       "        vertical-align: top;\n",
       "    }\n",
       "\n",
       "    .dataframe thead th {\n",
       "        text-align: right;\n",
       "    }\n",
       "</style>\n",
       "<table border=\"1\" class=\"dataframe\">\n",
       "  <thead>\n",
       "    <tr style=\"text-align: right;\">\n",
       "      <th></th>\n",
       "      <th>duration</th>\n",
       "      <th>mensajes</th>\n",
       "      <th>volumen_datos</th>\n",
       "    </tr>\n",
       "    <tr>\n",
       "      <th>mes</th>\n",
       "      <th></th>\n",
       "      <th></th>\n",
       "      <th></th>\n",
       "    </tr>\n",
       "  </thead>\n",
       "  <tbody>\n",
       "    <tr>\n",
       "      <th>Abril</th>\n",
       "      <td>17533.0</td>\n",
       "      <td>864.0</td>\n",
       "      <td>599210.15</td>\n",
       "    </tr>\n",
       "    <tr>\n",
       "      <th>Agosto</th>\n",
       "      <td>65799.0</td>\n",
       "      <td>4439.0</td>\n",
       "      <td>2720843.68</td>\n",
       "    </tr>\n",
       "    <tr>\n",
       "      <th>Diciembre</th>\n",
       "      <td>150088.0</td>\n",
       "      <td>11731.0</td>\n",
       "      <td>5766125.26</td>\n",
       "    </tr>\n",
       "    <tr>\n",
       "      <th>Enero</th>\n",
       "      <td>406.0</td>\n",
       "      <td>21.0</td>\n",
       "      <td>9749.72</td>\n",
       "    </tr>\n",
       "    <tr>\n",
       "      <th>Febrero</th>\n",
       "      <td>2673.0</td>\n",
       "      <td>108.0</td>\n",
       "      <td>109609.59</td>\n",
       "    </tr>\n",
       "    <tr>\n",
       "      <th>Julio</th>\n",
       "      <td>53924.0</td>\n",
       "      <td>3096.0</td>\n",
       "      <td>2030815.67</td>\n",
       "    </tr>\n",
       "    <tr>\n",
       "      <th>Junio</th>\n",
       "      <td>41257.0</td>\n",
       "      <td>2292.0</td>\n",
       "      <td>1484248.33</td>\n",
       "    </tr>\n",
       "    <tr>\n",
       "      <th>Marzo</th>\n",
       "      <td>7590.0</td>\n",
       "      <td>351.0</td>\n",
       "      <td>306945.12</td>\n",
       "    </tr>\n",
       "    <tr>\n",
       "      <th>Mayo</th>\n",
       "      <td>30528.0</td>\n",
       "      <td>1778.0</td>\n",
       "      <td>1073099.33</td>\n",
       "    </tr>\n",
       "    <tr>\n",
       "      <th>Noviembre</th>\n",
       "      <td>119131.0</td>\n",
       "      <td>8739.0</td>\n",
       "      <td>4624009.00</td>\n",
       "    </tr>\n",
       "    <tr>\n",
       "      <th>Octubre</th>\n",
       "      <td>100875.0</td>\n",
       "      <td>7507.0</td>\n",
       "      <td>4102786.41</td>\n",
       "    </tr>\n",
       "    <tr>\n",
       "      <th>Septiembre</th>\n",
       "      <td>79889.0</td>\n",
       "      <td>5672.0</td>\n",
       "      <td>3218737.67</td>\n",
       "    </tr>\n",
       "  </tbody>\n",
       "</table>\n",
       "</div>"
      ],
      "text/plain": [
       "            duration  mensajes  volumen_datos\n",
       "mes                                          \n",
       "Abril        17533.0     864.0      599210.15\n",
       "Agosto       65799.0    4439.0     2720843.68\n",
       "Diciembre   150088.0   11731.0     5766125.26\n",
       "Enero          406.0      21.0        9749.72\n",
       "Febrero       2673.0     108.0      109609.59\n",
       "Julio        53924.0    3096.0     2030815.67\n",
       "Junio        41257.0    2292.0     1484248.33\n",
       "Marzo         7590.0     351.0      306945.12\n",
       "Mayo         30528.0    1778.0     1073099.33\n",
       "Noviembre   119131.0    8739.0     4624009.00\n",
       "Octubre     100875.0    7507.0     4102786.41\n",
       "Septiembre   79889.0    5672.0     3218737.67"
      ]
     },
     "execution_count": 832,
     "metadata": {},
     "output_type": "execute_result"
    }
   ],
   "source": [
    "#Busquemos los estadísticos de consumo de los datos, mensajes y llamadas \n",
    "#por mes, por medio de una tabla dinámica que agrupe el consumo de todos los usuarios\n",
    "\n",
    "#PARA EL PLAN SURF\n",
    "consumo_usu_surf = plan_surf.pivot_table(index ='mes', \n",
    "                                         values = ['duration', 'mensajes', 'volumen_datos'],\n",
    "                                         aggfunc= 'sum')\n",
    "consumo_usu_surf"
   ]
  },
  {
   "cell_type": "code",
   "execution_count": 833,
   "metadata": {},
   "outputs": [
    {
     "data": {
      "text/html": [
       "<div>\n",
       "<style scoped>\n",
       "    .dataframe tbody tr th:only-of-type {\n",
       "        vertical-align: middle;\n",
       "    }\n",
       "\n",
       "    .dataframe tbody tr th {\n",
       "        vertical-align: top;\n",
       "    }\n",
       "\n",
       "    .dataframe thead th {\n",
       "        text-align: right;\n",
       "    }\n",
       "</style>\n",
       "<table border=\"1\" class=\"dataframe\">\n",
       "  <thead>\n",
       "    <tr style=\"text-align: right;\">\n",
       "      <th></th>\n",
       "      <th>duration</th>\n",
       "      <th>mensajes</th>\n",
       "      <th>volumen_datos</th>\n",
       "    </tr>\n",
       "  </thead>\n",
       "  <tbody>\n",
       "    <tr>\n",
       "      <th>count</th>\n",
       "      <td>12.000000</td>\n",
       "      <td>12.000000</td>\n",
       "      <td>1.200000e+01</td>\n",
       "    </tr>\n",
       "    <tr>\n",
       "      <th>mean</th>\n",
       "      <td>55807.750000</td>\n",
       "      <td>3883.166667</td>\n",
       "      <td>2.170515e+06</td>\n",
       "    </tr>\n",
       "    <tr>\n",
       "      <th>std</th>\n",
       "      <td>48753.825299</td>\n",
       "      <td>3815.656761</td>\n",
       "      <td>1.922032e+06</td>\n",
       "    </tr>\n",
       "    <tr>\n",
       "      <th>min</th>\n",
       "      <td>406.000000</td>\n",
       "      <td>21.000000</td>\n",
       "      <td>9.749720e+03</td>\n",
       "    </tr>\n",
       "    <tr>\n",
       "      <th>25%</th>\n",
       "      <td>15047.250000</td>\n",
       "      <td>735.750000</td>\n",
       "      <td>5.261439e+05</td>\n",
       "    </tr>\n",
       "    <tr>\n",
       "      <th>50%</th>\n",
       "      <td>47590.500000</td>\n",
       "      <td>2694.000000</td>\n",
       "      <td>1.757532e+06</td>\n",
       "    </tr>\n",
       "    <tr>\n",
       "      <th>75%</th>\n",
       "      <td>85135.500000</td>\n",
       "      <td>6130.750000</td>\n",
       "      <td>3.439750e+06</td>\n",
       "    </tr>\n",
       "    <tr>\n",
       "      <th>max</th>\n",
       "      <td>150088.000000</td>\n",
       "      <td>11731.000000</td>\n",
       "      <td>5.766125e+06</td>\n",
       "    </tr>\n",
       "  </tbody>\n",
       "</table>\n",
       "</div>"
      ],
      "text/plain": [
       "            duration      mensajes  volumen_datos\n",
       "count      12.000000     12.000000   1.200000e+01\n",
       "mean    55807.750000   3883.166667   2.170515e+06\n",
       "std     48753.825299   3815.656761   1.922032e+06\n",
       "min       406.000000     21.000000   9.749720e+03\n",
       "25%     15047.250000    735.750000   5.261439e+05\n",
       "50%     47590.500000   2694.000000   1.757532e+06\n",
       "75%     85135.500000   6130.750000   3.439750e+06\n",
       "max    150088.000000  11731.000000   5.766125e+06"
      ]
     },
     "execution_count": 833,
     "metadata": {},
     "output_type": "execute_result"
    }
   ],
   "source": [
    "#vamos a mostrar la media, moda, la varianza y la desviación estándar.\n",
    "consumo_usu_surf.describe()"
   ]
  },
  {
   "cell_type": "code",
   "execution_count": 834,
   "metadata": {},
   "outputs": [
    {
     "data": {
      "text/html": [
       "<div>\n",
       "<style scoped>\n",
       "    .dataframe tbody tr th:only-of-type {\n",
       "        vertical-align: middle;\n",
       "    }\n",
       "\n",
       "    .dataframe tbody tr th {\n",
       "        vertical-align: top;\n",
       "    }\n",
       "\n",
       "    .dataframe thead th {\n",
       "        text-align: right;\n",
       "    }\n",
       "</style>\n",
       "<table border=\"1\" class=\"dataframe\">\n",
       "  <thead>\n",
       "    <tr style=\"text-align: right;\">\n",
       "      <th></th>\n",
       "      <th>duration</th>\n",
       "      <th>mensajes</th>\n",
       "      <th>volumen_datos</th>\n",
       "    </tr>\n",
       "    <tr>\n",
       "      <th>mes</th>\n",
       "      <th></th>\n",
       "      <th></th>\n",
       "      <th></th>\n",
       "    </tr>\n",
       "  </thead>\n",
       "  <tbody>\n",
       "    <tr>\n",
       "      <th>Abril</th>\n",
       "      <td>7074.0</td>\n",
       "      <td>463.0</td>\n",
       "      <td>338554.75</td>\n",
       "    </tr>\n",
       "    <tr>\n",
       "      <th>Agosto</th>\n",
       "      <td>29922.0</td>\n",
       "      <td>2732.0</td>\n",
       "      <td>1264845.13</td>\n",
       "    </tr>\n",
       "    <tr>\n",
       "      <th>Diciembre</th>\n",
       "      <td>69324.0</td>\n",
       "      <td>6718.0</td>\n",
       "      <td>2766801.97</td>\n",
       "    </tr>\n",
       "    <tr>\n",
       "      <th>Enero</th>\n",
       "      <td>774.0</td>\n",
       "      <td>62.0</td>\n",
       "      <td>27672.37</td>\n",
       "    </tr>\n",
       "    <tr>\n",
       "      <th>Febrero</th>\n",
       "      <td>2822.0</td>\n",
       "      <td>139.0</td>\n",
       "      <td>119901.66</td>\n",
       "    </tr>\n",
       "    <tr>\n",
       "      <th>Julio</th>\n",
       "      <td>25197.0</td>\n",
       "      <td>1937.0</td>\n",
       "      <td>964339.92</td>\n",
       "    </tr>\n",
       "    <tr>\n",
       "      <th>Junio</th>\n",
       "      <td>17435.0</td>\n",
       "      <td>1374.0</td>\n",
       "      <td>720882.29</td>\n",
       "    </tr>\n",
       "    <tr>\n",
       "      <th>Marzo</th>\n",
       "      <td>3651.0</td>\n",
       "      <td>243.0</td>\n",
       "      <td>219858.22</td>\n",
       "    </tr>\n",
       "    <tr>\n",
       "      <th>Mayo</th>\n",
       "      <td>11781.0</td>\n",
       "      <td>931.0</td>\n",
       "      <td>482109.99</td>\n",
       "    </tr>\n",
       "    <tr>\n",
       "      <th>Noviembre</th>\n",
       "      <td>56540.0</td>\n",
       "      <td>4861.0</td>\n",
       "      <td>2163278.04</td>\n",
       "    </tr>\n",
       "    <tr>\n",
       "      <th>Octubre</th>\n",
       "      <td>47778.0</td>\n",
       "      <td>4179.0</td>\n",
       "      <td>1866930.66</td>\n",
       "    </tr>\n",
       "    <tr>\n",
       "      <th>Septiembre</th>\n",
       "      <td>37626.0</td>\n",
       "      <td>3259.0</td>\n",
       "      <td>1459408.78</td>\n",
       "    </tr>\n",
       "  </tbody>\n",
       "</table>\n",
       "</div>"
      ],
      "text/plain": [
       "            duration  mensajes  volumen_datos\n",
       "mes                                          \n",
       "Abril         7074.0     463.0      338554.75\n",
       "Agosto       29922.0    2732.0     1264845.13\n",
       "Diciembre    69324.0    6718.0     2766801.97\n",
       "Enero          774.0      62.0       27672.37\n",
       "Febrero       2822.0     139.0      119901.66\n",
       "Julio        25197.0    1937.0      964339.92\n",
       "Junio        17435.0    1374.0      720882.29\n",
       "Marzo         3651.0     243.0      219858.22\n",
       "Mayo         11781.0     931.0      482109.99\n",
       "Noviembre    56540.0    4861.0     2163278.04\n",
       "Octubre      47778.0    4179.0     1866930.66\n",
       "Septiembre   37626.0    3259.0     1459408.78"
      ]
     },
     "execution_count": 834,
     "metadata": {},
     "output_type": "execute_result"
    }
   ],
   "source": [
    "#PARA EL PLAN ULTIMATE\n",
    "consumo_usu_ultimate = plan_ultimate.pivot_table(index ='mes', \n",
    "                                         values = ['duration', 'mensajes', 'volumen_datos'],\n",
    "                                         aggfunc= 'sum')\n",
    "consumo_usu_ultimate"
   ]
  },
  {
   "cell_type": "code",
   "execution_count": 835,
   "metadata": {},
   "outputs": [
    {
     "data": {
      "text/html": [
       "<div>\n",
       "<style scoped>\n",
       "    .dataframe tbody tr th:only-of-type {\n",
       "        vertical-align: middle;\n",
       "    }\n",
       "\n",
       "    .dataframe tbody tr th {\n",
       "        vertical-align: top;\n",
       "    }\n",
       "\n",
       "    .dataframe thead th {\n",
       "        text-align: right;\n",
       "    }\n",
       "</style>\n",
       "<table border=\"1\" class=\"dataframe\">\n",
       "  <thead>\n",
       "    <tr style=\"text-align: right;\">\n",
       "      <th></th>\n",
       "      <th>duration</th>\n",
       "      <th>mensajes</th>\n",
       "      <th>volumen_datos</th>\n",
       "    </tr>\n",
       "  </thead>\n",
       "  <tbody>\n",
       "    <tr>\n",
       "      <th>count</th>\n",
       "      <td>12.000000</td>\n",
       "      <td>12.000000</td>\n",
       "      <td>1.200000e+01</td>\n",
       "    </tr>\n",
       "    <tr>\n",
       "      <th>mean</th>\n",
       "      <td>25827.000000</td>\n",
       "      <td>2241.500000</td>\n",
       "      <td>1.032882e+06</td>\n",
       "    </tr>\n",
       "    <tr>\n",
       "      <th>std</th>\n",
       "      <td>22846.433388</td>\n",
       "      <td>2149.442063</td>\n",
       "      <td>8.846217e+05</td>\n",
       "    </tr>\n",
       "    <tr>\n",
       "      <th>min</th>\n",
       "      <td>774.000000</td>\n",
       "      <td>62.000000</td>\n",
       "      <td>2.767237e+04</td>\n",
       "    </tr>\n",
       "    <tr>\n",
       "      <th>25%</th>\n",
       "      <td>6218.250000</td>\n",
       "      <td>408.000000</td>\n",
       "      <td>3.088806e+05</td>\n",
       "    </tr>\n",
       "    <tr>\n",
       "      <th>50%</th>\n",
       "      <td>21316.000000</td>\n",
       "      <td>1655.500000</td>\n",
       "      <td>8.426111e+05</td>\n",
       "    </tr>\n",
       "    <tr>\n",
       "      <th>75%</th>\n",
       "      <td>40164.000000</td>\n",
       "      <td>3489.000000</td>\n",
       "      <td>1.561289e+06</td>\n",
       "    </tr>\n",
       "    <tr>\n",
       "      <th>max</th>\n",
       "      <td>69324.000000</td>\n",
       "      <td>6718.000000</td>\n",
       "      <td>2.766802e+06</td>\n",
       "    </tr>\n",
       "  </tbody>\n",
       "</table>\n",
       "</div>"
      ],
      "text/plain": [
       "           duration     mensajes  volumen_datos\n",
       "count     12.000000    12.000000   1.200000e+01\n",
       "mean   25827.000000  2241.500000   1.032882e+06\n",
       "std    22846.433388  2149.442063   8.846217e+05\n",
       "min      774.000000    62.000000   2.767237e+04\n",
       "25%     6218.250000   408.000000   3.088806e+05\n",
       "50%    21316.000000  1655.500000   8.426111e+05\n",
       "75%    40164.000000  3489.000000   1.561289e+06\n",
       "max    69324.000000  6718.000000   2.766802e+06"
      ]
     },
     "execution_count": 835,
     "metadata": {},
     "output_type": "execute_result"
    }
   ],
   "source": [
    "#vamos a mostrar la media, moda, la varianza y la desviación estándar.\n",
    "consumo_usu_ultimate.describe()"
   ]
  },
  {
   "cell_type": "markdown",
   "metadata": {},
   "source": [
    "<a id='EDA33'></a> \n",
    "### Descripción de las distribuciones.\n"
   ]
  },
  {
   "cell_type": "markdown",
   "metadata": {},
   "source": [
    "Tenemos una tabla de una serie de variables las cuales son 'duration', 'volumen_datos' y 'mensajes', para realizar el histograma de cada uno de ellos tenemos que tener encuenta de que se tratan de como variables aleatorias continuas como son 'duration' y 'volumen_datos'. Por otra parte 'mensajes' es denotada como una variable aleatorio discreta.\n",
    "\n",
    "Los histogramas de frecuencia a menudo no muestran la distribución de una variable continua, ya que la frecuencia con la que los valores caen dentro de intervalos particulares es muy sensible a los límites de los intervalos. Tenemos que usar la opción de los histogramas de densidad de frecuencias."
   ]
  },
  {
   "cell_type": "markdown",
   "metadata": {},
   "source": [
    "Vamos a realizar la traza de los histogramas, usando un ciclo **for** junto con un **diccionario** para automatizar el procedimiento y acortar e código."
   ]
  },
  {
   "cell_type": "code",
   "execution_count": 836,
   "metadata": {},
   "outputs": [
    {
     "data": {
      "image/png": "[encoded data removed]",
      "text/plain": [
       "<Figure size 432x288 with 1 Axes>"
      ]
     },
     "metadata": {
      "needs_background": "light"
     },
     "output_type": "display_data"
    },
    {
     "data": {
      "image/png": "[encoded data removed]",
      "text/plain": [
       "<Figure size 432x288 with 1 Axes>"
      ]
     },
     "metadata": {
      "needs_background": "light"
     },
     "output_type": "display_data"
    },
    {
     "data": {
      "image/png": "[encoded data removed]",
      "text/plain": [
       "<Figure size 432x288 with 1 Axes>"
      ]
     },
     "metadata": {
      "needs_background": "light"
     },
     "output_type": "display_data"
    },
    {
     "data": {
      "image/png": "[encoded data removed]",
      "text/plain": [
       "<Figure size 432x288 with 1 Axes>"
      ]
     },
     "metadata": {
      "needs_background": "light"
     },
     "output_type": "display_data"
    },
    {
     "data": {
      "image/png": "[encoded data removed]",
      "text/plain": [
       "<Figure size 432x288 with 1 Axes>"
      ]
     },
     "metadata": {
      "needs_background": "light"
     },
     "output_type": "display_data"
    },
    {
     "data": {
      "image/png": "[encoded data removed]",
      "text/plain": [
       "<Figure size 432x288 with 1 Axes>"
      ]
     },
     "metadata": {
      "needs_background": "light"
     },
     "output_type": "display_data"
    }
   ],
   "source": [
    "#podremos las listas de variables de que son las columnas de los tablas dinámicas que resumian\n",
    "#las tendencias de consumo de los usuarios por mes separadas por plan de tarifas de prepago.\n",
    "lista_variables =['duration', 'mensajes', 'volumen_datos']\n",
    "#creamos el diccionario para identificar a cada tabla dinámica con la información que \n",
    "#lleva cada plan de tarifa de prepago\n",
    "dic_plan = {'ULTIMATE': consumo_usu_ultimate, 'SURF': consumo_usu_surf}\n",
    "for key_name, dict_value in dic_plan.items():\n",
    "    for var in lista_variables:\n",
    "        if key_name == 'ULTIMATE':\n",
    "            sns.kdeplot(data=dict_value, x= var)\n",
    "            sns.kdeplot(data=dict_value, x= var, color=\"red\")\n",
    "            sns.histplot(data=dict_value, x=var, stat=\"density\", color= 'chocolate')     \n",
    "            plt.title('HISTOGRAMA PARA EL PLAN ULTIMATE')\n",
    "        if key_name == 'SURF':\n",
    "            sns.kdeplot(data=dict_value, x= var)\n",
    "            sns.kdeplot(data=dict_value, x= var, color=\"red\")\n",
    "            sns.histplot(data=dict_value, x=var, stat=\"density\", color= 'forestgreen')\n",
    "            plt.title('HISTOGRAMA PARA EL PLAN SURF')\n",
    "        plt.xlabel(var) \n",
    "        plt.ylabel('frecuencia')\n",
    "        plt.grid(True)\n",
    "        plt.show()"
   ]
  },
  {
   "cell_type": "markdown",
   "metadata": {},
   "source": [
    "La distribución de las variables se observa a una tendencia a una  distribución Gamma. Usemos dicha distribución para buscar ajustar lo más posible a la evidencia de los histogramas anteriores."
   ]
  },
  {
   "cell_type": "code",
   "execution_count": 837,
   "metadata": {},
   "outputs": [],
   "source": [
    "#definimos una función para la posterior traza de la funcion de densidad Gamma \n",
    "def gamma_density(x: List[float], alpha: float = 1, \n",
    "                  loc: float = 0, scale: float = 1) -> List[float]:\n",
    "    gamma_pdfs = []\n",
    "    for x_eval in x:\n",
    "        pdf = gamma.pdf(x_eval, alpha, loc, scale)\n",
    "        gamma_pdfs.append(pdf)\n",
    "    return gamma_pdfs"
   ]
  },
  {
   "cell_type": "markdown",
   "metadata": {},
   "source": [
    "Para determinar los parametros de las funciones de distribución que se ajusten lo mejor posible a los histogramas procedemos a ajustar nuevamente de forma parecida el dibujo de los histogramas con sus correspondientes funciones de distribución propuestas, finalmente ajustadas con los histogramas."
   ]
  },
  {
   "cell_type": "code",
   "execution_count": 838,
   "metadata": {},
   "outputs": [],
   "source": [
    "#creamos lista para guardar información de los ajustes de la funciones de Gamma\n",
    "columnas = ['plan','variable','alfa', 'loc', 'escale']\n",
    "plan_lista=[]\n",
    "variable_lista=[]\n",
    "alfa_lista = []\n",
    "loc_lista = []\n",
    "escale_lista = []"
   ]
  },
  {
   "cell_type": "code",
   "execution_count": 839,
   "metadata": {},
   "outputs": [
    {
     "data": {
      "image/png": "[encoded data removed]",
      "text/plain": [
       "<Figure size 432x288 with 1 Axes>"
      ]
     },
     "metadata": {
      "needs_background": "light"
     },
     "output_type": "display_data"
    },
    {
     "data": {
      "image/png": "[encoded data removed]",
      "text/plain": [
       "<Figure size 432x288 with 1 Axes>"
      ]
     },
     "metadata": {
      "needs_background": "light"
     },
     "output_type": "display_data"
    },
    {
     "data": {
      "image/png": "[encoded data removed]",
      "text/plain": [
       "<Figure size 432x288 with 1 Axes>"
      ]
     },
     "metadata": {
      "needs_background": "light"
     },
     "output_type": "display_data"
    },
    {
     "data": {
      "image/png": "[encoded data removed]",
      "text/plain": [
       "<Figure size 432x288 with 1 Axes>"
      ]
     },
     "metadata": {
      "needs_background": "light"
     },
     "output_type": "display_data"
    },
    {
     "data": {
      "image/png": "[encoded data removed]",
      "text/plain": [
       "<Figure size 432x288 with 1 Axes>"
      ]
     },
     "metadata": {
      "needs_background": "light"
     },
     "output_type": "display_data"
    },
    {
     "data": {
      "image/png": "[encoded data removed]",
      "text/plain": [
       "<Figure size 432x288 with 1 Axes>"
      ]
     },
     "metadata": {
      "needs_background": "light"
     },
     "output_type": "display_data"
    }
   ],
   "source": [
    "#para dibujar los histogramas con sus correspondientes funciones de distribución ajustadas \n",
    "#volveremos usar el mismo diccionario con el que trazamos los histogramas inicialmente.\n",
    "for key_name, dict_value in dic_plan.items():\n",
    "    for var in lista_variables:\n",
    "#realizamos el intervalo de graficación para el eje horizontal        \n",
    "        x_accel = np.linspace(dict_value[var].min(), dict_value[var].max(), 100)\n",
    "#calculamos los parámetros alfa y scale de la función de distribución Gamma\n",
    "        alpha_est = (dict_value[var].mean() / dict_value[var].std())**2\n",
    "        scale_est = dict_value[var].var() / dict_value[var].mean()\n",
    "#guardamos en una list los valores cada uno de los parámetros obtenidos\n",
    "        plan_lista.append(key_name)\n",
    "        variable_lista.append(var)        \n",
    "        alfa_lista.append(alpha_est)\n",
    "        loc_lista.append(0)\n",
    "        escale_lista.append(scale_est)\n",
    "# pasamos los parámetros de alfa y scale para graficar Gamma, y simplificamos haciendo loc = 0\n",
    "        pdf_accel = gamma_density(x_accel, alpha=alpha_est, loc=0, scale=scale_est)\n",
    "        if key_name == 'ULTIMATE':\n",
    "            colorea = 'chocolate'\n",
    "            tema = 'ULTIMATE'\n",
    "        if key_name == 'SURF':\n",
    "            colorea = 'forestgreen'\n",
    "            tema = 'SURF'\n",
    "        fig, ax = plt.subplots()\n",
    "        x = np.linspace(-5, 5, 100)        \n",
    "        sns.histplot(data=dict_value, x=var, ax=ax, stat=\"density\", color= colorea)\n",
    "        sns.lineplot(x=x_accel, y=pdf_accel, color=\"red\", lw=4, ax=ax)\n",
    "        plt.title('HISTOGRAMA PARA EL PLAN ' + tema)\n",
    "        plt.xlabel(var) \n",
    "        plt.ylabel('frecuencia')\n",
    "        plt.grid(True)\n",
    "        fig.tight_layout(pad=3.0)        \n"
   ]
  },
  {
   "cell_type": "code",
   "execution_count": 840,
   "metadata": {},
   "outputs": [
    {
     "data": {
      "text/html": [
       "<div>\n",
       "<style scoped>\n",
       "    .dataframe tbody tr th:only-of-type {\n",
       "        vertical-align: middle;\n",
       "    }\n",
       "\n",
       "    .dataframe tbody tr th {\n",
       "        vertical-align: top;\n",
       "    }\n",
       "\n",
       "    .dataframe thead th {\n",
       "        text-align: right;\n",
       "    }\n",
       "</style>\n",
       "<table border=\"1\" class=\"dataframe\">\n",
       "  <thead>\n",
       "    <tr style=\"text-align: right;\">\n",
       "      <th></th>\n",
       "      <th>plan</th>\n",
       "      <th>variable</th>\n",
       "      <th>alfa</th>\n",
       "      <th>loc</th>\n",
       "      <th>escale</th>\n",
       "    </tr>\n",
       "  </thead>\n",
       "  <tbody>\n",
       "    <tr>\n",
       "      <th>0</th>\n",
       "      <td>ULTIMATE</td>\n",
       "      <td>duration</td>\n",
       "      <td>1.277942</td>\n",
       "      <td>0</td>\n",
       "      <td>2.020984e+04</td>\n",
       "    </tr>\n",
       "    <tr>\n",
       "      <th>1</th>\n",
       "      <td>ULTIMATE</td>\n",
       "      <td>mensajes</td>\n",
       "      <td>1.087492</td>\n",
       "      <td>0</td>\n",
       "      <td>2.061165e+03</td>\n",
       "    </tr>\n",
       "    <tr>\n",
       "      <th>2</th>\n",
       "      <td>ULTIMATE</td>\n",
       "      <td>volumen_datos</td>\n",
       "      <td>1.363284</td>\n",
       "      <td>0</td>\n",
       "      <td>7.576428e+05</td>\n",
       "    </tr>\n",
       "    <tr>\n",
       "      <th>3</th>\n",
       "      <td>SURF</td>\n",
       "      <td>duration</td>\n",
       "      <td>1.310303</td>\n",
       "      <td>0</td>\n",
       "      <td>4.259149e+04</td>\n",
       "    </tr>\n",
       "    <tr>\n",
       "      <th>4</th>\n",
       "      <td>SURF</td>\n",
       "      <td>mensajes</td>\n",
       "      <td>1.035699</td>\n",
       "      <td>0</td>\n",
       "      <td>3.749321e+03</td>\n",
       "    </tr>\n",
       "    <tr>\n",
       "      <th>5</th>\n",
       "      <td>SURF</td>\n",
       "      <td>volumen_datos</td>\n",
       "      <td>1.275276</td>\n",
       "      <td>0</td>\n",
       "      <td>1.701996e+06</td>\n",
       "    </tr>\n",
       "  </tbody>\n",
       "</table>\n",
       "</div>"
      ],
      "text/plain": [
       "       plan       variable      alfa  loc        escale\n",
       "0  ULTIMATE       duration  1.277942    0  2.020984e+04\n",
       "1  ULTIMATE       mensajes  1.087492    0  2.061165e+03\n",
       "2  ULTIMATE  volumen_datos  1.363284    0  7.576428e+05\n",
       "3      SURF       duration  1.310303    0  4.259149e+04\n",
       "4      SURF       mensajes  1.035699    0  3.749321e+03\n",
       "5      SURF  volumen_datos  1.275276    0  1.701996e+06"
      ]
     },
     "execution_count": 840,
     "metadata": {},
     "output_type": "execute_result"
    }
   ],
   "source": [
    "#creamos un dataframe con la información de los ajustes de la funciones de distribución\n",
    "ajustes_gamma_hist = pd.DataFrame(list(zip(plan_lista, variable_lista, \n",
    "                                        alfa_lista, loc_lista, \n",
    "                                        escale_lista)),  columns = columnas )   \n",
    "ajustes_gamma_hist"
   ]
  },
  {
   "cell_type": "markdown",
   "metadata": {},
   "source": [
    "<a id='hypotheses'></a> \n",
    "## /to. Etapa 4. Prueba de hipótesis.\n"
   ]
  },
  {
   "cell_type": "markdown",
   "metadata": {},
   "source": [
    "¿Cuál de los planes genera más ingresos?. Pensemos en algo conducente a responder la pregunta. ¿Los ingresos de cada plan son estadísiticamente equivalentes?. Es decir debemos probar si los ingresos promedio de cada plan tarifareo son equivalentes. Con esa estrategia podemos preguntarnos después que plan es mayor y cual es menor, si es que hay diferencia."
   ]
  },
  {
   "cell_type": "markdown",
   "metadata": {},
   "source": [
    "<a id='week1'></a> \n",
    "### Hipótesis 1:El ingreso promedio de los usuarios de las tarifas Ultimate y Surf difiere.\n"
   ]
  },
  {
   "cell_type": "markdown",
   "metadata": {},
   "source": [
    "Veamos cómo se ve la distribución para los dos planes que se ofrecen por parte de la compañia. Para realizarlo antes vamos a sumar el total de cada plan en ingresos por SMS, datos, llamadas."
   ]
  },
  {
   "cell_type": "code",
   "execution_count": 841,
   "metadata": {},
   "outputs": [
    {
     "data": {
      "text/html": [
       "<div>\n",
       "<style scoped>\n",
       "    .dataframe tbody tr th:only-of-type {\n",
       "        vertical-align: middle;\n",
       "    }\n",
       "\n",
       "    .dataframe tbody tr th {\n",
       "        vertical-align: top;\n",
       "    }\n",
       "\n",
       "    .dataframe thead th {\n",
       "        text-align: right;\n",
       "    }\n",
       "</style>\n",
       "<table border=\"1\" class=\"dataframe\">\n",
       "  <thead>\n",
       "    <tr style=\"text-align: right;\">\n",
       "      <th></th>\n",
       "      <th>duration</th>\n",
       "      <th>mensajes</th>\n",
       "      <th>volumen_datos</th>\n",
       "    </tr>\n",
       "  </thead>\n",
       "  <tbody>\n",
       "    <tr>\n",
       "      <th>mean</th>\n",
       "      <td>25827.0</td>\n",
       "      <td>2241.5</td>\n",
       "      <td>1.032882e+06</td>\n",
       "    </tr>\n",
       "  </tbody>\n",
       "</table>\n",
       "</div>"
      ],
      "text/plain": [
       "      duration  mensajes  volumen_datos\n",
       "mean   25827.0    2241.5   1.032882e+06"
      ]
     },
     "execution_count": 841,
     "metadata": {},
     "output_type": "execute_result"
    }
   ],
   "source": [
    "# presentemos el ingreso promedio por las llamadas , los mensajes  y los datos \n",
    "#consumidos para el plan ULTIMATE\n",
    "consumo_usu_ultimate.describe()[1: 2]"
   ]
  },
  {
   "cell_type": "code",
   "execution_count": 842,
   "metadata": {},
   "outputs": [
    {
     "data": {
      "text/html": [
       "<div>\n",
       "<style scoped>\n",
       "    .dataframe tbody tr th:only-of-type {\n",
       "        vertical-align: middle;\n",
       "    }\n",
       "\n",
       "    .dataframe tbody tr th {\n",
       "        vertical-align: top;\n",
       "    }\n",
       "\n",
       "    .dataframe thead th {\n",
       "        text-align: right;\n",
       "    }\n",
       "</style>\n",
       "<table border=\"1\" class=\"dataframe\">\n",
       "  <thead>\n",
       "    <tr style=\"text-align: right;\">\n",
       "      <th></th>\n",
       "      <th>duration</th>\n",
       "      <th>mensajes</th>\n",
       "      <th>volumen_datos</th>\n",
       "    </tr>\n",
       "  </thead>\n",
       "  <tbody>\n",
       "    <tr>\n",
       "      <th>mean</th>\n",
       "      <td>55807.75</td>\n",
       "      <td>3883.166667</td>\n",
       "      <td>2.170515e+06</td>\n",
       "    </tr>\n",
       "  </tbody>\n",
       "</table>\n",
       "</div>"
      ],
      "text/plain": [
       "      duration     mensajes  volumen_datos\n",
       "mean  55807.75  3883.166667   2.170515e+06"
      ]
     },
     "execution_count": 842,
     "metadata": {},
     "output_type": "execute_result"
    }
   ],
   "source": [
    "## presentemos el ingreso promedio por las llamadas , los mensajes  y \n",
    "#los datos consumidos para el plan SURF\n",
    "consumo_usu_surf.describe()[1: 2]"
   ]
  },
  {
   "cell_type": "code",
   "execution_count": 843,
   "metadata": {},
   "outputs": [
    {
     "name": "stdout",
     "output_type": "stream",
     "text": [
      "INGRESO PROMEDIO TOTAL DEL PLAN ULTIMATE: 1060950.4816666665\n"
     ]
    }
   ],
   "source": [
    "#Ahora vamos a sumar el ingreso promedio global por cada plan ultimate\n",
    "ingreso_promedio_ultimate = (consumo_usu_ultimate.describe()[1:2]['duration'] \n",
    " + consumo_usu_ultimate.describe()[1:2]['mensajes'] \n",
    " + consumo_usu_ultimate.describe()[1:2]['volumen_datos']).sum()\n",
    "print('INGRESO PROMEDIO TOTAL DEL PLAN ULTIMATE:' , ingreso_promedio_ultimate)\n"
   ]
  },
  {
   "cell_type": "code",
   "execution_count": 844,
   "metadata": {},
   "outputs": [
    {
     "name": "stdout",
     "output_type": "stream",
     "text": [
      "INGRESO PROMEDIO TOTAL DEL PLAN SURF:  2230205.9108333327\n"
     ]
    }
   ],
   "source": [
    "#Ahora vamos a sumar el ingreso promedio global por cada plan surf\n",
    "ingreso_promedio_surf = (consumo_usu_surf.describe()[1:2]['duration'] \n",
    " + consumo_usu_surf.describe()[1:2]['mensajes'] \n",
    " + consumo_usu_surf.describe()[1:2]['volumen_datos']).sum()\n",
    "print('INGRESO PROMEDIO TOTAL DEL PLAN SURF: ', ingreso_promedio_surf)"
   ]
  },
  {
   "cell_type": "markdown",
   "metadata": {},
   "source": [
    "Para visualizar la traza de los dos planes en sus distribuciones, vamos a concentrar la información de estos en un solo dataframe."
   ]
  },
  {
   "cell_type": "code",
   "execution_count": 845,
   "metadata": {},
   "outputs": [
    {
     "data": {
      "text/html": [
       "<div>\n",
       "<style scoped>\n",
       "    .dataframe tbody tr th:only-of-type {\n",
       "        vertical-align: middle;\n",
       "    }\n",
       "\n",
       "    .dataframe tbody tr th {\n",
       "        vertical-align: top;\n",
       "    }\n",
       "\n",
       "    .dataframe thead th {\n",
       "        text-align: right;\n",
       "    }\n",
       "</style>\n",
       "<table border=\"1\" class=\"dataframe\">\n",
       "  <thead>\n",
       "    <tr style=\"text-align: right;\">\n",
       "      <th></th>\n",
       "      <th>cargo_mes_Ultimate</th>\n",
       "      <th>cargo_mes_Surf</th>\n",
       "    </tr>\n",
       "    <tr>\n",
       "      <th>mes</th>\n",
       "      <th></th>\n",
       "      <th></th>\n",
       "    </tr>\n",
       "  </thead>\n",
       "  <tbody>\n",
       "    <tr>\n",
       "      <th>Abril</th>\n",
       "      <td>3.226431e+05</td>\n",
       "      <td>7.535917e+05</td>\n",
       "    </tr>\n",
       "    <tr>\n",
       "      <th>Agosto</th>\n",
       "      <td>1.090832e+06</td>\n",
       "      <td>2.448878e+06</td>\n",
       "    </tr>\n",
       "    <tr>\n",
       "      <th>Diciembre</th>\n",
       "      <td>2.320017e+06</td>\n",
       "      <td>4.883999e+06</td>\n",
       "    </tr>\n",
       "    <tr>\n",
       "      <th>Enero</th>\n",
       "      <td>6.144000e+04</td>\n",
       "      <td>3.072000e+04</td>\n",
       "    </tr>\n",
       "    <tr>\n",
       "      <th>Febrero</th>\n",
       "      <td>1.075200e+05</td>\n",
       "      <td>1.383583e+05</td>\n",
       "    </tr>\n",
       "    <tr>\n",
       "      <th>Julio</th>\n",
       "      <td>9.063960e+05</td>\n",
       "      <td>1.847991e+06</td>\n",
       "    </tr>\n",
       "    <tr>\n",
       "      <th>Junio</th>\n",
       "      <td>7.220192e+05</td>\n",
       "      <td>1.461743e+06</td>\n",
       "    </tr>\n",
       "    <tr>\n",
       "      <th>Marzo</th>\n",
       "      <td>1.843782e+05</td>\n",
       "      <td>3.538258e+05</td>\n",
       "    </tr>\n",
       "    <tr>\n",
       "      <th>Mayo</th>\n",
       "      <td>4.454614e+05</td>\n",
       "      <td>1.169342e+06</td>\n",
       "    </tr>\n",
       "    <tr>\n",
       "      <th>Noviembre</th>\n",
       "      <td>1.951011e+06</td>\n",
       "      <td>4.326143e+06</td>\n",
       "    </tr>\n",
       "    <tr>\n",
       "      <th>Octubre</th>\n",
       "      <td>1.613117e+06</td>\n",
       "      <td>3.604194e+06</td>\n",
       "    </tr>\n",
       "    <tr>\n",
       "      <th>Septiembre</th>\n",
       "      <td>1.321183e+06</td>\n",
       "      <td>2.971314e+06</td>\n",
       "    </tr>\n",
       "  </tbody>\n",
       "</table>\n",
       "</div>"
      ],
      "text/plain": [
       "            cargo_mes_Ultimate  cargo_mes_Surf\n",
       "mes                                           \n",
       "Abril             3.226431e+05    7.535917e+05\n",
       "Agosto            1.090832e+06    2.448878e+06\n",
       "Diciembre         2.320017e+06    4.883999e+06\n",
       "Enero             6.144000e+04    3.072000e+04\n",
       "Febrero           1.075200e+05    1.383583e+05\n",
       "Julio             9.063960e+05    1.847991e+06\n",
       "Junio             7.220192e+05    1.461743e+06\n",
       "Marzo             1.843782e+05    3.538258e+05\n",
       "Mayo              4.454614e+05    1.169342e+06\n",
       "Noviembre         1.951011e+06    4.326143e+06\n",
       "Octubre           1.613117e+06    3.604194e+06\n",
       "Septiembre        1.321183e+06    2.971314e+06"
      ]
     },
     "execution_count": 845,
     "metadata": {},
     "output_type": "execute_result"
    }
   ],
   "source": [
    "meses_plan= meses_plan.rename({'cargo_mes_x':'cargo_mes_Ultimate', \n",
    "                   'cargo_mes_y':'cargo_mes_Surf'}, axis = 'columns')\n",
    "meses_plan"
   ]
  },
  {
   "cell_type": "code",
   "execution_count": 846,
   "metadata": {},
   "outputs": [
    {
     "data": {
      "text/html": [
       "<div>\n",
       "<style scoped>\n",
       "    .dataframe tbody tr th:only-of-type {\n",
       "        vertical-align: middle;\n",
       "    }\n",
       "\n",
       "    .dataframe tbody tr th {\n",
       "        vertical-align: top;\n",
       "    }\n",
       "\n",
       "    .dataframe thead th {\n",
       "        text-align: right;\n",
       "    }\n",
       "</style>\n",
       "<table border=\"1\" class=\"dataframe\">\n",
       "  <thead>\n",
       "    <tr style=\"text-align: right;\">\n",
       "      <th></th>\n",
       "      <th>tipo_planes</th>\n",
       "      <th>cargos</th>\n",
       "    </tr>\n",
       "  </thead>\n",
       "  <tbody>\n",
       "    <tr>\n",
       "      <th>0</th>\n",
       "      <td>surf</td>\n",
       "      <td>753591.7</td>\n",
       "    </tr>\n",
       "    <tr>\n",
       "      <th>1</th>\n",
       "      <td>surf</td>\n",
       "      <td>2448878.0</td>\n",
       "    </tr>\n",
       "    <tr>\n",
       "      <th>2</th>\n",
       "      <td>surf</td>\n",
       "      <td>4883999.0</td>\n",
       "    </tr>\n",
       "    <tr>\n",
       "      <th>3</th>\n",
       "      <td>surf</td>\n",
       "      <td>30720.0</td>\n",
       "    </tr>\n",
       "    <tr>\n",
       "      <th>4</th>\n",
       "      <td>surf</td>\n",
       "      <td>138358.3</td>\n",
       "    </tr>\n",
       "    <tr>\n",
       "      <th>5</th>\n",
       "      <td>surf</td>\n",
       "      <td>1847991.0</td>\n",
       "    </tr>\n",
       "    <tr>\n",
       "      <th>6</th>\n",
       "      <td>surf</td>\n",
       "      <td>1461743.0</td>\n",
       "    </tr>\n",
       "    <tr>\n",
       "      <th>7</th>\n",
       "      <td>surf</td>\n",
       "      <td>353825.8</td>\n",
       "    </tr>\n",
       "    <tr>\n",
       "      <th>8</th>\n",
       "      <td>surf</td>\n",
       "      <td>1169342.0</td>\n",
       "    </tr>\n",
       "    <tr>\n",
       "      <th>9</th>\n",
       "      <td>surf</td>\n",
       "      <td>4326143.0</td>\n",
       "    </tr>\n",
       "    <tr>\n",
       "      <th>10</th>\n",
       "      <td>surf</td>\n",
       "      <td>3604194.0</td>\n",
       "    </tr>\n",
       "    <tr>\n",
       "      <th>11</th>\n",
       "      <td>surf</td>\n",
       "      <td>2971314.0</td>\n",
       "    </tr>\n",
       "    <tr>\n",
       "      <th>12</th>\n",
       "      <td>ultimate</td>\n",
       "      <td>322643.1</td>\n",
       "    </tr>\n",
       "    <tr>\n",
       "      <th>13</th>\n",
       "      <td>ultimate</td>\n",
       "      <td>1090832.0</td>\n",
       "    </tr>\n",
       "    <tr>\n",
       "      <th>14</th>\n",
       "      <td>ultimate</td>\n",
       "      <td>2320017.0</td>\n",
       "    </tr>\n",
       "    <tr>\n",
       "      <th>15</th>\n",
       "      <td>ultimate</td>\n",
       "      <td>61440.0</td>\n",
       "    </tr>\n",
       "    <tr>\n",
       "      <th>16</th>\n",
       "      <td>ultimate</td>\n",
       "      <td>107520.0</td>\n",
       "    </tr>\n",
       "    <tr>\n",
       "      <th>17</th>\n",
       "      <td>ultimate</td>\n",
       "      <td>906396.0</td>\n",
       "    </tr>\n",
       "    <tr>\n",
       "      <th>18</th>\n",
       "      <td>ultimate</td>\n",
       "      <td>722019.2</td>\n",
       "    </tr>\n",
       "    <tr>\n",
       "      <th>19</th>\n",
       "      <td>ultimate</td>\n",
       "      <td>184378.2</td>\n",
       "    </tr>\n",
       "    <tr>\n",
       "      <th>20</th>\n",
       "      <td>ultimate</td>\n",
       "      <td>445461.4</td>\n",
       "    </tr>\n",
       "    <tr>\n",
       "      <th>21</th>\n",
       "      <td>ultimate</td>\n",
       "      <td>1951011.0</td>\n",
       "    </tr>\n",
       "    <tr>\n",
       "      <th>22</th>\n",
       "      <td>ultimate</td>\n",
       "      <td>1613117.0</td>\n",
       "    </tr>\n",
       "    <tr>\n",
       "      <th>23</th>\n",
       "      <td>ultimate</td>\n",
       "      <td>1321183.0</td>\n",
       "    </tr>\n",
       "  </tbody>\n",
       "</table>\n",
       "</div>"
      ],
      "text/plain": [
       "   tipo_planes     cargos\n",
       "0         surf   753591.7\n",
       "1         surf  2448878.0\n",
       "2         surf  4883999.0\n",
       "3         surf    30720.0\n",
       "4         surf   138358.3\n",
       "5         surf  1847991.0\n",
       "6         surf  1461743.0\n",
       "7         surf   353825.8\n",
       "8         surf  1169342.0\n",
       "9         surf  4326143.0\n",
       "10        surf  3604194.0\n",
       "11        surf  2971314.0\n",
       "12    ultimate   322643.1\n",
       "13    ultimate  1090832.0\n",
       "14    ultimate  2320017.0\n",
       "15    ultimate    61440.0\n",
       "16    ultimate   107520.0\n",
       "17    ultimate   906396.0\n",
       "18    ultimate   722019.2\n",
       "19    ultimate   184378.2\n",
       "20    ultimate   445461.4\n",
       "21    ultimate  1951011.0\n",
       "22    ultimate  1613117.0\n",
       "23    ultimate  1321183.0"
      ]
     },
     "execution_count": 846,
     "metadata": {},
     "output_type": "execute_result"
    }
   ],
   "source": [
    "\n",
    "#realizamos un diccionario para concentrar en una columna todos los datos de la variable\n",
    "#cargos de la tabla anterior\n",
    " \n",
    "\n",
    "dic_datos_carg = { 'tipo_planes': ['surf', 'surf', 'surf', 'surf', 'surf', 'surf', 'surf', \n",
    "                                'surf', 'surf', 'surf', 'surf', 'surf', 'ultimate', 'ultimate',\n",
    "                                'ultimate', 'ultimate', 'ultimate', 'ultimate', 'ultimate', 'ultimate', \n",
    "                                'ultimate', 'ultimate', 'ultimate', 'ultimate'],\n",
    "                   'cargos': [7.535917e+05, 2.448878e+06, 4.883999e+06, 3.072000e+04,\n",
    "                              1.383583e+05, 1.847991e+06, 1.461743e+06, 3.538258e+05, \n",
    "                              1.169342e+06, 4.326143e+06, 3.604194e+06, 2.971314e+06, \n",
    "                              3.226431e+05 ,1.090832e+06 ,2.320017e+06 ,6.144000e+04,\n",
    "                              1.075200e+05 ,9.063960e+05 ,7.220192e+05 ,1.843782e+05,\n",
    "                              4.454614e+05 ,1.951011e+06 ,1.613117e+06 ,1.321183e+06 ]\n",
    "                 }\n",
    "# creamos un dataframe para trazar las distribuciones de los dos planes tarifarios\n",
    "hipotesis1_data = pd.DataFrame(dic_datos_carg)\n",
    "hipotesis1_data"
   ]
  },
  {
   "cell_type": "markdown",
   "metadata": {},
   "source": [
    "Ahora con estos datos grafiquemos la densidad de probabilidad de la tabla anterior separando  los cargos mensuales por plan tarifario."
   ]
  },
  {
   "cell_type": "code",
   "execution_count": 847,
   "metadata": {},
   "outputs": [
    {
     "data": {
      "image/png": "[encoded data removed]",
      "text/plain": [
       "<Figure size 720x360 with 1 Axes>"
      ]
     },
     "metadata": {
      "needs_background": "light"
     },
     "output_type": "display_data"
    }
   ],
   "source": [
    "#declaramos un objeto fig para dibujar en el mismo plano ambas distribuciones\n",
    "#para el plan ULTIMATE en azul y para el plan SURF en naranja\n",
    "fig, ax = plt.subplots(figsize=(10, 5))\n",
    "#creamos los graficos de densidad para la tabla anterior\n",
    "sns.kdeplot(data=hipotesis1_data, x=\"cargos\", \n",
    "            hue=\"tipo_planes\", alpha=0.5, ax=ax)\n",
    "#, title = 'GRAFICOS DE LOS PLANES TARIFARIOS'\n",
    "fig.tight_layout(pad=3.0)"
   ]
  },
  {
   "cell_type": "markdown",
   "metadata": {},
   "source": [
    "Los datos trazados confirman una igualdad en los ingresos promedio de los dos planes tarifarios. Aunque solo son 12 datos por plan, para tener un uso adecuado del valor alpha 0.05  para la prueba de hipotesís, será necesario aumentar el número de datos usemos los datos sin la agrupación por mes para observar con mas seguridad la tendencia que se esta observando en la gráfica anterior."
   ]
  },
  {
   "cell_type": "code",
   "execution_count": 848,
   "metadata": {},
   "outputs": [
    {
     "data": {
      "text/html": [
       "<div>\n",
       "<style scoped>\n",
       "    .dataframe tbody tr th:only-of-type {\n",
       "        vertical-align: middle;\n",
       "    }\n",
       "\n",
       "    .dataframe tbody tr th {\n",
       "        vertical-align: top;\n",
       "    }\n",
       "\n",
       "    .dataframe thead th {\n",
       "        text-align: right;\n",
       "    }\n",
       "</style>\n",
       "<table border=\"1\" class=\"dataframe\">\n",
       "  <thead>\n",
       "    <tr style=\"text-align: right;\">\n",
       "      <th></th>\n",
       "      <th>user_id</th>\n",
       "      <th>plan</th>\n",
       "      <th>mes</th>\n",
       "      <th>volumen_datos</th>\n",
       "      <th>duration</th>\n",
       "      <th>llamadas</th>\n",
       "      <th>mensajes</th>\n",
       "      <th>cargo</th>\n",
       "    </tr>\n",
       "  </thead>\n",
       "  <tbody>\n",
       "    <tr>\n",
       "      <th>0</th>\n",
       "      <td>1000</td>\n",
       "      <td>ultimate</td>\n",
       "      <td>Diciembre</td>\n",
       "      <td>1901.47</td>\n",
       "      <td>124.0</td>\n",
       "      <td>16.0</td>\n",
       "      <td>11.0</td>\n",
       "      <td>2036.47</td>\n",
       "    </tr>\n",
       "    <tr>\n",
       "      <th>1</th>\n",
       "      <td>1001</td>\n",
       "      <td>surf</td>\n",
       "      <td>Agosto</td>\n",
       "      <td>6919.15</td>\n",
       "      <td>182.0</td>\n",
       "      <td>27.0</td>\n",
       "      <td>30.0</td>\n",
       "      <td>7131.15</td>\n",
       "    </tr>\n",
       "    <tr>\n",
       "      <th>2</th>\n",
       "      <td>1001</td>\n",
       "      <td>surf</td>\n",
       "      <td>Diciembre</td>\n",
       "      <td>19369.18</td>\n",
       "      <td>412.0</td>\n",
       "      <td>56.0</td>\n",
       "      <td>44.0</td>\n",
       "      <td>19825.18</td>\n",
       "    </tr>\n",
       "    <tr>\n",
       "      <th>3</th>\n",
       "      <td>1001</td>\n",
       "      <td>surf</td>\n",
       "      <td>Noviembre</td>\n",
       "      <td>18504.30</td>\n",
       "      <td>426.0</td>\n",
       "      <td>64.0</td>\n",
       "      <td>36.0</td>\n",
       "      <td>18966.30</td>\n",
       "    </tr>\n",
       "    <tr>\n",
       "      <th>4</th>\n",
       "      <td>1001</td>\n",
       "      <td>surf</td>\n",
       "      <td>Octubre</td>\n",
       "      <td>22330.49</td>\n",
       "      <td>393.0</td>\n",
       "      <td>65.0</td>\n",
       "      <td>53.0</td>\n",
       "      <td>22776.49</td>\n",
       "    </tr>\n",
       "    <tr>\n",
       "      <th>...</th>\n",
       "      <td>...</td>\n",
       "      <td>...</td>\n",
       "      <td>...</td>\n",
       "      <td>...</td>\n",
       "      <td>...</td>\n",
       "      <td>...</td>\n",
       "      <td>...</td>\n",
       "      <td>...</td>\n",
       "    </tr>\n",
       "    <tr>\n",
       "      <th>2272</th>\n",
       "      <td>1498</td>\n",
       "      <td>surf</td>\n",
       "      <td>Septiembre</td>\n",
       "      <td>22827.28</td>\n",
       "      <td>363.0</td>\n",
       "      <td>45.0</td>\n",
       "      <td>0.0</td>\n",
       "      <td>23190.28</td>\n",
       "    </tr>\n",
       "    <tr>\n",
       "      <th>2273</th>\n",
       "      <td>1499</td>\n",
       "      <td>surf</td>\n",
       "      <td>Diciembre</td>\n",
       "      <td>22059.21</td>\n",
       "      <td>496.0</td>\n",
       "      <td>65.0</td>\n",
       "      <td>0.0</td>\n",
       "      <td>22555.21</td>\n",
       "    </tr>\n",
       "    <tr>\n",
       "      <th>2274</th>\n",
       "      <td>1499</td>\n",
       "      <td>surf</td>\n",
       "      <td>Noviembre</td>\n",
       "      <td>16813.83</td>\n",
       "      <td>308.0</td>\n",
       "      <td>45.0</td>\n",
       "      <td>0.0</td>\n",
       "      <td>17121.83</td>\n",
       "    </tr>\n",
       "    <tr>\n",
       "      <th>2275</th>\n",
       "      <td>1499</td>\n",
       "      <td>surf</td>\n",
       "      <td>Octubre</td>\n",
       "      <td>19492.43</td>\n",
       "      <td>385.0</td>\n",
       "      <td>53.0</td>\n",
       "      <td>0.0</td>\n",
       "      <td>19877.43</td>\n",
       "    </tr>\n",
       "    <tr>\n",
       "      <th>2276</th>\n",
       "      <td>1499</td>\n",
       "      <td>surf</td>\n",
       "      <td>Septiembre</td>\n",
       "      <td>12984.76</td>\n",
       "      <td>346.0</td>\n",
       "      <td>41.0</td>\n",
       "      <td>0.0</td>\n",
       "      <td>13330.76</td>\n",
       "    </tr>\n",
       "  </tbody>\n",
       "</table>\n",
       "<p>2277 rows × 8 columns</p>\n",
       "</div>"
      ],
      "text/plain": [
       "      user_id      plan         mes  volumen_datos  duration  llamadas  \\\n",
       "0        1000  ultimate   Diciembre        1901.47     124.0      16.0   \n",
       "1        1001      surf      Agosto        6919.15     182.0      27.0   \n",
       "2        1001      surf   Diciembre       19369.18     412.0      56.0   \n",
       "3        1001      surf   Noviembre       18504.30     426.0      64.0   \n",
       "4        1001      surf     Octubre       22330.49     393.0      65.0   \n",
       "...       ...       ...         ...            ...       ...       ...   \n",
       "2272     1498      surf  Septiembre       22827.28     363.0      45.0   \n",
       "2273     1499      surf   Diciembre       22059.21     496.0      65.0   \n",
       "2274     1499      surf   Noviembre       16813.83     308.0      45.0   \n",
       "2275     1499      surf     Octubre       19492.43     385.0      53.0   \n",
       "2276     1499      surf  Septiembre       12984.76     346.0      41.0   \n",
       "\n",
       "      mensajes     cargo  \n",
       "0         11.0   2036.47  \n",
       "1         30.0   7131.15  \n",
       "2         44.0  19825.18  \n",
       "3         36.0  18966.30  \n",
       "4         53.0  22776.49  \n",
       "...        ...       ...  \n",
       "2272       0.0  23190.28  \n",
       "2273       0.0  22555.21  \n",
       "2274       0.0  17121.83  \n",
       "2275       0.0  19877.43  \n",
       "2276       0.0  13330.76  \n",
       "\n",
       "[2277 rows x 8 columns]"
      ]
     },
     "execution_count": 848,
     "metadata": {},
     "output_type": "execute_result"
    }
   ],
   "source": [
    "h1.fillna(0, inplace=True)\n",
    "h1['cargo'] = h1['volumen_datos'] + h1['duration'] + h1['mensajes'] \n",
    "h1"
   ]
  },
  {
   "cell_type": "code",
   "execution_count": 849,
   "metadata": {},
   "outputs": [
    {
     "data": {
      "image/png": "[encoded data removed]",
      "text/plain": [
       "<Figure size 720x360 with 1 Axes>"
      ]
     },
     "metadata": {
      "needs_background": "light"
     },
     "output_type": "display_data"
    }
   ],
   "source": [
    "#declaramos un objeto fig para dibujar en el mismo plano ambas distribuciones\n",
    "#para el plan ULTIMATE en azul y para el plan SURF en naranja\n",
    "fig, ax = plt.subplots(figsize=(10, 5))\n",
    "#creamos los graficos de densidad para la tabla anterior\n",
    "sns.kdeplot(data=h1, x=\"cargo\", \n",
    "            hue=\"plan\", alpha=0.5, ax=ax)\n",
    "#, title = 'GRAFICOS DE LOS PLANES TARIFARIOS'\n",
    "fig.tight_layout(pad=3.0)"
   ]
  },
  {
   "cell_type": "markdown",
   "metadata": {},
   "source": [
    "Por lo que podemos ver, para los dos planes la media parece estar muy coincidente. Aunque ¿Lo será esta diferencia que vemos estadísticamente significativa?. \n",
    "\n",
    "Realicemos una prueba de hipótesis para contestar a esta pregunta. Usemos la notación $\\mu_{\\text{surf}}$ para denotar el ingreso promedio del plan SURF y $\\mu_{\\text{ultimate}}$ para denotar el ingreso promedio para el plan ULTIMATE.\n",
    "\n",
    "1. Nuestras hipótesis a plantear serán:\n",
    "\n",
    "$H_0: \\mu_{\\text{surf}} = \\mu_{\\text{ultimate}}$\n",
    "\n",
    "$H_a: \\mu_{\\text{surf}} \\neq \\mu_{\\text{ultimate}}$\n",
    "\n",
    "2. Establezcamos un nivel de significancia del 5%.\n",
    "\n",
    "3. Seleccionemos un estadístico de prueba.\n",
    "\n",
    "Para que sea confiable el uso del estadístico debemos obtener una muestra de mas datos, la teoría nos dice de al menos 30 valores. Vamos a usar los datos de los ingresos de cada usuario por mes; en lugar de usar solo los datos concentrados del ingreso por mes. Se obtendrán 2277 datos.\n",
    "\n",
    "Si en el apartado **3.3 Descripción de las distribuciones** asumimos que la distribución de la variable \"ingreso promedio\" es del tipo Gamma, entonces deberiamos escoger un estadístico basado en la distribución Gamma; más sin embargo la gráfica anterior nos muestra una tendencia de las funciones de distribución a comportarse como distribuciones del tipo Normal.\n",
    "\n",
    "Teniendo eso en consideración, se propone entonces escoger un estadístico basado en la distribución normal.\n",
    "\n",
    "Escogamos\n",
    "\n",
    "$$t = \\frac{(\\hat{\\text{vg}}-\\hat{\\text{vc}}) - (\\mu_{\\text{vg}} - \\mu_{\\text{vc}})}{\\sqrt{\\frac{s_{\\text{vg}}^2}{n} + \\frac{s_{\\text{vc}}^2}{m}}}$$\n",
    "\n",
    "Por transformaciones de variables aleatorias, sabemos que esto se distribuye como una t-student con $(n+m-2)$ grados de libertad.\n",
    "\n",
    "Si asumimos que la hipótesis nula es cierta, entonces nuestro estadístico toma la siguiente forma:\n",
    "\n",
    "$$t = \\frac{\\hat{\\text{vg}}-\\hat{\\text{vc}}}{\\sqrt{\\frac{s_{\\text{vg}}^2}{n} + \\frac{s_{\\text{vc}}^2}{m}}}$$\n"
   ]
  },
  {
   "cell_type": "code",
   "execution_count": 850,
   "metadata": {},
   "outputs": [
    {
     "name": "stdout",
     "output_type": "stream",
     "text": [
      "p-value:  0.13982150876895155\n",
      "No rechazamos la hipótesis nula\n"
     ]
    }
   ],
   "source": [
    "#realizamos la selección de las dos muestras a comparar\n",
    "sample_surf = h1.loc[h1['plan'] == 'surf', 'cargo']\n",
    "sample_ultimate = h1.loc[h1['plan'] == 'ultimate', 'cargo']\n",
    "\n",
    "alpha = 0.05 # el nivel de significancia estadística crítica\n",
    "# si el valor p es menor que alfa, rechazamos la hipótesis\n",
    "\n",
    "results = st.ttest_ind(sample_surf, sample_ultimate)\n",
    "\n",
    "print('p-value: ', results.pvalue)\n",
    "\n",
    "if results.pvalue < alpha:\n",
    "    print(\"Rechazamos la hipótesis nula\")\n",
    "else:\n",
    "    print(\"No rechazamos la hipótesis nula\") "
   ]
  },
  {
   "cell_type": "markdown",
   "metadata": {},
   "source": [
    "Verfiquemos si se soporto con los datos aportados por la agrupación de los ingreso por mes de acumulación."
   ]
  },
  {
   "cell_type": "code",
   "execution_count": 851,
   "metadata": {},
   "outputs": [
    {
     "name": "stdout",
     "output_type": "stream",
     "text": [
      "p-value:  0.05176920805219678\n",
      "No rechazamos la hipótesis nula\n"
     ]
    }
   ],
   "source": [
    "#aqui se compara las dos muestras en donde se denotan los ingresos por mes para cada \n",
    "#plan tarifareo\n",
    "sample_s = hipotesis1_data.loc[hipotesis1_data['tipo_planes']== 'surf']['cargos']\n",
    "sample_u = hipotesis1_data.loc[hipotesis1_data['tipo_planes']== 'ultimate']['cargos']\n",
    "\n",
    "alpha = 0.05 # el nivel de significancia estadística crítica\n",
    "# si el valor p es menor que alfa, rechazamos la hipótesis\n",
    "\n",
    "results = st.ttest_ind(sample_s, sample_u)\n",
    "\n",
    "print('p-value: ', results.pvalue)\n",
    "\n",
    "if results.pvalue < alpha:\n",
    "    print(\"Rechazamos la hipótesis nula\")\n",
    "else:\n",
    "    print(\"No rechazamos la hipótesis nula\") "
   ]
  },
  {
   "cell_type": "markdown",
   "metadata": {},
   "source": [
    "<a id='week'></a> \n",
    "### Hipótesis 2:El ingreso promedio de los usuarios en el área de estados Nueva York-Nueva Jersey es diferente al de los usuarios de otras regiones."
   ]
  },
  {
   "cell_type": "markdown",
   "metadata": {},
   "source": [
    "Para determinar si el nivel de ingresos es consecuencia de la región, hagamos una prueba con el estado de Nueva York-Nueva Jersey que es una de las de mas alto poder adquisitivo, veamos si los clientes son mas propenso a consumir mas servicios fuera de los planes tarifarios.\n",
    "Para este fin, vamos a realizar un inserción de los datos de los usuarios que estan descritos en la tabla de 'usuarios', mediante la columna ''."
   ]
  },
  {
   "cell_type": "code",
   "execution_count": 852,
   "metadata": {},
   "outputs": [
    {
     "data": {
      "text/html": [
       "<div>\n",
       "<style scoped>\n",
       "    .dataframe tbody tr th:only-of-type {\n",
       "        vertical-align: middle;\n",
       "    }\n",
       "\n",
       "    .dataframe tbody tr th {\n",
       "        vertical-align: top;\n",
       "    }\n",
       "\n",
       "    .dataframe thead th {\n",
       "        text-align: right;\n",
       "    }\n",
       "</style>\n",
       "<table border=\"1\" class=\"dataframe\">\n",
       "  <thead>\n",
       "    <tr style=\"text-align: right;\">\n",
       "      <th></th>\n",
       "      <th>user_id</th>\n",
       "      <th>city</th>\n",
       "      <th>plan_y</th>\n",
       "      <th>mes</th>\n",
       "      <th>cargo</th>\n",
       "    </tr>\n",
       "  </thead>\n",
       "  <tbody>\n",
       "    <tr>\n",
       "      <th>0</th>\n",
       "      <td>1000</td>\n",
       "      <td>Atlanta-Sandy Springs-Roswell, GA MSA</td>\n",
       "      <td>ultimate</td>\n",
       "      <td>Diciembre</td>\n",
       "      <td>2036.47</td>\n",
       "    </tr>\n",
       "    <tr>\n",
       "      <th>1</th>\n",
       "      <td>1001</td>\n",
       "      <td>Seattle-Tacoma-Bellevue, WA MSA</td>\n",
       "      <td>surf</td>\n",
       "      <td>Agosto</td>\n",
       "      <td>7131.15</td>\n",
       "    </tr>\n",
       "    <tr>\n",
       "      <th>2</th>\n",
       "      <td>1001</td>\n",
       "      <td>Seattle-Tacoma-Bellevue, WA MSA</td>\n",
       "      <td>surf</td>\n",
       "      <td>Diciembre</td>\n",
       "      <td>19825.18</td>\n",
       "    </tr>\n",
       "    <tr>\n",
       "      <th>3</th>\n",
       "      <td>1001</td>\n",
       "      <td>Seattle-Tacoma-Bellevue, WA MSA</td>\n",
       "      <td>surf</td>\n",
       "      <td>Noviembre</td>\n",
       "      <td>18966.30</td>\n",
       "    </tr>\n",
       "    <tr>\n",
       "      <th>4</th>\n",
       "      <td>1001</td>\n",
       "      <td>Seattle-Tacoma-Bellevue, WA MSA</td>\n",
       "      <td>surf</td>\n",
       "      <td>Octubre</td>\n",
       "      <td>22776.49</td>\n",
       "    </tr>\n",
       "    <tr>\n",
       "      <th>...</th>\n",
       "      <td>...</td>\n",
       "      <td>...</td>\n",
       "      <td>...</td>\n",
       "      <td>...</td>\n",
       "      <td>...</td>\n",
       "    </tr>\n",
       "    <tr>\n",
       "      <th>2272</th>\n",
       "      <td>1498</td>\n",
       "      <td>New York-Newark-Jersey City, NY-NJ-PA MSA</td>\n",
       "      <td>surf</td>\n",
       "      <td>Septiembre</td>\n",
       "      <td>23190.28</td>\n",
       "    </tr>\n",
       "    <tr>\n",
       "      <th>2273</th>\n",
       "      <td>1499</td>\n",
       "      <td>Orlando-Kissimmee-Sanford, FL MSA</td>\n",
       "      <td>surf</td>\n",
       "      <td>Diciembre</td>\n",
       "      <td>22555.21</td>\n",
       "    </tr>\n",
       "    <tr>\n",
       "      <th>2274</th>\n",
       "      <td>1499</td>\n",
       "      <td>Orlando-Kissimmee-Sanford, FL MSA</td>\n",
       "      <td>surf</td>\n",
       "      <td>Noviembre</td>\n",
       "      <td>17121.83</td>\n",
       "    </tr>\n",
       "    <tr>\n",
       "      <th>2275</th>\n",
       "      <td>1499</td>\n",
       "      <td>Orlando-Kissimmee-Sanford, FL MSA</td>\n",
       "      <td>surf</td>\n",
       "      <td>Octubre</td>\n",
       "      <td>19877.43</td>\n",
       "    </tr>\n",
       "    <tr>\n",
       "      <th>2276</th>\n",
       "      <td>1499</td>\n",
       "      <td>Orlando-Kissimmee-Sanford, FL MSA</td>\n",
       "      <td>surf</td>\n",
       "      <td>Septiembre</td>\n",
       "      <td>13330.76</td>\n",
       "    </tr>\n",
       "  </tbody>\n",
       "</table>\n",
       "<p>2277 rows × 5 columns</p>\n",
       "</div>"
      ],
      "text/plain": [
       "      user_id                                       city    plan_y  \\\n",
       "0        1000      Atlanta-Sandy Springs-Roswell, GA MSA  ultimate   \n",
       "1        1001            Seattle-Tacoma-Bellevue, WA MSA      surf   \n",
       "2        1001            Seattle-Tacoma-Bellevue, WA MSA      surf   \n",
       "3        1001            Seattle-Tacoma-Bellevue, WA MSA      surf   \n",
       "4        1001            Seattle-Tacoma-Bellevue, WA MSA      surf   \n",
       "...       ...                                        ...       ...   \n",
       "2272     1498  New York-Newark-Jersey City, NY-NJ-PA MSA      surf   \n",
       "2273     1499          Orlando-Kissimmee-Sanford, FL MSA      surf   \n",
       "2274     1499          Orlando-Kissimmee-Sanford, FL MSA      surf   \n",
       "2275     1499          Orlando-Kissimmee-Sanford, FL MSA      surf   \n",
       "2276     1499          Orlando-Kissimmee-Sanford, FL MSA      surf   \n",
       "\n",
       "             mes     cargo  \n",
       "0      Diciembre   2036.47  \n",
       "1         Agosto   7131.15  \n",
       "2      Diciembre  19825.18  \n",
       "3      Noviembre  18966.30  \n",
       "4        Octubre  22776.49  \n",
       "...          ...       ...  \n",
       "2272  Septiembre  23190.28  \n",
       "2273   Diciembre  22555.21  \n",
       "2274   Noviembre  17121.83  \n",
       "2275     Octubre  19877.43  \n",
       "2276  Septiembre  13330.76  \n",
       "\n",
       "[2277 rows x 5 columns]"
      ]
     },
     "execution_count": 852,
     "metadata": {},
     "output_type": "execute_result"
    }
   ],
   "source": [
    "#preparamos el dataframe que aportará los datos para una prueba de hipotesís\n",
    "#New York-Newark-Jersey City, NY-NJ-PA MSA\n",
    "#city\n",
    "h2 = usuarios.merge(h1, on = 'user_id', how='right')\n",
    "h2 = h2.drop(columns=[\"first_name\", 'last_name', 'age', \n",
    "                      'reg_date', 'plan_x', 'churn_date'])\n",
    "h2[['user_id', 'city', 'plan_y', 'mes', 'cargo']]\n"
   ]
  },
  {
   "cell_type": "markdown",
   "metadata": {},
   "source": [
    "Ahora antes realizar el planteamiento formal de la hipotesís, vamos a trazar los datos del dataframe anterior.\n",
    "Se mostrarán los datos de la subdivisión de los usuarios de la región de Nueva York, frente a los de las demás regiones."
   ]
  },
  {
   "cell_type": "code",
   "execution_count": 853,
   "metadata": {
    "scrolled": true
   },
   "outputs": [],
   "source": [
    "#Hacemos un filtro para los de la region de NY\n",
    "#Declaramos un filtro para el resto de las regiones\n",
    "h2.loc[h2['city'] != \"New York-Newark-Jersey City, NY-NJ-PA MSA\", 'city']  = 'otras regiones'\n",
    "h2.loc[h2['city'] == \"New York-Newark-Jersey City, NY-NJ-PA MSA\", 'city']  = 'New York-Newark-Jersey'\n"
   ]
  },
  {
   "cell_type": "code",
   "execution_count": 854,
   "metadata": {
    "scrolled": true
   },
   "outputs": [
    {
     "data": {
      "image/png": "[encoded data removed]",
      "text/plain": [
       "<Figure size 720x360 with 1 Axes>"
      ]
     },
     "metadata": {
      "needs_background": "light"
     },
     "output_type": "display_data"
    }
   ],
   "source": [
    "#declaramos un objeto fig para dibujar en el mismo plano ambas distribuciones\n",
    "#para el región de NY  en naranja y para el resto de regiones,en azul \n",
    "fig, ax = plt.subplots(figsize=(10, 5))\n",
    "#creamos los graficos de densidad para la tabla anterior\n",
    "sns.kdeplot(data=h2, x=\"cargo\", \n",
    "            hue=\"city\", alpha=0.5, ax=ax)\n",
    "#, title = 'GRAFICOS DE LOS PLANES TARIFARIOS'\n",
    "fig.tight_layout(pad=3.0)"
   ]
  },
  {
   "cell_type": "markdown",
   "metadata": {},
   "source": [
    "Un primer juicio, nos induce a pensar que las personas de la región de Nueva York son la que tendrían la pontencialidad de revazar su plan tarifario, debido a que su nivel de ingreso, les permite tener ese tipo de omisiones.¿Existe evidencia de que en la mencionada región los usuarios aportan un ingreso mayor?. Por la gráfica anterior nos hace concluir que los ingresos son idénticos.\n",
    "\n",
    "Realicemos una prueba de hipótesis para contestar a esta pregunta. Usemos la notación $\\mu_{\\text{NY}}$ para denotar el ingreso promedio del la región de Nueva York y $\\mu_{\\text{resto}}$ para denotar el ingreso promedio para las restantes regiones.\n",
    "\n",
    "1. Nuestras hipótesis a plantear serán:\n",
    "\n",
    "$H_0: \\mu_{\\text{NY}} = \\mu_{\\text{resto}}$\n",
    "\n",
    "$H_a: \\mu_{\\text{NY}} \\neq \\mu_{\\text{resto}}$\n",
    "\n",
    "2. Establezcamos un nivel de significancia del 5%.\n",
    "\n",
    "3. Seleccionemos un estadístico de prueba.\n",
    "\n",
    "De manera análoga al planteamiento anterior las distribuciones muestran una configuración semejante a las distribuciones de tipo Normal. Por lo cual el estadístico de prueba deberá ser también del tipo t-student.\n"
   ]
  },
  {
   "cell_type": "code",
   "execution_count": 855,
   "metadata": {},
   "outputs": [
    {
     "name": "stdout",
     "output_type": "stream",
     "text": [
      "p-value:  0.9453109167436925\n",
      "No rechazamos la hipótesis nula\n"
     ]
    }
   ],
   "source": [
    "sample_NY    = h2.loc[h2['city'] == 'New York-Newark-Jersey', 'cargo']\n",
    "sample_resto = h2.loc[h2['city'] == 'otras regiones', 'cargo'] \n",
    "\n",
    "alpha = 0.05 # el nivel de significancia estadística crítica\n",
    "# si el valor p es menor que alfa, rechazamos la hipótesis\n",
    "\n",
    "results = st.ttest_ind(sample_NY, sample_resto)\n",
    "\n",
    "print('p-value: ', results.pvalue)\n",
    "\n",
    "if results.pvalue < alpha:\n",
    "    print(\"Rechazamos la hipótesis nula\")\n",
    "else:\n",
    "    print(\"No rechazamos la hipótesis nula\") "
   ]
  },
  {
   "cell_type": "markdown",
   "metadata": {},
   "source": [
    "<a id='end'></a> \n",
    "## /to. Conclusiones."
   ]
  },
  {
   "cell_type": "markdown",
   "metadata": {},
   "source": [
    "1. El ingreso promedio no difiere para los planes tarifareos SURF y ULTIMATE.\n",
    "2. El ingreso promedio de la región de Nueva York, no difiere al de otras regiones.\n",
    "3. Los planes tarifareos no presentan ninguna evidencia de que uno sea mas atractivo para obtener ingresos.`\n",
    "4. El número de servicios como se ve reflejado en los histogramas de los apartados **2.1, 2.2 y 2.3** aumenta al final del año.`\n",
    "4. La tarifa SURF aporta la mayor parte de los ingresos esto es debido a su mayor número de usuarios como se evidencia en el apartado **2.9**.\n",
    "<a id='indice132'></a>"
   ]
  },
  {
   "cell_type": "markdown",
   "metadata": {},
   "source": [
    "<a id='R6'></a> \n",
    "## /to. Recomendaciones. \n",
    "- `Se recomienda favorecer la campaña para el plan ULTIMATE, con objeto de aumentar su volumen de usuarios, esto en estrategia de que el plan SURF, tiene mayor número de usuarios, sin embargo los ingresos promedios de ambos planes muestran evidencia de ser los mismos.`\n",
    "- `Sería importante que se diseñara un servicio en especifico para los fines de año, y buscar captar el interes de los usuarios en incrementar el uso de los servicios en esas fechas.`\n",
    "- `Las campañas de publicidad de la compañia no deven focalizarse en la region de Nueva York, pués en los datos no hay evidencia que el ingreso sea significativo.`\n"
   ]
  },
  {
   "cell_type": "markdown",
   "metadata": {},
   "source": [
    "[Volver a Contenidos](#back)"
   ]
  }
 ],
 "metadata": {
  "kernelspec": {
   "display_name": "Python 3 (ipykernel)",
   "language": "python",
   "name": "python3"
  },
  "language_info": {
   "codemirror_mode": {
    "name": "ipython",
    "version": 3
   },
   "file_extension": ".py",
   "mimetype": "text/x-python",
   "name": "python",
   "nbconvert_exporter": "python",
   "pygments_lexer": "ipython3",
   "version": "3.9.5"
  },
  "toc": {
   "base_numbering": 1,
   "nav_menu": {},
   "number_sections": true,
   "sideBar": true,
   "skip_h1_title": true,
   "title_cell": "Table of Contents",
   "title_sidebar": "Contents",
   "toc_cell": false,
   "toc_position": {
    "height": "calc(100% - 180px)",
    "left": "10px",
    "top": "150px",
    "width": "266px"
   },
   "toc_section_display": true,
   "toc_window_display": false
  }
 },
 "nbformat": 4,
 "nbformat_minor": 2
}
