{
 "cells": [
  {
   "cell_type": "markdown",
   "metadata": {},
   "source": [
    "**INDICE------------------------------------------------------------------------------------------** <a id='back'></a>\n",
    "\n",
    "* [Introducción.](#intro)\n",
    "* [Paso 1. Análisis exploratorio de datos.](#paso1)\n",
    "    * [1.1 importar los archivos.](#paso1-1)\n",
    "    * [1.2 estudiar los datos.](#paso1-2)\n",
    "    * [1.3 asegurarte de que los tipos de datos sean correctos.](#paso1-3)\n",
    "    * [1.4 identificar los 10 principales barrios en términos de finalización del recorrido.](#paso1-4)\n",
    "    * [1.5 Gráficos: empresas de taxis y número de viajes,](#paso1-5)\n",
    "* [Paso 2.Prueba de hipótesis.](#paso2)\n",
    "* [Paso 3. Conclusiones.](#paso3)"
   ]
  },
  {
   "cell_type": "markdown",
   "metadata": {},
   "source": [
    "<a id='intro'></a>\n",
    "#  *   Introducción"
   ]
  },
  {
   "cell_type": "markdown",
   "metadata": {},
   "source": [
    "La  empresa Zuber, es una nueva asociación de viajes compartidos que se está lanzando en Chicago. Se nos ha solicitado la tarea de encontrar patrones en la información disponibles, con el fin de facilitar los procesos de mejora continua en la empresa. El objetivo de este proyecto es comprender las preferencias de los pasajeros y el impacto de los factores externos en los viajes. De esa manera aportar herramientas de desición para que la empresa eliga una estrategia de crecimiento.\n",
    "\n",
    "Se cuenta con una base de datos, en ella se analizarán los datos de los competidores y se formulará una hipótesis sobre el impacto del clima en la frecuencia de los viajes."
   ]
  },
  {
   "cell_type": "markdown",
   "metadata": {},
   "source": [
    "Descripción de los datos\n",
    "\n",
    "Una base de datos con información sobre viajes en taxi en Chicago:\n",
    "\n",
    "* __tabla neighborhoods: datos sobre los barrios de la ciudad__\n",
    " * name: nombre del barrio\n",
    " * neighborhood_id: código del barrio\n",
    "* __tabla cabs: datos sobre los taxis__\n",
    " * cab_id: código del vehículo\n",
    " * vehicle_id: ID técnico del vehículo\n",
    " * company_name: la empresa propietaria del vehículo\n",
    "* __tabla trips: datos sobre los viajes__\n",
    " * trip_id: código del viaje\n",
    " * cab_id: código del vehículo que opera el viaje\n",
    " * start_ts: fecha y hora del inicio del viaje (tiempo redondeado a la hora)\n",
    " * end_ts: fecha y hora de finalización del viaje (tiempo redondeado a la hora)\n",
    " * duration_seconds: duración del viaje en segundos\n",
    " * distance_miles: distancia del viaje en millas\n",
    " * pickup_location_id: código del barrio de recogida\n",
    " * dropoff_location_id: código del barrio de finalización\n",
    "* __tabla weather_records: datos sobre el clima__\n",
    " * record_id: código del registro meteorológico\n",
    " * ts: fecha y hora del registro (tiempo redondeado a la hora)\n",
    " * temperature: temperatura cuando se tomó el registro\n",
    " * description: breve descripción de las condiciones meteorológicas, por ejemplo, \"lluvia ligera\" o \"nubes dispersas\""
   ]
  },
  {
   "cell_type": "markdown",
   "metadata": {},
   "source": [
    "Esquema de la tabla"
   ]
  },
  {
   "attachments": {
    "image.png": {
     "image/png": "[encoded data removed]"
    }
   },
   "cell_type": "markdown",
   "metadata": {},
   "source": [
    "![image.png](attachment:image.png)"
   ]
  },
  {
   "cell_type": "markdown",
   "metadata": {},
   "source": [
    "Además de los datos que recuperaste en las tareas anteriores te han dado un segundo archivo. Ahora tienes estos dos CSV:\n",
    "\n",
    "El Archivo __/datasets/project_sql_result_01.csv__. contiene los siguientes datos:\n",
    "* company_name: nombre de la empresa de taxis\n",
    "* trips_amount: el número de viajes de cada compañía de taxis el 15 y 16 de noviembre de 2017.\n",
    "\n",
    "El Archivo __/datasets/project_sql_result_04.csv__. contiene los siguientes datos:\n",
    "* dropoff_location_name: barrios de Chicago donde finalizaron los viajes\n",
    "* average_trips: el promedio de viajes que terminaron en cada barrio en noviembre de 2017."
   ]
  },
  {
   "cell_type": "markdown",
   "metadata": {},
   "source": [
    "# <a id=paso1></a>\n",
    "##  . Análisis exploratorio de datos."
   ]
  },
  {
   "cell_type": "markdown",
   "metadata": {},
   "source": [
    ".<a id=paso1-1></a>\n",
    "###  importar los archivos."
   ]
  },
  {
   "cell_type": "code",
   "execution_count": 355,
   "metadata": {},
   "outputs": [],
   "source": [
    "# importación de librerias\n",
    "# Cargar todas las librerías\n",
    "import pandas as pd\n",
    "import numpy as np \n",
    "import matplotlib.pyplot as plt \n",
    "import seaborn as sns\n",
    "import random\n",
    "import statistics\n",
    "import math\n",
    "from datetime import datetime\n",
    "\n",
    "import numpy as np\n",
    "\n",
    "from scipy.stats import gamma\n",
    "from typing import List\n",
    "from scipy import stats as st\n",
    "\n",
    "# import important module\n",
    "import datetime\n",
    "from datetime import datetime"
   ]
  },
  {
   "cell_type": "code",
   "execution_count": 356,
   "metadata": {},
   "outputs": [
    {
     "name": "stdout",
     "output_type": "stream",
     "text": [
      "ESTRUTURA DE LA TABLA COMPAÑIAS DE TAXIS\n",
      "<class 'pandas.core.frame.DataFrame'>\n",
      "RangeIndex: 64 entries, 0 to 63\n",
      "Data columns (total 2 columns):\n",
      " #   Column        Non-Null Count  Dtype \n",
      "---  ------        --------------  ----- \n",
      " 0   company_name  64 non-null     object\n",
      " 1   trips_amount  64 non-null     int64 \n",
      "dtypes: int64(1), object(1)\n",
      "memory usage: 1.1+ KB\n",
      "\n",
      "ESTRUTURA DE LA TABLA DESTINOS DE CADA VIAJE\n",
      "<class 'pandas.core.frame.DataFrame'>\n",
      "RangeIndex: 94 entries, 0 to 93\n",
      "Data columns (total 2 columns):\n",
      " #   Column                 Non-Null Count  Dtype  \n",
      "---  ------                 --------------  -----  \n",
      " 0   dropoff_location_name  94 non-null     object \n",
      " 1   average_trips          94 non-null     float64\n",
      "dtypes: float64(1), object(1)\n",
      "memory usage: 1.6+ KB\n",
      "\n",
      "ESTRUTURA DE LA TABLA DE LOS VIAJES QUE COMENZARON EN EL LOOP EL SÁBADO Y TERMINARON EN O´HARE\n",
      "<class 'pandas.core.frame.DataFrame'>\n",
      "RangeIndex: 1068 entries, 0 to 1067\n",
      "Data columns (total 3 columns):\n",
      " #   Column              Non-Null Count  Dtype  \n",
      "---  ------              --------------  -----  \n",
      " 0   start_ts            1068 non-null   object \n",
      " 1   weather_conditions  1068 non-null   object \n",
      " 2   duration_seconds    1068 non-null   float64\n",
      "dtypes: float64(1), object(2)\n",
      "memory usage: 25.2+ KB\n"
     ]
    }
   ],
   "source": [
    "#procedemos a importar los datos y \n",
    "#abrir el archivo de la información correspondiente a las compañias de taxis\n",
    "taxis = pd.read_csv('/datasets/project_sql_result_01.csv')\n",
    "#veamos la estructura de esta tabla\n",
    "print('ESTRUTURA DE LA TABLA COMPAÑIAS DE TAXIS')\n",
    "taxis.info()\n",
    "print()\n",
    "#procedemos a importar los datos y \n",
    "#abrir el archivo refente a la información de los destinos de la ciudad de Chicago\n",
    "barrios = pd.read_csv('/datasets/project_sql_result_04.csv')\n",
    "#veamos la estructura de esta tabla\n",
    "print('ESTRUTURA DE LA TABLA DESTINOS DE CADA VIAJE')\n",
    "barrios.info()\n",
    "print()\n",
    "#creamos un dataFrame para poder cotejar la información de los viajes \n",
    "#los sábados y con trayecto Loop--->OHare\n",
    "print('ESTRUTURA DE LA TABLA DE LOS VIAJES QUE COMENZARON EN EL LOOP EL SÁBADO Y TERMINARON EN O´HARE')\n",
    "viajes_sabado =  pd.read_csv('/datasets/project_sql_result_07.csv')\n",
    "viajes_sabado.info()"
   ]
  },
  {
   "cell_type": "markdown",
   "metadata": {},
   "source": [
    ".<a id=paso1-1></a>\n",
    "###  estudiar los datos."
   ]
  },
  {
   "cell_type": "markdown",
   "metadata": {},
   "source": [
    "Verificando valores ausentes para la tabla barrios."
   ]
  },
  {
   "cell_type": "code",
   "execution_count": 357,
   "metadata": {},
   "outputs": [
    {
     "data": {
      "text/plain": [
       "dropoff_location_name    0\n",
       "average_trips            0\n",
       "dtype: int64"
      ]
     },
     "execution_count": 357,
     "metadata": {},
     "output_type": "execute_result"
    }
   ],
   "source": [
    "# calculando valores ausentes\n",
    "barrios.isna().sum()"
   ]
  },
  {
   "cell_type": "markdown",
   "metadata": {},
   "source": [
    "Verificando valores ausentes para la tabla taxis."
   ]
  },
  {
   "cell_type": "code",
   "execution_count": 358,
   "metadata": {},
   "outputs": [
    {
     "data": {
      "text/plain": [
       "company_name    0\n",
       "trips_amount    0\n",
       "dtype: int64"
      ]
     },
     "execution_count": 358,
     "metadata": {},
     "output_type": "execute_result"
    }
   ],
   "source": [
    "# calculando valores ausentes\n",
    "taxis.isna().sum()"
   ]
  },
  {
   "cell_type": "markdown",
   "metadata": {},
   "source": [
    "Verificando valores ausentes para la tabla viajes_sabado."
   ]
  },
  {
   "cell_type": "code",
   "execution_count": 359,
   "metadata": {},
   "outputs": [
    {
     "data": {
      "text/plain": [
       "start_ts              0\n",
       "weather_conditions    0\n",
       "duration_seconds      0\n",
       "dtype: int64"
      ]
     },
     "execution_count": 359,
     "metadata": {},
     "output_type": "execute_result"
    }
   ],
   "source": [
    "# calculando valores ausentes\n",
    "viajes_sabado.isna().sum()"
   ]
  },
  {
   "cell_type": "markdown",
   "metadata": {},
   "source": [
    "Ahora que no tenemos valores ausentes, es el momento de examinar los datos de cada tabla y ver que tanta información con errores puedan tener."
   ]
  },
  {
   "cell_type": "code",
   "execution_count": 360,
   "metadata": {},
   "outputs": [
    {
     "data": {
      "text/html": [
       "<div>\n",
       "<style scoped>\n",
       "    .dataframe tbody tr th:only-of-type {\n",
       "        vertical-align: middle;\n",
       "    }\n",
       "\n",
       "    .dataframe tbody tr th {\n",
       "        vertical-align: top;\n",
       "    }\n",
       "\n",
       "    .dataframe thead th {\n",
       "        text-align: right;\n",
       "    }\n",
       "</style>\n",
       "<table border=\"1\" class=\"dataframe\">\n",
       "  <thead>\n",
       "    <tr style=\"text-align: right;\">\n",
       "      <th></th>\n",
       "      <th>company_name</th>\n",
       "      <th>trips_amount</th>\n",
       "    </tr>\n",
       "  </thead>\n",
       "  <tbody>\n",
       "  </tbody>\n",
       "</table>\n",
       "</div>"
      ],
      "text/plain": [
       "Empty DataFrame\n",
       "Columns: [company_name, trips_amount]\n",
       "Index: []"
      ]
     },
     "execution_count": 360,
     "metadata": {},
     "output_type": "execute_result"
    }
   ],
   "source": [
    "# observemos si hay valores en cero o negativos en el número de viajes de cada compañía de taxis\n",
    "taxis.loc[taxis['trips_amount'] <= 0 ]"
   ]
  },
  {
   "cell_type": "code",
   "execution_count": 361,
   "metadata": {},
   "outputs": [
    {
     "name": "stdout",
     "output_type": "stream",
     "text": [
      "Empty DataFrame\n",
      "Columns: [dropoff_location_name, average_trips]\n",
      "Index: []\n"
     ]
    }
   ],
   "source": [
    "# observemos si hay valores en cero o negativos en el el promedio de viajes\n",
    "print(barrios.loc[barrios['average_trips'] <= 0 ])"
   ]
  },
  {
   "cell_type": "code",
   "execution_count": 362,
   "metadata": {},
   "outputs": [
    {
     "data": {
      "text/plain": [
       "1212.066667    1\n",
       "14.166667      1\n",
       "32.166667      1\n",
       "19.466667      1\n",
       "2420.966667    1\n",
       "              ..\n",
       "22.600000      1\n",
       "12.266667      1\n",
       "33.103448      1\n",
       "1259.766667    1\n",
       "15.166667      1\n",
       "Name: average_trips, Length: 94, dtype: int64"
      ]
     },
     "execution_count": 362,
     "metadata": {},
     "output_type": "execute_result"
    }
   ],
   "source": [
    "#listado de valores de la variable average_trips\n",
    "barrios['average_trips'].value_counts()"
   ]
  },
  {
   "cell_type": "code",
   "execution_count": 363,
   "metadata": {},
   "outputs": [
    {
     "data": {
      "text/plain": [
       "6574 - Babylon Express Inc.                1\n",
       "Leonard Cab Co                             1\n",
       "3556 - 36214 RC Andrews Cab                1\n",
       "Choice Taxi Association                    1\n",
       "5997 - 65283 AW Services Inc.              1\n",
       "                                          ..\n",
       "Star North Management LLC                  1\n",
       "Norshore Cab                               1\n",
       "Dispatch Taxi Affiliation                  1\n",
       "Patriot Taxi Dba Peace Taxi Association    1\n",
       "City Service                               1\n",
       "Name: company_name, Length: 64, dtype: int64"
      ]
     },
     "execution_count": 363,
     "metadata": {},
     "output_type": "execute_result"
    }
   ],
   "source": [
    "#listado de valores de la variable company_name\n",
    "taxis['company_name'].value_counts()"
   ]
  },
  {
   "cell_type": "code",
   "execution_count": 364,
   "metadata": {},
   "outputs": [
    {
     "data": {
      "text/plain": [
       "14       3\n",
       "29       3\n",
       "7        2\n",
       "21       2\n",
       "33       2\n",
       "15       2\n",
       "8448     1\n",
       "4383     1\n",
       "9299     1\n",
       "978      1\n",
       "1607     1\n",
       "1486     1\n",
       "5        1\n",
       "5953     1\n",
       "210      1\n",
       "2235     1\n",
       "9181     1\n",
       "3175     1\n",
       "19558    1\n",
       "428      1\n",
       "402      1\n",
       "1259     1\n",
       "10367    1\n",
       "230      1\n",
       "31       1\n",
       "1775     1\n",
       "1014     1\n",
       "250      1\n",
       "1404     1\n",
       "310      1\n",
       "37       1\n",
       "2216     1\n",
       "20       1\n",
       "3        1\n",
       "7455     1\n",
       "3355     1\n",
       "8        1\n",
       "11       1\n",
       "12       1\n",
       "13       1\n",
       "16       1\n",
       "146      1\n",
       "147      1\n",
       "7701     1\n",
       "39       1\n",
       "2070     1\n",
       "5015     1\n",
       "25       1\n",
       "27       1\n",
       "11422    1\n",
       "1296     1\n",
       "9888     1\n",
       "1955     1\n",
       "36       1\n",
       "2        1\n",
       "127      1\n",
       "Name: trips_amount, dtype: int64"
      ]
     },
     "execution_count": 364,
     "metadata": {},
     "output_type": "execute_result"
    }
   ],
   "source": [
    "#listado de valores de la variable trips_amount\n",
    "taxis['trips_amount'].value_counts()"
   ]
  },
  {
   "cell_type": "code",
   "execution_count": 365,
   "metadata": {},
   "outputs": [
    {
     "data": {
      "text/plain": [
       "1380.0    41\n",
       "1260.0    35\n",
       "1440.0    29\n",
       "1320.0    23\n",
       "1200.0    23\n",
       "          ..\n",
       "2123.0     1\n",
       "1391.0     1\n",
       "1436.0     1\n",
       "1984.0     1\n",
       "1211.0     1\n",
       "Name: duration_seconds, Length: 495, dtype: int64"
      ]
     },
     "execution_count": 365,
     "metadata": {},
     "output_type": "execute_result"
    }
   ],
   "source": [
    "#listado de valores de la variable duration_seconds\n",
    "viajes_sabado['duration_seconds'].value_counts()"
   ]
  },
  {
   "cell_type": "code",
   "execution_count": 366,
   "metadata": {},
   "outputs": [
    {
     "data": {
      "text/plain": [
       "0"
      ]
     },
     "execution_count": 366,
     "metadata": {},
     "output_type": "execute_result"
    }
   ],
   "source": [
    "#Revista para verificar que el DataFrame no haya\n",
    "#registros duplicados para el dataframe barrios\n",
    "barrios.duplicated().sum()"
   ]
  },
  {
   "cell_type": "code",
   "execution_count": 367,
   "metadata": {},
   "outputs": [
    {
     "data": {
      "text/plain": [
       "0"
      ]
     },
     "execution_count": 367,
     "metadata": {},
     "output_type": "execute_result"
    }
   ],
   "source": [
    "#Revista para verificar que el DataFrame no haya\n",
    "#registros duplicados para el dataframe taxis\n",
    "taxis.duplicated().sum()"
   ]
  },
  {
   "cell_type": "code",
   "execution_count": 368,
   "metadata": {},
   "outputs": [
    {
     "data": {
      "text/plain": [
       "197"
      ]
     },
     "execution_count": 368,
     "metadata": {},
     "output_type": "execute_result"
    }
   ],
   "source": [
    "#Revista para verificar que el DataFrame no haya\n",
    "#registros duplicados para el dataframe viajes hechos los sábados con trayecto LOOP --->O´HARE\n",
    "viajes_sabado.duplicated().sum()"
   ]
  },
  {
   "cell_type": "markdown",
   "metadata": {},
   "source": [
    "Vamos a idenficar los datos duplicados con una visualización"
   ]
  },
  {
   "cell_type": "code",
   "execution_count": 369,
   "metadata": {},
   "outputs": [
    {
     "data": {
      "text/html": [
       "<div>\n",
       "<style scoped>\n",
       "    .dataframe tbody tr th:only-of-type {\n",
       "        vertical-align: middle;\n",
       "    }\n",
       "\n",
       "    .dataframe tbody tr th {\n",
       "        vertical-align: top;\n",
       "    }\n",
       "\n",
       "    .dataframe thead th {\n",
       "        text-align: right;\n",
       "    }\n",
       "</style>\n",
       "<table border=\"1\" class=\"dataframe\">\n",
       "  <thead>\n",
       "    <tr style=\"text-align: right;\">\n",
       "      <th></th>\n",
       "      <th>start_ts</th>\n",
       "      <th>weather_conditions</th>\n",
       "      <th>duration_seconds</th>\n",
       "    </tr>\n",
       "  </thead>\n",
       "  <tbody>\n",
       "    <tr>\n",
       "      <th>62</th>\n",
       "      <td>2017-11-11 06:00:00</td>\n",
       "      <td>Good</td>\n",
       "      <td>1260.0</td>\n",
       "    </tr>\n",
       "    <tr>\n",
       "      <th>74</th>\n",
       "      <td>2017-11-11 08:00:00</td>\n",
       "      <td>Good</td>\n",
       "      <td>1380.0</td>\n",
       "    </tr>\n",
       "    <tr>\n",
       "      <th>76</th>\n",
       "      <td>2017-11-04 09:00:00</td>\n",
       "      <td>Good</td>\n",
       "      <td>1380.0</td>\n",
       "    </tr>\n",
       "    <tr>\n",
       "      <th>117</th>\n",
       "      <td>2017-11-11 07:00:00</td>\n",
       "      <td>Good</td>\n",
       "      <td>1380.0</td>\n",
       "    </tr>\n",
       "    <tr>\n",
       "      <th>119</th>\n",
       "      <td>2017-11-04 14:00:00</td>\n",
       "      <td>Good</td>\n",
       "      <td>3300.0</td>\n",
       "    </tr>\n",
       "    <tr>\n",
       "      <th>...</th>\n",
       "      <td>...</td>\n",
       "      <td>...</td>\n",
       "      <td>...</td>\n",
       "    </tr>\n",
       "    <tr>\n",
       "      <th>1054</th>\n",
       "      <td>2017-11-11 07:00:00</td>\n",
       "      <td>Good</td>\n",
       "      <td>1380.0</td>\n",
       "    </tr>\n",
       "    <tr>\n",
       "      <th>1058</th>\n",
       "      <td>2017-11-25 12:00:00</td>\n",
       "      <td>Good</td>\n",
       "      <td>1440.0</td>\n",
       "    </tr>\n",
       "    <tr>\n",
       "      <th>1062</th>\n",
       "      <td>2017-11-11 06:00:00</td>\n",
       "      <td>Good</td>\n",
       "      <td>1500.0</td>\n",
       "    </tr>\n",
       "    <tr>\n",
       "      <th>1065</th>\n",
       "      <td>2017-11-11 13:00:00</td>\n",
       "      <td>Good</td>\n",
       "      <td>2100.0</td>\n",
       "    </tr>\n",
       "    <tr>\n",
       "      <th>1066</th>\n",
       "      <td>2017-11-11 08:00:00</td>\n",
       "      <td>Good</td>\n",
       "      <td>1380.0</td>\n",
       "    </tr>\n",
       "  </tbody>\n",
       "</table>\n",
       "<p>197 rows × 3 columns</p>\n",
       "</div>"
      ],
      "text/plain": [
       "                 start_ts weather_conditions  duration_seconds\n",
       "62    2017-11-11 06:00:00               Good            1260.0\n",
       "74    2017-11-11 08:00:00               Good            1380.0\n",
       "76    2017-11-04 09:00:00               Good            1380.0\n",
       "117   2017-11-11 07:00:00               Good            1380.0\n",
       "119   2017-11-04 14:00:00               Good            3300.0\n",
       "...                   ...                ...               ...\n",
       "1054  2017-11-11 07:00:00               Good            1380.0\n",
       "1058  2017-11-25 12:00:00               Good            1440.0\n",
       "1062  2017-11-11 06:00:00               Good            1500.0\n",
       "1065  2017-11-11 13:00:00               Good            2100.0\n",
       "1066  2017-11-11 08:00:00               Good            1380.0\n",
       "\n",
       "[197 rows x 3 columns]"
      ]
     },
     "execution_count": 369,
     "metadata": {},
     "output_type": "execute_result"
    }
   ],
   "source": [
    "#creando un dataframe\n",
    "duplicateViajes_sabado = viajes_sabado[viajes_sabado.duplicated()]\n",
    "\n",
    "#Observando los datos duplicados\n",
    "duplicateViajes_sabado"
   ]
  },
  {
   "cell_type": "code",
   "execution_count": 370,
   "metadata": {},
   "outputs": [],
   "source": [
    "#eliminado los registro duplicados\n",
    "viajes_sabado = viajes_sabado.drop_duplicates()"
   ]
  },
  {
   "cell_type": "code",
   "execution_count": 371,
   "metadata": {},
   "outputs": [
    {
     "data": {
      "text/plain": [
       "0"
      ]
     },
     "execution_count": 371,
     "metadata": {},
     "output_type": "execute_result"
    }
   ],
   "source": [
    "#verificamos que ya no haya valores duplicados\n",
    "viajes_sabado.duplicated().sum()"
   ]
  },
  {
   "cell_type": "markdown",
   "metadata": {},
   "source": [
    "Podemos concluir que ni hay valores duplicados ni raros en las viajes_sabado, tablas taxis y barrios."
   ]
  },
  {
   "cell_type": "markdown",
   "metadata": {},
   "source": [
    ".<a id=paso1-3></a>\n",
    "###  asegurarte de que los tipos de datos sean correctos."
   ]
  },
  {
   "cell_type": "code",
   "execution_count": 372,
   "metadata": {},
   "outputs": [
    {
     "data": {
      "text/plain": [
       "StringDtype"
      ]
     },
     "execution_count": 372,
     "metadata": {},
     "output_type": "execute_result"
    }
   ],
   "source": [
    "#cambiamos el tipo de datos para poder potenciar su uso en un análisis gráfico\n",
    "taxis['company_name'] = taxis['company_name'].astype('string')\n",
    "taxis['company_name'].dtypes\n"
   ]
  },
  {
   "cell_type": "code",
   "execution_count": 373,
   "metadata": {},
   "outputs": [
    {
     "data": {
      "text/plain": [
       "StringDtype"
      ]
     },
     "execution_count": 373,
     "metadata": {},
     "output_type": "execute_result"
    }
   ],
   "source": [
    "#cambiamos el tipo de datos para poder potenciar su uso en un análisis gráfico\n",
    "barrios['dropoff_location_name'] = barrios['dropoff_location_name'].astype('string')\n",
    "barrios['dropoff_location_name'].dtypes"
   ]
  },
  {
   "cell_type": "code",
   "execution_count": 374,
   "metadata": {},
   "outputs": [
    {
     "data": {
      "text/plain": [
       "StringDtype"
      ]
     },
     "execution_count": 374,
     "metadata": {},
     "output_type": "execute_result"
    }
   ],
   "source": [
    "#cambiamos el tipo de datos para poder potenciar su uso en un análisis estadístico\n",
    "viajes_sabado['weather_conditions'] = viajes_sabado['weather_conditions'].astype('string')\n",
    "viajes_sabado['weather_conditions'].dtypes"
   ]
  },
  {
   "cell_type": "code",
   "execution_count": 375,
   "metadata": {},
   "outputs": [
    {
     "data": {
      "text/plain": [
       "dtype('<M8[ns]')"
      ]
     },
     "execution_count": 375,
     "metadata": {},
     "output_type": "execute_result"
    }
   ],
   "source": [
    "#cambiamos el tipo de datos para poder potenciar su uso en un análisis estadístico\n",
    "viajes_sabado['start_ts'] =  pd.to_datetime(viajes_sabado['start_ts'], format='%Y-%m-%d %H:%M:%S')\n",
    "viajes_sabado['start_ts'].dtypes"
   ]
  },
  {
   "cell_type": "markdown",
   "metadata": {},
   "source": [
    ".<a id=paso1-4></a>\n",
    "### identificar los 10 principales barrios en términos de finalización del recorrido."
   ]
  },
  {
   "cell_type": "markdown",
   "metadata": {},
   "source": [
    "Presentamos el listado y a continuación un gráfico de barras para mejorar la visualización de estos datos."
   ]
  },
  {
   "cell_type": "code",
   "execution_count": 376,
   "metadata": {},
   "outputs": [
    {
     "data": {
      "text/html": [
       "<div>\n",
       "<style scoped>\n",
       "    .dataframe tbody tr th:only-of-type {\n",
       "        vertical-align: middle;\n",
       "    }\n",
       "\n",
       "    .dataframe tbody tr th {\n",
       "        vertical-align: top;\n",
       "    }\n",
       "\n",
       "    .dataframe thead th {\n",
       "        text-align: right;\n",
       "    }\n",
       "</style>\n",
       "<table border=\"1\" class=\"dataframe\">\n",
       "  <thead>\n",
       "    <tr style=\"text-align: right;\">\n",
       "      <th></th>\n",
       "      <th></th>\n",
       "      <th>average_trips</th>\n",
       "    </tr>\n",
       "    <tr>\n",
       "      <th></th>\n",
       "      <th>dropoff_location_name</th>\n",
       "      <th></th>\n",
       "    </tr>\n",
       "  </thead>\n",
       "  <tbody>\n",
       "    <tr>\n",
       "      <th>0</th>\n",
       "      <th>Loop</th>\n",
       "      <td>10727.466667</td>\n",
       "    </tr>\n",
       "    <tr>\n",
       "      <th>1</th>\n",
       "      <th>River North</th>\n",
       "      <td>9523.666667</td>\n",
       "    </tr>\n",
       "    <tr>\n",
       "      <th>2</th>\n",
       "      <th>Streeterville</th>\n",
       "      <td>6664.666667</td>\n",
       "    </tr>\n",
       "    <tr>\n",
       "      <th>3</th>\n",
       "      <th>West Loop</th>\n",
       "      <td>5163.666667</td>\n",
       "    </tr>\n",
       "    <tr>\n",
       "      <th>4</th>\n",
       "      <th>O'Hare</th>\n",
       "      <td>2546.900000</td>\n",
       "    </tr>\n",
       "    <tr>\n",
       "      <th>5</th>\n",
       "      <th>Lake View</th>\n",
       "      <td>2420.966667</td>\n",
       "    </tr>\n",
       "    <tr>\n",
       "      <th>6</th>\n",
       "      <th>Grant Park</th>\n",
       "      <td>2068.533333</td>\n",
       "    </tr>\n",
       "    <tr>\n",
       "      <th>7</th>\n",
       "      <th>Museum Campus</th>\n",
       "      <td>1510.000000</td>\n",
       "    </tr>\n",
       "    <tr>\n",
       "      <th>8</th>\n",
       "      <th>Gold Coast</th>\n",
       "      <td>1364.233333</td>\n",
       "    </tr>\n",
       "    <tr>\n",
       "      <th>9</th>\n",
       "      <th>Sheffield &amp; DePaul</th>\n",
       "      <td>1259.766667</td>\n",
       "    </tr>\n",
       "  </tbody>\n",
       "</table>\n",
       "</div>"
      ],
      "text/plain": [
       "                         average_trips\n",
       "  dropoff_location_name               \n",
       "0 Loop                    10727.466667\n",
       "1 River North              9523.666667\n",
       "2 Streeterville            6664.666667\n",
       "3 West Loop                5163.666667\n",
       "4 O'Hare                   2546.900000\n",
       "5 Lake View                2420.966667\n",
       "6 Grant Park               2068.533333\n",
       "7 Museum Campus            1510.000000\n",
       "8 Gold Coast               1364.233333\n",
       "9 Sheffield & DePaul       1259.766667"
      ]
     },
     "execution_count": 376,
     "metadata": {},
     "output_type": "execute_result"
    }
   ],
   "source": [
    "#cambianos el indice para obtener la información y no las claves numéricas del índice\n",
    "barrios.set_index(\"dropoff_location_name\", drop = True,  append=True, inplace = True)\n",
    "barrios = barrios.sort_values(by = 'average_trips', \n",
    "                              ascending= False)\n",
    "barrios.head(10)"
   ]
  },
  {
   "cell_type": "code",
   "execution_count": 377,
   "metadata": {},
   "outputs": [
    {
     "data": {
      "image/png": "[encoded data removed]",
      "text/plain": [
       "<Figure size 504x504 with 1 Axes>"
      ]
     },
     "metadata": {
      "needs_background": "light"
     },
     "output_type": "display_data"
    }
   ],
   "source": [
    "# Presentando los datos de las dos variables del gráfico \n",
    "# con solo los 10 primeros lugares\n",
    "\n",
    "\n",
    "barrios10 = [\"Sheffield & DePaul\", \"Gold Coast\", \"Museum Campus\", \"Grant Park\", \"Lake View\",\n",
    "             \"O'Hare\", \"West Loop\", \"Streeterville\", \"River North\", \"Loop\"]    \n",
    "average_trips=[1259.766667, 1364.233333, 1510.000000, 2068.533333, 2420.966667,\n",
    "               2546.900000, 5163.666667, 6664.666667, 9523.666667, 10727.466667 ]    \n",
    "    \n",
    "plt.figure(figsize=[7, 7])\n",
    "col_map = plt.get_cmap('Paired')\n",
    "\n",
    "# hacemos la declaración del gráfico horizontal\n",
    "plt.barh(barrios10, average_trips, height=0.6, color=col_map.colors, \n",
    "         edgecolor='k', linewidth=2)\n",
    "\n",
    "plt.title('Principales barrios en términos de finalización del recorrido', fontsize=15, fontweight ='bold')\n",
    "plt.xlabel('tiempos de los traslasdos', fontsize=10, fontweight ='bold')\n",
    "plt.ylabel('Destinos', fontsize=10, fontweight ='bold')\n",
    "plt.grid(True)\n",
    "plt.show() "
   ]
  },
  {
   "cell_type": "markdown",
   "metadata": {},
   "source": [
    "En el gráfico de arriba se observa, que los principales destinos que destacan sobre las demas son:\n",
    "\n",
    " * Loop\n",
    " * River North\n",
    " * Streeteville\n",
    " * West Loop\n",
    " \n",
    " Todas arriba de los 4000 viajes en promedio."
   ]
  },
  {
   "cell_type": "markdown",
   "metadata": {},
   "source": [
    ".<a id=paso1-5></a>\n",
    "### Gráfico: empresas de taxis y número de viajes."
   ]
  },
  {
   "cell_type": "code",
   "execution_count": 378,
   "metadata": {},
   "outputs": [
    {
     "data": {
      "text/html": [
       "<div>\n",
       "<style scoped>\n",
       "    .dataframe tbody tr th:only-of-type {\n",
       "        vertical-align: middle;\n",
       "    }\n",
       "\n",
       "    .dataframe tbody tr th {\n",
       "        vertical-align: top;\n",
       "    }\n",
       "\n",
       "    .dataframe thead th {\n",
       "        text-align: right;\n",
       "    }\n",
       "</style>\n",
       "<table border=\"1\" class=\"dataframe\">\n",
       "  <thead>\n",
       "    <tr style=\"text-align: right;\">\n",
       "      <th></th>\n",
       "      <th>trips_amount</th>\n",
       "    </tr>\n",
       "    <tr>\n",
       "      <th>company_name</th>\n",
       "      <th></th>\n",
       "    </tr>\n",
       "  </thead>\n",
       "  <tbody>\n",
       "    <tr>\n",
       "      <th>Flash Cab</th>\n",
       "      <td>19558</td>\n",
       "    </tr>\n",
       "    <tr>\n",
       "      <th>Taxi Affiliation Services</th>\n",
       "      <td>11422</td>\n",
       "    </tr>\n",
       "    <tr>\n",
       "      <th>Medallion Leasing</th>\n",
       "      <td>10367</td>\n",
       "    </tr>\n",
       "    <tr>\n",
       "      <th>Yellow Cab</th>\n",
       "      <td>9888</td>\n",
       "    </tr>\n",
       "    <tr>\n",
       "      <th>Taxi Affiliation Service Yellow</th>\n",
       "      <td>9299</td>\n",
       "    </tr>\n",
       "    <tr>\n",
       "      <th>Chicago Carriage Cab Corp</th>\n",
       "      <td>9181</td>\n",
       "    </tr>\n",
       "    <tr>\n",
       "      <th>City Service</th>\n",
       "      <td>8448</td>\n",
       "    </tr>\n",
       "    <tr>\n",
       "      <th>Sun Taxi</th>\n",
       "      <td>7701</td>\n",
       "    </tr>\n",
       "    <tr>\n",
       "      <th>Star North Management LLC</th>\n",
       "      <td>7455</td>\n",
       "    </tr>\n",
       "    <tr>\n",
       "      <th>Blue Ribbon Taxi Association Inc.</th>\n",
       "      <td>5953</td>\n",
       "    </tr>\n",
       "  </tbody>\n",
       "</table>\n",
       "</div>"
      ],
      "text/plain": [
       "                                   trips_amount\n",
       "company_name                                   \n",
       "Flash Cab                                 19558\n",
       "Taxi Affiliation Services                 11422\n",
       "Medallion Leasing                         10367\n",
       "Yellow Cab                                 9888\n",
       "Taxi Affiliation Service Yellow            9299\n",
       "Chicago Carriage Cab Corp                  9181\n",
       "City Service                               8448\n",
       "Sun Taxi                                   7701\n",
       "Star North Management LLC                  7455\n",
       "Blue Ribbon Taxi Association Inc.          5953"
      ]
     },
     "execution_count": 378,
     "metadata": {},
     "output_type": "execute_result"
    }
   ],
   "source": [
    "#cambianos el indice para obtener la información y no las claves numéricas del índice\n",
    "taxis.set_index(\"company_name\", inplace = True)\n",
    "taxis = taxis.sort_values(by = 'trips_amount', \n",
    "                         ascending=False)\n",
    "taxis.head(10)"
   ]
  },
  {
   "cell_type": "code",
   "execution_count": 379,
   "metadata": {},
   "outputs": [
    {
     "data": {
      "image/png": "[encoded data removed]",
      "text/plain": [
       "<Figure size 504x504 with 1 Axes>"
      ]
     },
     "metadata": {
      "needs_background": "light"
     },
     "output_type": "display_data"
    }
   ],
   "source": [
    "# Presentando los datos de las dos variables del gráfico \n",
    "# con solo las 10 primeras compañias de taxis\n",
    "                 \n",
    "taxis10 = [\"Blue Ribbon Taxi Association Inc.\", \"Star North Management LLC\", \"Sun Taxi\", \"City Service\",\n",
    "           \"Chicago Carriage Cab Corp\", \"Taxi Affiliation Service Yellow\", \"Yellow Cab\", \"Medallion Leasing\",\n",
    "           \"Taxi Affiliation Services\", \"Flash Cab\"]\n",
    "trips_amount = [5953, 7455, 7701, 8448, 9181, 9299, 9888, 10367, 11422, 19558]\n",
    "\n",
    "plt.figure(figsize=[7, 7])\n",
    "col_map = plt.get_cmap('Paired')\n",
    "\n",
    "# hacemos la declaración del gráfico horizontal\n",
    "plt.barh(taxis10, trips_amount, height=0.6, color=col_map.colors, \n",
    "         edgecolor='k', linewidth=2)\n",
    "\n",
    "plt.title('Principales Compañias de Taxis con más viajes', fontsize=15, fontweight ='bold')\n",
    "plt.xlabel('viajes', fontsize=10, fontweight ='bold')\n",
    "plt.ylabel('Compañias de taxis', fontsize=10, fontweight ='bold')\n",
    "plt.grid(True)\n",
    "plt.show() "
   ]
  },
  {
   "cell_type": "markdown",
   "metadata": {},
   "source": [
    "En el gráfico de arriba podemos observar una clara preferencia porla compañia \"Flash Cab\", sobre sus demás competidoras."
   ]
  },
  {
   "cell_type": "markdown",
   "metadata": {},
   "source": [
    "Es importante destacar que los datos del dataFrame '*taxis*' los datos solo reflejan los de los días 15 y 16 de Noviembre. Y entre tanto los datos del dataFrame '*barrios*' contemplan todo el mes de Noviembre del 2017."
   ]
  },
  {
   "cell_type": "markdown",
   "metadata": {},
   "source": [
    "<a id=paso2></a>\n",
    "##  . Prueba de hipótesis. "
   ]
  },
  {
   "cell_type": "raw",
   "metadata": {},
   "source": [
    "\"La duración promedio de los viajes desde el Loop hasta el Aeropuerto Internacional O'Hare cambia los sábados lluviosos\"."
   ]
  },
  {
   "cell_type": "markdown",
   "metadata": {},
   "source": [
    "Como estamos buscando confirmar si, en la media de la muestra de los viajes cambio, podemos afirmar que tenemos un caso de hipótesis sobre la igualdad de las medias de dos muestras."
   ]
  },
  {
   "cell_type": "markdown",
   "metadata": {},
   "source": [
    "Por lo que podemos ver, para los dos planes la media parece estar muy coincidente. Aunque ¿Lo será esta diferencia que vemos estadísticamente significativa?. \n",
    "\n",
    "Realicemos una prueba de hipótesis para contestar a esta pregunta. Usemos la notación $\\mu_{\\text{lluvia}}$ para denotar la media de los registros que tienen lluvia y $\\mu_{\\text{sin lluvia}}$ para denotar la media de los registros en donde hay lluvia en los viajes.\n",
    "\n",
    "1. Nuestras hipótesis a plantear serán:\n",
    "\n",
    "$H_0: \\mu_{\\text{lluvia}} = \\mu_{\\text{sin lluvia}}$\n",
    "\n",
    "$H_a: \\mu_{\\text{lluvia}} \\neq \\mu_{\\text{sin lluvia}}$\n",
    "\n",
    "2. Establezcamos un nivel de significancia del 5%.\n",
    "\n",
    "3. Seleccionemos un estadístico de prueba.\n",
    "\n",
    "Para que sea confiable el uso del estadístico debemos obtener una muestra de mas datos, la teoría nos dice de al menos 30 valores. Vamos a usar los datos de la consultas SQL, realizadas previa capturadas anteriormente. Se obtendrán los suficientes para la cantidad de registros que necesita esta prueba.\n",
    "\n",
    "Si en el apartado **3.3 Descripción de las distribuciones** asumimos que la distribución de la variable \"ingreso promedio\" es del tipo Gamma, entonces deberiamos escoger un estadístico basado en la distribución Gamma; más sin embargo la gráfica anterior nos muestra una tendencia de las funciones de distribución a comportarse como distribuciones del tipo Normal.\n"
   ]
  },
  {
   "cell_type": "markdown",
   "metadata": {},
   "source": [
    "<div class=\"alert alert-block alert-success\">\n",
    "<b>Comentario del revisor</b> <a class=\"tocSkip\"></a>\n",
    "    \n",
    "Buen trabajo con el planteamiento de hipótesis.\n",
    "</div>"
   ]
  },
  {
   "cell_type": "markdown",
   "metadata": {},
   "source": [
    "Recordando la consulta realizada sobre los viajes hechos los días de sábado y con trayecto de Loop hacia O' Hare."
   ]
  },
  {
   "cell_type": "code",
   "execution_count": 380,
   "metadata": {},
   "outputs": [
    {
     "data": {
      "text/html": [
       "<div>\n",
       "<style scoped>\n",
       "    .dataframe tbody tr th:only-of-type {\n",
       "        vertical-align: middle;\n",
       "    }\n",
       "\n",
       "    .dataframe tbody tr th {\n",
       "        vertical-align: top;\n",
       "    }\n",
       "\n",
       "    .dataframe thead th {\n",
       "        text-align: right;\n",
       "    }\n",
       "</style>\n",
       "<table border=\"1\" class=\"dataframe\">\n",
       "  <thead>\n",
       "    <tr style=\"text-align: right;\">\n",
       "      <th></th>\n",
       "      <th>start_ts</th>\n",
       "      <th>weather_conditions</th>\n",
       "      <th>duration_seconds</th>\n",
       "    </tr>\n",
       "  </thead>\n",
       "  <tbody>\n",
       "    <tr>\n",
       "      <th>0</th>\n",
       "      <td>2017-11-25 16:00:00</td>\n",
       "      <td>Good</td>\n",
       "      <td>2410.0</td>\n",
       "    </tr>\n",
       "    <tr>\n",
       "      <th>1</th>\n",
       "      <td>2017-11-25 14:00:00</td>\n",
       "      <td>Good</td>\n",
       "      <td>1920.0</td>\n",
       "    </tr>\n",
       "    <tr>\n",
       "      <th>2</th>\n",
       "      <td>2017-11-25 12:00:00</td>\n",
       "      <td>Good</td>\n",
       "      <td>1543.0</td>\n",
       "    </tr>\n",
       "    <tr>\n",
       "      <th>3</th>\n",
       "      <td>2017-11-04 10:00:00</td>\n",
       "      <td>Good</td>\n",
       "      <td>2512.0</td>\n",
       "    </tr>\n",
       "    <tr>\n",
       "      <th>4</th>\n",
       "      <td>2017-11-11 07:00:00</td>\n",
       "      <td>Good</td>\n",
       "      <td>1440.0</td>\n",
       "    </tr>\n",
       "    <tr>\n",
       "      <th>...</th>\n",
       "      <td>...</td>\n",
       "      <td>...</td>\n",
       "      <td>...</td>\n",
       "    </tr>\n",
       "    <tr>\n",
       "      <th>1060</th>\n",
       "      <td>2017-11-04 14:00:00</td>\n",
       "      <td>Good</td>\n",
       "      <td>2700.0</td>\n",
       "    </tr>\n",
       "    <tr>\n",
       "      <th>1061</th>\n",
       "      <td>2017-11-18 16:00:00</td>\n",
       "      <td>Bad</td>\n",
       "      <td>2186.0</td>\n",
       "    </tr>\n",
       "    <tr>\n",
       "      <th>1063</th>\n",
       "      <td>2017-11-25 11:00:00</td>\n",
       "      <td>Good</td>\n",
       "      <td>0.0</td>\n",
       "    </tr>\n",
       "    <tr>\n",
       "      <th>1064</th>\n",
       "      <td>2017-11-11 10:00:00</td>\n",
       "      <td>Good</td>\n",
       "      <td>1318.0</td>\n",
       "    </tr>\n",
       "    <tr>\n",
       "      <th>1067</th>\n",
       "      <td>2017-11-04 16:00:00</td>\n",
       "      <td>Bad</td>\n",
       "      <td>2834.0</td>\n",
       "    </tr>\n",
       "  </tbody>\n",
       "</table>\n",
       "<p>871 rows × 3 columns</p>\n",
       "</div>"
      ],
      "text/plain": [
       "                start_ts weather_conditions  duration_seconds\n",
       "0    2017-11-25 16:00:00               Good            2410.0\n",
       "1    2017-11-25 14:00:00               Good            1920.0\n",
       "2    2017-11-25 12:00:00               Good            1543.0\n",
       "3    2017-11-04 10:00:00               Good            2512.0\n",
       "4    2017-11-11 07:00:00               Good            1440.0\n",
       "...                  ...                ...               ...\n",
       "1060 2017-11-04 14:00:00               Good            2700.0\n",
       "1061 2017-11-18 16:00:00                Bad            2186.0\n",
       "1063 2017-11-25 11:00:00               Good               0.0\n",
       "1064 2017-11-11 10:00:00               Good            1318.0\n",
       "1067 2017-11-04 16:00:00                Bad            2834.0\n",
       "\n",
       "[871 rows x 3 columns]"
      ]
     },
     "execution_count": 380,
     "metadata": {},
     "output_type": "execute_result"
    }
   ],
   "source": [
    "#dataframe con los datos de la consulta en SQL\n",
    "viajes_sabado"
   ]
  },
  {
   "cell_type": "code",
   "execution_count": 381,
   "metadata": {},
   "outputs": [
    {
     "name": "stdout",
     "output_type": "stream",
     "text": [
      "p-value:  7.397770692813604e-08\n",
      "Rechazamos la hipótesis nula\n"
     ]
    }
   ],
   "source": [
    "#realizamos la partición del DataFrame uno con los dias lluviosos y otro\n",
    "#sin dias lluviosos\n",
    "viajes_sabado_sin_lluvia =  viajes_sabado.loc[viajes_sabado['weather_conditions'] == 'Good', \n",
    "                                              'duration_seconds']\n",
    "viajes_sabado_11uvia = viajes_sabado.loc[viajes_sabado['weather_conditions'] == 'Bad', \n",
    "                                         'duration_seconds']\n",
    "\n",
    "alpha = 0.05 # el nivel de significancia estadística crítica\n",
    "# si el valor p es menor que alfa, rechazamos la hipótesis\n",
    "\n",
    "results = st.ttest_ind(viajes_sabado_sin_lluvia, viajes_sabado_11uvia)\n",
    "\n",
    "print('p-value: ', results.pvalue)\n",
    "\n",
    "if results.pvalue < alpha:\n",
    "    print(\"Rechazamos la hipótesis nula\")\n",
    "else:\n",
    "    print(\"No rechazamos la hipótesis nula\") "
   ]
  },
  {
   "cell_type": "markdown",
   "metadata": {},
   "source": [
    "<a id=paso3></a>\n",
    "##  . Conclusiones."
   ]
  },
  {
   "cell_type": "markdown",
   "metadata": {},
   "source": [
    "Se realizó una exploración de los registro de una base de datos que preserva la información de los viajes de en el area de la ciudad de Chicago, solicitados atravez de diversas compañias de taxis.\n",
    "\n",
    "Está información fué recolectada con el propósito, de analizar evidencia que de sustento de patrones de comportamiento de los clientes que reciben el servicio de taxi urbano.\n",
    "\n",
    "Posteriormente se amplio el análisis de la muestra de viajes con dos dataframes que resguardaban la información en uno de los numeros de viajes hechos por cada compañia durante el mes de Noviembre 2017.\n",
    "De igual forma para el otro dataframe pero con la información de los barrios destino de la ciudad de Chicago.\n",
    "\n",
    "Se depuro registros duplicados, de tres dataframes. Además de comprobar la inexistencia de datos nulos y raros.\n",
    "\n",
    "Posteriormente se analizó por separado la información de cada DataFrame, para los tres siguientes:\n",
    "* barrios-que contiene la información de los destinos y número de veces aparecido en los registros -\n",
    "* taxis -que contiene la información de los diversas compañias con los números de viajes hechos durante el mes de noviembre.\n",
    "* viajes_sabado -con la información de los viajes registrados cada sábado con origen en el barrio LOOP y destino en el barrio OHARE.\n",
    "\n",
    "Se depuro los registros duplicados si era el caso, junto con la busqueda de las existencias de valores nulos.\n",
    "\n",
    "Se procede a registrar cuales son las compañias con más viajes en el periodo de tiempo de los días de Noviembre del 2017. Después se estableció mismo objetivo para los registros de la tabla destinos por viajes, obteniendo los barrios con mucho mas destinos elegidos por viaje. Lo anterior usando gráficos de barras para visualizar la información y observar los primeros lugares.\n",
    "\n",
    "Por último se formulo un análisis estadístido a manera de hipotesís. De la muestra obtenida de viajes los dias sabados con destino en Ohare y salida en Loop. Encontrando influencia en el clima en la duración de los viajes."
   ]
  },
  {
   "cell_type": "markdown",
   "metadata": {},
   "source": [
    "**RECOMENDACIONES**\n",
    "+ Las empresas que lider en Noviembre 2017 fue con supremacia 'Flash Cab'. Se debe buscar profundizar porque la empresa logró tal resultado, ¿será mayor flotilla que la de sus competidores?; se recomienda buscar enfocar los esfuerzos de alianza con tal compañia para favorecer a los clientes.\n",
    "+ Los destinos mas solicitados en Noviembre 2017 fuerón Loop, River North, Streeteville, West Loop. Se recomienda armar estrategias de venta para personas que viven en esos barrio.\n",
    "+ Devido a que los viajes si son influidos por las condiciones climáticas, hay que recomendar ala empresa que realice sus promociones buscando un análisis previo de los reportes del clíma.\n"
   ]
  },
  {
   "cell_type": "markdown",
   "metadata": {},
   "source": [
    "[Volver a Contenidos](#back)"
   ]
  }
 ],
 "metadata": {
  "kernelspec": {
   "display_name": "Python 3 (ipykernel)",
   "language": "python",
   "name": "python3"
  },
  "language_info": {
   "codemirror_mode": {
    "name": "ipython",
    "version": 3
   },
   "file_extension": ".py",
   "mimetype": "text/x-python",
   "name": "python",
   "nbconvert_exporter": "python",
   "pygments_lexer": "ipython3",
   "version": "3.9.5"
  },
  "toc": {
   "base_numbering": 1,
   "nav_menu": {},
   "number_sections": true,
   "sideBar": true,
   "skip_h1_title": true,
   "title_cell": "Table of Contents",
   "title_sidebar": "Contents",
   "toc_cell": false,
   "toc_position": {
    "height": "calc(100% - 180px)",
    "left": "10px",
    "top": "150px",
    "width": "165px"
   },
   "toc_section_display": true,
   "toc_window_display": true
  }
 },
 "nbformat": 4,
 "nbformat_minor": 2
}
