{
 "cells": [
  {
   "cell_type": "markdown",
   "metadata": {
    "id": "E0vqbgi9ay0H"
   },
   "source": [
    "# Yandex.Music"
   ]
  },
  {
   "cell_type": "markdown",
   "metadata": {
    "id": "fhq_eyov_Zcs"
   },
   "source": [
    "# Contents <a id='back'></a>\n",
    "\n",
    "* [Introducción](#intro)\n",
    "* [Etapa 1. Descripción de los datos](#data_review)\n",
    "    * [Conclusions](#data_review_conclusions)\n",
    "* [Etapa 2. Data preprocessing](#data_preprocessing)\n",
    "    * [2.1 Estilo del encabezado](#header_style)\n",
    "    * [2.2 Valores ausentes](#missing_values)\n",
    "    * [2.3 Duplicados](#duplicates)\n",
    "    * [2.4 Conclusiones](#data_preprocessing_conclusions)\n",
    "* [Etapa 3. Prueba de hipótesis](#hypotheses)\n",
    "    * [3.1 Hipótesis 1: comparar el comportamiento del usuario en las dos ciudades](#activity)\n",
    "    * [3.2 Hipótesis 2: música al principio y al final de la semana](#week)\n",
    "    * [3.3 Hipótesis 3: preferencias de género en Springfield y Shelbyville](#genre)\n",
    "* [Conclusiones](#end)"
   ]
  },
  {
   "cell_type": "markdown",
   "metadata": {
    "id": "VUC88oWjTJw2"
   },
   "source": [
    "## Introducción <a id='intro'></a>\n",
    "Siempre que investiguemos, necesitamos formular hipótesis que después podamos probar. A veces aceptamos estas hipótesis; otras, las rechazamos. Para tomar las decisiones correctas, una empresa debe ser capaz de entender si está haciendo las suposiciones correctas.\n",
    "\n",
    "En este proyecto, compararás las preferencias musicales de las ciudades de Springfield y Shelbyville. Estudiarás datos reales de Yandex.Music para probar las hipótesis de abajo y comparar el comportamiento del usuario de esas dos ciudades.\n",
    "\n",
    "### Objetivo: \n",
    "Prueba tres hipótesis: \n",
    "1. La actividad de los usuarios difiere según el día de la semana y dependiendo de la ciudad. \n",
    "2. Los lunes por la mañana, los habitantes de Springfield y Shelbyville escuchan diferentes géneros. Lo mismo ocurre con los viernes por la noche. \n",
    "3. Los oyentes de Springfield y Shelbyville tienen preferencias distintas. En Springfield prefieren el pop mientras que en Shelbyville hay más aficionados al rap.\n",
    "\n",
    "### Etapas \n",
    "Los datos del comportamiento del usuario se almacenan en el archivo `/datasets/music_project_en.csv`. No hay ninguna información sobre la calidad de los datos así que necesitarás examinarlos antes de probar las hipótesis. \n",
    "\n",
    "Primero, evaluarás la calidad de los datos y verás si los problemas son significativos. Entonces, durante el preprocesamiento de datos, tomarás en cuenta los problemas más críticos.\n",
    " \n",
    "Tu proyecto consistirá en tres etapas:\n",
    " 1. Descripción de los datos\n",
    " 2. Preprocesamiento de datos\n",
    " 3. Prueba de hipótesis\n",
    " \n",
    "[Volver a Contenidos](#back)"
   ]
  },
  {
   "cell_type": "markdown",
   "metadata": {
    "id": "Ml1hmfXC_Zcs"
   },
   "source": [
    " <a id='data_review'></a>\n",
    " ## Etapa 1. Descripción de los datos\n",
    "\n",
    "Abre los datos en Yandex.Music y examínalos."
   ]
  },
  {
   "cell_type": "markdown",
   "metadata": {
    "id": "57eAOGIz_Zcs"
   },
   "source": [
    "Necesitarás `pandas` así que impórtalo."
   ]
  },
  {
   "cell_type": "code",
   "execution_count": 42,
   "metadata": {
    "id": "AXN7PHPN_Zcs"
   },
   "outputs": [],
   "source": [
    "# importando pandas\n",
    "import pandas as pd"
   ]
  },
  {
   "cell_type": "markdown",
   "metadata": {
    "id": "SG23P8tt_Zcs"
   },
   "source": [
    "Lee el archivo `music_project_en.csv` de la carpeta `/datasets/` y guárdalo en la variable `df`:"
   ]
  },
  {
   "cell_type": "code",
   "execution_count": 43,
   "metadata": {
    "id": "fFVu7vqh_Zct"
   },
   "outputs": [
    {
     "data": {
      "text/html": [
       "<div>\n",
       "<style scoped>\n",
       "    .dataframe tbody tr th:only-of-type {\n",
       "        vertical-align: middle;\n",
       "    }\n",
       "\n",
       "    .dataframe tbody tr th {\n",
       "        vertical-align: top;\n",
       "    }\n",
       "\n",
       "    .dataframe thead th {\n",
       "        text-align: right;\n",
       "    }\n",
       "</style>\n",
       "<table border=\"1\" class=\"dataframe\">\n",
       "  <thead>\n",
       "    <tr style=\"text-align: right;\">\n",
       "      <th></th>\n",
       "      <th>userID</th>\n",
       "      <th>Track</th>\n",
       "      <th>artist</th>\n",
       "      <th>genre</th>\n",
       "      <th>City</th>\n",
       "      <th>time</th>\n",
       "      <th>Day</th>\n",
       "    </tr>\n",
       "  </thead>\n",
       "  <tbody>\n",
       "    <tr>\n",
       "      <th>count</th>\n",
       "      <td>65079</td>\n",
       "      <td>63736</td>\n",
       "      <td>57512</td>\n",
       "      <td>63881</td>\n",
       "      <td>65079</td>\n",
       "      <td>65079</td>\n",
       "      <td>65079</td>\n",
       "    </tr>\n",
       "    <tr>\n",
       "      <th>unique</th>\n",
       "      <td>41748</td>\n",
       "      <td>39666</td>\n",
       "      <td>37806</td>\n",
       "      <td>268</td>\n",
       "      <td>2</td>\n",
       "      <td>20392</td>\n",
       "      <td>3</td>\n",
       "    </tr>\n",
       "    <tr>\n",
       "      <th>top</th>\n",
       "      <td>A8AE9169</td>\n",
       "      <td>Brand</td>\n",
       "      <td>Kartvelli</td>\n",
       "      <td>pop</td>\n",
       "      <td>Springfield</td>\n",
       "      <td>21:51:22</td>\n",
       "      <td>Friday</td>\n",
       "    </tr>\n",
       "    <tr>\n",
       "      <th>freq</th>\n",
       "      <td>76</td>\n",
       "      <td>136</td>\n",
       "      <td>136</td>\n",
       "      <td>8850</td>\n",
       "      <td>45360</td>\n",
       "      <td>14</td>\n",
       "      <td>23149</td>\n",
       "    </tr>\n",
       "  </tbody>\n",
       "</table>\n",
       "</div>"
      ],
      "text/plain": [
       "          userID  Track     artist  genre       City        time     Day\n",
       "count      65079  63736      57512  63881        65079     65079   65079\n",
       "unique     41748  39666      37806    268            2     20392       3\n",
       "top     A8AE9169  Brand  Kartvelli    pop  Springfield  21:51:22  Friday\n",
       "freq          76    136        136   8850        45360        14   23149"
      ]
     },
     "execution_count": 43,
     "metadata": {},
     "output_type": "execute_result"
    }
   ],
   "source": [
    "# leyendo el archivo y almacenándolo en df\n",
    "df = pd.read_csv('/datasets/music_project_en.csv')\n",
    "df.describe()"
   ]
  },
  {
   "cell_type": "markdown",
   "metadata": {
    "id": "rDoOMd3uTqnZ"
   },
   "source": [
    "Imprime las 10 primeras filas de la tabla:"
   ]
  },
  {
   "cell_type": "code",
   "execution_count": 44,
   "metadata": {
    "id": "oWTVX3gW_Zct"
   },
   "outputs": [
    {
     "data": {
      "text/html": [
       "<div>\n",
       "<style scoped>\n",
       "    .dataframe tbody tr th:only-of-type {\n",
       "        vertical-align: middle;\n",
       "    }\n",
       "\n",
       "    .dataframe tbody tr th {\n",
       "        vertical-align: top;\n",
       "    }\n",
       "\n",
       "    .dataframe thead th {\n",
       "        text-align: right;\n",
       "    }\n",
       "</style>\n",
       "<table border=\"1\" class=\"dataframe\">\n",
       "  <thead>\n",
       "    <tr style=\"text-align: right;\">\n",
       "      <th></th>\n",
       "      <th>userID</th>\n",
       "      <th>Track</th>\n",
       "      <th>artist</th>\n",
       "      <th>genre</th>\n",
       "      <th>City</th>\n",
       "      <th>time</th>\n",
       "      <th>Day</th>\n",
       "    </tr>\n",
       "  </thead>\n",
       "  <tbody>\n",
       "    <tr>\n",
       "      <th>0</th>\n",
       "      <td>FFB692EC</td>\n",
       "      <td>Kamigata To Boots</td>\n",
       "      <td>The Mass Missile</td>\n",
       "      <td>rock</td>\n",
       "      <td>Shelbyville</td>\n",
       "      <td>20:28:33</td>\n",
       "      <td>Wednesday</td>\n",
       "    </tr>\n",
       "    <tr>\n",
       "      <th>1</th>\n",
       "      <td>55204538</td>\n",
       "      <td>Delayed Because of Accident</td>\n",
       "      <td>Andreas Rönnberg</td>\n",
       "      <td>rock</td>\n",
       "      <td>Springfield</td>\n",
       "      <td>14:07:09</td>\n",
       "      <td>Friday</td>\n",
       "    </tr>\n",
       "    <tr>\n",
       "      <th>2</th>\n",
       "      <td>20EC38</td>\n",
       "      <td>Funiculì funiculà</td>\n",
       "      <td>Mario Lanza</td>\n",
       "      <td>pop</td>\n",
       "      <td>Shelbyville</td>\n",
       "      <td>20:58:07</td>\n",
       "      <td>Wednesday</td>\n",
       "    </tr>\n",
       "    <tr>\n",
       "      <th>3</th>\n",
       "      <td>A3DD03C9</td>\n",
       "      <td>Dragons in the Sunset</td>\n",
       "      <td>Fire + Ice</td>\n",
       "      <td>folk</td>\n",
       "      <td>Shelbyville</td>\n",
       "      <td>08:37:09</td>\n",
       "      <td>Monday</td>\n",
       "    </tr>\n",
       "    <tr>\n",
       "      <th>4</th>\n",
       "      <td>E2DC1FAE</td>\n",
       "      <td>Soul People</td>\n",
       "      <td>Space Echo</td>\n",
       "      <td>dance</td>\n",
       "      <td>Springfield</td>\n",
       "      <td>08:34:34</td>\n",
       "      <td>Monday</td>\n",
       "    </tr>\n",
       "    <tr>\n",
       "      <th>5</th>\n",
       "      <td>842029A1</td>\n",
       "      <td>Chains</td>\n",
       "      <td>Obladaet</td>\n",
       "      <td>rusrap</td>\n",
       "      <td>Shelbyville</td>\n",
       "      <td>13:09:41</td>\n",
       "      <td>Friday</td>\n",
       "    </tr>\n",
       "    <tr>\n",
       "      <th>6</th>\n",
       "      <td>4CB90AA5</td>\n",
       "      <td>True</td>\n",
       "      <td>Roman Messer</td>\n",
       "      <td>dance</td>\n",
       "      <td>Springfield</td>\n",
       "      <td>13:00:07</td>\n",
       "      <td>Wednesday</td>\n",
       "    </tr>\n",
       "    <tr>\n",
       "      <th>7</th>\n",
       "      <td>F03E1C1F</td>\n",
       "      <td>Feeling This Way</td>\n",
       "      <td>Polina Griffith</td>\n",
       "      <td>dance</td>\n",
       "      <td>Springfield</td>\n",
       "      <td>20:47:49</td>\n",
       "      <td>Wednesday</td>\n",
       "    </tr>\n",
       "    <tr>\n",
       "      <th>8</th>\n",
       "      <td>8FA1D3BE</td>\n",
       "      <td>L’estate</td>\n",
       "      <td>Julia Dalia</td>\n",
       "      <td>ruspop</td>\n",
       "      <td>Springfield</td>\n",
       "      <td>09:17:40</td>\n",
       "      <td>Friday</td>\n",
       "    </tr>\n",
       "    <tr>\n",
       "      <th>9</th>\n",
       "      <td>E772D5C0</td>\n",
       "      <td>Pessimist</td>\n",
       "      <td>NaN</td>\n",
       "      <td>dance</td>\n",
       "      <td>Shelbyville</td>\n",
       "      <td>21:20:49</td>\n",
       "      <td>Wednesday</td>\n",
       "    </tr>\n",
       "  </tbody>\n",
       "</table>\n",
       "</div>"
      ],
      "text/plain": [
       "     userID                        Track            artist   genre  \\\n",
       "0  FFB692EC            Kamigata To Boots  The Mass Missile    rock   \n",
       "1  55204538  Delayed Because of Accident  Andreas Rönnberg    rock   \n",
       "2    20EC38            Funiculì funiculà       Mario Lanza     pop   \n",
       "3  A3DD03C9        Dragons in the Sunset        Fire + Ice    folk   \n",
       "4  E2DC1FAE                  Soul People        Space Echo   dance   \n",
       "5  842029A1                       Chains          Obladaet  rusrap   \n",
       "6  4CB90AA5                         True      Roman Messer   dance   \n",
       "7  F03E1C1F             Feeling This Way   Polina Griffith   dance   \n",
       "8  8FA1D3BE                     L’estate       Julia Dalia  ruspop   \n",
       "9  E772D5C0                    Pessimist               NaN   dance   \n",
       "\n",
       "        City        time        Day  \n",
       "0  Shelbyville  20:28:33  Wednesday  \n",
       "1  Springfield  14:07:09     Friday  \n",
       "2  Shelbyville  20:58:07  Wednesday  \n",
       "3  Shelbyville  08:37:09     Monday  \n",
       "4  Springfield  08:34:34     Monday  \n",
       "5  Shelbyville  13:09:41     Friday  \n",
       "6  Springfield  13:00:07  Wednesday  \n",
       "7  Springfield  20:47:49  Wednesday  \n",
       "8  Springfield  09:17:40     Friday  \n",
       "9  Shelbyville  21:20:49  Wednesday  "
      ]
     },
     "execution_count": 44,
     "metadata": {},
     "output_type": "execute_result"
    }
   ],
   "source": [
    "# obteniendo las 10 primeras filas de la tabla df\n",
    "df.head(10)"
   ]
  },
  {
   "cell_type": "markdown",
   "metadata": {
    "id": "EO73Kwic_Zct"
   },
   "source": [
    "Obtener la información general sobre la tabla con un comando:"
   ]
  },
  {
   "cell_type": "code",
   "execution_count": 45,
   "metadata": {
    "id": "DSf2kIb-_Zct"
   },
   "outputs": [
    {
     "name": "stdout",
     "output_type": "stream",
     "text": [
      "<class 'pandas.core.frame.DataFrame'>\n",
      "RangeIndex: 65079 entries, 0 to 65078\n",
      "Data columns (total 7 columns):\n",
      " #   Column    Non-Null Count  Dtype \n",
      "---  ------    --------------  ----- \n",
      " 0     userID  65079 non-null  object\n",
      " 1   Track     63736 non-null  object\n",
      " 2   artist    57512 non-null  object\n",
      " 3   genre     63881 non-null  object\n",
      " 4     City    65079 non-null  object\n",
      " 5   time      65079 non-null  object\n",
      " 6   Day       65079 non-null  object\n",
      "dtypes: object(7)\n",
      "memory usage: 3.5+ MB\n"
     ]
    }
   ],
   "source": [
    "# obteniendo información general sobre los datos en df\n",
    "df.info()"
   ]
  },
  {
   "cell_type": "markdown",
   "metadata": {
    "id": "TaQ2Iwbr_Zct"
   },
   "source": [
    "La tabla contiene siete columnas. Todas almacenan el mismo tipo de datos: objeto.\n",
    "\n",
    "De acuerdo con la documentación:\n",
    "- `'userID'` — identificador del usuario\n",
    "- `'Track'` — título de la pista\n",
    "- `'artist'` — nombre del artista\n",
    "- `'genre'` — género\n",
    "- `'City'` — ciudad del usuario\n",
    "- `'time'` — el periodo de tiempo exacto en que se reprodujo la pista\n",
    "- `'Day'` — día de la semana\n",
    "\n",
    "Podemos ver tres problemas con el estilo en los nombres de las columnasb\n",
    "1. Algunos nombres están en mayúsculas, otros en minúsculas.\n",
    "2. Hay algunos espacios en algunos nombres.\n",
    "3. El número de valores de las columnas es diferente. Esto significa que los datos contienen valores ausentes.\n"
   ]
  },
  {
   "cell_type": "markdown",
   "metadata": {
    "id": "MCB6-dXG_Zct"
   },
   "source": [
    "### Conclusiones <a id='data_review_conclusions'></a> \n",
    "\n",
    "Cada fila de la tabla almacena datos de la pista que fue reproducida. Algunas columnas describen la pista en sí: su título, el artista y el género. El resto transmite la información del usuario: la ciudad de la que viene, el tiempo que ha reproducido la pista. \n",
    "\n",
    "Está claro que los datos son suficientes para probar la hipótesis. Sin embargo, hay valores ausentes.\n",
    "\n",
    "Para continuar, necesitamos preprocesar los datos."
   ]
  },
  {
   "cell_type": "markdown",
   "metadata": {
    "id": "3eL__vcwViOi"
   },
   "source": [
    "[Volver a Contenidos](#back)"
   ]
  },
  {
   "cell_type": "markdown",
   "metadata": {
    "id": "SjYF6Ub9_Zct"
   },
   "source": [
    "## Etapa 2. Preprocesamiento de datos <a id='data_preprocessing'></a>\n",
    "Corrige el formato en los encabezados de las columnas y ocúpate de los valores ausentes. Después, comprueba si hay duplicados en los datos."
   ]
  },
  {
   "cell_type": "markdown",
   "metadata": {
    "id": "dIaKXr29_Zct"
   },
   "source": [
    "### Estilo del encabezado <a id='header_style'></a>\n",
    "Imprime el encabezado de la columna:"
   ]
  },
  {
   "cell_type": "code",
   "execution_count": 46,
   "metadata": {
    "id": "oKOTdF_Q_Zct"
   },
   "outputs": [
    {
     "name": "stdout",
     "output_type": "stream",
     "text": [
      "Index(['  userID', 'Track', 'artist', 'genre', '  City  ', 'time', 'Day'], dtype='object')\n"
     ]
    }
   ],
   "source": [
    "# la lista de los nombres de las columnas en la tabla df\n",
    "print(df.columns) "
   ]
  },
  {
   "cell_type": "markdown",
   "metadata": {
    "id": "zj5534cv_Zct"
   },
   "source": [
    "Cambia los nombres de las columnas de acuerdo con las reglas del buen estilo:\n",
    "* Si el nombre tiene varias palabras, utiliza snake_case\n",
    "* Todos los caracteres deben ser minúsculas\n",
    "* Elimina los espacios"
   ]
  },
  {
   "cell_type": "code",
   "execution_count": 47,
   "metadata": {
    "id": "ISlFqs5y_Zct"
   },
   "outputs": [],
   "source": [
    "# renombra las columnas\n",
    "df = df.rename(\n",
    "    columns={\n",
    "        '  userID': 'user_id',\n",
    "        'Track': 'pista',\n",
    "        'artist': 'artista',\n",
    "        'genre': 'genero',\n",
    "        '  City  ': 'ciudad',\n",
    "        'time': 'tiempo_pista',\n",
    "        'Day': 'dia_semana',\n",
    "    }\n",
    ") \n"
   ]
  },
  {
   "cell_type": "markdown",
   "metadata": {
    "id": "1dqbh00J_Zct"
   },
   "source": [
    "Comprueba el resultado. Imprime los nombres de las columnas una vez más:"
   ]
  },
  {
   "cell_type": "code",
   "execution_count": 48,
   "metadata": {
    "id": "d4NOAmTW_Zct"
   },
   "outputs": [
    {
     "name": "stdout",
     "output_type": "stream",
     "text": [
      "Index(['user_id', 'pista', 'artista', 'genero', 'ciudad', 'tiempo_pista',\n",
      "       'dia_semana'],\n",
      "      dtype='object')\n"
     ]
    }
   ],
   "source": [
    "# comprobando el resultado: la lista de los nombres de las columnas\n",
    "print(df.columns) "
   ]
  },
  {
   "cell_type": "markdown",
   "metadata": {
    "id": "xYJk6ksJVpOl"
   },
   "source": [
    "[Volver a Contenidos](#back)"
   ]
  },
  {
   "cell_type": "markdown",
   "metadata": {
    "id": "5ISfbcfY_Zct"
   },
   "source": [
    "### Valores ausentes <a id='missing_values'></a>\n",
    "Primero encuentra el número de valores ausentes en la tabla. Para ello, utiliza dos métodos pandas:"
   ]
  },
  {
   "cell_type": "code",
   "execution_count": 49,
   "metadata": {
    "id": "RskX29qr_Zct"
   },
   "outputs": [
    {
     "name": "stdout",
     "output_type": "stream",
     "text": [
      "user_id            0\n",
      "pista           1343\n",
      "artista         7567\n",
      "genero          1198\n",
      "ciudad             0\n",
      "tiempo_pista       0\n",
      "dia_semana         0\n",
      "dtype: int64\n"
     ]
    }
   ],
   "source": [
    "# calculando valores ausentes\n",
    "print(df.isna().sum()) "
   ]
  },
  {
   "cell_type": "markdown",
   "metadata": {
    "id": "qubhgnlO_Zct"
   },
   "source": [
    "No todos los valores ausentes afectan a la investigación. Por ejemplo, los valores ausentes en la pista y artista no son cruciales. Simplemente puedes reemplazarlos por marcadores claros.\n",
    "\n",
    "Pero los valores ausentes en `'genero'` pueden afectar la comparación entre las preferencias musicales de Springfield y Shelbyville. En la vida real, sería útil saber las razones por las cuales hay datos ausentes e intentar recuperarlos. Pero no tenemos esa oportunidad en este proyecto. Así que tendrás que:\n",
    "* Rellenar esos valores ausentes con marcadores\n",
    "* Evaluar cuánto podrían afectar los valores ausentes a tus cómputos."
   ]
  },
  {
   "cell_type": "markdown",
   "metadata": {
    "id": "fSv2laPA_Zct"
   },
   "source": [
    "Reemplazar los valores ausentes en `'pista'`, `'artista'`, y `'genero'` con la string `'unknown'`. Para ello, crea la lista `columns_to_replace`, recórrela con un bucle `for` y reemplaza los valores ausentes en cada una de las columnas:"
   ]
  },
  {
   "cell_type": "code",
   "execution_count": 50,
   "metadata": {
    "id": "KplB5qWs_Zct"
   },
   "outputs": [],
   "source": [
    "# recorriendo los nombres de las columnas y reemplazando los valores ausentes con 'unknown'\n",
    "\n",
    "columns_to_replaces = df\n",
    "\n",
    "for index in range(len(columns_to_replaces)):\n",
    "    if str(columns_to_replaces['pista'][index])== 'nan': \n",
    "           columns_to_replaces['pista'][index] = 'unknown' \n",
    "    if  str(columns_to_replaces['artista'][index])== 'nan':\n",
    "         columns_to_replaces['artista'][index] = 'unknown' \n",
    "    if  str(columns_to_replaces['genero'][index])== 'nan':\n",
    "        columns_to_replaces['genero'][index] = 'unknown' \n",
    "    \n"
   ]
  },
  {
   "cell_type": "markdown",
   "metadata": {
    "id": "Ilsm-MZo_Zct"
   },
   "source": [
    "Asegúrate de que la tabla no contiene más valores ausentes. Cuenta de nuevo los valores ausentes."
   ]
  },
  {
   "cell_type": "code",
   "execution_count": 51,
   "metadata": {
    "id": "Tq4nYRX4_Zct"
   },
   "outputs": [
    {
     "name": "stdout",
     "output_type": "stream",
     "text": [
      "user_id         0\n",
      "pista           0\n",
      "artista         0\n",
      "genero          0\n",
      "ciudad          0\n",
      "tiempo_pista    0\n",
      "dia_semana      0\n",
      "dtype: int64\n"
     ]
    }
   ],
   "source": [
    "# contando valores ausentes\n",
    "print(columns_to_replaces.isna().sum()) \n"
   ]
  },
  {
   "cell_type": "markdown",
   "metadata": {
    "id": "74ZIBmq9VrsK"
   },
   "source": [
    "[Volver a Contenidos](#back)"
   ]
  },
  {
   "cell_type": "markdown",
   "metadata": {
    "id": "BWKRtBJ3_Zct"
   },
   "source": [
    "### Duplicados <a id='duplicates'></a>\n",
    "Encuentra el número de duplicados obvios en la tabla utilizando un comando:"
   ]
  },
  {
   "cell_type": "code",
   "execution_count": 52,
   "metadata": {
    "id": "36eES_S0_Zct"
   },
   "outputs": [
    {
     "name": "stdout",
     "output_type": "stream",
     "text": [
      "3826\n"
     ]
    }
   ],
   "source": [
    "# contando duplicado obvios\n",
    "print(columns_to_replaces.duplicated().sum()) "
   ]
  },
  {
   "cell_type": "markdown",
   "metadata": {
    "id": "Ot25h6XR_Zct"
   },
   "source": [
    "Llama al método `pandas` para deshacerte de los duplicados obvios:"
   ]
  },
  {
   "cell_type": "code",
   "execution_count": 53,
   "metadata": {
    "id": "exFHq6tt_Zct"
   },
   "outputs": [
    {
     "name": "stdout",
     "output_type": "stream",
     "text": [
      "    user_id                        pista           artista genero  \\\n",
      "0  FFB692EC            Kamigata To Boots  The Mass Missile   rock   \n",
      "1  55204538  Delayed Because of Accident  Andreas Rönnberg   rock   \n",
      "2    20EC38            Funiculì funiculà       Mario Lanza    pop   \n",
      "3  A3DD03C9        Dragons in the Sunset        Fire + Ice   folk   \n",
      "4  E2DC1FAE                  Soul People        Space Echo  dance   \n",
      "\n",
      "        ciudad tiempo_pista dia_semana  \n",
      "0  Shelbyville     20:28:33  Wednesday  \n",
      "1  Springfield     14:07:09     Friday  \n",
      "2  Shelbyville     20:58:07  Wednesday  \n",
      "3  Shelbyville     08:37:09     Monday  \n",
      "4  Springfield     08:34:34     Monday  \n"
     ]
    }
   ],
   "source": [
    "# eliminando duplicados obvios\n",
    "columns_to_replaces = columns_to_replaces.drop_duplicates().reset_index(drop=True)\n",
    "print(columns_to_replaces.head()) \n"
   ]
  },
  {
   "cell_type": "markdown",
   "metadata": {
    "id": "Im2YwBEG_Zct"
   },
   "source": [
    "Cuenta los duplicados obvios una vez más para asegurarte de que todos han sido eliminados:"
   ]
  },
  {
   "cell_type": "code",
   "execution_count": 54,
   "metadata": {
    "id": "-8PuNWQ0_Zct"
   },
   "outputs": [
    {
     "name": "stdout",
     "output_type": "stream",
     "text": [
      "0\n"
     ]
    }
   ],
   "source": [
    "# comprobando duplicados\n",
    "print(columns_to_replaces.duplicated().sum()) "
   ]
  },
  {
   "cell_type": "markdown",
   "metadata": {
    "id": "QlFBsxAr_Zct"
   },
   "source": [
    "Ahora deshazte de los duplicados implícitos en la columna genero. Por ejemplo, el nombre de un género se puede escribir de varias formas. Dichos errores también pueden afectar a resultado."
   ]
  },
  {
   "cell_type": "markdown",
   "metadata": {
    "id": "eSjWwsOh_Zct"
   },
   "source": [
    "Imprime una lista de nombres únicos de géneros, ordenados en orden alfabético. Cómo se hace:\n",
    "* Recupera la deseada columna DataFrame \n",
    "* Aplícale un método de orden\n",
    "* Para la columna ordenada, llama al método que te devolverá todos los valores de columna únicos"
   ]
  },
  {
   "cell_type": "code",
   "execution_count": 55,
   "metadata": {
    "id": "JIUcqzZN_Zct"
   },
   "outputs": [
    {
     "name": "stdout",
     "output_type": "stream",
     "text": [
      "acid\n",
      "acoustic\n",
      "action\n",
      "adult\n",
      "africa\n",
      "afrikaans\n",
      "alternative\n",
      "ambient\n",
      "americana\n",
      "animated\n",
      "anime\n",
      "arabesk\n",
      "arabic\n",
      "arena\n",
      "argentinetango\n",
      "art\n",
      "audiobook\n",
      "avantgarde\n",
      "axé\n",
      "baile\n",
      "balkan\n",
      "beats\n",
      "bigroom\n",
      "black\n",
      "bluegrass\n",
      "blues\n",
      "bollywood\n",
      "bossa\n",
      "brazilian\n",
      "breakbeat\n",
      "breaks\n",
      "broadway\n",
      "cantautori\n",
      "cantopop\n",
      "canzone\n",
      "caribbean\n",
      "caucasian\n",
      "celtic\n",
      "chamber\n",
      "children\n",
      "chill\n",
      "chinese\n",
      "choral\n",
      "christian\n",
      "christmas\n",
      "classical\n",
      "classicmetal\n",
      "club\n",
      "colombian\n",
      "comedy\n",
      "conjazz\n",
      "contemporary\n",
      "country\n",
      "cuban\n",
      "dance\n",
      "dancehall\n",
      "dancepop\n",
      "dark\n",
      "death\n",
      "deep\n",
      "deutschrock\n",
      "deutschspr\n",
      "dirty\n",
      "disco\n",
      "dnb\n",
      "documentary\n",
      "downbeat\n",
      "downtempo\n",
      "drum\n",
      "dub\n",
      "dubstep\n",
      "eastern\n",
      "easy\n",
      "electronic\n",
      "electropop\n",
      "emo\n",
      "entehno\n",
      "epicmetal\n",
      "estrada\n",
      "ethnic\n",
      "eurofolk\n",
      "european\n",
      "experimental\n",
      "extrememetal\n",
      "fado\n",
      "film\n",
      "fitness\n",
      "flamenco\n",
      "folk\n",
      "folklore\n",
      "folkmetal\n",
      "folkrock\n",
      "folktronica\n",
      "forró\n",
      "frankreich\n",
      "französisch\n",
      "french\n",
      "funk\n",
      "future\n",
      "gangsta\n",
      "garage\n",
      "german\n",
      "ghazal\n",
      "gitarre\n",
      "glitch\n",
      "gospel\n",
      "gothic\n",
      "grime\n",
      "grunge\n",
      "gypsy\n",
      "handsup\n",
      "hard'n'heavy\n",
      "hardcore\n",
      "hardstyle\n",
      "hardtechno\n",
      "hip\n",
      "hip-hop\n",
      "hiphop\n",
      "historisch\n",
      "holiday\n",
      "hop\n",
      "horror\n",
      "house\n",
      "idm\n",
      "independent\n",
      "indian\n",
      "indie\n",
      "indipop\n",
      "industrial\n",
      "inspirational\n",
      "instrumental\n",
      "international\n",
      "irish\n",
      "jam\n",
      "japanese\n",
      "jazz\n",
      "jewish\n",
      "jpop\n",
      "jungle\n",
      "k-pop\n",
      "karadeniz\n",
      "karaoke\n",
      "kayokyoku\n",
      "korean\n",
      "laiko\n",
      "latin\n",
      "latino\n",
      "leftfield\n",
      "local\n",
      "lounge\n",
      "loungeelectronic\n",
      "lovers\n",
      "malaysian\n",
      "mandopop\n",
      "marschmusik\n",
      "meditative\n",
      "mediterranean\n",
      "melodic\n",
      "metal\n",
      "metalcore\n",
      "mexican\n",
      "middle\n",
      "minimal\n",
      "miscellaneous\n",
      "modern\n",
      "mood\n",
      "mpb\n",
      "muslim\n",
      "native\n",
      "neoklassik\n",
      "neue\n",
      "new\n",
      "newage\n",
      "newwave\n",
      "nu\n",
      "nujazz\n",
      "numetal\n",
      "oceania\n",
      "old\n",
      "opera\n",
      "orchestral\n",
      "other\n",
      "piano\n",
      "pop\n",
      "popelectronic\n",
      "popeurodance\n",
      "post\n",
      "posthardcore\n",
      "postrock\n",
      "power\n",
      "progmetal\n",
      "progressive\n",
      "psychedelic\n",
      "punjabi\n",
      "punk\n",
      "quebecois\n",
      "ragga\n",
      "ram\n",
      "rancheras\n",
      "rap\n",
      "rave\n",
      "reggae\n",
      "reggaeton\n",
      "regional\n",
      "relax\n",
      "religious\n",
      "retro\n",
      "rhythm\n",
      "rnb\n",
      "rnr\n",
      "rock\n",
      "rockabilly\n",
      "romance\n",
      "roots\n",
      "ruspop\n",
      "rusrap\n",
      "rusrock\n",
      "salsa\n",
      "samba\n",
      "schlager\n",
      "self\n",
      "sertanejo\n",
      "shoegazing\n",
      "showtunes\n",
      "singer\n",
      "ska\n",
      "slow\n",
      "smooth\n",
      "soul\n",
      "soulful\n",
      "sound\n",
      "soundtrack\n",
      "southern\n",
      "specialty\n",
      "speech\n",
      "spiritual\n",
      "sport\n",
      "stonerrock\n",
      "surf\n",
      "swing\n",
      "synthpop\n",
      "sängerportrait\n",
      "tango\n",
      "tanzorchester\n",
      "taraftar\n",
      "tech\n",
      "techno\n",
      "thrash\n",
      "top\n",
      "traditional\n",
      "tradjazz\n",
      "trance\n",
      "tribal\n",
      "trip\n",
      "triphop\n",
      "tropical\n",
      "türk\n",
      "türkçe\n",
      "unknown\n",
      "urban\n",
      "uzbek\n",
      "variété\n",
      "vi\n",
      "videogame\n",
      "vocal\n",
      "western\n",
      "world\n",
      "worldbeat\n",
      "ïîï\n"
     ]
    }
   ],
   "source": [
    "# inspeccionando los nombres de géneros únicos\n",
    "colum_genero = columns_to_replaces['genero'].unique()\n",
    "colum_genero.sort()\n",
    "print('\\n'.join(map(str, colum_genero)))\n"
   ]
  },
  {
   "cell_type": "markdown",
   "metadata": {
    "id": "qej-Qmuo_Zct"
   },
   "source": [
    "Busca en la lista para encontrar duplicados implícitos del género `hiphop`. Estos pueden ser nombres escritos incorrectamente o nombres alternativos para el mismo género.\n",
    "\n",
    "Verás los siguientes duplicados implícitos:\n",
    "* `hip`\n",
    "* `hop`\n",
    "* `hip-hop`\n",
    "\n",
    "Para deshacerte de ellos, declara la función `replace_wrong_genres()` con dos parámetros: \n",
    "* `wrong_genres=` — la lista de duplicados\n",
    "* `correct_genre=` — la string con el valor correcto\n",
    "\n",
    "La función debería corregir los nombres en la columna `'genero'` de la tabla `columns_to_replaces`, es decir, remplaza cada valor de la lista `wrong_genres` con el valor en `correct_genre`."
   ]
  },
  {
   "cell_type": "code",
   "execution_count": 56,
   "metadata": {
    "id": "ErNDkmns_Zct"
   },
   "outputs": [],
   "source": [
    "# función para reemplazar duplicados implícitos\n",
    "\n",
    "def replace_wrong_genres(wrong_genres, correct_genre): \n",
    "    for wrong_genres in wrong_genres: \n",
    "        columns_to_replaces['genero'] = columns_to_replaces['genero'].replace(wrong_genres, correct_genre) \n",
    "\n"
   ]
  },
  {
   "cell_type": "markdown",
   "metadata": {
    "id": "aDoBJxbA_Zct"
   },
   "source": [
    "Llama a `replace_wrong_genres()` y pásale argumentos para que retire los duplicados implícitos (`hip`, `hop` y `hip-hop`) y los reemplace por `hiphop`:"
   ]
  },
  {
   "cell_type": "code",
   "execution_count": 57,
   "metadata": {
    "id": "YN5i2hpmSo09"
   },
   "outputs": [],
   "source": [
    "# eliminando duplicados implícitos\n",
    "duplicados = ['hip', 'hop', 'hip-hop'] \n",
    "correcto = 'hiphop' \n",
    "replace_wrong_genres(duplicados, correcto) "
   ]
  },
  {
   "cell_type": "markdown",
   "metadata": {
    "id": "zQKF16_RG15m"
   },
   "source": [
    "Asegúrate que los nombres duplicados han sido eliminados. Imprime la lista de valores únicos de la columna `'genre'`:"
   ]
  },
  {
   "cell_type": "code",
   "execution_count": 58,
   "metadata": {
    "id": "wvixALnFG15m"
   },
   "outputs": [
    {
     "name": "stdout",
     "output_type": "stream",
     "text": [
      "acid\n",
      "acoustic\n",
      "action\n",
      "adult\n",
      "africa\n",
      "afrikaans\n",
      "alternative\n",
      "ambient\n",
      "americana\n",
      "animated\n",
      "anime\n",
      "arabesk\n",
      "arabic\n",
      "arena\n",
      "argentinetango\n",
      "art\n",
      "audiobook\n",
      "avantgarde\n",
      "axé\n",
      "baile\n",
      "balkan\n",
      "beats\n",
      "bigroom\n",
      "black\n",
      "bluegrass\n",
      "blues\n",
      "bollywood\n",
      "bossa\n",
      "brazilian\n",
      "breakbeat\n",
      "breaks\n",
      "broadway\n",
      "cantautori\n",
      "cantopop\n",
      "canzone\n",
      "caribbean\n",
      "caucasian\n",
      "celtic\n",
      "chamber\n",
      "children\n",
      "chill\n",
      "chinese\n",
      "choral\n",
      "christian\n",
      "christmas\n",
      "classical\n",
      "classicmetal\n",
      "club\n",
      "colombian\n",
      "comedy\n",
      "conjazz\n",
      "contemporary\n",
      "country\n",
      "cuban\n",
      "dance\n",
      "dancehall\n",
      "dancepop\n",
      "dark\n",
      "death\n",
      "deep\n",
      "deutschrock\n",
      "deutschspr\n",
      "dirty\n",
      "disco\n",
      "dnb\n",
      "documentary\n",
      "downbeat\n",
      "downtempo\n",
      "drum\n",
      "dub\n",
      "dubstep\n",
      "eastern\n",
      "easy\n",
      "electronic\n",
      "electropop\n",
      "emo\n",
      "entehno\n",
      "epicmetal\n",
      "estrada\n",
      "ethnic\n",
      "eurofolk\n",
      "european\n",
      "experimental\n",
      "extrememetal\n",
      "fado\n",
      "film\n",
      "fitness\n",
      "flamenco\n",
      "folk\n",
      "folklore\n",
      "folkmetal\n",
      "folkrock\n",
      "folktronica\n",
      "forró\n",
      "frankreich\n",
      "französisch\n",
      "french\n",
      "funk\n",
      "future\n",
      "gangsta\n",
      "garage\n",
      "german\n",
      "ghazal\n",
      "gitarre\n",
      "glitch\n",
      "gospel\n",
      "gothic\n",
      "grime\n",
      "grunge\n",
      "gypsy\n",
      "handsup\n",
      "hard'n'heavy\n",
      "hardcore\n",
      "hardstyle\n",
      "hardtechno\n",
      "hiphop\n",
      "historisch\n",
      "holiday\n",
      "horror\n",
      "house\n",
      "idm\n",
      "independent\n",
      "indian\n",
      "indie\n",
      "indipop\n",
      "industrial\n",
      "inspirational\n",
      "instrumental\n",
      "international\n",
      "irish\n",
      "jam\n",
      "japanese\n",
      "jazz\n",
      "jewish\n",
      "jpop\n",
      "jungle\n",
      "k-pop\n",
      "karadeniz\n",
      "karaoke\n",
      "kayokyoku\n",
      "korean\n",
      "laiko\n",
      "latin\n",
      "latino\n",
      "leftfield\n",
      "local\n",
      "lounge\n",
      "loungeelectronic\n",
      "lovers\n",
      "malaysian\n",
      "mandopop\n",
      "marschmusik\n",
      "meditative\n",
      "mediterranean\n",
      "melodic\n",
      "metal\n",
      "metalcore\n",
      "mexican\n",
      "middle\n",
      "minimal\n",
      "miscellaneous\n",
      "modern\n",
      "mood\n",
      "mpb\n",
      "muslim\n",
      "native\n",
      "neoklassik\n",
      "neue\n",
      "new\n",
      "newage\n",
      "newwave\n",
      "nu\n",
      "nujazz\n",
      "numetal\n",
      "oceania\n",
      "old\n",
      "opera\n",
      "orchestral\n",
      "other\n",
      "piano\n",
      "pop\n",
      "popelectronic\n",
      "popeurodance\n",
      "post\n",
      "posthardcore\n",
      "postrock\n",
      "power\n",
      "progmetal\n",
      "progressive\n",
      "psychedelic\n",
      "punjabi\n",
      "punk\n",
      "quebecois\n",
      "ragga\n",
      "ram\n",
      "rancheras\n",
      "rap\n",
      "rave\n",
      "reggae\n",
      "reggaeton\n",
      "regional\n",
      "relax\n",
      "religious\n",
      "retro\n",
      "rhythm\n",
      "rnb\n",
      "rnr\n",
      "rock\n",
      "rockabilly\n",
      "romance\n",
      "roots\n",
      "ruspop\n",
      "rusrap\n",
      "rusrock\n",
      "salsa\n",
      "samba\n",
      "schlager\n",
      "self\n",
      "sertanejo\n",
      "shoegazing\n",
      "showtunes\n",
      "singer\n",
      "ska\n",
      "slow\n",
      "smooth\n",
      "soul\n",
      "soulful\n",
      "sound\n",
      "soundtrack\n",
      "southern\n",
      "specialty\n",
      "speech\n",
      "spiritual\n",
      "sport\n",
      "stonerrock\n",
      "surf\n",
      "swing\n",
      "synthpop\n",
      "sängerportrait\n",
      "tango\n",
      "tanzorchester\n",
      "taraftar\n",
      "tech\n",
      "techno\n",
      "thrash\n",
      "top\n",
      "traditional\n",
      "tradjazz\n",
      "trance\n",
      "tribal\n",
      "trip\n",
      "triphop\n",
      "tropical\n",
      "türk\n",
      "türkçe\n",
      "unknown\n",
      "urban\n",
      "uzbek\n",
      "variété\n",
      "vi\n",
      "videogame\n",
      "vocal\n",
      "western\n",
      "world\n",
      "worldbeat\n",
      "ïîï\n"
     ]
    }
   ],
   "source": [
    "# revisando en busca de duplicados implícitos\n",
    "colum_genero = columns_to_replaces['genero'].unique()\n",
    "colum_genero.sort()\n",
    "print('\\n'.join(map(str, colum_genero)))"
   ]
  },
  {
   "cell_type": "markdown",
   "metadata": {
    "id": "ALgNbvF3VtPA"
   },
   "source": [
    "[Volver a Contenidos](#back)"
   ]
  },
  {
   "cell_type": "markdown",
   "metadata": {
    "id": "jz6a9-7HQUDd"
   },
   "source": [
    "### Conclusiones <a id='data_preprocessing_conclusions'></a>\n",
    "Detectamos tres problemas con los datos:\n",
    "\n",
    "- Estilos de encabezados incorrectos\n",
    "- Valores ausentes\n",
    "- Duplicados obvios e implícitos\n",
    "\n",
    "Los encabezados han sido eliminados para conseguir que el procesamiento de la tabla sea más sencillo.\n",
    "\n",
    "Todos los valores ausentes han sido reemplazados por `'unknown'`. Pero todavía tenemos que ver si los valores ausentes en `'genero'` afectan a nuestros cálculos.\n",
    "\n",
    "La ausencia de duplicados hará que los resultados sean mas precisos y fáciles de entender.\n",
    "\n",
    "Ahora ya podemos continuar probando las hipótesis. "
   ]
  },
  {
   "cell_type": "markdown",
   "metadata": {
    "id": "eK1es74rVujj"
   },
   "source": [
    "[Volver a Contenidos](#back)"
   ]
  },
  {
   "cell_type": "markdown",
   "metadata": {
    "id": "WttZHXH0SqKk"
   },
   "source": [
    "## Etapa 3. Prueba de hipótesis <a id='hypotheses'></a>"
   ]
  },
  {
   "cell_type": "markdown",
   "metadata": {
    "id": "Im936VVi_Zcu"
   },
   "source": [
    "### Hipótesis 1: comparar el comportamiento del usuario en las dos ciudades <a id='activity'></a>"
   ]
  },
  {
   "cell_type": "markdown",
   "metadata": {
    "id": "nwt_MuaL_Zcu"
   },
   "source": [
    "De acuerdo con la primera hipótesis, los usuarios de Springfield y Shelbyville escuchan música de forma distinta. Comprueba esto utilizando los datos de tres días de la semana: lunes, miércoles y viernes.\n",
    "\n",
    "* Divide a los usuarios en grupos por ciudad.\n",
    "* Compara cuántas pistas reprodujo cada grupo el lunes, el miércoles y el viernes.\n"
   ]
  },
  {
   "cell_type": "markdown",
   "metadata": {
    "id": "8Dw_YMmT_Zcu"
   },
   "source": [
    "Por el bien del ejercicio, realiza cada cálculo de forma separada. \n",
    "\n",
    "Evalúa la actividad del usuario en cada ciudad. Agrupa los datos por ciudad y encuentra el número de canciones reproducidas en cada grupo.\n",
    "\n"
   ]
  },
  {
   "cell_type": "code",
   "execution_count": 59,
   "metadata": {
    "id": "0_Qs96oh_Zcu"
   },
   "outputs": [
    {
     "name": "stdout",
     "output_type": "stream",
     "text": [
      "ciudad\n",
      "Shelbyville    18512\n",
      "Springfield    42741\n",
      "Name: user_id, dtype: int64\n"
     ]
    }
   ],
   "source": [
    "# contando las pistas reproducidas en cada ciudad\n",
    "print(columns_to_replaces.groupby('ciudad')['user_id'].count())"
   ]
  },
  {
   "cell_type": "markdown",
   "metadata": {
    "id": "dzli3w8o_Zcu"
   },
   "source": [
    "Springfield ha reproducido más pistas que Shelbyville. Pero eso no implica que los ciudadanos de Springfield escuchen música más a menudo. Esta ciudad es simplemente más grande y hay más usuarios.\n",
    "\n",
    "Ahora agrupa los datos por día de la semana y encuentra el número de pistas reproducidas el lunes, miércoles y viernes.\n"
   ]
  },
  {
   "cell_type": "code",
   "execution_count": 60,
   "metadata": {
    "id": "uZMKjiJz_Zcu"
   },
   "outputs": [
    {
     "name": "stdout",
     "output_type": "stream",
     "text": [
      "dia_semana\n",
      "Friday       21840\n",
      "Monday       21354\n",
      "Wednesday    18059\n",
      "Name: user_id, dtype: int64\n"
     ]
    }
   ],
   "source": [
    "# calculando las pistas reproducidas en cada uno de los tres días\n",
    "print( columns_to_replaces.groupby('dia_semana')['user_id'].count())\n"
   ]
  },
  {
   "cell_type": "markdown",
   "metadata": {
    "id": "cC2tNrlL_Zcu"
   },
   "source": [
    "El miércoles fue el día más silencioso de todos. Pero si consideramos las dos ciudades por separado podríamos llegar a una conclusión diferente."
   ]
  },
  {
   "cell_type": "markdown",
   "metadata": {
    "id": "POzs8bGa_Zcu"
   },
   "source": [
    "Ya has visto cómo funciona el agrupar por ciudad o día. Ahora escribe la función que agrupará ambos.\n",
    "\n",
    "Crea la función `number_tracks()` para calcular el número de canciones reproducidas en un determinado día y ciudad. Requerirá dos parámetros:\n",
    "* día de la semana\n",
    "* nombre de la ciudad\n",
    "\n",
    "En la función, utiliza una variable para almacenar las filas de la tabla original, donde:\n",
    "  * el valor de la columna `'dia_semana'` es igual al parámetro de día\n",
    "  * el valor de la columna `'ciudad'` es igual al parámetro de ciudad\n",
    "\n",
    "Aplica un filtrado consecutivo con indexación lógica.\n",
    "\n",
    "Después, calcula los valores de la columna `'user_id'` en la tabla resultante. Almacena el resultado en la nueva variable. Recupera esta variable de la función."
   ]
  },
  {
   "cell_type": "code",
   "execution_count": 61,
   "metadata": {
    "id": "Nz3GdQB1_Zcu"
   },
   "outputs": [],
   "source": [
    "# <creando la función number_tracks()>\n",
    "# declararemos la función con dos parámetros: day=, city=.\n",
    "df = columns_to_replaces\n",
    "\n",
    "def number_tracks(day, city):\n",
    "#track_list = df.loc[df.loc[:,'dia_semana'] == day]['ciudad'] == city\n",
    "    track_list = df.loc[df.loc[:,'dia_semana'] == day]\n",
    "    track_list = track_list.loc[track_list.loc[:, 'ciudad'] == city] \n",
    "    print(track_list)\n",
    "    track_list_count = track_list['user_id'].count()\n",
    "    return track_list_count\n",
    "# deja que la variable track_list almacene las filas df en las que\n",
    "# el valor en la columna 'day' es igual al parámetro day= y, al mismo tiempo, \n",
    "# el valor de la columna 'city' es igual al parámetro city= (aplica el filtrado consecutivo \n",
    "# con indexación lógica).\n",
    "#track_list = df.loc[df.loc[:,'dia_semana'] == 'Monday']\n",
    "#track_list = track_list.loc[track_list.loc[:, 'ciudad'] == 'Springfield'] \n",
    "#print(track_list)\n",
    "#track_list_count = track_list['user_id'].count()\n",
    "#print(track_list_count)\n",
    "\n",
    "\n",
    "\n",
    "# deja que la variable track_list_count almacene el número de valores de la columna 'user_id' en track_list\n",
    "# (encontrado con el método count()).\n",
    "# permite que la función devuelva un número: el valor de track_list_count.\n",
    "\n",
    "# la función cuenta las pistas reproducidas en un cierto día y ciudad.\n",
    "# primero recupera las filas del día deseado de la tabla,\n",
    "# después filtra las filas de la ciudad deseada del resultado,\n",
    "# entonces, encuentra el número de valores de 'user_id' en la tabla filtrada,\n",
    "# y devuelve ese número.\n",
    "# para ver lo que devuelve, envuelve la llamada de la función en print()."
   ]
  },
  {
   "cell_type": "markdown",
   "metadata": {
    "id": "ytf7xFrFJQ2r"
   },
   "source": [
    "Llama a `number_tracks()` seis veces, cambiando los valores de los parámetros, para que recuperes los datos de ambas ciudades para cada uno de los tres días."
   ]
  },
  {
   "cell_type": "code",
   "execution_count": 62,
   "metadata": {
    "id": "rJcRATNQ_Zcu"
   },
   "outputs": [
    {
     "name": "stdout",
     "output_type": "stream",
     "text": [
      "        user_id                                              pista  \\\n",
      "4      E2DC1FAE                                        Soul People   \n",
      "10     BC5A3A29                                       Gool la Mita   \n",
      "11     8B5192C0  Is There Anybody Out There? (Panoramic Paralys...   \n",
      "12     FF3FD2BD                                              Truth   \n",
      "15     E3C5756F                                            unknown   \n",
      "...         ...                                                ...   \n",
      "61213  3D9BF4F3                                              Alarm   \n",
      "61219  57B3F0CE                                              Intro   \n",
      "61224  9656377C                                          Algun Dia   \n",
      "61225  85A7CFD3                                 Working Class Hero   \n",
      "61247  83A474E7                      I Worship Only What You Bleed   \n",
      "\n",
      "                       artista        genero       ciudad tiempo_pista  \\\n",
      "4                   Space Echo         dance  Springfield     08:34:34   \n",
      "10         Shireen Abdul Wahab         world  Springfield     14:08:42   \n",
      "11        Pink Floyd Floydhead    electronic  Springfield     13:47:49   \n",
      "12                      Bamboo           pop  Springfield     09:19:49   \n",
      "15                     unknown       unknown  Springfield     09:24:51   \n",
      "...                        ...           ...          ...          ...   \n",
      "61213               Wise Blood   alternative  Springfield     20:50:35   \n",
      "61219                  unknown        rusrap  Springfield     20:50:13   \n",
      "61224              Om Ovnimoon     downtempo  Springfield     08:10:59   \n",
      "61225       Marianne Faithfull          rock  Springfield     14:51:37   \n",
      "61247  The Black Dahlia Murder  extrememetal  Springfield     21:07:12   \n",
      "\n",
      "      dia_semana  \n",
      "4         Monday  \n",
      "10        Monday  \n",
      "11        Monday  \n",
      "12        Monday  \n",
      "15        Monday  \n",
      "...          ...  \n",
      "61213     Monday  \n",
      "61219     Monday  \n",
      "61224     Monday  \n",
      "61225     Monday  \n",
      "61247     Monday  \n",
      "\n",
      "[15740 rows x 7 columns]\n",
      "15740\n"
     ]
    }
   ],
   "source": [
    "# el número de canciones reproducidas en Springfield el lunes\n",
    "print(number_tracks('Monday' , 'Springfield'))"
   ]
  },
  {
   "cell_type": "code",
   "execution_count": 63,
   "metadata": {
    "id": "hq_ncZ5T_Zcu"
   },
   "outputs": [
    {
     "name": "stdout",
     "output_type": "stream",
     "text": [
      "        user_id                              pista              artista  \\\n",
      "3      A3DD03C9              Dragons in the Sunset           Fire + Ice   \n",
      "16     81D05C7D                     SLAVES OF FEAR               HEALTH   \n",
      "17     39DE290E                        Hallo Hallo  Die Klima Hawaiians   \n",
      "18     58AE138A                         Pat-a-Cake    Mother Goose Club   \n",
      "26     982219FD             We Not Speak Americano           Genio Band   \n",
      "...         ...                                ...                  ...   \n",
      "61239  D94F810B        Theme from the Walking Dead   Proyecto Halloween   \n",
      "61240  BC8EC5CF       Red Lips: Gta (Rover Rework)                Rover   \n",
      "61241  29E04611                       Bre Petrunko        Perunika Trio   \n",
      "61242  1B91C621             (Hello) Cloud Mountain      sleepmakeswaves   \n",
      "61249  D08D4A55  Maybe One Day (feat. Black Spade)          Blu & Exile   \n",
      "\n",
      "            genero       ciudad tiempo_pista dia_semana  \n",
      "3             folk  Shelbyville     08:37:09     Monday  \n",
      "16     alternative  Shelbyville     20:54:48     Monday  \n",
      "17            folk  Shelbyville     14:36:47     Monday  \n",
      "18        children  Shelbyville     20:04:56     Monday  \n",
      "26             pop  Shelbyville     20:03:03     Monday  \n",
      "...            ...          ...          ...        ...  \n",
      "61239         film  Shelbyville     21:14:40     Monday  \n",
      "61240   electronic  Shelbyville     21:06:50     Monday  \n",
      "61241        world  Shelbyville     13:56:00     Monday  \n",
      "61242     postrock  Shelbyville     09:22:13     Monday  \n",
      "61249       hiphop  Shelbyville     10:00:00     Monday  \n",
      "\n",
      "[5614 rows x 7 columns]\n",
      "5614\n"
     ]
    }
   ],
   "source": [
    "# el número de canciones reproducidas en Shelbyville el lunes\n",
    "print(number_tracks('Monday' , 'Shelbyville'))"
   ]
  },
  {
   "cell_type": "code",
   "execution_count": 64,
   "metadata": {
    "id": "_NTy2VPU_Zcu"
   },
   "outputs": [
    {
     "name": "stdout",
     "output_type": "stream",
     "text": [
      "        user_id                    pista             artista       genero  \\\n",
      "6      4CB90AA5                     True        Roman Messer        dance   \n",
      "7      F03E1C1F         Feeling This Way     Polina Griffith        dance   \n",
      "19     772F5B59                Sweetback  The Fabulous Three          rnb   \n",
      "28     D8D698A9                Romantici     Viola Valentino          pop   \n",
      "36     FCDF1C8E               Nasebanaru                 Zen       reggae   \n",
      "...         ...                      ...                 ...          ...   \n",
      "61232  6A71CB92  Remind Me To Forget You      Sarah Geronimo          pop   \n",
      "61234  8624CE71     Treasures and Trolls          Tera Melos  alternative   \n",
      "61236  574EBCB0        Turn up the Radio           Autograph         rock   \n",
      "61243  9E65547F       Fascinating Rhythm         Mark Murphy         jazz   \n",
      "61248  729CBB09                  My Name              McLean          rnb   \n",
      "\n",
      "            ciudad tiempo_pista dia_semana  \n",
      "6      Springfield     13:00:07  Wednesday  \n",
      "7      Springfield     20:47:49  Wednesday  \n",
      "19     Springfield     13:56:42  Wednesday  \n",
      "28     Springfield     08:23:21  Wednesday  \n",
      "36     Springfield     20:19:36  Wednesday  \n",
      "...            ...          ...        ...  \n",
      "61232  Springfield     14:21:28  Wednesday  \n",
      "61234  Springfield     13:02:57  Wednesday  \n",
      "61236  Springfield     13:45:39  Wednesday  \n",
      "61243  Springfield     20:29:09  Wednesday  \n",
      "61248  Springfield     13:32:28  Wednesday  \n",
      "\n",
      "[11056 rows x 7 columns]\n",
      "11056\n"
     ]
    }
   ],
   "source": [
    "# el número de canciones reproducidas en Springfield el miércoles\n",
    "print(number_tracks('Wednesday' , 'Springfield'))"
   ]
  },
  {
   "cell_type": "code",
   "execution_count": 65,
   "metadata": {
    "id": "j2y3TAwo_Zcu"
   },
   "outputs": [
    {
     "name": "stdout",
     "output_type": "stream",
     "text": [
      "        user_id                       pista           artista  genero  \\\n",
      "0      FFB692EC           Kamigata To Boots  The Mass Missile    rock   \n",
      "2        20EC38           Funiculì funiculà       Mario Lanza     pop   \n",
      "9      E772D5C0                   Pessimist           unknown   dance   \n",
      "14     94EB25C2  Make Love Whenever You Can         Arabesque     pop   \n",
      "22     B8E29C9C        The Drunken Scotsman      Ménage à Moi    folk   \n",
      "...         ...                         ...               ...     ...   \n",
      "61206  B6AE319B          Mind Body and Soul      Kidd Kurrupt   dance   \n",
      "61209   27047C8                   Rainy Day          TumaniYO  rusrap   \n",
      "61217  64E06740                   I Used To      Lunatic Wolf    rock   \n",
      "61223  95104ED1              Break the Mold    Authority Zero    punk   \n",
      "61237  F170C7C0               Back to Black         Soul Deep     rnb   \n",
      "\n",
      "            ciudad tiempo_pista dia_semana  \n",
      "0      Shelbyville     20:28:33  Wednesday  \n",
      "2      Shelbyville     20:58:07  Wednesday  \n",
      "9      Shelbyville     21:20:49  Wednesday  \n",
      "14     Shelbyville     13:22:08  Wednesday  \n",
      "22     Shelbyville     20:20:49  Wednesday  \n",
      "...            ...          ...        ...  \n",
      "61206  Shelbyville     14:43:29  Wednesday  \n",
      "61209  Shelbyville     21:52:57  Wednesday  \n",
      "61217  Shelbyville     14:18:41  Wednesday  \n",
      "61223  Shelbyville     13:49:40  Wednesday  \n",
      "61237  Shelbyville     14:30:52  Wednesday  \n",
      "\n",
      "[7003 rows x 7 columns]\n",
      "7003\n"
     ]
    }
   ],
   "source": [
    "# el número de canciones reproducidas en Shelbyville el miércoles\n",
    "print(number_tracks('Wednesday' , 'Shelbyville'))"
   ]
  },
  {
   "cell_type": "code",
   "execution_count": 66,
   "metadata": {
    "id": "vYDw5u_K_Zcu"
   },
   "outputs": [
    {
     "name": "stdout",
     "output_type": "stream",
     "text": [
      "        user_id                        pista               artista  \\\n",
      "1      55204538  Delayed Because of Accident      Andreas Rönnberg   \n",
      "8      8FA1D3BE                     L’estate           Julia Dalia   \n",
      "13     CC782B0F         After School Special  Detroit Grand Pubahs   \n",
      "34     B416A40F                        Maybe        Maria Michelle   \n",
      "42     F9AD83A7                        Fancy           Grey Killer   \n",
      "...         ...                          ...                   ...   \n",
      "61245  92378E24    Swing it Like You Mean it                OJOJOJ   \n",
      "61246  C532021D       We Can Not Be Silenced                Pänzer   \n",
      "61250  C5E3A0D5                    Jalopiina               unknown   \n",
      "61251  321D0506                Freight Train         Chas McDevitt   \n",
      "61252  3A64EF84    Tell Me Sweet Little Lies          Monica Lopez   \n",
      "\n",
      "             genero       ciudad tiempo_pista dia_semana  \n",
      "1              rock  Springfield     14:07:09     Friday  \n",
      "8            ruspop  Springfield     09:17:40     Friday  \n",
      "13            dance  Springfield     20:04:12     Friday  \n",
      "34           ruspop  Springfield     14:49:21     Friday  \n",
      "42          triphop  Springfield     14:53:39     Friday  \n",
      "...             ...          ...          ...        ...  \n",
      "61245        techno  Springfield     21:12:56     Friday  \n",
      "61246  extrememetal  Springfield     08:38:24     Friday  \n",
      "61250    industrial  Springfield     20:09:26     Friday  \n",
      "61251          rock  Springfield     21:43:59     Friday  \n",
      "61252       country  Springfield     21:59:46     Friday  \n",
      "\n",
      "[15945 rows x 7 columns]\n",
      "15945\n"
     ]
    }
   ],
   "source": [
    "# el número de canciones reproducidas en Springfield el viernes\n",
    "print(number_tracks('Friday' , 'Springfield'))"
   ]
  },
  {
   "cell_type": "code",
   "execution_count": 67,
   "metadata": {
    "id": "8_yzFtW3_Zcu"
   },
   "outputs": [
    {
     "name": "stdout",
     "output_type": "stream",
     "text": [
      "        user_id                          pista                artista  \\\n",
      "5      842029A1                         Chains               Obladaet   \n",
      "30     EBA5A8B2         Päivän Nousu Nostajani              Värttinä   \n",
      "31     F6A44469            Veritas Universalis              Devathorn   \n",
      "38     14FBD1E5                       Solteras           Beauty Brain   \n",
      "49     2A35001B  Can You Feel the Love Tonight  Disney Peaceful Piano   \n",
      "...         ...                            ...                    ...   \n",
      "61210  E82DA566   I Hate You More Than My Life             Solar Fake   \n",
      "61216   A84E445                          Oasis          Dmitry Aeolus   \n",
      "61218  2AD78C04          Welcome to Zombietown      Dirty Wee Middens   \n",
      "61221  CDCAFD62                         Payday               King Hot   \n",
      "61228  E54A55E0            What R U Doin' Here    KALLY'S Mashup Cast   \n",
      "\n",
      "             genero       ciudad tiempo_pista dia_semana  \n",
      "5            rusrap  Shelbyville     13:09:41     Friday  \n",
      "30            world  Shelbyville     08:00:31     Friday  \n",
      "31            metal  Shelbyville     20:19:42     Friday  \n",
      "38            dance  Shelbyville     20:33:11     Friday  \n",
      "49     instrumental  Shelbyville     21:51:37     Friday  \n",
      "...             ...          ...          ...        ...  \n",
      "61210    electronic  Shelbyville     20:55:55     Friday  \n",
      "61216    electronic  Shelbyville     08:32:46     Friday  \n",
      "61218          punk  Shelbyville     08:57:42     Friday  \n",
      "61221        hiphop  Shelbyville     14:31:37     Friday  \n",
      "61228           pop  Shelbyville     13:10:19     Friday  \n",
      "\n",
      "[5895 rows x 7 columns]\n",
      "5895\n"
     ]
    }
   ],
   "source": [
    "# el número de canciones reproducidas en Shelbyville el viernes\n",
    "print(number_tracks('Friday' , 'Shelbyville'))"
   ]
  },
  {
   "cell_type": "markdown",
   "metadata": {
    "id": "7QXffbO-_Zcu"
   },
   "source": [
    "Utiliza `pd.DataFrame` para crear una tabla, donde\n",
    "* Los nombres de las columnas son: `['city', 'monday', 'wednesday', 'friday']`\n",
    "* Los datos son los resultados que conseguiste de `number_tracks()`"
   ]
  },
  {
   "cell_type": "code",
   "execution_count": 68,
   "metadata": {
    "id": "APAcLpOr_Zcu"
   },
   "outputs": [
    {
     "name": "stdout",
     "output_type": "stream",
     "text": [
      "          city  monday  wednesday  friday\n",
      "0  Springfield   15740      11056   15945\n",
      "1  Shelbyville    5614       7003    5895\n"
     ]
    }
   ],
   "source": [
    "# tabla con los resultados\n",
    "\n",
    "renglon1 = ['Springfield', 15740, 11056, 15945]\n",
    "renglon2 = ['Shelbyville', 5614, 7003, 5895]\n",
    "contenido = [renglon1, renglon2]\n",
    "\n",
    "resultados_hp1 = pd.DataFrame(contenido , columns = ['city', 'monday', 'wednesday', 'friday'])\n",
    "print(resultados_hp1)"
   ]
  },
  {
   "cell_type": "markdown",
   "metadata": {
    "id": "-EgPIHYu_Zcu"
   },
   "source": [
    "**Conclusiones**\n",
    "\n",
    "Los datos revelan las diferencias en el comportamiento de los usuarios:\n",
    "\n",
    "- En Springfield, el número de canciones reproducidas alcanzan el punto máximo los lunes y viernes mientras que los miércoles hay un descenso de la actividad.\n",
    "- En Shelbyville, al contario, los usuarios escuchan más música los miércoles. La actividad de los usuarios los lunes y viernes es menor.\n",
    "\n",
    "Así que la primera hipótesis parece ser correcta."
   ]
  },
  {
   "cell_type": "markdown",
   "metadata": {
    "id": "p7nFQajCVw5B"
   },
   "source": [
    "[Volver a Contenidos](#back)"
   ]
  },
  {
   "cell_type": "markdown",
   "metadata": {
    "id": "atZAxtq4_Zcu"
   },
   "source": [
    "### Hipótesis 2: música al principio y al final de la semana <a id='week'></a>"
   ]
  },
  {
   "cell_type": "markdown",
   "metadata": {
    "id": "eXrQqXFH_Zcu"
   },
   "source": [
    "De acuerdo con la segunda hipótesis, los lunes por la mañana y los viernes por la noche los ciudadanos de Springfield escuchan géneros que difieren de aquellos que los usuarios de Shelbyville disfrutan."
   ]
  },
  {
   "cell_type": "markdown",
   "metadata": {
    "id": "S8UcW6Hw_Zcu"
   },
   "source": [
    "Obtén tablas (asegúrate de que el nombre de tu tabla combinada encaja con el DataFrame dado en los dos bloques de código de abajo):\n",
    "* Para Springfield — `spr_general`\n",
    "* Para Shelbyville — `shel_general`"
   ]
  },
  {
   "cell_type": "code",
   "execution_count": 69,
   "metadata": {
    "id": "qeaFfM_P_Zcu"
   },
   "outputs": [],
   "source": [
    "# obteniendo la tabla spr_general de las filas de df, \n",
    "# donde los valores en la columna 'city' es 'Springfield'\n",
    "spr_general = df[df['ciudad'] == 'Springfield']\n"
   ]
  },
  {
   "cell_type": "code",
   "execution_count": 70,
   "metadata": {
    "id": "ORaVRKto_Zcu"
   },
   "outputs": [],
   "source": [
    "# obteniendo shel_general de las filas df,\n",
    "# donde el valor de la columna 'city' es 'Shelbyville'\n",
    "shel_general = df[df['ciudad'] == 'Shelbyville']\n"
   ]
  },
  {
   "cell_type": "markdown",
   "metadata": {
    "id": "MEJV-CX2_Zcu"
   },
   "source": [
    "Escribe la función genre_weekday() con cuatro parámetros:\n",
    "* Una tabla para los datos (`df`)\n",
    "* El día de la semana (`day`)\n",
    "* La marca de fecha y hora en formato 'hh:mm' (`time1`)\n",
    "* La marca de fecha y hora en formato 'hh:mm' (`time2`)\n",
    "\n",
    "La función debería devolver información de los 15 géneros más populares de un día determinado en un período entre dos marcas de fecha y hora."
   ]
  },
  {
   "cell_type": "code",
   "execution_count": 71,
   "metadata": {
    "id": "laJT9BYl_Zcu"
   },
   "outputs": [],
   "source": [
    "# declarando la función genre_weekday() con los parámetros day=, time1= y time2=. Debería\n",
    "# devolver información sobre los géneros más populares de un determinado día a una determinada hora:\n",
    "\n",
    "# df = spr_general\n",
    "# day = 'Monday'\n",
    "# time1 = '17:00:00'\n",
    "# time2 = '23:00:00'\n",
    "\n",
    "# 1) Deja que la variable genre_df almacene las filas que cumplen varias condiciones:\n",
    "#    - el valor de la columna 'day' es igual al valor del argumento day=\n",
    "#    - el valor de la columna 'time' es mayor que el valor del argumento time1=\n",
    "#    - el valor en la columna 'time' es menor que el valor del argumento time2=\n",
    "#    Utiliza un filtrado consecutivo con indexación lógica.\n",
    "\n",
    "# 2) Agrupa genre_df por la columna 'genre', toma una de sus columnas, \n",
    "#    y utiliza el método count() para encontrar el número de entradas por cada uno de \n",
    "#    los géneros representados; almacena los Series resultantes en\n",
    "#    la variable genre_df_count\n",
    "\n",
    "# 3) Ordena genre_df_count en orden descendente de frecuencia y guarda el resultado\n",
    "#    en la variable genre_df_sorted\n",
    "\n",
    "# 4) Devuelve un objeto Series con los primeros 15 valores de genre_df_sorted - los 15\n",
    "#    géneros más populares (en un determinado día, en un determinado periodo de tiempo)\n",
    "\n",
    "# Escribe tu función aquí\n",
    "def genre_weekday( df, day, time1, time2):\n",
    "    # filtrado consecutivo\n",
    "    # genre_df solo almacenará aquellas filas df en las que el día sea igual a day=\n",
    "    genre_df = df[df['dia_semana'] == day] # escribe tu código aquí\n",
    "\n",
    "    # genre_df solo almacenará aquellas filas df en las que el tiempo sea menos que time2=\n",
    "    genre_df = genre_df[genre_df['tiempo_pista'] <= time2 ] # escribe tu código aquí\n",
    "\n",
    "    # genre_df solo almacenará aquellas filas df en las que el tiempo sea mayor que time1=\n",
    "    genre_df = genre_df[genre_df['tiempo_pista'] >= time1 ] # escribe tu código aquí\n",
    "\n",
    "    # agrupa el DataFrame filtrado por la columna con los nombres de los géneros, \n",
    "    # toma la columna de género, y encuentra el número de filas por cada género con el método count()\n",
    "    genre_df_grouped = genre_df.groupby('genero')['genero'].count() # escribe tu código aquí\n",
    "\n",
    "    # ordenaremos el resultado en orden descendente (por lo que los géneros más populares \n",
    "    # aparecerán primero en el objeto Series)\n",
    "    genre_df_sorted = genre_df_grouped.sort_values(ascending=False) # escribe tu código aquí\n",
    "    #genre_df_grouped = genre_df.groupby('genre')['genre'].count()\n",
    "    #genre_df_sorted = genre_df_grouped.sort_values(ascending = False)\n",
    "    # devolveremos el objeto Series que almacena los 15 géneros más populares en un día determinado en un periodo de tiempo determinado\n",
    "    return genre_df_sorted[:15]"
   ]
  },
  {
   "cell_type": "markdown",
   "metadata": {
    "id": "la2s2_PF_Zcu"
   },
   "source": [
    "Compara los resultados de la función `genre_weekday()`para Springfield y Shelbyville el lunes por la mañana (de 7 a 11) y el viernes por la tarde (de 17:00 a 23:00):"
   ]
  },
  {
   "cell_type": "code",
   "execution_count": 72,
   "metadata": {
    "id": "yz7itPUQ_Zcu"
   },
   "outputs": [
    {
     "data": {
      "text/plain": [
       "genero\n",
       "pop            781\n",
       "dance          549\n",
       "electronic     480\n",
       "rock           474\n",
       "hiphop         286\n",
       "ruspop         186\n",
       "world          181\n",
       "rusrap         175\n",
       "alternative    164\n",
       "unknown        161\n",
       "classical      157\n",
       "metal          120\n",
       "jazz           100\n",
       "folk            97\n",
       "soundtrack      95\n",
       "Name: genero, dtype: int64"
      ]
     },
     "execution_count": 72,
     "metadata": {},
     "output_type": "execute_result"
    }
   ],
   "source": [
    "# llamando a la función para el lunes por la mañana en Springfield \n",
    "#(utilizando spr_general en vez de la tabla df)\n",
    "genre_weekday( spr_general, 'Monday', '07:00:00', '11:00:60')"
   ]
  },
  {
   "cell_type": "code",
   "execution_count": 73,
   "metadata": {
    "id": "kwUcHPdy_Zcu"
   },
   "outputs": [
    {
     "data": {
      "text/plain": [
       "genero\n",
       "pop            218\n",
       "dance          182\n",
       "rock           162\n",
       "electronic     147\n",
       "hiphop          80\n",
       "ruspop          64\n",
       "alternative     58\n",
       "rusrap          55\n",
       "jazz            44\n",
       "classical       40\n",
       "world           36\n",
       "rap             32\n",
       "soundtrack      31\n",
       "rnb             27\n",
       "metal           27\n",
       "Name: genero, dtype: int64"
      ]
     },
     "execution_count": 73,
     "metadata": {},
     "output_type": "execute_result"
    }
   ],
   "source": [
    "# llamando a la función para el lunes por la mañana en Shelbyville \n",
    "#(utilizando shel_general en vez de la tabla df)\n",
    "genre_weekday( shel_general, 'Monday', '07:00:00', '11:00:60')"
   ]
  },
  {
   "cell_type": "code",
   "execution_count": 74,
   "metadata": {
    "id": "EzXVRE1o_Zcu"
   },
   "outputs": [
    {
     "data": {
      "text/plain": [
       "genero\n",
       "pop            713\n",
       "rock           517\n",
       "dance          495\n",
       "electronic     482\n",
       "hiphop         273\n",
       "world          208\n",
       "ruspop         170\n",
       "classical      163\n",
       "alternative    163\n",
       "rusrap         142\n",
       "jazz           111\n",
       "unknown        110\n",
       "soundtrack     105\n",
       "rnb             90\n",
       "metal           88\n",
       "Name: genero, dtype: int64"
      ]
     },
     "execution_count": 74,
     "metadata": {},
     "output_type": "execute_result"
    }
   ],
   "source": [
    "# llamando a la función para el viernes por la tarde en Springfield\n",
    "genre_weekday( spr_general, 'Friday', '17:00:00', '23:00:60')"
   ]
  },
  {
   "cell_type": "code",
   "execution_count": 75,
   "metadata": {
    "id": "JZaEKu5v_Zcu"
   },
   "outputs": [
    {
     "data": {
      "text/plain": [
       "genero\n",
       "pop            256\n",
       "rock           216\n",
       "electronic     216\n",
       "dance          210\n",
       "hiphop          97\n",
       "alternative     63\n",
       "jazz            61\n",
       "classical       60\n",
       "rusrap          59\n",
       "world           54\n",
       "unknown         47\n",
       "ruspop          47\n",
       "soundtrack      40\n",
       "metal           39\n",
       "rap             36\n",
       "Name: genero, dtype: int64"
      ]
     },
     "execution_count": 75,
     "metadata": {},
     "output_type": "execute_result"
    }
   ],
   "source": [
    "# llamando a la función para el viernes por la tarde en Shelbyville\n",
    "genre_weekday( shel_general, 'Friday', '17:00:00', '23:00:60')"
   ]
  },
  {
   "cell_type": "markdown",
   "metadata": {
    "id": "wrCe4MNX_Zcu"
   },
   "source": [
    "**Conclusión**\n",
    "\n",
    "Habiendo comparado los 15 géneros más populares del lunes por la mañana podemos concluir lo siguiente:\n",
    "\n",
    "1. Los usuarios de Springfield y Shelbyville escuchan música similar. Los cinco géneros más populares son los mismos, solo rock y electrónica han intercambiado posiciones.\n",
    "\n",
    "2. En Springfield el número de valores ausentes resultaron ser tan altos que el valor `'unknown'` llegó al décimo. Esto significa que los valores ausentes forman una parte considerable de los datos, lo que podría ser la base de la cuestión sobre la fiabilidad de nuestras conclusiones.\n",
    "\n",
    "Para el viernes por la tarde, la situación es similar. Los géneros individuales varían algo pero, en general, los 15 más populares son parecidos en las dos ciudades.\n",
    "\n",
    "De esta forma, la segunda hipótesis ha sido parcialmente demostrada:\n",
    "* Los usuarios escuchan música similar al principio y al final de la semana.\n",
    "* No hay una gran diferencia entre Springfield y Shelbyville. En ambas ciudades, el pop es el género más popular.\n",
    "\n",
    "Sin embargo, el número de valores ausentes hace este resultado un tanto cuestionable. En Springfield, hay tantos que afectan a nuestros 15 más populares. De no faltarnos esos valores, las cosas podrían parecer diferentes."
   ]
  },
  {
   "cell_type": "markdown",
   "metadata": {
    "id": "jLmXgdanVyhP"
   },
   "source": [
    "[Volver a Contenidos](#back)"
   ]
  },
  {
   "cell_type": "markdown",
   "metadata": {
    "id": "JolODAqr_Zcu"
   },
   "source": [
    "### Hipótesis 3: preferencias de género en Springfield y Shelbyville <a id='genre'></a>\n",
    "\n",
    "Hipótesis: Shelbyville ama la música rap. A los ciudadanos de Springfield les gusta más el pop."
   ]
  },
  {
   "cell_type": "markdown",
   "metadata": {
    "id": "DlegSvaT_Zcu"
   },
   "source": [
    "Agrupa la tabla `spr_general` por género y encuentra el número de canciones reproducidas de cada género con el método `count()`. Después, ordena el resultado en orden descendente y guárdalo en `spr_genres`."
   ]
  },
  {
   "cell_type": "code",
   "execution_count": 76,
   "metadata": {
    "id": "r19lIPke_Zcu"
   },
   "outputs": [],
   "source": [
    "# en una línea: agrupa la tabla spr_general por la columna 'genre', \n",
    "# cuenta los valores 'genre' con count() en la agrupación, \n",
    "# ordena el Series resultante en orden descendiente, y almacénalo en spr_genres\n",
    "spr_general = spr_general.groupby('genero').count()\n",
    "spr_genres = spr_general.sort_values(by= 'user_id', ascending=False)\n"
   ]
  },
  {
   "cell_type": "markdown",
   "metadata": {
    "id": "6kMuomxTiIr8"
   },
   "source": [
    "Imprime las 10 primeras filas de `spr_genres`:"
   ]
  },
  {
   "cell_type": "code",
   "execution_count": 77,
   "metadata": {
    "id": "WhCSooF8_Zcv"
   },
   "outputs": [
    {
     "name": "stdout",
     "output_type": "stream",
     "text": [
      "             user_id  pista  artista  ciudad  tiempo_pista  dia_semana\n",
      "genero                                                                \n",
      "pop             5892   5892     5892    5892          5892        5892\n",
      "dance           4435   4435     4435    4435          4435        4435\n",
      "rock            3965   3965     3965    3965          3965        3965\n",
      "electronic      3786   3786     3786    3786          3786        3786\n",
      "hiphop          2096   2096     2096    2096          2096        2096\n",
      "classical       1616   1616     1616    1616          1616        1616\n",
      "world           1432   1432     1432    1432          1432        1432\n",
      "alternative     1379   1379     1379    1379          1379        1379\n",
      "ruspop          1372   1372     1372    1372          1372        1372\n",
      "rusrap          1161   1161     1161    1161          1161        1161\n"
     ]
    }
   ],
   "source": [
    "# imprimiendo las 10 primeras filas de spr_genres\n",
    "print(spr_genres.head(10))"
   ]
  },
  {
   "cell_type": "markdown",
   "metadata": {
    "id": "cnPG2vnN_Zcv"
   },
   "source": [
    "Ahora haz lo mismo con los datos de Shelbyville.\n",
    "\n",
    "Agrupa la tabla `shel_general` por género y encuentra el número de canciones reproducidas de cada género. Después, ordena el resultado en orden descendente y guárdalo en la tabla `shel_genres`:\n"
   ]
  },
  {
   "cell_type": "code",
   "execution_count": 78,
   "metadata": {
    "id": "gluLIpE7_Zcv"
   },
   "outputs": [],
   "source": [
    "# en una línea: agrupa la tabla shel_general por la columna 'genre', \n",
    "# cuenta los valores 'genre' en el agrupamiento con count(), \n",
    "# ordena el Series resultante en orden descendente y guárdalo en shel_genres\n",
    "shel_general = shel_general.groupby('genero').count()\n",
    "shel_genres = shel_general.sort_values(by= 'user_id', ascending=False)"
   ]
  },
  {
   "cell_type": "markdown",
   "metadata": {
    "id": "5Doha_ODgyQ8"
   },
   "source": [
    "Imprime las 10 primeras filas de `shel_genres`:"
   ]
  },
  {
   "cell_type": "code",
   "execution_count": 79,
   "metadata": {
    "id": "uaGJHjVU_Zcv"
   },
   "outputs": [
    {
     "name": "stdout",
     "output_type": "stream",
     "text": [
      "             user_id  pista  artista  ciudad  tiempo_pista  dia_semana\n",
      "genero                                                                \n",
      "pop             2431   2431     2431    2431          2431        2431\n",
      "dance           1932   1932     1932    1932          1932        1932\n",
      "rock            1879   1879     1879    1879          1879        1879\n",
      "electronic      1736   1736     1736    1736          1736        1736\n",
      "hiphop           960    960      960     960           960         960\n",
      "alternative      649    649      649     649           649         649\n",
      "classical        646    646      646     646           646         646\n",
      "rusrap           564    564      564     564           564         564\n",
      "ruspop           538    538      538     538           538         538\n",
      "world            515    515      515     515           515         515\n"
     ]
    }
   ],
   "source": [
    "# imprimiendo las 10 primeras filas de shel_genres\n",
    "print(shel_genres.head(10))"
   ]
  },
  {
   "cell_type": "markdown",
   "metadata": {
    "id": "RY51YJYu_Zcv"
   },
   "source": [
    "**Conclusión**"
   ]
  },
  {
   "cell_type": "markdown",
   "metadata": {
    "id": "nVhnJEm__Zcv"
   },
   "source": [
    "La hipótesis ha sido parcialmente demostrada:\n",
    "* La música pop es el género más popular en Springfield, tal como se esperaba.\n",
    "* Sin embargo, la música pop ha resultado ser igual de popular en Springfield que en Shelbyville y el rap no estaba entre los 5 más populares en ninguna de las ciudades.\n"
   ]
  },
  {
   "cell_type": "markdown",
   "metadata": {
    "id": "Byr0RfpPVz14"
   },
   "source": [
    "[Volver a Contenidos](#back)"
   ]
  },
  {
   "cell_type": "markdown",
   "metadata": {
    "id": "ykKQ0N65_Zcv"
   },
   "source": [
    "# Conclusiones <a id='end'></a>"
   ]
  },
  {
   "cell_type": "markdown",
   "metadata": {
    "id": "tjUwbHb3_Zcv"
   },
   "source": [
    "Hemos probado las siguientes tres hipótesis:\n",
    "\n",
    "1. La actividad de los usuarios difiere dependiendo del día de la semana y de las distintas ciudades. \n",
    "2. Los lunes por la mañana los residentes de Springfield y Shelbyville escuchan géneros distintos. Lo mismo ocurre con los viernes por la noche.\n",
    "3. Los oyentes de Springfield y Shelbyville tienen distintas preferencias. En ambas ciudades, Springfield y Shelbyville, se prefiere el pop.\n",
    "\n",
    "Tras analizar los datos, concluimos:\n",
    "\n",
    "1. La actividad del usuario en Springfield y Shelbyville depende del día de la semana aunque las ciudades varían de diferentes formas. \n",
    "\n",
    "La primera hipótesis ha sido aceptada completamente.\n",
    "\n",
    "2. Las preferencias musicales no varían significativamente en el transcurso de la semana en Springfield y Shelbyville. Podemos observar pequeñas diferencias en el orden los lunes, pero:\n",
    "* En Springfield y Shelbyville la gente lo que más escucha es la música pop.\n",
    "\n",
    "Así que no podemos aceptar esta hipótesis. También debemos tener en cuenta que el resultado podría haber sido diferente si no fuera por los valores ausentes.\n",
    "\n",
    "3. Resulta que las preferencias musicales de los usuarios de Springfield y Shelbyville son bastante parecidas.\n",
    "\n",
    "La tercera hipótesis es rechazada. Si hay alguna diferencia en las preferencias no se puede observar en los datos.\n",
    "\n",
    "### Nota \n",
    "En los proyectos reales, la investigación supone el estudio de hipótesis estadísticas que es más preciso y cuantitativo. También ten en cuenta que no siempre podemos sacar conclusiones sobre una ciudad entera basándonos en datos de una sola fuente.\n",
    "\n",
    "Analizarás el estudio de hipótesis en el sprint de análisis estadístico de datos."
   ]
  },
  {
   "cell_type": "markdown",
   "metadata": {
    "id": "Ju4AHDSgV1FE"
   },
   "source": [
    "[Volver a Contenidos](#back)"
   ]
  }
 ],
 "metadata": {
  "ExecuteTimeLog": [
   {
    "duration": 468,
    "start_time": "2022-06-14T14:35:18.387Z"
   },
   {
    "duration": 29,
    "start_time": "2022-06-14T14:35:22.455Z"
   },
   {
    "duration": 113,
    "start_time": "2022-06-14T14:36:17.042Z"
   },
   {
    "duration": 68,
    "start_time": "2022-06-14T14:41:52.348Z"
   },
   {
    "duration": 3,
    "start_time": "2022-06-14T14:42:06.264Z"
   },
   {
    "duration": 7,
    "start_time": "2022-06-14T14:45:08.681Z"
   },
   {
    "duration": 686,
    "start_time": "2022-06-14T14:45:46.524Z"
   },
   {
    "duration": 403,
    "start_time": "2022-06-14T14:46:08.797Z"
   },
   {
    "duration": 292,
    "start_time": "2022-06-14T14:46:55.598Z"
   },
   {
    "duration": 2,
    "start_time": "2022-06-14T14:47:43.792Z"
   },
   {
    "duration": 292,
    "start_time": "2022-06-14T14:47:46.839Z"
   },
   {
    "duration": 301,
    "start_time": "2022-06-14T14:47:54.124Z"
   },
   {
    "duration": 3,
    "start_time": "2022-06-14T14:47:57.304Z"
   },
   {
    "duration": 320,
    "start_time": "2022-06-14T14:48:00.277Z"
   },
   {
    "duration": 38,
    "start_time": "2022-06-14T14:48:29.982Z"
   },
   {
    "duration": 11,
    "start_time": "2022-06-14T14:51:43.701Z"
   },
   {
    "duration": 32,
    "start_time": "2022-06-14T14:52:48.429Z"
   },
   {
    "duration": 46,
    "start_time": "2022-06-14T17:11:36.902Z"
   },
   {
    "duration": 6,
    "start_time": "2022-06-14T17:12:18.950Z"
   },
   {
    "duration": 6,
    "start_time": "2022-06-14T17:12:39.281Z"
   },
   {
    "duration": 7,
    "start_time": "2022-06-14T17:12:46.606Z"
   },
   {
    "duration": 5,
    "start_time": "2022-06-14T17:13:05.701Z"
   },
   {
    "duration": 6,
    "start_time": "2022-06-14T17:16:02.741Z"
   },
   {
    "duration": 6,
    "start_time": "2022-06-14T17:16:05.383Z"
   },
   {
    "duration": 5,
    "start_time": "2022-06-14T17:16:14.201Z"
   },
   {
    "duration": 6,
    "start_time": "2022-06-14T17:22:36.582Z"
   },
   {
    "duration": 573,
    "start_time": "2022-06-14T18:02:30.941Z"
   },
   {
    "duration": 4,
    "start_time": "2022-06-14T18:02:51.129Z"
   },
   {
    "duration": 4,
    "start_time": "2022-06-14T18:02:55.510Z"
   },
   {
    "duration": 12,
    "start_time": "2022-06-14T18:19:20.154Z"
   },
   {
    "duration": 3,
    "start_time": "2022-06-14T18:19:59.242Z"
   },
   {
    "duration": 21,
    "start_time": "2022-06-14T18:40:57.931Z"
   },
   {
    "duration": 13,
    "start_time": "2022-06-14T18:41:59.391Z"
   },
   {
    "duration": 3,
    "start_time": "2022-06-14T18:42:02.826Z"
   },
   {
    "duration": 12,
    "start_time": "2022-06-14T18:42:15.483Z"
   },
   {
    "duration": 3,
    "start_time": "2022-06-14T18:42:19.551Z"
   },
   {
    "duration": 158,
    "start_time": "2022-06-14T18:43:53.685Z"
   },
   {
    "duration": 3,
    "start_time": "2022-06-14T18:43:57.576Z"
   },
   {
    "duration": 22,
    "start_time": "2022-06-14T18:44:35.945Z"
   },
   {
    "duration": 29,
    "start_time": "2022-06-14T19:12:55.545Z"
   },
   {
    "duration": 19,
    "start_time": "2022-06-14T19:13:35.471Z"
   },
   {
    "duration": 27,
    "start_time": "2022-06-14T19:15:22.157Z"
   },
   {
    "duration": 12,
    "start_time": "2022-06-14T19:36:11.911Z"
   },
   {
    "duration": 11,
    "start_time": "2022-06-14T19:36:29.672Z"
   },
   {
    "duration": 887,
    "start_time": "2022-06-14T19:37:33.495Z"
   },
   {
    "duration": 21,
    "start_time": "2022-06-14T19:38:08.924Z"
   },
   {
    "duration": 11,
    "start_time": "2022-06-14T19:41:46.483Z"
   },
   {
    "duration": 8,
    "start_time": "2022-06-14T20:05:07.486Z"
   },
   {
    "duration": 8,
    "start_time": "2022-06-14T20:09:16.953Z"
   },
   {
    "duration": 10,
    "start_time": "2022-06-14T20:10:04.751Z"
   },
   {
    "duration": 8,
    "start_time": "2022-06-14T20:12:30.721Z"
   },
   {
    "duration": 775,
    "start_time": "2022-06-14T20:22:28.102Z"
   },
   {
    "duration": 22,
    "start_time": "2022-06-14T20:22:35.064Z"
   },
   {
    "duration": 789,
    "start_time": "2022-06-14T20:45:52.087Z"
   },
   {
    "duration": 23,
    "start_time": "2022-06-14T20:46:02.859Z"
   },
   {
    "duration": 10,
    "start_time": "2022-06-14T20:50:01.626Z"
   },
   {
    "duration": 9,
    "start_time": "2022-06-14T21:01:24.432Z"
   },
   {
    "duration": 10,
    "start_time": "2022-06-14T21:02:04.505Z"
   },
   {
    "duration": 13,
    "start_time": "2022-06-14T21:10:22.872Z"
   },
   {
    "duration": 11,
    "start_time": "2022-06-14T21:11:24.575Z"
   },
   {
    "duration": 774,
    "start_time": "2022-06-14T21:19:39.843Z"
   },
   {
    "duration": 20,
    "start_time": "2022-06-14T21:19:45.935Z"
   },
   {
    "duration": 816,
    "start_time": "2022-06-14T21:26:44.646Z"
   },
   {
    "duration": 22,
    "start_time": "2022-06-14T21:26:50.274Z"
   },
   {
    "duration": 751,
    "start_time": "2022-06-14T21:29:05.713Z"
   },
   {
    "duration": 21,
    "start_time": "2022-06-14T21:29:11.215Z"
   },
   {
    "duration": 7,
    "start_time": "2022-06-14T21:30:25.701Z"
   },
   {
    "duration": 4,
    "start_time": "2022-06-14T21:30:35.575Z"
   },
   {
    "duration": 25,
    "start_time": "2022-06-14T21:44:40.896Z"
   },
   {
    "duration": 807,
    "start_time": "2022-06-14T21:44:51.118Z"
   },
   {
    "duration": 4,
    "start_time": "2022-06-14T21:44:54.808Z"
   },
   {
    "duration": 22,
    "start_time": "2022-06-14T21:45:27.036Z"
   },
   {
    "duration": 743,
    "start_time": "2022-06-14T21:49:10.936Z"
   },
   {
    "duration": 8,
    "start_time": "2022-06-14T21:59:06.335Z"
   },
   {
    "duration": 823,
    "start_time": "2022-06-14T22:15:59.586Z"
   },
   {
    "duration": 21,
    "start_time": "2022-06-14T22:16:07.107Z"
   },
   {
    "duration": 846,
    "start_time": "2022-06-14T22:16:56.082Z"
   },
   {
    "duration": 21,
    "start_time": "2022-06-14T22:17:00.915Z"
   },
   {
    "duration": 861,
    "start_time": "2022-06-14T22:23:29.542Z"
   },
   {
    "duration": 25,
    "start_time": "2022-06-14T22:23:33.204Z"
   },
   {
    "duration": 846,
    "start_time": "2022-06-14T22:26:46.353Z"
   },
   {
    "duration": 22,
    "start_time": "2022-06-14T22:26:49.621Z"
   },
   {
    "duration": 4,
    "start_time": "2022-06-14T22:30:48.240Z"
   },
   {
    "duration": 50,
    "start_time": "2022-06-15T18:13:24.794Z"
   },
   {
    "duration": 7,
    "start_time": "2022-06-15T18:14:47.392Z"
   },
   {
    "duration": 9,
    "start_time": "2022-06-15T18:15:24.468Z"
   },
   {
    "duration": 8,
    "start_time": "2022-06-15T18:15:29.834Z"
   },
   {
    "duration": 3,
    "start_time": "2022-06-15T18:24:24.399Z"
   },
   {
    "duration": 310,
    "start_time": "2022-06-15T18:24:32.888Z"
   },
   {
    "duration": 11,
    "start_time": "2022-06-15T18:24:41.857Z"
   },
   {
    "duration": 33,
    "start_time": "2022-06-15T18:24:48.391Z"
   },
   {
    "duration": 4,
    "start_time": "2022-06-15T18:24:56.994Z"
   },
   {
    "duration": 11,
    "start_time": "2022-06-15T18:25:00.194Z"
   },
   {
    "duration": 4,
    "start_time": "2022-06-15T18:25:03.839Z"
   },
   {
    "duration": 27,
    "start_time": "2022-06-15T18:25:09.906Z"
   },
   {
    "duration": 857,
    "start_time": "2022-06-15T18:25:14.760Z"
   },
   {
    "duration": 832,
    "start_time": "2022-06-15T18:35:35.718Z"
   },
   {
    "duration": 6863,
    "start_time": "2022-06-15T18:58:53.777Z"
   },
   {
    "duration": 9381,
    "start_time": "2022-06-15T18:59:46.385Z"
   },
   {
    "duration": 9856,
    "start_time": "2022-06-15T19:00:22.709Z"
   },
   {
    "duration": 29,
    "start_time": "2022-06-15T19:01:35.715Z"
   },
   {
    "duration": 6,
    "start_time": "2022-06-15T19:03:14.316Z"
   },
   {
    "duration": 11,
    "start_time": "2022-06-15T19:03:26.115Z"
   },
   {
    "duration": 9536,
    "start_time": "2022-06-15T19:04:23.755Z"
   },
   {
    "duration": 9,
    "start_time": "2022-06-15T19:05:58.595Z"
   },
   {
    "duration": 3914,
    "start_time": "2022-06-15T19:06:30.047Z"
   },
   {
    "duration": 24,
    "start_time": "2022-06-15T19:06:35.881Z"
   },
   {
    "duration": 765,
    "start_time": "2022-06-15T19:07:15.810Z"
   },
   {
    "duration": 23,
    "start_time": "2022-06-15T19:07:20.451Z"
   },
   {
    "duration": 71,
    "start_time": "2022-06-15T19:36:32.178Z"
   },
   {
    "duration": 67,
    "start_time": "2022-06-15T19:49:38.525Z"
   },
   {
    "duration": 112,
    "start_time": "2022-06-15T19:50:55.690Z"
   },
   {
    "duration": 66,
    "start_time": "2022-06-15T19:51:08.489Z"
   },
   {
    "duration": 63,
    "start_time": "2022-06-15T19:53:32.966Z"
   },
   {
    "duration": 69,
    "start_time": "2022-06-15T20:05:28.446Z"
   },
   {
    "duration": 71,
    "start_time": "2022-06-15T20:05:59.374Z"
   },
   {
    "duration": 84,
    "start_time": "2022-06-15T20:06:11.455Z"
   },
   {
    "duration": 74,
    "start_time": "2022-06-15T20:07:01.686Z"
   },
   {
    "duration": 3,
    "start_time": "2022-06-15T20:08:34.293Z"
   },
   {
    "duration": 274,
    "start_time": "2022-06-15T20:08:36.748Z"
   },
   {
    "duration": 11,
    "start_time": "2022-06-15T20:08:41.869Z"
   },
   {
    "duration": 29,
    "start_time": "2022-06-15T20:08:45.611Z"
   },
   {
    "duration": 6,
    "start_time": "2022-06-15T20:08:51.485Z"
   },
   {
    "duration": 14,
    "start_time": "2022-06-15T20:08:54.571Z"
   },
   {
    "duration": 3,
    "start_time": "2022-06-15T20:08:57.668Z"
   },
   {
    "duration": 39,
    "start_time": "2022-06-15T20:09:00.715Z"
   },
   {
    "duration": 3527,
    "start_time": "2022-06-15T20:09:03.537Z"
   },
   {
    "duration": 26,
    "start_time": "2022-06-15T20:09:08.683Z"
   },
   {
    "duration": 58,
    "start_time": "2022-06-15T20:09:13.509Z"
   },
   {
    "duration": 63,
    "start_time": "2022-06-15T20:09:17.310Z"
   },
   {
    "duration": 69,
    "start_time": "2022-06-15T20:09:24.553Z"
   },
   {
    "duration": 77,
    "start_time": "2022-06-15T20:10:56.396Z"
   },
   {
    "duration": 3,
    "start_time": "2022-06-15T20:28:21.463Z"
   },
   {
    "duration": 374,
    "start_time": "2022-06-15T20:28:24.455Z"
   },
   {
    "duration": 14,
    "start_time": "2022-06-15T20:28:28.568Z"
   },
   {
    "duration": 33,
    "start_time": "2022-06-15T20:28:33.470Z"
   },
   {
    "duration": 3,
    "start_time": "2022-06-15T20:28:42.270Z"
   },
   {
    "duration": 7,
    "start_time": "2022-06-15T20:28:45.022Z"
   },
   {
    "duration": 3,
    "start_time": "2022-06-15T20:28:48.403Z"
   },
   {
    "duration": 27,
    "start_time": "2022-06-15T20:28:52.068Z"
   },
   {
    "duration": 3922,
    "start_time": "2022-06-15T20:28:55.329Z"
   },
   {
    "duration": 28,
    "start_time": "2022-06-15T20:29:00.672Z"
   },
   {
    "duration": 62,
    "start_time": "2022-06-15T20:29:07.063Z"
   },
   {
    "duration": 84,
    "start_time": "2022-06-15T20:29:10.044Z"
   },
   {
    "duration": 55,
    "start_time": "2022-06-15T20:29:17.562Z"
   },
   {
    "duration": 3,
    "start_time": "2022-06-15T20:32:28.708Z"
   },
   {
    "duration": 316,
    "start_time": "2022-06-15T20:32:28.715Z"
   },
   {
    "duration": 10,
    "start_time": "2022-06-15T20:32:29.033Z"
   },
   {
    "duration": 33,
    "start_time": "2022-06-15T20:32:29.044Z"
   },
   {
    "duration": 3,
    "start_time": "2022-06-15T20:32:29.080Z"
   },
   {
    "duration": 15,
    "start_time": "2022-06-15T20:32:29.084Z"
   },
   {
    "duration": 10,
    "start_time": "2022-06-15T20:32:29.100Z"
   },
   {
    "duration": 36,
    "start_time": "2022-06-15T20:32:29.111Z"
   },
   {
    "duration": 4152,
    "start_time": "2022-06-15T20:32:29.149Z"
   },
   {
    "duration": 28,
    "start_time": "2022-06-15T20:32:33.304Z"
   },
   {
    "duration": 97,
    "start_time": "2022-06-15T20:32:33.335Z"
   },
   {
    "duration": 98,
    "start_time": "2022-06-15T20:32:33.434Z"
   },
   {
    "duration": 66,
    "start_time": "2022-06-15T20:32:33.535Z"
   },
   {
    "duration": 53,
    "start_time": "2022-06-15T20:32:52.859Z"
   },
   {
    "duration": 3,
    "start_time": "2022-06-15T20:34:47.149Z"
   },
   {
    "duration": 322,
    "start_time": "2022-06-15T20:34:47.160Z"
   },
   {
    "duration": 10,
    "start_time": "2022-06-15T20:34:47.484Z"
   },
   {
    "duration": 54,
    "start_time": "2022-06-15T20:34:47.496Z"
   },
   {
    "duration": 3,
    "start_time": "2022-06-15T20:34:47.552Z"
   },
   {
    "duration": 11,
    "start_time": "2022-06-15T20:34:47.558Z"
   },
   {
    "duration": 6,
    "start_time": "2022-06-15T20:34:47.570Z"
   },
   {
    "duration": 32,
    "start_time": "2022-06-15T20:34:47.578Z"
   },
   {
    "duration": 3965,
    "start_time": "2022-06-15T20:34:47.625Z"
   },
   {
    "duration": 44,
    "start_time": "2022-06-15T20:34:51.592Z"
   },
   {
    "duration": 109,
    "start_time": "2022-06-15T20:34:51.638Z"
   },
   {
    "duration": 100,
    "start_time": "2022-06-15T20:34:51.749Z"
   },
   {
    "duration": 75,
    "start_time": "2022-06-15T20:34:51.852Z"
   },
   {
    "duration": 61,
    "start_time": "2022-06-15T20:34:56.436Z"
   },
   {
    "duration": 422,
    "start_time": "2022-06-15T20:46:18.577Z"
   },
   {
    "duration": 296,
    "start_time": "2022-06-15T20:46:49.080Z"
   },
   {
    "duration": 6,
    "start_time": "2022-06-15T20:48:05.653Z"
   },
   {
    "duration": 6,
    "start_time": "2022-06-15T20:55:40.337Z"
   },
   {
    "duration": 7,
    "start_time": "2022-06-15T20:55:53.480Z"
   },
   {
    "duration": 7,
    "start_time": "2022-06-15T20:57:24.394Z"
   },
   {
    "duration": 27,
    "start_time": "2022-06-15T20:59:12.072Z"
   },
   {
    "duration": 6,
    "start_time": "2022-06-15T20:59:21.437Z"
   },
   {
    "duration": 7,
    "start_time": "2022-06-15T21:00:19.544Z"
   },
   {
    "duration": 7,
    "start_time": "2022-06-15T21:50:41.885Z"
   },
   {
    "duration": 7,
    "start_time": "2022-06-15T21:54:18.858Z"
   },
   {
    "duration": 3,
    "start_time": "2022-06-15T22:28:08.593Z"
   },
   {
    "duration": 9,
    "start_time": "2022-06-15T22:28:11.249Z"
   },
   {
    "duration": 7,
    "start_time": "2022-06-15T22:33:23.228Z"
   },
   {
    "duration": 3,
    "start_time": "2022-06-15T22:33:35.777Z"
   },
   {
    "duration": 7,
    "start_time": "2022-06-15T22:33:38.847Z"
   },
   {
    "duration": 8,
    "start_time": "2022-06-15T22:33:58.652Z"
   },
   {
    "duration": 3,
    "start_time": "2022-06-15T22:34:54.254Z"
   },
   {
    "duration": 9,
    "start_time": "2022-06-15T22:34:56.626Z"
   },
   {
    "duration": 3,
    "start_time": "2022-06-15T22:38:21.516Z"
   },
   {
    "duration": 9,
    "start_time": "2022-06-15T22:38:27.299Z"
   },
   {
    "duration": 10,
    "start_time": "2022-06-15T22:40:11.391Z"
   },
   {
    "duration": 3,
    "start_time": "2022-06-15T22:43:15.696Z"
   },
   {
    "duration": 10,
    "start_time": "2022-06-15T22:43:20.677Z"
   },
   {
    "duration": 11,
    "start_time": "2022-06-15T23:17:35.550Z"
   },
   {
    "duration": 6,
    "start_time": "2022-06-15T23:18:18.151Z"
   },
   {
    "duration": 9,
    "start_time": "2022-06-15T23:19:05.317Z"
   },
   {
    "duration": 6,
    "start_time": "2022-06-15T23:19:10.448Z"
   },
   {
    "duration": 2,
    "start_time": "2022-06-16T03:48:14.441Z"
   },
   {
    "duration": 252,
    "start_time": "2022-06-16T03:48:18.836Z"
   },
   {
    "duration": 12,
    "start_time": "2022-06-16T03:48:22.425Z"
   },
   {
    "duration": 26,
    "start_time": "2022-06-16T03:48:27.009Z"
   },
   {
    "duration": 3,
    "start_time": "2022-06-16T03:48:31.356Z"
   },
   {
    "duration": 7,
    "start_time": "2022-06-16T03:48:35.995Z"
   },
   {
    "duration": 3,
    "start_time": "2022-06-16T03:48:39.771Z"
   },
   {
    "duration": 21,
    "start_time": "2022-06-16T03:48:43.410Z"
   },
   {
    "duration": 3791,
    "start_time": "2022-06-16T03:48:47.703Z"
   },
   {
    "duration": 23,
    "start_time": "2022-06-16T03:48:51.496Z"
   },
   {
    "duration": 58,
    "start_time": "2022-06-16T03:48:56.475Z"
   },
   {
    "duration": 70,
    "start_time": "2022-06-16T03:49:00.119Z"
   },
   {
    "duration": 53,
    "start_time": "2022-06-16T03:49:04.701Z"
   },
   {
    "duration": 7,
    "start_time": "2022-06-16T03:49:07.594Z"
   },
   {
    "duration": 3,
    "start_time": "2022-06-16T03:49:22.025Z"
   },
   {
    "duration": 12,
    "start_time": "2022-06-16T03:49:30.150Z"
   },
   {
    "duration": 8,
    "start_time": "2022-06-16T03:49:34.489Z"
   },
   {
    "duration": 41,
    "start_time": "2022-06-16T03:50:47.860Z"
   },
   {
    "duration": 68,
    "start_time": "2022-06-16T03:58:48.431Z"
   },
   {
    "duration": 10,
    "start_time": "2022-06-16T03:59:29.481Z"
   },
   {
    "duration": 9,
    "start_time": "2022-06-16T04:07:20.290Z"
   },
   {
    "duration": 10,
    "start_time": "2022-06-16T04:07:38.431Z"
   },
   {
    "duration": 46,
    "start_time": "2022-06-16T04:08:20.511Z"
   },
   {
    "duration": 44,
    "start_time": "2022-06-16T04:57:09.494Z"
   },
   {
    "duration": 10,
    "start_time": "2022-06-16T05:00:56.946Z"
   },
   {
    "duration": 11,
    "start_time": "2022-06-16T05:02:39.241Z"
   },
   {
    "duration": 11,
    "start_time": "2022-06-16T05:03:34.420Z"
   },
   {
    "duration": 396,
    "start_time": "2022-06-17T00:34:26.541Z"
   },
   {
    "duration": 347,
    "start_time": "2022-06-17T00:34:26.940Z"
   },
   {
    "duration": 11,
    "start_time": "2022-06-17T00:34:27.289Z"
   },
   {
    "duration": 38,
    "start_time": "2022-06-17T00:34:27.302Z"
   },
   {
    "duration": 3,
    "start_time": "2022-06-17T00:34:27.344Z"
   },
   {
    "duration": 16,
    "start_time": "2022-06-17T00:34:27.349Z"
   },
   {
    "duration": 9,
    "start_time": "2022-06-17T00:34:27.367Z"
   },
   {
    "duration": 26,
    "start_time": "2022-06-17T00:34:27.378Z"
   },
   {
    "duration": 3377,
    "start_time": "2022-06-17T00:34:27.405Z"
   },
   {
    "duration": 23,
    "start_time": "2022-06-17T00:34:30.784Z"
   },
   {
    "duration": 74,
    "start_time": "2022-06-17T00:34:30.809Z"
   },
   {
    "duration": 80,
    "start_time": "2022-06-17T00:34:30.884Z"
   },
   {
    "duration": 62,
    "start_time": "2022-06-17T00:34:30.966Z"
   },
   {
    "duration": 10,
    "start_time": "2022-06-17T00:34:31.032Z"
   },
   {
    "duration": 15,
    "start_time": "2022-06-17T00:34:31.045Z"
   },
   {
    "duration": 28,
    "start_time": "2022-06-17T00:34:31.061Z"
   },
   {
    "duration": 19,
    "start_time": "2022-06-17T00:34:31.091Z"
   },
   {
    "duration": 20,
    "start_time": "2022-06-17T00:34:31.112Z"
   },
   {
    "duration": 14,
    "start_time": "2022-06-17T00:34:31.133Z"
   },
   {
    "duration": 408,
    "start_time": "2022-06-17T03:32:49.356Z"
   },
   {
    "duration": 319,
    "start_time": "2022-06-17T03:32:49.766Z"
   },
   {
    "duration": 10,
    "start_time": "2022-06-17T03:32:50.086Z"
   },
   {
    "duration": 31,
    "start_time": "2022-06-17T03:32:50.097Z"
   },
   {
    "duration": 10,
    "start_time": "2022-06-17T03:32:50.143Z"
   },
   {
    "duration": 17,
    "start_time": "2022-06-17T03:32:50.155Z"
   },
   {
    "duration": 22,
    "start_time": "2022-06-17T03:32:50.173Z"
   },
   {
    "duration": 25,
    "start_time": "2022-06-17T03:32:50.197Z"
   },
   {
    "duration": 3968,
    "start_time": "2022-06-17T03:32:50.224Z"
   },
   {
    "duration": 25,
    "start_time": "2022-06-17T03:32:54.194Z"
   },
   {
    "duration": 81,
    "start_time": "2022-06-17T03:32:54.221Z"
   },
   {
    "duration": 91,
    "start_time": "2022-06-17T03:32:54.304Z"
   },
   {
    "duration": 66,
    "start_time": "2022-06-17T03:32:54.396Z"
   },
   {
    "duration": 7,
    "start_time": "2022-06-17T03:32:54.464Z"
   },
   {
    "duration": 9,
    "start_time": "2022-06-17T03:32:54.472Z"
   },
   {
    "duration": 14,
    "start_time": "2022-06-17T03:32:54.483Z"
   },
   {
    "duration": 8,
    "start_time": "2022-06-17T03:32:54.499Z"
   },
   {
    "duration": 16,
    "start_time": "2022-06-17T03:32:54.509Z"
   },
   {
    "duration": 31,
    "start_time": "2022-06-17T03:32:54.527Z"
   },
   {
    "duration": 11,
    "start_time": "2022-06-17T03:34:38.033Z"
   },
   {
    "duration": 71,
    "start_time": "2022-06-17T04:58:52.916Z"
   },
   {
    "duration": 16,
    "start_time": "2022-06-17T05:00:02.488Z"
   },
   {
    "duration": 14,
    "start_time": "2022-06-17T05:00:48.992Z"
   },
   {
    "duration": 31,
    "start_time": "2022-06-17T05:06:53.571Z"
   },
   {
    "duration": 415,
    "start_time": "2022-06-17T05:11:05.972Z"
   },
   {
    "duration": 30,
    "start_time": "2022-06-17T05:15:56.707Z"
   },
   {
    "duration": 25,
    "start_time": "2022-06-17T05:21:47.306Z"
   },
   {
    "duration": 2,
    "start_time": "2022-06-17T05:22:18.171Z"
   },
   {
    "duration": 260,
    "start_time": "2022-06-17T05:22:18.177Z"
   },
   {
    "duration": 14,
    "start_time": "2022-06-17T05:22:18.439Z"
   },
   {
    "duration": 28,
    "start_time": "2022-06-17T05:22:18.455Z"
   },
   {
    "duration": 5,
    "start_time": "2022-06-17T05:22:18.486Z"
   },
   {
    "duration": 8,
    "start_time": "2022-06-17T05:22:18.493Z"
   },
   {
    "duration": 5,
    "start_time": "2022-06-17T05:22:18.502Z"
   },
   {
    "duration": 25,
    "start_time": "2022-06-17T05:22:18.509Z"
   },
   {
    "duration": 3691,
    "start_time": "2022-06-17T05:22:18.553Z"
   },
   {
    "duration": 23,
    "start_time": "2022-06-17T05:22:22.245Z"
   },
   {
    "duration": 70,
    "start_time": "2022-06-17T05:22:22.271Z"
   },
   {
    "duration": 74,
    "start_time": "2022-06-17T05:22:22.343Z"
   },
   {
    "duration": 72,
    "start_time": "2022-06-17T05:22:22.419Z"
   },
   {
    "duration": 7,
    "start_time": "2022-06-17T05:22:22.493Z"
   },
   {
    "duration": 22,
    "start_time": "2022-06-17T05:22:22.502Z"
   },
   {
    "duration": 33,
    "start_time": "2022-06-17T05:22:22.526Z"
   },
   {
    "duration": 38,
    "start_time": "2022-06-17T05:22:22.560Z"
   },
   {
    "duration": 41,
    "start_time": "2022-06-17T05:22:22.600Z"
   },
   {
    "duration": 16,
    "start_time": "2022-06-17T05:22:22.644Z"
   },
   {
    "duration": 28,
    "start_time": "2022-06-17T05:22:22.661Z"
   },
   {
    "duration": 42,
    "start_time": "2022-06-17T11:17:51.421Z"
   },
   {
    "duration": 37,
    "start_time": "2022-06-17T11:18:27.885Z"
   },
   {
    "duration": 32,
    "start_time": "2022-06-17T11:24:23.095Z"
   },
   {
    "duration": 103,
    "start_time": "2022-06-17T11:37:47.300Z"
   },
   {
    "duration": 6,
    "start_time": "2022-06-17T11:38:15.521Z"
   },
   {
    "duration": 12,
    "start_time": "2022-06-17T11:38:23.134Z"
   },
   {
    "duration": 12,
    "start_time": "2022-06-17T11:38:59.694Z"
   },
   {
    "duration": 23,
    "start_time": "2022-06-17T11:39:16.084Z"
   },
   {
    "duration": 22,
    "start_time": "2022-06-17T11:39:20.799Z"
   },
   {
    "duration": 27,
    "start_time": "2022-06-17T11:39:26.078Z"
   },
   {
    "duration": 57,
    "start_time": "2022-06-17T11:39:30.214Z"
   },
   {
    "duration": 26,
    "start_time": "2022-06-17T11:39:40.043Z"
   },
   {
    "duration": 22,
    "start_time": "2022-06-17T11:39:52.910Z"
   },
   {
    "duration": 32,
    "start_time": "2022-06-17T11:39:56.090Z"
   },
   {
    "duration": 379,
    "start_time": "2022-06-17T22:16:21.006Z"
   },
   {
    "duration": 347,
    "start_time": "2022-06-17T22:16:21.387Z"
   },
   {
    "duration": 10,
    "start_time": "2022-06-17T22:16:21.736Z"
   },
   {
    "duration": 57,
    "start_time": "2022-06-17T22:16:21.748Z"
   },
   {
    "duration": 32,
    "start_time": "2022-06-17T22:16:21.807Z"
   },
   {
    "duration": 38,
    "start_time": "2022-06-17T22:16:21.841Z"
   },
   {
    "duration": 20,
    "start_time": "2022-06-17T22:16:21.881Z"
   },
   {
    "duration": 48,
    "start_time": "2022-06-17T22:16:21.903Z"
   },
   {
    "duration": 3455,
    "start_time": "2022-06-17T22:16:21.953Z"
   },
   {
    "duration": 22,
    "start_time": "2022-06-17T22:16:25.411Z"
   },
   {
    "duration": 79,
    "start_time": "2022-06-17T22:16:25.435Z"
   },
   {
    "duration": 89,
    "start_time": "2022-06-17T22:16:25.516Z"
   },
   {
    "duration": 67,
    "start_time": "2022-06-17T22:16:25.607Z"
   },
   {
    "duration": 6,
    "start_time": "2022-06-17T22:16:25.677Z"
   },
   {
    "duration": 14,
    "start_time": "2022-06-17T22:16:25.685Z"
   },
   {
    "duration": 33,
    "start_time": "2022-06-17T22:16:25.701Z"
   },
   {
    "duration": 16,
    "start_time": "2022-06-17T22:16:25.736Z"
   },
   {
    "duration": 21,
    "start_time": "2022-06-17T22:16:25.753Z"
   },
   {
    "duration": 13,
    "start_time": "2022-06-17T22:16:25.776Z"
   },
   {
    "duration": 10,
    "start_time": "2022-06-17T22:16:25.791Z"
   },
   {
    "duration": 34,
    "start_time": "2022-06-17T22:16:25.802Z"
   },
   {
    "duration": 18,
    "start_time": "2022-06-17T22:16:25.838Z"
   },
   {
    "duration": 20,
    "start_time": "2022-06-17T22:16:25.857Z"
   },
   {
    "duration": 19,
    "start_time": "2022-06-17T22:16:25.879Z"
   },
   {
    "duration": 24,
    "start_time": "2022-06-17T22:16:25.900Z"
   },
   {
    "duration": 50,
    "start_time": "2022-06-17T22:16:25.925Z"
   },
   {
    "duration": 425,
    "start_time": "2022-06-18T02:09:18.488Z"
   },
   {
    "duration": 334,
    "start_time": "2022-06-18T02:09:18.918Z"
   },
   {
    "duration": 11,
    "start_time": "2022-06-18T02:09:19.254Z"
   },
   {
    "duration": 35,
    "start_time": "2022-06-18T02:09:19.267Z"
   },
   {
    "duration": 3,
    "start_time": "2022-06-18T02:09:19.304Z"
   },
   {
    "duration": 12,
    "start_time": "2022-06-18T02:09:19.309Z"
   },
   {
    "duration": 8,
    "start_time": "2022-06-18T02:09:19.323Z"
   },
   {
    "duration": 26,
    "start_time": "2022-06-18T02:09:19.333Z"
   },
   {
    "duration": 3474,
    "start_time": "2022-06-18T02:09:19.360Z"
   },
   {
    "duration": 21,
    "start_time": "2022-06-18T02:09:22.836Z"
   },
   {
    "duration": 70,
    "start_time": "2022-06-18T02:09:22.859Z"
   },
   {
    "duration": 81,
    "start_time": "2022-06-18T02:09:22.930Z"
   },
   {
    "duration": 51,
    "start_time": "2022-06-18T02:09:23.013Z"
   },
   {
    "duration": 6,
    "start_time": "2022-06-18T02:09:23.066Z"
   },
   {
    "duration": 21,
    "start_time": "2022-06-18T02:09:23.073Z"
   },
   {
    "duration": 13,
    "start_time": "2022-06-18T02:09:23.096Z"
   },
   {
    "duration": 6,
    "start_time": "2022-06-18T02:09:23.111Z"
   },
   {
    "duration": 10,
    "start_time": "2022-06-18T02:09:23.119Z"
   },
   {
    "duration": 9,
    "start_time": "2022-06-18T02:09:23.131Z"
   },
   {
    "duration": 11,
    "start_time": "2022-06-18T02:09:23.142Z"
   },
   {
    "duration": 44,
    "start_time": "2022-06-18T02:09:23.154Z"
   },
   {
    "duration": 24,
    "start_time": "2022-06-18T02:09:23.199Z"
   },
   {
    "duration": 19,
    "start_time": "2022-06-18T02:09:23.226Z"
   },
   {
    "duration": 16,
    "start_time": "2022-06-18T02:09:23.247Z"
   },
   {
    "duration": 47,
    "start_time": "2022-06-18T02:09:23.265Z"
   },
   {
    "duration": 18,
    "start_time": "2022-06-18T02:09:23.314Z"
   },
   {
    "duration": 169,
    "start_time": "2022-06-18T02:42:50.708Z"
   },
   {
    "duration": 7,
    "start_time": "2022-06-18T02:52:24.412Z"
   },
   {
    "duration": 4,
    "start_time": "2022-06-18T03:24:36.179Z"
   },
   {
    "duration": 66,
    "start_time": "2022-06-18T03:24:47.780Z"
   },
   {
    "duration": 36,
    "start_time": "2022-06-18T03:25:00.820Z"
   },
   {
    "duration": 44,
    "start_time": "2022-06-18T03:25:22.220Z"
   },
   {
    "duration": 755,
    "start_time": "2022-06-18T03:30:02.719Z"
   },
   {
    "duration": 18,
    "start_time": "2022-06-18T03:30:48.751Z"
   },
   {
    "duration": 13,
    "start_time": "2022-06-18T03:35:16.673Z"
   },
   {
    "duration": 360,
    "start_time": "2022-06-18T16:13:30.606Z"
   },
   {
    "duration": 324,
    "start_time": "2022-06-18T16:13:30.968Z"
   },
   {
    "duration": 9,
    "start_time": "2022-06-18T16:13:31.293Z"
   },
   {
    "duration": 40,
    "start_time": "2022-06-18T16:13:31.304Z"
   },
   {
    "duration": 17,
    "start_time": "2022-06-18T16:13:31.346Z"
   },
   {
    "duration": 14,
    "start_time": "2022-06-18T16:13:31.365Z"
   },
   {
    "duration": 7,
    "start_time": "2022-06-18T16:13:31.380Z"
   },
   {
    "duration": 26,
    "start_time": "2022-06-18T16:13:31.388Z"
   },
   {
    "duration": 3305,
    "start_time": "2022-06-18T16:13:31.415Z"
   },
   {
    "duration": 25,
    "start_time": "2022-06-18T16:13:34.722Z"
   },
   {
    "duration": 70,
    "start_time": "2022-06-18T16:13:34.749Z"
   },
   {
    "duration": 81,
    "start_time": "2022-06-18T16:13:34.821Z"
   },
   {
    "duration": 58,
    "start_time": "2022-06-18T16:13:34.903Z"
   },
   {
    "duration": 6,
    "start_time": "2022-06-18T16:13:34.964Z"
   },
   {
    "duration": 9,
    "start_time": "2022-06-18T16:13:34.971Z"
   },
   {
    "duration": 14,
    "start_time": "2022-06-18T16:13:34.981Z"
   },
   {
    "duration": 6,
    "start_time": "2022-06-18T16:13:34.997Z"
   },
   {
    "duration": 13,
    "start_time": "2022-06-18T16:13:35.004Z"
   },
   {
    "duration": 10,
    "start_time": "2022-06-18T16:13:35.019Z"
   },
   {
    "duration": 28,
    "start_time": "2022-06-18T16:13:35.031Z"
   },
   {
    "duration": 26,
    "start_time": "2022-06-18T16:13:35.061Z"
   },
   {
    "duration": 17,
    "start_time": "2022-06-18T16:13:35.088Z"
   },
   {
    "duration": 16,
    "start_time": "2022-06-18T16:13:35.106Z"
   },
   {
    "duration": 36,
    "start_time": "2022-06-18T16:13:35.124Z"
   },
   {
    "duration": 17,
    "start_time": "2022-06-18T16:13:35.162Z"
   },
   {
    "duration": 16,
    "start_time": "2022-06-18T16:13:35.181Z"
   },
   {
    "duration": 6,
    "start_time": "2022-06-18T16:13:35.198Z"
   },
   {
    "duration": 11,
    "start_time": "2022-06-18T16:13:35.206Z"
   },
   {
    "duration": 10,
    "start_time": "2022-06-18T16:13:49.095Z"
   },
   {
    "duration": 3,
    "start_time": "2022-06-18T16:41:51.222Z"
   },
   {
    "duration": 307,
    "start_time": "2022-06-18T16:41:51.227Z"
   },
   {
    "duration": 10,
    "start_time": "2022-06-18T16:41:51.536Z"
   },
   {
    "duration": 35,
    "start_time": "2022-06-18T16:41:51.547Z"
   },
   {
    "duration": 4,
    "start_time": "2022-06-18T16:41:51.584Z"
   },
   {
    "duration": 15,
    "start_time": "2022-06-18T16:41:51.589Z"
   },
   {
    "duration": 6,
    "start_time": "2022-06-18T16:41:51.606Z"
   },
   {
    "duration": 27,
    "start_time": "2022-06-18T16:41:51.613Z"
   },
   {
    "duration": 3961,
    "start_time": "2022-06-18T16:41:51.641Z"
   },
   {
    "duration": 23,
    "start_time": "2022-06-18T16:41:55.604Z"
   },
   {
    "duration": 75,
    "start_time": "2022-06-18T16:41:55.630Z"
   },
   {
    "duration": 82,
    "start_time": "2022-06-18T16:41:55.707Z"
   },
   {
    "duration": 54,
    "start_time": "2022-06-18T16:41:55.791Z"
   },
   {
    "duration": 14,
    "start_time": "2022-06-18T16:41:55.847Z"
   },
   {
    "duration": 2,
    "start_time": "2022-06-18T16:41:55.864Z"
   },
   {
    "duration": 22,
    "start_time": "2022-06-18T16:41:55.868Z"
   },
   {
    "duration": 10,
    "start_time": "2022-06-18T16:41:55.891Z"
   },
   {
    "duration": 11,
    "start_time": "2022-06-18T16:41:55.903Z"
   },
   {
    "duration": 10,
    "start_time": "2022-06-18T16:41:55.916Z"
   },
   {
    "duration": 32,
    "start_time": "2022-06-18T16:41:55.928Z"
   },
   {
    "duration": 29,
    "start_time": "2022-06-18T16:41:55.962Z"
   },
   {
    "duration": 19,
    "start_time": "2022-06-18T16:41:55.993Z"
   },
   {
    "duration": 19,
    "start_time": "2022-06-18T16:41:56.013Z"
   },
   {
    "duration": 39,
    "start_time": "2022-06-18T16:41:56.033Z"
   },
   {
    "duration": 20,
    "start_time": "2022-06-18T16:41:56.073Z"
   },
   {
    "duration": 18,
    "start_time": "2022-06-18T16:41:56.094Z"
   },
   {
    "duration": 6,
    "start_time": "2022-06-18T16:41:56.113Z"
   },
   {
    "duration": 44,
    "start_time": "2022-06-18T16:41:56.121Z"
   },
   {
    "duration": 10,
    "start_time": "2022-06-18T16:41:56.168Z"
   },
   {
    "duration": 2,
    "start_time": "2022-06-18T16:52:25.587Z"
   },
   {
    "duration": 275,
    "start_time": "2022-06-18T16:52:25.596Z"
   },
   {
    "duration": 10,
    "start_time": "2022-06-18T16:52:25.873Z"
   },
   {
    "duration": 32,
    "start_time": "2022-06-18T16:52:25.884Z"
   },
   {
    "duration": 4,
    "start_time": "2022-06-18T16:52:25.917Z"
   },
   {
    "duration": 12,
    "start_time": "2022-06-18T16:52:25.922Z"
   },
   {
    "duration": 3,
    "start_time": "2022-06-18T16:52:25.936Z"
   },
   {
    "duration": 26,
    "start_time": "2022-06-18T16:52:25.960Z"
   },
   {
    "duration": 3633,
    "start_time": "2022-06-18T16:52:25.988Z"
   },
   {
    "duration": 21,
    "start_time": "2022-06-18T16:52:29.623Z"
   },
   {
    "duration": 65,
    "start_time": "2022-06-18T16:52:29.645Z"
   },
   {
    "duration": 82,
    "start_time": "2022-06-18T16:52:29.712Z"
   },
   {
    "duration": 64,
    "start_time": "2022-06-18T16:52:29.796Z"
   },
   {
    "duration": 7,
    "start_time": "2022-06-18T16:52:29.862Z"
   },
   {
    "duration": 6,
    "start_time": "2022-06-18T16:52:29.872Z"
   },
   {
    "duration": 13,
    "start_time": "2022-06-18T16:52:29.880Z"
   },
   {
    "duration": 6,
    "start_time": "2022-06-18T16:52:29.895Z"
   },
   {
    "duration": 10,
    "start_time": "2022-06-18T16:52:29.903Z"
   },
   {
    "duration": 44,
    "start_time": "2022-06-18T16:52:29.915Z"
   },
   {
    "duration": 6,
    "start_time": "2022-06-18T16:52:29.961Z"
   },
   {
    "duration": 25,
    "start_time": "2022-06-18T16:52:29.968Z"
   },
   {
    "duration": 16,
    "start_time": "2022-06-18T16:52:29.994Z"
   },
   {
    "duration": 17,
    "start_time": "2022-06-18T16:52:30.012Z"
   },
   {
    "duration": 41,
    "start_time": "2022-06-18T16:52:30.031Z"
   },
   {
    "duration": 21,
    "start_time": "2022-06-18T16:52:30.074Z"
   },
   {
    "duration": 17,
    "start_time": "2022-06-18T16:52:30.096Z"
   },
   {
    "duration": 7,
    "start_time": "2022-06-18T16:52:30.114Z"
   },
   {
    "duration": 40,
    "start_time": "2022-06-18T16:52:30.122Z"
   },
   {
    "duration": 9,
    "start_time": "2022-06-18T16:52:30.164Z"
   },
   {
    "duration": 436,
    "start_time": "2022-06-18T20:55:01.010Z"
   },
   {
    "duration": 352,
    "start_time": "2022-06-18T20:55:01.448Z"
   },
   {
    "duration": 11,
    "start_time": "2022-06-18T20:55:01.802Z"
   },
   {
    "duration": 46,
    "start_time": "2022-06-18T20:55:01.815Z"
   },
   {
    "duration": 12,
    "start_time": "2022-06-18T20:55:01.863Z"
   },
   {
    "duration": 26,
    "start_time": "2022-06-18T20:55:01.877Z"
   },
   {
    "duration": 34,
    "start_time": "2022-06-18T20:55:01.905Z"
   },
   {
    "duration": 42,
    "start_time": "2022-06-18T20:55:01.941Z"
   },
   {
    "duration": 3551,
    "start_time": "2022-06-18T20:55:01.985Z"
   },
   {
    "duration": 23,
    "start_time": "2022-06-18T20:55:05.539Z"
   },
   {
    "duration": 72,
    "start_time": "2022-06-18T20:55:05.564Z"
   },
   {
    "duration": 75,
    "start_time": "2022-06-18T20:55:05.638Z"
   },
   {
    "duration": 65,
    "start_time": "2022-06-18T20:55:05.714Z"
   },
   {
    "duration": 7,
    "start_time": "2022-06-18T20:55:05.780Z"
   },
   {
    "duration": 5,
    "start_time": "2022-06-18T20:55:05.788Z"
   },
   {
    "duration": 14,
    "start_time": "2022-06-18T20:55:05.795Z"
   },
   {
    "duration": 17,
    "start_time": "2022-06-18T20:55:05.811Z"
   },
   {
    "duration": 11,
    "start_time": "2022-06-18T20:55:05.829Z"
   },
   {
    "duration": 20,
    "start_time": "2022-06-18T20:55:05.841Z"
   },
   {
    "duration": 6,
    "start_time": "2022-06-18T20:55:05.863Z"
   },
   {
    "duration": 27,
    "start_time": "2022-06-18T20:55:05.871Z"
   },
   {
    "duration": 34,
    "start_time": "2022-06-18T20:55:05.899Z"
   },
   {
    "duration": 25,
    "start_time": "2022-06-18T20:55:05.935Z"
   },
   {
    "duration": 49,
    "start_time": "2022-06-18T20:55:05.962Z"
   },
   {
    "duration": 18,
    "start_time": "2022-06-18T20:55:06.013Z"
   },
   {
    "duration": 18,
    "start_time": "2022-06-18T20:55:06.033Z"
   },
   {
    "duration": 6,
    "start_time": "2022-06-18T20:55:06.052Z"
   },
   {
    "duration": 14,
    "start_time": "2022-06-18T20:55:06.061Z"
   },
   {
    "duration": 9,
    "start_time": "2022-06-18T20:55:06.077Z"
   },
   {
    "duration": 4,
    "start_time": "2022-06-19T00:34:19.377Z"
   },
   {
    "duration": 27,
    "start_time": "2022-06-19T00:34:53.091Z"
   },
   {
    "duration": 30,
    "start_time": "2022-06-19T00:37:35.740Z"
   },
   {
    "duration": 112,
    "start_time": "2022-06-19T00:38:13.739Z"
   },
   {
    "duration": 38,
    "start_time": "2022-06-19T00:38:30.203Z"
   },
   {
    "duration": 39,
    "start_time": "2022-06-19T00:38:54.608Z"
   },
   {
    "duration": 18,
    "start_time": "2022-06-19T00:39:12.067Z"
   },
   {
    "duration": 8,
    "start_time": "2022-06-19T00:47:21.809Z"
   },
   {
    "duration": 2,
    "start_time": "2022-06-19T00:47:49.387Z"
   },
   {
    "duration": 287,
    "start_time": "2022-06-19T00:47:49.394Z"
   },
   {
    "duration": 10,
    "start_time": "2022-06-19T00:47:49.683Z"
   },
   {
    "duration": 51,
    "start_time": "2022-06-19T00:47:49.694Z"
   },
   {
    "duration": 17,
    "start_time": "2022-06-19T00:47:49.746Z"
   },
   {
    "duration": 16,
    "start_time": "2022-06-19T00:47:49.765Z"
   },
   {
    "duration": 7,
    "start_time": "2022-06-19T00:47:49.783Z"
   },
   {
    "duration": 31,
    "start_time": "2022-06-19T00:47:49.792Z"
   },
   {
    "duration": 3348,
    "start_time": "2022-06-19T00:47:49.824Z"
   },
   {
    "duration": 22,
    "start_time": "2022-06-19T00:47:53.173Z"
   },
   {
    "duration": 80,
    "start_time": "2022-06-19T00:47:53.197Z"
   },
   {
    "duration": 69,
    "start_time": "2022-06-19T00:47:53.278Z"
   },
   {
    "duration": 52,
    "start_time": "2022-06-19T00:47:53.348Z"
   },
   {
    "duration": 6,
    "start_time": "2022-06-19T00:47:53.402Z"
   },
   {
    "duration": 9,
    "start_time": "2022-06-19T00:47:53.426Z"
   },
   {
    "duration": 22,
    "start_time": "2022-06-19T00:47:53.436Z"
   },
   {
    "duration": 29,
    "start_time": "2022-06-19T00:47:53.460Z"
   },
   {
    "duration": 23,
    "start_time": "2022-06-19T00:47:53.490Z"
   },
   {
    "duration": 16,
    "start_time": "2022-06-19T00:47:53.515Z"
   },
   {
    "duration": 19,
    "start_time": "2022-06-19T00:47:53.533Z"
   },
   {
    "duration": 44,
    "start_time": "2022-06-19T00:47:53.554Z"
   },
   {
    "duration": 34,
    "start_time": "2022-06-19T00:47:53.599Z"
   },
   {
    "duration": 27,
    "start_time": "2022-06-19T00:47:53.634Z"
   },
   {
    "duration": 15,
    "start_time": "2022-06-19T00:47:53.663Z"
   },
   {
    "duration": 28,
    "start_time": "2022-06-19T00:47:53.679Z"
   },
   {
    "duration": 41,
    "start_time": "2022-06-19T00:47:53.709Z"
   },
   {
    "duration": 8,
    "start_time": "2022-06-19T00:47:53.751Z"
   },
   {
    "duration": 36,
    "start_time": "2022-06-19T00:47:53.760Z"
   },
   {
    "duration": 24,
    "start_time": "2022-06-19T00:47:53.799Z"
   },
   {
    "duration": 10,
    "start_time": "2022-06-19T00:47:53.825Z"
   },
   {
    "duration": 18,
    "start_time": "2022-06-19T00:48:01.108Z"
   },
   {
    "duration": 15,
    "start_time": "2022-06-19T00:52:13.272Z"
   },
   {
    "duration": 18,
    "start_time": "2022-06-19T00:53:29.795Z"
   },
   {
    "duration": 17,
    "start_time": "2022-06-19T00:53:38.663Z"
   },
   {
    "duration": 14,
    "start_time": "2022-06-19T00:53:58.855Z"
   },
   {
    "duration": 12,
    "start_time": "2022-06-19T00:56:54.968Z"
   },
   {
    "duration": 22,
    "start_time": "2022-06-19T01:00:55.428Z"
   },
   {
    "duration": 12,
    "start_time": "2022-06-19T01:00:59.807Z"
   },
   {
    "duration": 21,
    "start_time": "2022-06-19T01:01:03.855Z"
   },
   {
    "duration": 18,
    "start_time": "2022-06-19T01:01:33.457Z"
   },
   {
    "duration": 12,
    "start_time": "2022-06-19T01:02:18.005Z"
   },
   {
    "duration": 27,
    "start_time": "2022-06-19T01:52:20.415Z"
   },
   {
    "duration": 5,
    "start_time": "2022-06-19T01:53:00.019Z"
   },
   {
    "duration": 5,
    "start_time": "2022-06-19T01:53:04.926Z"
   },
   {
    "duration": 8,
    "start_time": "2022-06-19T01:53:13.311Z"
   },
   {
    "duration": 9,
    "start_time": "2022-06-19T01:54:10.129Z"
   },
   {
    "duration": 5,
    "start_time": "2022-06-19T01:54:41.485Z"
   },
   {
    "duration": 7,
    "start_time": "2022-06-19T01:54:45.639Z"
   },
   {
    "duration": 10,
    "start_time": "2022-06-19T02:04:41.105Z"
   },
   {
    "duration": 9,
    "start_time": "2022-06-19T02:05:20.740Z"
   },
   {
    "duration": 10,
    "start_time": "2022-06-19T02:05:44.891Z"
   },
   {
    "duration": 10,
    "start_time": "2022-06-19T02:05:53.284Z"
   },
   {
    "duration": 10,
    "start_time": "2022-06-19T02:46:36.281Z"
   },
   {
    "duration": 8,
    "start_time": "2022-06-19T02:47:21.981Z"
   },
   {
    "duration": 8,
    "start_time": "2022-06-19T02:50:37.481Z"
   },
   {
    "duration": 3,
    "start_time": "2022-06-19T03:01:45.397Z"
   },
   {
    "duration": 292,
    "start_time": "2022-06-19T03:01:45.406Z"
   },
   {
    "duration": 9,
    "start_time": "2022-06-19T03:01:45.700Z"
   },
   {
    "duration": 31,
    "start_time": "2022-06-19T03:01:45.731Z"
   },
   {
    "duration": 3,
    "start_time": "2022-06-19T03:01:45.765Z"
   },
   {
    "duration": 8,
    "start_time": "2022-06-19T03:01:45.769Z"
   },
   {
    "duration": 5,
    "start_time": "2022-06-19T03:01:45.778Z"
   },
   {
    "duration": 36,
    "start_time": "2022-06-19T03:01:45.784Z"
   },
   {
    "duration": 3690,
    "start_time": "2022-06-19T03:01:45.826Z"
   },
   {
    "duration": 30,
    "start_time": "2022-06-19T03:01:49.518Z"
   },
   {
    "duration": 68,
    "start_time": "2022-06-19T03:01:49.550Z"
   },
   {
    "duration": 78,
    "start_time": "2022-06-19T03:01:49.620Z"
   },
   {
    "duration": 71,
    "start_time": "2022-06-19T03:01:49.699Z"
   },
   {
    "duration": 6,
    "start_time": "2022-06-19T03:01:49.772Z"
   },
   {
    "duration": 18,
    "start_time": "2022-06-19T03:01:49.780Z"
   },
   {
    "duration": 14,
    "start_time": "2022-06-19T03:01:49.800Z"
   },
   {
    "duration": 22,
    "start_time": "2022-06-19T03:01:49.816Z"
   },
   {
    "duration": 15,
    "start_time": "2022-06-19T03:01:49.840Z"
   },
   {
    "duration": 9,
    "start_time": "2022-06-19T03:01:49.857Z"
   },
   {
    "duration": 6,
    "start_time": "2022-06-19T03:01:49.868Z"
   },
   {
    "duration": 23,
    "start_time": "2022-06-19T03:01:49.875Z"
   },
   {
    "duration": 43,
    "start_time": "2022-06-19T03:01:49.899Z"
   },
   {
    "duration": 18,
    "start_time": "2022-06-19T03:01:49.944Z"
   },
   {
    "duration": 17,
    "start_time": "2022-06-19T03:01:49.963Z"
   },
   {
    "duration": 21,
    "start_time": "2022-06-19T03:01:49.981Z"
   },
   {
    "duration": 48,
    "start_time": "2022-06-19T03:01:50.003Z"
   },
   {
    "duration": 6,
    "start_time": "2022-06-19T03:01:50.052Z"
   },
   {
    "duration": 26,
    "start_time": "2022-06-19T03:01:50.060Z"
   },
   {
    "duration": 19,
    "start_time": "2022-06-19T03:01:50.090Z"
   },
   {
    "duration": 6,
    "start_time": "2022-06-19T03:01:50.111Z"
   },
   {
    "duration": 51,
    "start_time": "2022-06-19T03:01:50.118Z"
   },
   {
    "duration": 18,
    "start_time": "2022-06-19T03:01:50.171Z"
   },
   {
    "duration": 25,
    "start_time": "2022-06-19T03:01:50.190Z"
   },
   {
    "duration": 13,
    "start_time": "2022-06-19T03:01:50.217Z"
   },
   {
    "duration": 30,
    "start_time": "2022-06-19T03:02:03.727Z"
   },
   {
    "duration": 5,
    "start_time": "2022-06-19T03:02:10.391Z"
   },
   {
    "duration": 5,
    "start_time": "2022-06-19T03:03:03.642Z"
   },
   {
    "duration": 6,
    "start_time": "2022-06-19T03:03:06.871Z"
   },
   {
    "duration": 4,
    "start_time": "2022-06-19T03:03:27.123Z"
   },
   {
    "duration": 5,
    "start_time": "2022-06-19T03:03:29.594Z"
   },
   {
    "duration": 3,
    "start_time": "2022-06-19T03:06:32.187Z"
   },
   {
    "duration": 293,
    "start_time": "2022-06-19T03:06:32.194Z"
   },
   {
    "duration": 9,
    "start_time": "2022-06-19T03:06:32.490Z"
   },
   {
    "duration": 48,
    "start_time": "2022-06-19T03:06:32.501Z"
   },
   {
    "duration": 5,
    "start_time": "2022-06-19T03:06:32.551Z"
   },
   {
    "duration": 11,
    "start_time": "2022-06-19T03:06:32.558Z"
   },
   {
    "duration": 11,
    "start_time": "2022-06-19T03:06:32.570Z"
   },
   {
    "duration": 27,
    "start_time": "2022-06-19T03:06:32.582Z"
   },
   {
    "duration": 3515,
    "start_time": "2022-06-19T03:06:32.610Z"
   },
   {
    "duration": 28,
    "start_time": "2022-06-19T03:06:36.127Z"
   },
   {
    "duration": 71,
    "start_time": "2022-06-19T03:06:36.156Z"
   },
   {
    "duration": 108,
    "start_time": "2022-06-19T03:06:36.229Z"
   },
   {
    "duration": 58,
    "start_time": "2022-06-19T03:06:36.339Z"
   },
   {
    "duration": 7,
    "start_time": "2022-06-19T03:06:36.400Z"
   },
   {
    "duration": 22,
    "start_time": "2022-06-19T03:06:36.410Z"
   },
   {
    "duration": 19,
    "start_time": "2022-06-19T03:06:36.434Z"
   },
   {
    "duration": 7,
    "start_time": "2022-06-19T03:06:36.454Z"
   },
   {
    "duration": 14,
    "start_time": "2022-06-19T03:06:36.462Z"
   },
   {
    "duration": 11,
    "start_time": "2022-06-19T03:06:36.477Z"
   },
   {
    "duration": 6,
    "start_time": "2022-06-19T03:06:36.490Z"
   },
   {
    "duration": 44,
    "start_time": "2022-06-19T03:06:36.497Z"
   },
   {
    "duration": 25,
    "start_time": "2022-06-19T03:06:36.543Z"
   },
   {
    "duration": 17,
    "start_time": "2022-06-19T03:06:36.569Z"
   },
   {
    "duration": 21,
    "start_time": "2022-06-19T03:06:36.588Z"
   },
   {
    "duration": 32,
    "start_time": "2022-06-19T03:06:36.629Z"
   },
   {
    "duration": 21,
    "start_time": "2022-06-19T03:06:36.663Z"
   },
   {
    "duration": 7,
    "start_time": "2022-06-19T03:06:36.687Z"
   },
   {
    "duration": 46,
    "start_time": "2022-06-19T03:06:36.696Z"
   },
   {
    "duration": 15,
    "start_time": "2022-06-19T03:06:36.744Z"
   },
   {
    "duration": 6,
    "start_time": "2022-06-19T03:06:36.761Z"
   },
   {
    "duration": 28,
    "start_time": "2022-06-19T03:06:36.769Z"
   },
   {
    "duration": 13,
    "start_time": "2022-06-19T03:06:36.799Z"
   },
   {
    "duration": 36,
    "start_time": "2022-06-19T03:06:36.814Z"
   },
   {
    "duration": 11,
    "start_time": "2022-06-19T03:06:36.851Z"
   },
   {
    "duration": 22,
    "start_time": "2022-06-19T03:06:36.864Z"
   },
   {
    "duration": 5,
    "start_time": "2022-06-19T03:06:45.784Z"
   },
   {
    "duration": 3,
    "start_time": "2022-06-19T03:14:47.842Z"
   },
   {
    "duration": 9,
    "start_time": "2022-06-19T03:14:47.847Z"
   },
   {
    "duration": 3,
    "start_time": "2022-06-19T03:14:58.698Z"
   },
   {
    "duration": 293,
    "start_time": "2022-06-19T03:14:58.703Z"
   },
   {
    "duration": 9,
    "start_time": "2022-06-19T03:14:58.999Z"
   },
   {
    "duration": 30,
    "start_time": "2022-06-19T03:14:59.030Z"
   },
   {
    "duration": 18,
    "start_time": "2022-06-19T03:14:59.062Z"
   },
   {
    "duration": 26,
    "start_time": "2022-06-19T03:14:59.081Z"
   },
   {
    "duration": 33,
    "start_time": "2022-06-19T03:14:59.109Z"
   },
   {
    "duration": 41,
    "start_time": "2022-06-19T03:14:59.144Z"
   },
   {
    "duration": 3714,
    "start_time": "2022-06-19T03:14:59.187Z"
   },
   {
    "duration": 28,
    "start_time": "2022-06-19T03:15:02.903Z"
   },
   {
    "duration": 65,
    "start_time": "2022-06-19T03:15:02.942Z"
   },
   {
    "duration": 72,
    "start_time": "2022-06-19T03:15:03.009Z"
   },
   {
    "duration": 66,
    "start_time": "2022-06-19T03:15:03.083Z"
   },
   {
    "duration": 8,
    "start_time": "2022-06-19T03:15:03.151Z"
   },
   {
    "duration": 6,
    "start_time": "2022-06-19T03:15:03.161Z"
   },
   {
    "duration": 11,
    "start_time": "2022-06-19T03:15:03.169Z"
   },
   {
    "duration": 7,
    "start_time": "2022-06-19T03:15:03.182Z"
   },
   {
    "duration": 44,
    "start_time": "2022-06-19T03:15:03.191Z"
   },
   {
    "duration": 15,
    "start_time": "2022-06-19T03:15:03.238Z"
   },
   {
    "duration": 19,
    "start_time": "2022-06-19T03:15:03.254Z"
   },
   {
    "duration": 45,
    "start_time": "2022-06-19T03:15:03.275Z"
   },
   {
    "duration": 20,
    "start_time": "2022-06-19T03:15:03.321Z"
   },
   {
    "duration": 23,
    "start_time": "2022-06-19T03:15:03.343Z"
   },
   {
    "duration": 15,
    "start_time": "2022-06-19T03:15:03.368Z"
   },
   {
    "duration": 24,
    "start_time": "2022-06-19T03:15:03.385Z"
   },
   {
    "duration": 36,
    "start_time": "2022-06-19T03:15:03.411Z"
   },
   {
    "duration": 6,
    "start_time": "2022-06-19T03:15:03.449Z"
   },
   {
    "duration": 12,
    "start_time": "2022-06-19T03:15:03.456Z"
   },
   {
    "duration": 10,
    "start_time": "2022-06-19T03:15:03.471Z"
   },
   {
    "duration": 5,
    "start_time": "2022-06-19T03:15:03.482Z"
   },
   {
    "duration": 43,
    "start_time": "2022-06-19T03:15:03.489Z"
   },
   {
    "duration": 14,
    "start_time": "2022-06-19T03:15:03.533Z"
   },
   {
    "duration": 20,
    "start_time": "2022-06-19T03:15:03.549Z"
   },
   {
    "duration": 12,
    "start_time": "2022-06-19T03:15:03.571Z"
   },
   {
    "duration": 22,
    "start_time": "2022-06-19T03:15:03.584Z"
   },
   {
    "duration": 8,
    "start_time": "2022-06-19T03:15:03.635Z"
   },
   {
    "duration": 5,
    "start_time": "2022-06-19T03:15:03.645Z"
   },
   {
    "duration": 3,
    "start_time": "2022-06-19T03:24:45.418Z"
   },
   {
    "duration": 350,
    "start_time": "2022-06-19T03:24:45.423Z"
   },
   {
    "duration": 10,
    "start_time": "2022-06-19T03:24:45.775Z"
   },
   {
    "duration": 41,
    "start_time": "2022-06-19T03:24:45.787Z"
   },
   {
    "duration": 4,
    "start_time": "2022-06-19T03:24:45.830Z"
   },
   {
    "duration": 27,
    "start_time": "2022-06-19T03:24:45.840Z"
   },
   {
    "duration": 4,
    "start_time": "2022-06-19T03:24:45.869Z"
   },
   {
    "duration": 41,
    "start_time": "2022-06-19T03:24:45.875Z"
   },
   {
    "duration": 3888,
    "start_time": "2022-06-19T03:24:45.918Z"
   },
   {
    "duration": 37,
    "start_time": "2022-06-19T03:24:49.807Z"
   },
   {
    "duration": 63,
    "start_time": "2022-06-19T03:24:49.848Z"
   },
   {
    "duration": 78,
    "start_time": "2022-06-19T03:24:49.912Z"
   },
   {
    "duration": 69,
    "start_time": "2022-06-19T03:24:49.991Z"
   },
   {
    "duration": 8,
    "start_time": "2022-06-19T03:24:50.062Z"
   },
   {
    "duration": 7,
    "start_time": "2022-06-19T03:24:50.072Z"
   },
   {
    "duration": 16,
    "start_time": "2022-06-19T03:24:50.081Z"
   },
   {
    "duration": 30,
    "start_time": "2022-06-19T03:24:50.099Z"
   },
   {
    "duration": 25,
    "start_time": "2022-06-19T03:24:50.134Z"
   },
   {
    "duration": 23,
    "start_time": "2022-06-19T03:24:50.161Z"
   },
   {
    "duration": 7,
    "start_time": "2022-06-19T03:24:50.186Z"
   },
   {
    "duration": 25,
    "start_time": "2022-06-19T03:24:50.195Z"
   },
   {
    "duration": 34,
    "start_time": "2022-06-19T03:24:50.222Z"
   },
   {
    "duration": 32,
    "start_time": "2022-06-19T03:24:50.259Z"
   },
   {
    "duration": 18,
    "start_time": "2022-06-19T03:24:50.293Z"
   },
   {
    "duration": 42,
    "start_time": "2022-06-19T03:24:50.313Z"
   },
   {
    "duration": 27,
    "start_time": "2022-06-19T03:24:50.356Z"
   },
   {
    "duration": 6,
    "start_time": "2022-06-19T03:24:50.385Z"
   },
   {
    "duration": 16,
    "start_time": "2022-06-19T03:24:50.393Z"
   },
   {
    "duration": 22,
    "start_time": "2022-06-19T03:24:50.413Z"
   },
   {
    "duration": 26,
    "start_time": "2022-06-19T03:24:50.439Z"
   },
   {
    "duration": 24,
    "start_time": "2022-06-19T03:24:50.467Z"
   },
   {
    "duration": 13,
    "start_time": "2022-06-19T03:24:50.493Z"
   },
   {
    "duration": 39,
    "start_time": "2022-06-19T03:24:50.508Z"
   },
   {
    "duration": 17,
    "start_time": "2022-06-19T03:24:50.551Z"
   },
   {
    "duration": 26,
    "start_time": "2022-06-19T03:24:50.570Z"
   },
   {
    "duration": 6,
    "start_time": "2022-06-19T03:25:08.593Z"
   },
   {
    "duration": 2,
    "start_time": "2022-06-19T03:35:57.498Z"
   },
   {
    "duration": 324,
    "start_time": "2022-06-19T03:35:57.504Z"
   },
   {
    "duration": 15,
    "start_time": "2022-06-19T03:35:57.834Z"
   },
   {
    "duration": 36,
    "start_time": "2022-06-19T03:35:57.855Z"
   },
   {
    "duration": 4,
    "start_time": "2022-06-19T03:35:57.893Z"
   },
   {
    "duration": 9,
    "start_time": "2022-06-19T03:35:57.898Z"
   },
   {
    "duration": 5,
    "start_time": "2022-06-19T03:35:57.908Z"
   },
   {
    "duration": 47,
    "start_time": "2022-06-19T03:35:57.914Z"
   },
   {
    "duration": 3935,
    "start_time": "2022-06-19T03:35:57.964Z"
   },
   {
    "duration": 37,
    "start_time": "2022-06-19T03:36:01.901Z"
   },
   {
    "duration": 90,
    "start_time": "2022-06-19T03:36:01.944Z"
   },
   {
    "duration": 81,
    "start_time": "2022-06-19T03:36:02.038Z"
   },
   {
    "duration": 110,
    "start_time": "2022-06-19T03:36:02.121Z"
   },
   {
    "duration": 13,
    "start_time": "2022-06-19T03:36:02.238Z"
   },
   {
    "duration": 21,
    "start_time": "2022-06-19T03:36:02.253Z"
   },
   {
    "duration": 13,
    "start_time": "2022-06-19T03:36:02.275Z"
   },
   {
    "duration": 7,
    "start_time": "2022-06-19T03:36:02.290Z"
   },
   {
    "duration": 17,
    "start_time": "2022-06-19T03:36:02.299Z"
   },
   {
    "duration": 12,
    "start_time": "2022-06-19T03:36:02.317Z"
   },
   {
    "duration": 35,
    "start_time": "2022-06-19T03:36:02.331Z"
   },
   {
    "duration": 35,
    "start_time": "2022-06-19T03:36:02.368Z"
   },
   {
    "duration": 17,
    "start_time": "2022-06-19T03:36:02.404Z"
   },
   {
    "duration": 29,
    "start_time": "2022-06-19T03:36:02.423Z"
   },
   {
    "duration": 28,
    "start_time": "2022-06-19T03:36:02.454Z"
   },
   {
    "duration": 24,
    "start_time": "2022-06-19T03:36:02.484Z"
   },
   {
    "duration": 33,
    "start_time": "2022-06-19T03:36:02.509Z"
   },
   {
    "duration": 7,
    "start_time": "2022-06-19T03:36:02.549Z"
   },
   {
    "duration": 15,
    "start_time": "2022-06-19T03:36:02.561Z"
   },
   {
    "duration": 12,
    "start_time": "2022-06-19T03:36:02.579Z"
   },
   {
    "duration": 5,
    "start_time": "2022-06-19T03:36:02.593Z"
   },
   {
    "duration": 23,
    "start_time": "2022-06-19T03:36:02.599Z"
   },
   {
    "duration": 20,
    "start_time": "2022-06-19T03:36:02.623Z"
   },
   {
    "duration": 38,
    "start_time": "2022-06-19T03:36:02.645Z"
   },
   {
    "duration": 12,
    "start_time": "2022-06-19T03:36:02.685Z"
   },
   {
    "duration": 34,
    "start_time": "2022-06-19T03:36:02.698Z"
   },
   {
    "duration": 3,
    "start_time": "2022-06-19T03:36:47.182Z"
   },
   {
    "duration": 326,
    "start_time": "2022-06-19T03:36:47.188Z"
   },
   {
    "duration": 35,
    "start_time": "2022-06-19T03:36:47.516Z"
   },
   {
    "duration": 35,
    "start_time": "2022-06-19T03:36:47.553Z"
   },
   {
    "duration": 3,
    "start_time": "2022-06-19T03:36:47.590Z"
   },
   {
    "duration": 10,
    "start_time": "2022-06-19T03:36:47.594Z"
   },
   {
    "duration": 3,
    "start_time": "2022-06-19T03:36:47.606Z"
   },
   {
    "duration": 52,
    "start_time": "2022-06-19T03:36:47.611Z"
   },
   {
    "duration": 3655,
    "start_time": "2022-06-19T03:36:47.664Z"
   },
   {
    "duration": 43,
    "start_time": "2022-06-19T03:36:51.321Z"
   },
   {
    "duration": 95,
    "start_time": "2022-06-19T03:36:51.367Z"
   },
   {
    "duration": 81,
    "start_time": "2022-06-19T03:36:51.464Z"
   },
   {
    "duration": 56,
    "start_time": "2022-06-19T03:36:51.549Z"
   },
   {
    "duration": 8,
    "start_time": "2022-06-19T03:36:51.607Z"
   },
   {
    "duration": 28,
    "start_time": "2022-06-19T03:36:51.616Z"
   },
   {
    "duration": 27,
    "start_time": "2022-06-19T03:36:51.646Z"
   },
   {
    "duration": 7,
    "start_time": "2022-06-19T03:36:51.675Z"
   },
   {
    "duration": 14,
    "start_time": "2022-06-19T03:36:51.683Z"
   },
   {
    "duration": 11,
    "start_time": "2022-06-19T03:36:51.698Z"
   },
   {
    "duration": 8,
    "start_time": "2022-06-19T03:36:51.710Z"
   },
   {
    "duration": 59,
    "start_time": "2022-06-19T03:36:51.720Z"
   },
   {
    "duration": 17,
    "start_time": "2022-06-19T03:36:51.781Z"
   },
   {
    "duration": 17,
    "start_time": "2022-06-19T03:36:51.799Z"
   },
   {
    "duration": 20,
    "start_time": "2022-06-19T03:36:51.818Z"
   },
   {
    "duration": 40,
    "start_time": "2022-06-19T03:36:51.841Z"
   },
   {
    "duration": 17,
    "start_time": "2022-06-19T03:36:51.883Z"
   },
   {
    "duration": 6,
    "start_time": "2022-06-19T03:36:51.902Z"
   },
   {
    "duration": 13,
    "start_time": "2022-06-19T03:36:51.909Z"
   },
   {
    "duration": 29,
    "start_time": "2022-06-19T03:36:51.925Z"
   },
   {
    "duration": 8,
    "start_time": "2022-06-19T03:36:51.959Z"
   },
   {
    "duration": 22,
    "start_time": "2022-06-19T03:36:51.969Z"
   },
   {
    "duration": 12,
    "start_time": "2022-06-19T03:36:51.992Z"
   },
   {
    "duration": 18,
    "start_time": "2022-06-19T03:36:52.005Z"
   },
   {
    "duration": 34,
    "start_time": "2022-06-19T03:36:52.025Z"
   },
   {
    "duration": 25,
    "start_time": "2022-06-19T03:36:52.061Z"
   },
   {
    "duration": 6,
    "start_time": "2022-06-19T03:36:56.818Z"
   },
   {
    "duration": 5,
    "start_time": "2022-06-19T03:40:33.078Z"
   },
   {
    "duration": 5,
    "start_time": "2022-06-19T03:42:20.459Z"
   },
   {
    "duration": 5,
    "start_time": "2022-06-19T03:42:24.198Z"
   },
   {
    "duration": 6,
    "start_time": "2022-06-19T03:42:31.467Z"
   },
   {
    "duration": 6,
    "start_time": "2022-06-19T03:43:23.792Z"
   },
   {
    "duration": 437,
    "start_time": "2022-06-19T22:52:11.898Z"
   },
   {
    "duration": 564,
    "start_time": "2022-06-19T22:52:12.337Z"
   },
   {
    "duration": 10,
    "start_time": "2022-06-19T22:52:12.907Z"
   },
   {
    "duration": 61,
    "start_time": "2022-06-19T22:52:12.919Z"
   },
   {
    "duration": 22,
    "start_time": "2022-06-19T22:52:12.990Z"
   },
   {
    "duration": 19,
    "start_time": "2022-06-19T22:52:13.014Z"
   },
   {
    "duration": 7,
    "start_time": "2022-06-19T22:52:13.034Z"
   },
   {
    "duration": 48,
    "start_time": "2022-06-19T22:52:13.042Z"
   },
   {
    "duration": 4619,
    "start_time": "2022-06-19T22:52:13.103Z"
   },
   {
    "duration": 31,
    "start_time": "2022-06-19T22:52:17.724Z"
   },
   {
    "duration": 121,
    "start_time": "2022-06-19T22:52:17.757Z"
   },
   {
    "duration": 96,
    "start_time": "2022-06-19T22:52:17.883Z"
   },
   {
    "duration": 70,
    "start_time": "2022-06-19T22:52:17.980Z"
   },
   {
    "duration": 14,
    "start_time": "2022-06-19T22:52:18.061Z"
   },
   {
    "duration": 35,
    "start_time": "2022-06-19T22:52:18.077Z"
   },
   {
    "duration": 17,
    "start_time": "2022-06-19T22:52:18.114Z"
   },
   {
    "duration": 9,
    "start_time": "2022-06-19T22:52:18.133Z"
   },
   {
    "duration": 19,
    "start_time": "2022-06-19T22:52:18.144Z"
   },
   {
    "duration": 52,
    "start_time": "2022-06-19T22:52:18.165Z"
   },
   {
    "duration": 9,
    "start_time": "2022-06-19T22:52:18.219Z"
   },
   {
    "duration": 36,
    "start_time": "2022-06-19T22:52:18.230Z"
   },
   {
    "duration": 25,
    "start_time": "2022-06-19T22:52:18.268Z"
   },
   {
    "duration": 33,
    "start_time": "2022-06-19T22:52:18.295Z"
   },
   {
    "duration": 14,
    "start_time": "2022-06-19T22:52:18.330Z"
   },
   {
    "duration": 39,
    "start_time": "2022-06-19T22:52:18.346Z"
   },
   {
    "duration": 43,
    "start_time": "2022-06-19T22:52:18.387Z"
   },
   {
    "duration": 6,
    "start_time": "2022-06-19T22:52:18.431Z"
   },
   {
    "duration": 12,
    "start_time": "2022-06-19T22:52:18.439Z"
   },
   {
    "duration": 36,
    "start_time": "2022-06-19T22:52:18.458Z"
   },
   {
    "duration": 16,
    "start_time": "2022-06-19T22:52:18.496Z"
   },
   {
    "duration": 22,
    "start_time": "2022-06-19T22:52:18.514Z"
   },
   {
    "duration": 12,
    "start_time": "2022-06-19T22:52:18.538Z"
   },
   {
    "duration": 60,
    "start_time": "2022-06-19T22:52:18.555Z"
   },
   {
    "duration": 13,
    "start_time": "2022-06-19T22:52:18.617Z"
   },
   {
    "duration": 44,
    "start_time": "2022-06-19T22:52:28.052Z"
   },
   {
    "duration": 6,
    "start_time": "2022-06-19T22:52:32.984Z"
   },
   {
    "duration": 2,
    "start_time": "2022-06-19T22:57:16.003Z"
   },
   {
    "duration": 381,
    "start_time": "2022-06-19T22:57:16.010Z"
   },
   {
    "duration": 10,
    "start_time": "2022-06-19T22:57:16.393Z"
   },
   {
    "duration": 33,
    "start_time": "2022-06-19T22:57:16.405Z"
   },
   {
    "duration": 8,
    "start_time": "2022-06-19T22:57:16.440Z"
   },
   {
    "duration": 34,
    "start_time": "2022-06-19T22:57:16.462Z"
   },
   {
    "duration": 8,
    "start_time": "2022-06-19T22:57:16.498Z"
   },
   {
    "duration": 23,
    "start_time": "2022-06-19T22:57:16.508Z"
   },
   {
    "duration": 4235,
    "start_time": "2022-06-19T22:57:16.533Z"
   },
   {
    "duration": 30,
    "start_time": "2022-06-19T22:57:20.779Z"
   },
   {
    "duration": 76,
    "start_time": "2022-06-19T22:57:20.812Z"
   },
   {
    "duration": 71,
    "start_time": "2022-06-19T22:57:20.890Z"
   },
   {
    "duration": 51,
    "start_time": "2022-06-19T22:57:20.979Z"
   },
   {
    "duration": 6,
    "start_time": "2022-06-19T22:57:21.032Z"
   },
   {
    "duration": 4,
    "start_time": "2022-06-19T22:57:21.039Z"
   },
   {
    "duration": 21,
    "start_time": "2022-06-19T22:57:21.044Z"
   },
   {
    "duration": 32,
    "start_time": "2022-06-19T22:57:21.074Z"
   },
   {
    "duration": 11,
    "start_time": "2022-06-19T22:57:21.108Z"
   },
   {
    "duration": 10,
    "start_time": "2022-06-19T22:57:21.121Z"
   },
   {
    "duration": 7,
    "start_time": "2022-06-19T22:57:21.133Z"
   },
   {
    "duration": 40,
    "start_time": "2022-06-19T22:57:21.141Z"
   },
   {
    "duration": 32,
    "start_time": "2022-06-19T22:57:21.183Z"
   },
   {
    "duration": 17,
    "start_time": "2022-06-19T22:57:21.217Z"
   },
   {
    "duration": 26,
    "start_time": "2022-06-19T22:57:21.235Z"
   },
   {
    "duration": 29,
    "start_time": "2022-06-19T22:57:21.263Z"
   },
   {
    "duration": 25,
    "start_time": "2022-06-19T22:57:21.295Z"
   },
   {
    "duration": 6,
    "start_time": "2022-06-19T22:57:21.321Z"
   },
   {
    "duration": 16,
    "start_time": "2022-06-19T22:57:21.328Z"
   },
   {
    "duration": 13,
    "start_time": "2022-06-19T22:57:21.347Z"
   },
   {
    "duration": 41,
    "start_time": "2022-06-19T22:57:21.362Z"
   },
   {
    "duration": 34,
    "start_time": "2022-06-19T22:57:21.405Z"
   },
   {
    "duration": 29,
    "start_time": "2022-06-19T22:57:21.441Z"
   },
   {
    "duration": 40,
    "start_time": "2022-06-19T22:57:21.475Z"
   },
   {
    "duration": 11,
    "start_time": "2022-06-19T22:57:21.516Z"
   },
   {
    "duration": 49,
    "start_time": "2022-06-19T22:57:21.529Z"
   },
   {
    "duration": 8,
    "start_time": "2022-06-19T22:57:31.427Z"
   },
   {
    "duration": 16,
    "start_time": "2022-06-19T22:58:12.590Z"
   },
   {
    "duration": 8,
    "start_time": "2022-06-19T22:58:27.776Z"
   },
   {
    "duration": 15,
    "start_time": "2022-06-19T23:02:06.308Z"
   },
   {
    "duration": 7,
    "start_time": "2022-06-19T23:02:12.578Z"
   }
  ],
  "colab": {
   "collapsed_sections": [
    "E0vqbgi9ay0H",
    "VUC88oWjTJw2",
    "atZAxtq4_Zcu"
   ],
   "name": "EmptyFinalProject.ipynb\"",
   "provenance": []
  },
  "kernelspec": {
   "display_name": "Python 3 (ipykernel)",
   "language": "python",
   "name": "python3"
  },
  "language_info": {
   "codemirror_mode": {
    "name": "ipython",
    "version": 3
   },
   "file_extension": ".py",
   "mimetype": "text/x-python",
   "name": "python",
   "nbconvert_exporter": "python",
   "pygments_lexer": "ipython3",
   "version": "3.9.5"
  },
  "toc": {
   "base_numbering": 1,
   "nav_menu": {},
   "number_sections": true,
   "sideBar": true,
   "skip_h1_title": true,
   "title_cell": "Table of Contents",
   "title_sidebar": "Contents",
   "toc_cell": false,
   "toc_position": {
    "height": "calc(100% - 180px)",
    "left": "10px",
    "top": "150px",
    "width": "255.188px"
   },
   "toc_section_display": true,
   "toc_window_display": true
  }
 },
 "nbformat": 4,
 "nbformat_minor": 4
}
