{
 "cells": [
  {
   "cell_type": "markdown",
   "metadata": {},
   "source": [
    "**INDICE------------------------------------------------------------------------------------------** <a id='back'></a>\n",
    "\n",
    "* [Introducción.](#intro)\n",
    "* [Paso 1. Cargar archivo de datos y estudio de la información general.](#paso1)\n",
    "    * [1.1 Busqueda de datos ausentes.](#paso1-1)\n",
    "    * [1.2  Manejar valores raros.](#paso1-2)\n",
    "    * [1.3 Buscar registros duplicados.](#paso1-3)\n",
    "* [Paso 2. Preparación de los datos.](#paso2)\n",
    "    * [2.1 Adecuar nombre de columnas.](#paso2-1)\n",
    "    * [2.2 Manejo de datos de ausentes.](#paso2-2)\n",
    "    * [2.2.1 Datos de la variable year_of_release.](#paso2-2-1)\n",
    "    * [2.2.2 Datos de la variable critic_score.](#paso2-2-2)\n",
    "    * [2.2.3 Datos de la variable user_score.](#paso2-2-3)\n",
    "    * [2.2.4 Datos de la variable rating.](#paso2-2-4)\n",
    "    * [2.3 Conviertir los datos en los tipos necesarios.](#paso2-3)\n",
    "    * [2.4 Calcular las ventas totales para cada juego.](#paso2-4)\n",
    "    * [2.5 Gestión de datos duplicados.](#paso2-5)\n",
    "* [Paso 3. Análisís los datos.](#paso3)\n",
    "    * [3.1 Análisis de datos relevantes para el año 2017.](#paso3-1)\n",
    "    * [3.2 Análisis del promedio en ventas por plataforma.](#paso3-2)\n",
    "    * [3.3 Efecto de las reseñas sobre las ventas.](#paso3-3)\n",
    "    * [3.4 Comparando las ventas de mismos juegos en otras plataformas.](#paso3-4)\n",
    "* [Paso 4. Creando un perfil de usuario para cada región.](#paso4)\n",
    "    * [4.1 Cinco plataformas principales.](#paso4-1)\n",
    "    * [4.2 Cinco géneros principales](#paso4-2)\n",
    "    * [4.3 Influencia de las Clasificaciones de ESRB](#paso4-3)\n",
    "* [Paso 5. Pruebas de hipótesis.](#paso5)\n",
    "    * [5.1 Las plataformas y las calificaciones de usuarios.](#paso5-1)\n",
    "    * [5.2 Los géneros y las calificaciones de usuarios.](#paso5-2)\n",
    "* [Paso 6. Conclusión General.](#paso6)"
   ]
  },
  {
   "cell_type": "markdown",
   "metadata": {},
   "source": [
    "<a id='intro'></a>\n",
    "#  *   Introducción"
   ]
  },
  {
   "cell_type": "markdown",
   "metadata": {},
   "source": [
    "La tienda online Ice que vende videojuegos por todo el mundo; proporcionó las reseñas de usuarios y expertos, sobre los géneros, las plataformas (por ejemplo, Xbox o PlayStation) y los datos históricos sobre las ventas de juegos que están disponibles en diversas fuentes abiertas. \n",
    "\n",
    "Por lo  que en este documento se identificará los patrones que determinenan si un juego tiene éxito o no. Esto permitirá detectar proyectos prometedores y planificar campañas publicitarias, para el crecimiento empresaria de la tienda online Ice.\n",
    "Los datos que se proporcionan se remontan a 2016. Imaginemos que es diciembre de 2016 y estás planeando una campaña para 2017. Esto permitiría a al departamento de publicidad verificar con datos históricos, la correcta ruta de las desiciones tomadas para ese periodo de tiempo, ó el de plantear sus estrategias a una nueva ruta."
   ]
  },
  {
   "cell_type": "markdown",
   "metadata": {},
   "source": [
    "<a id=paso1></a>\n",
    "##  . Cargar archivo de datos y estudio de la información general."
   ]
  },
  {
   "cell_type": "code",
   "execution_count": 1,
   "metadata": {},
   "outputs": [],
   "source": [
    "# importación de librerias\n",
    "# Cargar todas las librerías\n",
    "import pandas as pd\n",
    "import numpy as np \n",
    "import matplotlib.pyplot as plt \n",
    "import seaborn as sns\n",
    "import random\n",
    "import statistics\n",
    "import math\n",
    "from datetime import datetime\n",
    "\n",
    "from scipy.stats import gamma\n",
    "from typing import List\n",
    "from scipy import stats as st"
   ]
  },
  {
   "cell_type": "code",
   "execution_count": 2,
   "metadata": {
    "scrolled": true
   },
   "outputs": [
    {
     "name": "stdout",
     "output_type": "stream",
     "text": [
      "<class 'pandas.core.frame.DataFrame'>\n",
      "RangeIndex: 16715 entries, 0 to 16714\n",
      "Data columns (total 11 columns):\n",
      " #   Column           Non-Null Count  Dtype  \n",
      "---  ------           --------------  -----  \n",
      " 0   Name             16713 non-null  object \n",
      " 1   Platform         16715 non-null  object \n",
      " 2   Year_of_Release  16446 non-null  float64\n",
      " 3   Genre            16713 non-null  object \n",
      " 4   NA_sales         16715 non-null  float64\n",
      " 5   EU_sales         16715 non-null  float64\n",
      " 6   JP_sales         16715 non-null  float64\n",
      " 7   Other_sales      16715 non-null  float64\n",
      " 8   Critic_Score     8137 non-null   float64\n",
      " 9   User_Score       10014 non-null  object \n",
      " 10  Rating           9949 non-null   object \n",
      "dtypes: float64(6), object(5)\n",
      "memory usage: 1.4+ MB\n"
     ]
    }
   ],
   "source": [
    "#procedemos a importar los datos y \n",
    "#abrir el archivo\n",
    "video_juegos = pd.read_csv('/datasets/games.csv')\n",
    "#veamos la estructura de esta tabla\n",
    "video_juegos.info()"
   ]
  },
  {
   "cell_type": "markdown",
   "metadata": {},
   "source": [
    "Descripción de datos: \n",
    "* Name (Nombre)\n",
    "* Platform (Plataforma)\n",
    "* Year_of_Release (Año de lanzamiento)\n",
    "* Genre (Género)\n",
    "* NA_sales (ventas en Norteamérica en millones de dólares estadounidenses)\n",
    "* EU_sales (ventas en Europa en millones de dólares estadounidenses)\n",
    "* JP_sales (ventas en Japón en millones de dólares estadounidenses)\n",
    "* Other_sales (ventas en otros países en millones de dólares estadounidenses)\n",
    "* Critic_Score (máximo de 100)\n",
    "* User_Score (máximo de 10)\n",
    "* Clasificación (ESRB)\n",
    "\n",
    "Por su contenido las variables que deben cambiar de tipo de datos son :\n",
    "* Name, platform, Genre, rating ---> a tipo de datos cadena\n",
    "* Year_of_Relase, user_score ---> a tipo de datos número entero"
   ]
  },
  {
   "cell_type": "markdown",
   "metadata": {},
   "source": [
    ".<a id=paso1-1></a>\n",
    "###  Busqueda datos ausentes."
   ]
  },
  {
   "cell_type": "markdown",
   "metadata": {},
   "source": [
    "Verificando datos ausentes:"
   ]
  },
  {
   "cell_type": "code",
   "execution_count": 3,
   "metadata": {},
   "outputs": [
    {
     "name": "stdout",
     "output_type": "stream",
     "text": [
      "Name                  2\n",
      "Platform              0\n",
      "Year_of_Release     269\n",
      "Genre                 2\n",
      "NA_sales              0\n",
      "EU_sales              0\n",
      "JP_sales              0\n",
      "Other_sales           0\n",
      "Critic_Score       8578\n",
      "User_Score         6701\n",
      "Rating             6766\n",
      "dtype: int64\n"
     ]
    }
   ],
   "source": [
    "# calculando valores ausentes\n",
    "print(video_juegos.isna().sum()) "
   ]
  },
  {
   "cell_type": "markdown",
   "metadata": {},
   "source": [
    "Analizando las variables que presentan relevancia para nuestro objeto de estudio."
   ]
  },
  {
   "cell_type": "code",
   "execution_count": 4,
   "metadata": {},
   "outputs": [
    {
     "data": {
      "text/html": [
       "<div>\n",
       "<style scoped>\n",
       "    .dataframe tbody tr th:only-of-type {\n",
       "        vertical-align: middle;\n",
       "    }\n",
       "\n",
       "    .dataframe tbody tr th {\n",
       "        vertical-align: top;\n",
       "    }\n",
       "\n",
       "    .dataframe thead th {\n",
       "        text-align: right;\n",
       "    }\n",
       "</style>\n",
       "<table border=\"1\" class=\"dataframe\">\n",
       "  <thead>\n",
       "    <tr style=\"text-align: right;\">\n",
       "      <th></th>\n",
       "      <th>Name</th>\n",
       "      <th>Platform</th>\n",
       "      <th>Year_of_Release</th>\n",
       "      <th>Genre</th>\n",
       "      <th>NA_sales</th>\n",
       "      <th>EU_sales</th>\n",
       "      <th>JP_sales</th>\n",
       "      <th>Other_sales</th>\n",
       "      <th>Critic_Score</th>\n",
       "      <th>User_Score</th>\n",
       "      <th>Rating</th>\n",
       "    </tr>\n",
       "  </thead>\n",
       "  <tbody>\n",
       "    <tr>\n",
       "      <th>659</th>\n",
       "      <td>NaN</td>\n",
       "      <td>GEN</td>\n",
       "      <td>1993.0</td>\n",
       "      <td>NaN</td>\n",
       "      <td>1.78</td>\n",
       "      <td>0.53</td>\n",
       "      <td>0.00</td>\n",
       "      <td>0.08</td>\n",
       "      <td>NaN</td>\n",
       "      <td>NaN</td>\n",
       "      <td>NaN</td>\n",
       "    </tr>\n",
       "    <tr>\n",
       "      <th>14244</th>\n",
       "      <td>NaN</td>\n",
       "      <td>GEN</td>\n",
       "      <td>1993.0</td>\n",
       "      <td>NaN</td>\n",
       "      <td>0.00</td>\n",
       "      <td>0.00</td>\n",
       "      <td>0.03</td>\n",
       "      <td>0.00</td>\n",
       "      <td>NaN</td>\n",
       "      <td>NaN</td>\n",
       "      <td>NaN</td>\n",
       "    </tr>\n",
       "  </tbody>\n",
       "</table>\n",
       "</div>"
      ],
      "text/plain": [
       "      Name Platform  Year_of_Release Genre  NA_sales  EU_sales  JP_sales  \\\n",
       "659    NaN      GEN           1993.0   NaN      1.78      0.53      0.00   \n",
       "14244  NaN      GEN           1993.0   NaN      0.00      0.00      0.03   \n",
       "\n",
       "       Other_sales  Critic_Score User_Score Rating  \n",
       "659           0.08           NaN        NaN    NaN  \n",
       "14244         0.00           NaN        NaN    NaN  "
      ]
     },
     "execution_count": 4,
     "metadata": {},
     "output_type": "execute_result"
    }
   ],
   "source": [
    "#analizando los datos nulos en Name                    \n",
    "video_juegos.loc[video_juegos['Name'].isna()]"
   ]
  },
  {
   "cell_type": "code",
   "execution_count": 5,
   "metadata": {},
   "outputs": [
    {
     "data": {
      "text/html": [
       "<div>\n",
       "<style scoped>\n",
       "    .dataframe tbody tr th:only-of-type {\n",
       "        vertical-align: middle;\n",
       "    }\n",
       "\n",
       "    .dataframe tbody tr th {\n",
       "        vertical-align: top;\n",
       "    }\n",
       "\n",
       "    .dataframe thead th {\n",
       "        text-align: right;\n",
       "    }\n",
       "</style>\n",
       "<table border=\"1\" class=\"dataframe\">\n",
       "  <thead>\n",
       "    <tr style=\"text-align: right;\">\n",
       "      <th></th>\n",
       "      <th>Name</th>\n",
       "      <th>Platform</th>\n",
       "      <th>Year_of_Release</th>\n",
       "      <th>Genre</th>\n",
       "      <th>NA_sales</th>\n",
       "      <th>EU_sales</th>\n",
       "      <th>JP_sales</th>\n",
       "      <th>Other_sales</th>\n",
       "      <th>Critic_Score</th>\n",
       "      <th>User_Score</th>\n",
       "      <th>Rating</th>\n",
       "    </tr>\n",
       "  </thead>\n",
       "  <tbody>\n",
       "    <tr>\n",
       "      <th>659</th>\n",
       "      <td>NaN</td>\n",
       "      <td>GEN</td>\n",
       "      <td>1993.0</td>\n",
       "      <td>NaN</td>\n",
       "      <td>1.78</td>\n",
       "      <td>0.53</td>\n",
       "      <td>0.00</td>\n",
       "      <td>0.08</td>\n",
       "      <td>NaN</td>\n",
       "      <td>NaN</td>\n",
       "      <td>NaN</td>\n",
       "    </tr>\n",
       "    <tr>\n",
       "      <th>14244</th>\n",
       "      <td>NaN</td>\n",
       "      <td>GEN</td>\n",
       "      <td>1993.0</td>\n",
       "      <td>NaN</td>\n",
       "      <td>0.00</td>\n",
       "      <td>0.00</td>\n",
       "      <td>0.03</td>\n",
       "      <td>0.00</td>\n",
       "      <td>NaN</td>\n",
       "      <td>NaN</td>\n",
       "      <td>NaN</td>\n",
       "    </tr>\n",
       "  </tbody>\n",
       "</table>\n",
       "</div>"
      ],
      "text/plain": [
       "      Name Platform  Year_of_Release Genre  NA_sales  EU_sales  JP_sales  \\\n",
       "659    NaN      GEN           1993.0   NaN      1.78      0.53      0.00   \n",
       "14244  NaN      GEN           1993.0   NaN      0.00      0.00      0.03   \n",
       "\n",
       "       Other_sales  Critic_Score User_Score Rating  \n",
       "659           0.08           NaN        NaN    NaN  \n",
       "14244         0.00           NaN        NaN    NaN  "
      ]
     },
     "execution_count": 5,
     "metadata": {},
     "output_type": "execute_result"
    }
   ],
   "source": [
    "#analizando los datos nulos en genre  \n",
    "video_juegos.loc[video_juegos['Genre'].isna()]"
   ]
  },
  {
   "cell_type": "markdown",
   "metadata": {},
   "source": [
    "Estos datos no  aportan gran información por lo que los podemos tomar como basura, es mejor eliminarlos."
   ]
  },
  {
   "cell_type": "code",
   "execution_count": 6,
   "metadata": {},
   "outputs": [],
   "source": [
    "#eliminando los datos nulos en genre  \n",
    "video_juegos.drop([659, 14244],axis=0, inplace = True)"
   ]
  },
  {
   "cell_type": "markdown",
   "metadata": {},
   "source": [
    "Examinemos los datos ausentes en la variable **year_of_release**.     "
   ]
  },
  {
   "cell_type": "code",
   "execution_count": 7,
   "metadata": {},
   "outputs": [
    {
     "data": {
      "text/html": [
       "<div>\n",
       "<style scoped>\n",
       "    .dataframe tbody tr th:only-of-type {\n",
       "        vertical-align: middle;\n",
       "    }\n",
       "\n",
       "    .dataframe tbody tr th {\n",
       "        vertical-align: top;\n",
       "    }\n",
       "\n",
       "    .dataframe thead th {\n",
       "        text-align: right;\n",
       "    }\n",
       "</style>\n",
       "<table border=\"1\" class=\"dataframe\">\n",
       "  <thead>\n",
       "    <tr style=\"text-align: right;\">\n",
       "      <th></th>\n",
       "      <th>Name</th>\n",
       "      <th>Platform</th>\n",
       "      <th>Year_of_Release</th>\n",
       "      <th>Genre</th>\n",
       "      <th>NA_sales</th>\n",
       "      <th>EU_sales</th>\n",
       "      <th>JP_sales</th>\n",
       "      <th>Other_sales</th>\n",
       "      <th>Critic_Score</th>\n",
       "      <th>User_Score</th>\n",
       "      <th>Rating</th>\n",
       "    </tr>\n",
       "  </thead>\n",
       "  <tbody>\n",
       "    <tr>\n",
       "      <th>183</th>\n",
       "      <td>Madden NFL 2004</td>\n",
       "      <td>PS2</td>\n",
       "      <td>NaN</td>\n",
       "      <td>Sports</td>\n",
       "      <td>4.26</td>\n",
       "      <td>0.26</td>\n",
       "      <td>0.01</td>\n",
       "      <td>0.71</td>\n",
       "      <td>94.0</td>\n",
       "      <td>8.5</td>\n",
       "      <td>E</td>\n",
       "    </tr>\n",
       "    <tr>\n",
       "      <th>377</th>\n",
       "      <td>FIFA Soccer 2004</td>\n",
       "      <td>PS2</td>\n",
       "      <td>NaN</td>\n",
       "      <td>Sports</td>\n",
       "      <td>0.59</td>\n",
       "      <td>2.36</td>\n",
       "      <td>0.04</td>\n",
       "      <td>0.51</td>\n",
       "      <td>84.0</td>\n",
       "      <td>6.4</td>\n",
       "      <td>E</td>\n",
       "    </tr>\n",
       "    <tr>\n",
       "      <th>456</th>\n",
       "      <td>LEGO Batman: The Videogame</td>\n",
       "      <td>Wii</td>\n",
       "      <td>NaN</td>\n",
       "      <td>Action</td>\n",
       "      <td>1.80</td>\n",
       "      <td>0.97</td>\n",
       "      <td>0.00</td>\n",
       "      <td>0.29</td>\n",
       "      <td>74.0</td>\n",
       "      <td>7.9</td>\n",
       "      <td>E10+</td>\n",
       "    </tr>\n",
       "    <tr>\n",
       "      <th>475</th>\n",
       "      <td>wwe Smackdown vs. Raw 2006</td>\n",
       "      <td>PS2</td>\n",
       "      <td>NaN</td>\n",
       "      <td>Fighting</td>\n",
       "      <td>1.57</td>\n",
       "      <td>1.02</td>\n",
       "      <td>0.00</td>\n",
       "      <td>0.41</td>\n",
       "      <td>NaN</td>\n",
       "      <td>NaN</td>\n",
       "      <td>NaN</td>\n",
       "    </tr>\n",
       "    <tr>\n",
       "      <th>609</th>\n",
       "      <td>Space Invaders</td>\n",
       "      <td>2600</td>\n",
       "      <td>NaN</td>\n",
       "      <td>Shooter</td>\n",
       "      <td>2.36</td>\n",
       "      <td>0.14</td>\n",
       "      <td>0.00</td>\n",
       "      <td>0.03</td>\n",
       "      <td>NaN</td>\n",
       "      <td>NaN</td>\n",
       "      <td>NaN</td>\n",
       "    </tr>\n",
       "    <tr>\n",
       "      <th>...</th>\n",
       "      <td>...</td>\n",
       "      <td>...</td>\n",
       "      <td>...</td>\n",
       "      <td>...</td>\n",
       "      <td>...</td>\n",
       "      <td>...</td>\n",
       "      <td>...</td>\n",
       "      <td>...</td>\n",
       "      <td>...</td>\n",
       "      <td>...</td>\n",
       "      <td>...</td>\n",
       "    </tr>\n",
       "    <tr>\n",
       "      <th>16373</th>\n",
       "      <td>PDC World Championship Darts 2008</td>\n",
       "      <td>PSP</td>\n",
       "      <td>NaN</td>\n",
       "      <td>Sports</td>\n",
       "      <td>0.01</td>\n",
       "      <td>0.00</td>\n",
       "      <td>0.00</td>\n",
       "      <td>0.00</td>\n",
       "      <td>43.0</td>\n",
       "      <td>tbd</td>\n",
       "      <td>E10+</td>\n",
       "    </tr>\n",
       "    <tr>\n",
       "      <th>16405</th>\n",
       "      <td>Freaky Flyers</td>\n",
       "      <td>GC</td>\n",
       "      <td>NaN</td>\n",
       "      <td>Racing</td>\n",
       "      <td>0.01</td>\n",
       "      <td>0.00</td>\n",
       "      <td>0.00</td>\n",
       "      <td>0.00</td>\n",
       "      <td>69.0</td>\n",
       "      <td>6.5</td>\n",
       "      <td>T</td>\n",
       "    </tr>\n",
       "    <tr>\n",
       "      <th>16448</th>\n",
       "      <td>Inversion</td>\n",
       "      <td>PC</td>\n",
       "      <td>NaN</td>\n",
       "      <td>Shooter</td>\n",
       "      <td>0.01</td>\n",
       "      <td>0.00</td>\n",
       "      <td>0.00</td>\n",
       "      <td>0.00</td>\n",
       "      <td>59.0</td>\n",
       "      <td>6.7</td>\n",
       "      <td>M</td>\n",
       "    </tr>\n",
       "    <tr>\n",
       "      <th>16458</th>\n",
       "      <td>Hakuouki: Shinsengumi Kitan</td>\n",
       "      <td>PS3</td>\n",
       "      <td>NaN</td>\n",
       "      <td>Adventure</td>\n",
       "      <td>0.01</td>\n",
       "      <td>0.00</td>\n",
       "      <td>0.00</td>\n",
       "      <td>0.00</td>\n",
       "      <td>NaN</td>\n",
       "      <td>NaN</td>\n",
       "      <td>NaN</td>\n",
       "    </tr>\n",
       "    <tr>\n",
       "      <th>16522</th>\n",
       "      <td>Virtua Quest</td>\n",
       "      <td>GC</td>\n",
       "      <td>NaN</td>\n",
       "      <td>Role-Playing</td>\n",
       "      <td>0.01</td>\n",
       "      <td>0.00</td>\n",
       "      <td>0.00</td>\n",
       "      <td>0.00</td>\n",
       "      <td>55.0</td>\n",
       "      <td>5.5</td>\n",
       "      <td>T</td>\n",
       "    </tr>\n",
       "  </tbody>\n",
       "</table>\n",
       "<p>269 rows × 11 columns</p>\n",
       "</div>"
      ],
      "text/plain": [
       "                                    Name Platform  Year_of_Release  \\\n",
       "183                      Madden NFL 2004      PS2              NaN   \n",
       "377                     FIFA Soccer 2004      PS2              NaN   \n",
       "456           LEGO Batman: The Videogame      Wii              NaN   \n",
       "475           wwe Smackdown vs. Raw 2006      PS2              NaN   \n",
       "609                       Space Invaders     2600              NaN   \n",
       "...                                  ...      ...              ...   \n",
       "16373  PDC World Championship Darts 2008      PSP              NaN   \n",
       "16405                      Freaky Flyers       GC              NaN   \n",
       "16448                          Inversion       PC              NaN   \n",
       "16458        Hakuouki: Shinsengumi Kitan      PS3              NaN   \n",
       "16522                       Virtua Quest       GC              NaN   \n",
       "\n",
       "              Genre  NA_sales  EU_sales  JP_sales  Other_sales  Critic_Score  \\\n",
       "183          Sports      4.26      0.26      0.01         0.71          94.0   \n",
       "377          Sports      0.59      2.36      0.04         0.51          84.0   \n",
       "456          Action      1.80      0.97      0.00         0.29          74.0   \n",
       "475        Fighting      1.57      1.02      0.00         0.41           NaN   \n",
       "609         Shooter      2.36      0.14      0.00         0.03           NaN   \n",
       "...             ...       ...       ...       ...          ...           ...   \n",
       "16373        Sports      0.01      0.00      0.00         0.00          43.0   \n",
       "16405        Racing      0.01      0.00      0.00         0.00          69.0   \n",
       "16448       Shooter      0.01      0.00      0.00         0.00          59.0   \n",
       "16458     Adventure      0.01      0.00      0.00         0.00           NaN   \n",
       "16522  Role-Playing      0.01      0.00      0.00         0.00          55.0   \n",
       "\n",
       "      User_Score Rating  \n",
       "183          8.5      E  \n",
       "377          6.4      E  \n",
       "456          7.9   E10+  \n",
       "475          NaN    NaN  \n",
       "609          NaN    NaN  \n",
       "...          ...    ...  \n",
       "16373        tbd   E10+  \n",
       "16405        6.5      T  \n",
       "16448        6.7      M  \n",
       "16458        NaN    NaN  \n",
       "16522        5.5      T  \n",
       "\n",
       "[269 rows x 11 columns]"
      ]
     },
     "execution_count": 7,
     "metadata": {},
     "output_type": "execute_result"
    }
   ],
   "source": [
    "#visualizando los datos ausentes en la variable year_of_release\n",
    "video_juegos.loc[video_juegos['Year_of_Release'].isna() == True]"
   ]
  },
  {
   "cell_type": "markdown",
   "metadata": {},
   "source": [
    "Hay registros en este caso que es posible imputar el año de realización mediante la información que se encuentra capturadad en el la columna 'name', por ejemplo el caso del registro \"Madden NFL 2004\"."
   ]
  },
  {
   "cell_type": "markdown",
   "metadata": {},
   "source": [
    "Examinemos el caso de los registros con el nombre del juego \"LEGO Batman: The Videogame\""
   ]
  },
  {
   "cell_type": "code",
   "execution_count": 8,
   "metadata": {},
   "outputs": [
    {
     "data": {
      "text/html": [
       "<div>\n",
       "<style scoped>\n",
       "    .dataframe tbody tr th:only-of-type {\n",
       "        vertical-align: middle;\n",
       "    }\n",
       "\n",
       "    .dataframe tbody tr th {\n",
       "        vertical-align: top;\n",
       "    }\n",
       "\n",
       "    .dataframe thead th {\n",
       "        text-align: right;\n",
       "    }\n",
       "</style>\n",
       "<table border=\"1\" class=\"dataframe\">\n",
       "  <thead>\n",
       "    <tr style=\"text-align: right;\">\n",
       "      <th></th>\n",
       "      <th>Name</th>\n",
       "      <th>Platform</th>\n",
       "      <th>Year_of_Release</th>\n",
       "      <th>Genre</th>\n",
       "      <th>NA_sales</th>\n",
       "      <th>EU_sales</th>\n",
       "      <th>JP_sales</th>\n",
       "      <th>Other_sales</th>\n",
       "      <th>Critic_Score</th>\n",
       "      <th>User_Score</th>\n",
       "      <th>Rating</th>\n",
       "    </tr>\n",
       "  </thead>\n",
       "  <tbody>\n",
       "    <tr>\n",
       "      <th>397</th>\n",
       "      <td>LEGO Batman: The Videogame</td>\n",
       "      <td>X360</td>\n",
       "      <td>2008.0</td>\n",
       "      <td>Action</td>\n",
       "      <td>2.04</td>\n",
       "      <td>1.02</td>\n",
       "      <td>0.0</td>\n",
       "      <td>0.32</td>\n",
       "      <td>76.0</td>\n",
       "      <td>7.9</td>\n",
       "      <td>E10+</td>\n",
       "    </tr>\n",
       "    <tr>\n",
       "      <th>456</th>\n",
       "      <td>LEGO Batman: The Videogame</td>\n",
       "      <td>Wii</td>\n",
       "      <td>NaN</td>\n",
       "      <td>Action</td>\n",
       "      <td>1.80</td>\n",
       "      <td>0.97</td>\n",
       "      <td>0.0</td>\n",
       "      <td>0.29</td>\n",
       "      <td>74.0</td>\n",
       "      <td>7.9</td>\n",
       "      <td>E10+</td>\n",
       "    </tr>\n",
       "    <tr>\n",
       "      <th>460</th>\n",
       "      <td>LEGO Batman: The Videogame</td>\n",
       "      <td>DS</td>\n",
       "      <td>2008.0</td>\n",
       "      <td>Action</td>\n",
       "      <td>1.75</td>\n",
       "      <td>1.01</td>\n",
       "      <td>0.0</td>\n",
       "      <td>0.29</td>\n",
       "      <td>72.0</td>\n",
       "      <td>8</td>\n",
       "      <td>E10+</td>\n",
       "    </tr>\n",
       "    <tr>\n",
       "      <th>1519</th>\n",
       "      <td>LEGO Batman: The Videogame</td>\n",
       "      <td>PS3</td>\n",
       "      <td>2008.0</td>\n",
       "      <td>Action</td>\n",
       "      <td>0.72</td>\n",
       "      <td>0.39</td>\n",
       "      <td>0.0</td>\n",
       "      <td>0.19</td>\n",
       "      <td>75.0</td>\n",
       "      <td>7.7</td>\n",
       "      <td>E10+</td>\n",
       "    </tr>\n",
       "    <tr>\n",
       "      <th>1538</th>\n",
       "      <td>LEGO Batman: The Videogame</td>\n",
       "      <td>PSP</td>\n",
       "      <td>NaN</td>\n",
       "      <td>Action</td>\n",
       "      <td>0.57</td>\n",
       "      <td>0.44</td>\n",
       "      <td>0.0</td>\n",
       "      <td>0.27</td>\n",
       "      <td>73.0</td>\n",
       "      <td>7.4</td>\n",
       "      <td>E10+</td>\n",
       "    </tr>\n",
       "    <tr>\n",
       "      <th>1553</th>\n",
       "      <td>LEGO Batman: The Videogame</td>\n",
       "      <td>PS2</td>\n",
       "      <td>2008.0</td>\n",
       "      <td>Action</td>\n",
       "      <td>0.72</td>\n",
       "      <td>0.03</td>\n",
       "      <td>0.0</td>\n",
       "      <td>0.52</td>\n",
       "      <td>77.0</td>\n",
       "      <td>8.9</td>\n",
       "      <td>E10+</td>\n",
       "    </tr>\n",
       "    <tr>\n",
       "      <th>12465</th>\n",
       "      <td>LEGO Batman: The Videogame</td>\n",
       "      <td>PC</td>\n",
       "      <td>2008.0</td>\n",
       "      <td>Action</td>\n",
       "      <td>0.02</td>\n",
       "      <td>0.03</td>\n",
       "      <td>0.0</td>\n",
       "      <td>0.01</td>\n",
       "      <td>80.0</td>\n",
       "      <td>7.8</td>\n",
       "      <td>E10+</td>\n",
       "    </tr>\n",
       "  </tbody>\n",
       "</table>\n",
       "</div>"
      ],
      "text/plain": [
       "                             Name Platform  Year_of_Release   Genre  NA_sales  \\\n",
       "397    LEGO Batman: The Videogame     X360           2008.0  Action      2.04   \n",
       "456    LEGO Batman: The Videogame      Wii              NaN  Action      1.80   \n",
       "460    LEGO Batman: The Videogame       DS           2008.0  Action      1.75   \n",
       "1519   LEGO Batman: The Videogame      PS3           2008.0  Action      0.72   \n",
       "1538   LEGO Batman: The Videogame      PSP              NaN  Action      0.57   \n",
       "1553   LEGO Batman: The Videogame      PS2           2008.0  Action      0.72   \n",
       "12465  LEGO Batman: The Videogame       PC           2008.0  Action      0.02   \n",
       "\n",
       "       EU_sales  JP_sales  Other_sales  Critic_Score User_Score Rating  \n",
       "397        1.02       0.0         0.32          76.0        7.9   E10+  \n",
       "456        0.97       0.0         0.29          74.0        7.9   E10+  \n",
       "460        1.01       0.0         0.29          72.0          8   E10+  \n",
       "1519       0.39       0.0         0.19          75.0        7.7   E10+  \n",
       "1538       0.44       0.0         0.27          73.0        7.4   E10+  \n",
       "1553       0.03       0.0         0.52          77.0        8.9   E10+  \n",
       "12465      0.03       0.0         0.01          80.0        7.8   E10+  "
      ]
     },
     "execution_count": 8,
     "metadata": {},
     "output_type": "execute_result"
    }
   ],
   "source": [
    "#filtrando los registros con el nombre LEGO Batman: The Videogame\n",
    "video_juegos.loc[video_juegos['Name'] == 'LEGO Batman: The Videogame']"
   ]
  },
  {
   "cell_type": "markdown",
   "metadata": {},
   "source": [
    "Para este caso tenemos registros que podemos usar para imputar el dato faltante en la columna 'year_of_release' el cual es para este caso del año 2008"
   ]
  },
  {
   "cell_type": "code",
   "execution_count": 9,
   "metadata": {},
   "outputs": [
    {
     "data": {
      "text/plain": [
       "LEGO Harry Potter: Years 5-7                      7\n",
       "Happy Feet Two                                    4\n",
       "Rock Band                                         4\n",
       "Test Drive Unlimited 2                            3\n",
       "Bejeweled 3                                       3\n",
       "                                                 ..\n",
       "Without Warning                                   1\n",
       "Valkyria Chronicles III: Unrecorded Chronicles    1\n",
       "Freaky Flyers                                     1\n",
       "Maze Craze: A Game of Cops 'n Robbers             1\n",
       "Wheel of Fortune                                  1\n",
       "Name: Name, Length: 232, dtype: int64"
      ]
     },
     "execution_count": 9,
     "metadata": {},
     "output_type": "execute_result"
    }
   ],
   "source": [
    "#examinemos los casos de valores ausentes en la variable ´year_of_release´\n",
    "# por la columna 'name'\n",
    "video_juegos.loc[\n",
    "                video_juegos[\n",
    "                'Year_of_Release'].isna() == True,\n",
    "                                'Name'].value_counts()\n"
   ]
  },
  {
   "cell_type": "markdown",
   "metadata": {},
   "source": [
    "No aparece ningún valor particular de la columna 'Name', que sea representativo para ser tomado de considerar para analizar desde los datos que tenemos con los registros completos."
   ]
  },
  {
   "cell_type": "code",
   "execution_count": 10,
   "metadata": {},
   "outputs": [
    {
     "data": {
      "text/html": [
       "<div>\n",
       "<style scoped>\n",
       "    .dataframe tbody tr th:only-of-type {\n",
       "        vertical-align: middle;\n",
       "    }\n",
       "\n",
       "    .dataframe tbody tr th {\n",
       "        vertical-align: top;\n",
       "    }\n",
       "\n",
       "    .dataframe thead th {\n",
       "        text-align: right;\n",
       "    }\n",
       "</style>\n",
       "<table border=\"1\" class=\"dataframe\">\n",
       "  <thead>\n",
       "    <tr style=\"text-align: right;\">\n",
       "      <th></th>\n",
       "      <th>Name</th>\n",
       "      <th>Platform</th>\n",
       "      <th>Year_of_Release</th>\n",
       "      <th>Genre</th>\n",
       "      <th>NA_sales</th>\n",
       "      <th>EU_sales</th>\n",
       "      <th>JP_sales</th>\n",
       "      <th>Other_sales</th>\n",
       "      <th>Critic_Score</th>\n",
       "      <th>User_Score</th>\n",
       "      <th>Rating</th>\n",
       "    </tr>\n",
       "  </thead>\n",
       "  <tbody>\n",
       "    <tr>\n",
       "      <th>7584</th>\n",
       "      <td>WRC: FIA World Rally Championship</td>\n",
       "      <td>PS3</td>\n",
       "      <td>NaN</td>\n",
       "      <td>Racing</td>\n",
       "      <td>0.00</td>\n",
       "      <td>0.14</td>\n",
       "      <td>0.01</td>\n",
       "      <td>0.04</td>\n",
       "      <td>68.0</td>\n",
       "      <td>4.5</td>\n",
       "      <td>NaN</td>\n",
       "    </tr>\n",
       "    <tr>\n",
       "      <th>9827</th>\n",
       "      <td>WRC: FIA World Rally Championship</td>\n",
       "      <td>X360</td>\n",
       "      <td>NaN</td>\n",
       "      <td>Racing</td>\n",
       "      <td>0.00</td>\n",
       "      <td>0.10</td>\n",
       "      <td>0.00</td>\n",
       "      <td>0.02</td>\n",
       "      <td>66.0</td>\n",
       "      <td>6</td>\n",
       "      <td>E10+</td>\n",
       "    </tr>\n",
       "    <tr>\n",
       "      <th>14233</th>\n",
       "      <td>WRC: FIA World Rally Championship</td>\n",
       "      <td>PSP</td>\n",
       "      <td>2005.0</td>\n",
       "      <td>Racing</td>\n",
       "      <td>0.02</td>\n",
       "      <td>0.01</td>\n",
       "      <td>0.00</td>\n",
       "      <td>0.00</td>\n",
       "      <td>67.0</td>\n",
       "      <td>7.8</td>\n",
       "      <td>E</td>\n",
       "    </tr>\n",
       "    <tr>\n",
       "      <th>16180</th>\n",
       "      <td>WRC: FIA World Rally Championship</td>\n",
       "      <td>PC</td>\n",
       "      <td>NaN</td>\n",
       "      <td>Racing</td>\n",
       "      <td>0.00</td>\n",
       "      <td>0.01</td>\n",
       "      <td>0.00</td>\n",
       "      <td>0.00</td>\n",
       "      <td>65.0</td>\n",
       "      <td>NaN</td>\n",
       "      <td>RP</td>\n",
       "    </tr>\n",
       "  </tbody>\n",
       "</table>\n",
       "</div>"
      ],
      "text/plain": [
       "                                    Name Platform  Year_of_Release   Genre  \\\n",
       "7584   WRC: FIA World Rally Championship      PS3              NaN  Racing   \n",
       "9827   WRC: FIA World Rally Championship     X360              NaN  Racing   \n",
       "14233  WRC: FIA World Rally Championship      PSP           2005.0  Racing   \n",
       "16180  WRC: FIA World Rally Championship       PC              NaN  Racing   \n",
       "\n",
       "       NA_sales  EU_sales  JP_sales  Other_sales  Critic_Score User_Score  \\\n",
       "7584       0.00      0.14      0.01         0.04          68.0        4.5   \n",
       "9827       0.00      0.10      0.00         0.02          66.0          6   \n",
       "14233      0.02      0.01      0.00         0.00          67.0        7.8   \n",
       "16180      0.00      0.01      0.00         0.00          65.0        NaN   \n",
       "\n",
       "      Rating  \n",
       "7584     NaN  \n",
       "9827    E10+  \n",
       "14233      E  \n",
       "16180     RP  "
      ]
     },
     "execution_count": 10,
     "metadata": {},
     "output_type": "execute_result"
    }
   ],
   "source": [
    "# Consideremos el \n",
    "video_juegos.loc[\n",
    "    video_juegos['Name'] == 'WRC: FIA World Rally Championship']"
   ]
  },
  {
   "cell_type": "markdown",
   "metadata": {},
   "source": [
    "En el registro 14233 tenemos el dato en la columna 'Year_of_Release' de que el 2005.0 para este caso. Podemos usar este dato para imputar a los demás registros con los datos ausentes.\n",
    "\n",
    "De manera análoga podemos intentar con las demás registros, para este caso."
   ]
  },
  {
   "cell_type": "markdown",
   "metadata": {},
   "source": [
    "Es posible que los datos de 2016 estén incompletos."
   ]
  },
  {
   "cell_type": "code",
   "execution_count": 11,
   "metadata": {},
   "outputs": [
    {
     "data": {
      "text/html": [
       "<div>\n",
       "<style scoped>\n",
       "    .dataframe tbody tr th:only-of-type {\n",
       "        vertical-align: middle;\n",
       "    }\n",
       "\n",
       "    .dataframe tbody tr th {\n",
       "        vertical-align: top;\n",
       "    }\n",
       "\n",
       "    .dataframe thead th {\n",
       "        text-align: right;\n",
       "    }\n",
       "</style>\n",
       "<table border=\"1\" class=\"dataframe\">\n",
       "  <thead>\n",
       "    <tr style=\"text-align: right;\">\n",
       "      <th></th>\n",
       "      <th>Name</th>\n",
       "      <th>Platform</th>\n",
       "      <th>Year_of_Release</th>\n",
       "      <th>Genre</th>\n",
       "      <th>NA_sales</th>\n",
       "      <th>EU_sales</th>\n",
       "      <th>JP_sales</th>\n",
       "      <th>Other_sales</th>\n",
       "      <th>Critic_Score</th>\n",
       "      <th>User_Score</th>\n",
       "      <th>Rating</th>\n",
       "    </tr>\n",
       "  </thead>\n",
       "  <tbody>\n",
       "    <tr>\n",
       "      <th>94</th>\n",
       "      <td>FIFA 17</td>\n",
       "      <td>PS4</td>\n",
       "      <td>2016.0</td>\n",
       "      <td>Sports</td>\n",
       "      <td>0.66</td>\n",
       "      <td>5.75</td>\n",
       "      <td>0.08</td>\n",
       "      <td>1.11</td>\n",
       "      <td>85.0</td>\n",
       "      <td>5</td>\n",
       "      <td>E</td>\n",
       "    </tr>\n",
       "    <tr>\n",
       "      <th>108</th>\n",
       "      <td>Pokemon Sun/Moon</td>\n",
       "      <td>3DS</td>\n",
       "      <td>2016.0</td>\n",
       "      <td>Role-Playing</td>\n",
       "      <td>2.98</td>\n",
       "      <td>1.45</td>\n",
       "      <td>2.26</td>\n",
       "      <td>0.45</td>\n",
       "      <td>NaN</td>\n",
       "      <td>NaN</td>\n",
       "      <td>NaN</td>\n",
       "    </tr>\n",
       "    <tr>\n",
       "      <th>171</th>\n",
       "      <td>Uncharted 4: A Thief's End</td>\n",
       "      <td>PS4</td>\n",
       "      <td>2016.0</td>\n",
       "      <td>Shooter</td>\n",
       "      <td>1.85</td>\n",
       "      <td>2.50</td>\n",
       "      <td>0.19</td>\n",
       "      <td>0.85</td>\n",
       "      <td>93.0</td>\n",
       "      <td>7.9</td>\n",
       "      <td>T</td>\n",
       "    </tr>\n",
       "    <tr>\n",
       "      <th>245</th>\n",
       "      <td>Call of Duty: Infinite Warfare</td>\n",
       "      <td>PS4</td>\n",
       "      <td>2016.0</td>\n",
       "      <td>Shooter</td>\n",
       "      <td>1.61</td>\n",
       "      <td>2.00</td>\n",
       "      <td>0.15</td>\n",
       "      <td>0.71</td>\n",
       "      <td>77.0</td>\n",
       "      <td>3.4</td>\n",
       "      <td>M</td>\n",
       "    </tr>\n",
       "    <tr>\n",
       "      <th>289</th>\n",
       "      <td>Battlefield 1</td>\n",
       "      <td>PS4</td>\n",
       "      <td>2016.0</td>\n",
       "      <td>Shooter</td>\n",
       "      <td>1.10</td>\n",
       "      <td>2.15</td>\n",
       "      <td>0.21</td>\n",
       "      <td>0.61</td>\n",
       "      <td>88.0</td>\n",
       "      <td>8.4</td>\n",
       "      <td>M</td>\n",
       "    </tr>\n",
       "    <tr>\n",
       "      <th>...</th>\n",
       "      <td>...</td>\n",
       "      <td>...</td>\n",
       "      <td>...</td>\n",
       "      <td>...</td>\n",
       "      <td>...</td>\n",
       "      <td>...</td>\n",
       "      <td>...</td>\n",
       "      <td>...</td>\n",
       "      <td>...</td>\n",
       "      <td>...</td>\n",
       "      <td>...</td>\n",
       "    </tr>\n",
       "    <tr>\n",
       "      <th>16699</th>\n",
       "      <td>The Longest 5 Minutes</td>\n",
       "      <td>PSV</td>\n",
       "      <td>2016.0</td>\n",
       "      <td>Action</td>\n",
       "      <td>0.00</td>\n",
       "      <td>0.00</td>\n",
       "      <td>0.01</td>\n",
       "      <td>0.00</td>\n",
       "      <td>NaN</td>\n",
       "      <td>NaN</td>\n",
       "      <td>NaN</td>\n",
       "    </tr>\n",
       "    <tr>\n",
       "      <th>16703</th>\n",
       "      <td>Strawberry Nauts</td>\n",
       "      <td>PSV</td>\n",
       "      <td>2016.0</td>\n",
       "      <td>Adventure</td>\n",
       "      <td>0.00</td>\n",
       "      <td>0.00</td>\n",
       "      <td>0.01</td>\n",
       "      <td>0.00</td>\n",
       "      <td>NaN</td>\n",
       "      <td>NaN</td>\n",
       "      <td>NaN</td>\n",
       "    </tr>\n",
       "    <tr>\n",
       "      <th>16710</th>\n",
       "      <td>Samurai Warriors: Sanada Maru</td>\n",
       "      <td>PS3</td>\n",
       "      <td>2016.0</td>\n",
       "      <td>Action</td>\n",
       "      <td>0.00</td>\n",
       "      <td>0.00</td>\n",
       "      <td>0.01</td>\n",
       "      <td>0.00</td>\n",
       "      <td>NaN</td>\n",
       "      <td>NaN</td>\n",
       "      <td>NaN</td>\n",
       "    </tr>\n",
       "    <tr>\n",
       "      <th>16712</th>\n",
       "      <td>Haitaka no Psychedelica</td>\n",
       "      <td>PSV</td>\n",
       "      <td>2016.0</td>\n",
       "      <td>Adventure</td>\n",
       "      <td>0.00</td>\n",
       "      <td>0.00</td>\n",
       "      <td>0.01</td>\n",
       "      <td>0.00</td>\n",
       "      <td>NaN</td>\n",
       "      <td>NaN</td>\n",
       "      <td>NaN</td>\n",
       "    </tr>\n",
       "    <tr>\n",
       "      <th>16714</th>\n",
       "      <td>Winning Post 8 2016</td>\n",
       "      <td>PSV</td>\n",
       "      <td>2016.0</td>\n",
       "      <td>Simulation</td>\n",
       "      <td>0.00</td>\n",
       "      <td>0.00</td>\n",
       "      <td>0.01</td>\n",
       "      <td>0.00</td>\n",
       "      <td>NaN</td>\n",
       "      <td>NaN</td>\n",
       "      <td>NaN</td>\n",
       "    </tr>\n",
       "  </tbody>\n",
       "</table>\n",
       "<p>502 rows × 11 columns</p>\n",
       "</div>"
      ],
      "text/plain": [
       "                                 Name Platform  Year_of_Release         Genre  \\\n",
       "94                            FIFA 17      PS4           2016.0        Sports   \n",
       "108                  Pokemon Sun/Moon      3DS           2016.0  Role-Playing   \n",
       "171        Uncharted 4: A Thief's End      PS4           2016.0       Shooter   \n",
       "245    Call of Duty: Infinite Warfare      PS4           2016.0       Shooter   \n",
       "289                     Battlefield 1      PS4           2016.0       Shooter   \n",
       "...                               ...      ...              ...           ...   \n",
       "16699           The Longest 5 Minutes      PSV           2016.0        Action   \n",
       "16703                Strawberry Nauts      PSV           2016.0     Adventure   \n",
       "16710   Samurai Warriors: Sanada Maru      PS3           2016.0        Action   \n",
       "16712         Haitaka no Psychedelica      PSV           2016.0     Adventure   \n",
       "16714             Winning Post 8 2016      PSV           2016.0    Simulation   \n",
       "\n",
       "       NA_sales  EU_sales  JP_sales  Other_sales  Critic_Score User_Score  \\\n",
       "94         0.66      5.75      0.08         1.11          85.0          5   \n",
       "108        2.98      1.45      2.26         0.45           NaN        NaN   \n",
       "171        1.85      2.50      0.19         0.85          93.0        7.9   \n",
       "245        1.61      2.00      0.15         0.71          77.0        3.4   \n",
       "289        1.10      2.15      0.21         0.61          88.0        8.4   \n",
       "...         ...       ...       ...          ...           ...        ...   \n",
       "16699      0.00      0.00      0.01         0.00           NaN        NaN   \n",
       "16703      0.00      0.00      0.01         0.00           NaN        NaN   \n",
       "16710      0.00      0.00      0.01         0.00           NaN        NaN   \n",
       "16712      0.00      0.00      0.01         0.00           NaN        NaN   \n",
       "16714      0.00      0.00      0.01         0.00           NaN        NaN   \n",
       "\n",
       "      Rating  \n",
       "94         E  \n",
       "108      NaN  \n",
       "171        T  \n",
       "245        M  \n",
       "289        M  \n",
       "...      ...  \n",
       "16699    NaN  \n",
       "16703    NaN  \n",
       "16710    NaN  \n",
       "16712    NaN  \n",
       "16714    NaN  \n",
       "\n",
       "[502 rows x 11 columns]"
      ]
     },
     "execution_count": 11,
     "metadata": {},
     "output_type": "execute_result"
    }
   ],
   "source": [
    "#visualizando los datos del 20\n",
    "video_juegos.loc[video_juegos['Year_of_Release'] == 2016.0]"
   ]
  },
  {
   "cell_type": "markdown",
   "metadata": {},
   "source": [
    "Podemos decir que una parte de los datos faltates son del 2016, pero no todos pues tenemos en la descripción del dataframe despleguado arriba de estas lineas, que es de 502 menor a los de los datos ausentes de la columna <em> Critic_Score   de    8578 </em>."
   ]
  },
  {
   "cell_type": "code",
   "execution_count": 12,
   "metadata": {},
   "outputs": [
    {
     "data": {
      "text/plain": [
       "FIFA 12                                                               7\n",
       "The Amazing Spider-Man 2 (2014)                                       7\n",
       "Transformers: Revenge of the Fallen (XBox 360, PS3, & PC Versions)    6\n",
       "The Amazing Spider-Man (Console Version)                              6\n",
       "Disney Infinity 2.0: Marvel Super Heroes                              6\n",
       "                                                                     ..\n",
       "Harukanaru Toki no Naka de 3: Unmei no Meikyuu Aizouban               1\n",
       "Shinseiki Evangelion: Koutetsu no Girlfriend 2nd Portable             1\n",
       "Kamigami no Asobi InFinite                                            1\n",
       "Shin Ken to Mah? to Gakuenmono. Toki no Gakuen                        1\n",
       "Shining Blade                                                         1\n",
       "Name: Name, Length: 5796, dtype: int64"
      ]
     },
     "execution_count": 12,
     "metadata": {},
     "output_type": "execute_result"
    }
   ],
   "source": [
    "#examinemos los casos de valores ausentes en la variable ´user_score  \n",
    "# por la columna 'name'\n",
    "video_juegos.loc[\n",
    "                video_juegos[\n",
    "                'User_Score'].isna() == True,\n",
    "                                'Name'].value_counts()"
   ]
  },
  {
   "cell_type": "code",
   "execution_count": 13,
   "metadata": {
    "scrolled": true
   },
   "outputs": [
    {
     "data": {
      "text/plain": [
       "The Amazing Spider-Man 2 (2014)    7\n",
       "FIFA 12                            7\n",
       "Rapala Pro Bass Fishing 2010       6\n",
       "FIFA Soccer 07                     6\n",
       "Avatar: The Game                   6\n",
       "                                  ..\n",
       "SkullMonkeys                       1\n",
       "MTV Music Generator                1\n",
       "July                               1\n",
       "Jampack Winter 2000                1\n",
       "Army Rescue                        1\n",
       "Name: Name, Length: 7122, dtype: int64"
      ]
     },
     "execution_count": 13,
     "metadata": {},
     "output_type": "execute_result"
    }
   ],
   "source": [
    "#examinemos los casos de valores ausentes en la variable ´critic_score´\n",
    "# por la columna 'name'\n",
    "video_juegos.loc[\n",
    "                video_juegos[\n",
    "                'Critic_Score'].isna() == True,\n",
    "                                'Name'].value_counts()"
   ]
  },
  {
   "cell_type": "code",
   "execution_count": 14,
   "metadata": {},
   "outputs": [
    {
     "data": {
      "text/plain": [
       "The Amazing Spider-Man 2 (2014)                                       7\n",
       "FIFA 12                                                               7\n",
       "The Walking Dead: Season One                                          6\n",
       "FIFA Soccer 07                                                        6\n",
       "Transformers: Revenge of the Fallen (XBox 360, PS3, & PC Versions)    6\n",
       "                                                                     ..\n",
       "Lips: Deutsche Partyknaller                                           1\n",
       "Harukanaru Toki no Naka de 3: Unmei no Meikyuu Aizouban               1\n",
       "Shinseiki Evangelion: Koutetsu no Girlfriend 2nd Portable             1\n",
       "Kamigami no Asobi InFinite                                            1\n",
       "Shining Blade                                                         1\n",
       "Name: Name, Length: 5852, dtype: int64"
      ]
     },
     "execution_count": 14,
     "metadata": {},
     "output_type": "execute_result"
    }
   ],
   "source": [
    "#examinemos los casos de valores ausentes en la variable ´rating´\n",
    "# por la columna 'name'\n",
    "video_juegos.loc[\n",
    "                video_juegos[\n",
    "                'Rating'].isna() == True,\n",
    "                                'Name'].value_counts()"
   ]
  },
  {
   "cell_type": "markdown",
   "metadata": {},
   "source": [
    "En los casos anteriores podemos intentar encontrar los valores ausentes usando los datos de registro con el mismo nombre con sus valores completos.\n",
    "\n",
    "Para la variable <em> Rating</em>, además observemos que utiliza valores de una categoría. "
   ]
  },
  {
   "cell_type": "code",
   "execution_count": 15,
   "metadata": {},
   "outputs": [
    {
     "data": {
      "text/plain": [
       "E       3990\n",
       "T       2961\n",
       "M       1563\n",
       "E10+    1420\n",
       "EC         8\n",
       "K-A        3\n",
       "RP         3\n",
       "AO         1\n",
       "Name: Rating, dtype: int64"
      ]
     },
     "execution_count": 15,
     "metadata": {},
     "output_type": "execute_result"
    }
   ],
   "source": [
    "#observemos que valores toma la variabla Rating\n",
    "video_juegos['Rating'].value_counts()"
   ]
  },
  {
   "cell_type": "markdown",
   "metadata": {},
   "source": [
    ".<a id=paso1-2></a>\n",
    "###  Manejar valores raros."
   ]
  },
  {
   "cell_type": "markdown",
   "metadata": {},
   "source": [
    "Tenemos en la variable <em> User_Score</em>, en valor especial con los registros marcados con el acrónimo TBD: significa \"to be determined\" (a determinar)."
   ]
  },
  {
   "cell_type": "code",
   "execution_count": 16,
   "metadata": {},
   "outputs": [
    {
     "data": {
      "text/html": [
       "<div>\n",
       "<style scoped>\n",
       "    .dataframe tbody tr th:only-of-type {\n",
       "        vertical-align: middle;\n",
       "    }\n",
       "\n",
       "    .dataframe tbody tr th {\n",
       "        vertical-align: top;\n",
       "    }\n",
       "\n",
       "    .dataframe thead th {\n",
       "        text-align: right;\n",
       "    }\n",
       "</style>\n",
       "<table border=\"1\" class=\"dataframe\">\n",
       "  <thead>\n",
       "    <tr style=\"text-align: right;\">\n",
       "      <th></th>\n",
       "      <th>Name</th>\n",
       "      <th>Platform</th>\n",
       "      <th>Year_of_Release</th>\n",
       "      <th>Genre</th>\n",
       "      <th>NA_sales</th>\n",
       "      <th>EU_sales</th>\n",
       "      <th>JP_sales</th>\n",
       "      <th>Other_sales</th>\n",
       "      <th>Critic_Score</th>\n",
       "      <th>User_Score</th>\n",
       "      <th>Rating</th>\n",
       "    </tr>\n",
       "  </thead>\n",
       "  <tbody>\n",
       "    <tr>\n",
       "      <th>119</th>\n",
       "      <td>Zumba Fitness</td>\n",
       "      <td>Wii</td>\n",
       "      <td>2010.0</td>\n",
       "      <td>Sports</td>\n",
       "      <td>3.45</td>\n",
       "      <td>2.59</td>\n",
       "      <td>0.0</td>\n",
       "      <td>0.66</td>\n",
       "      <td>NaN</td>\n",
       "      <td>tbd</td>\n",
       "      <td>E</td>\n",
       "    </tr>\n",
       "    <tr>\n",
       "      <th>301</th>\n",
       "      <td>Namco Museum: 50th Anniversary</td>\n",
       "      <td>PS2</td>\n",
       "      <td>2005.0</td>\n",
       "      <td>Misc</td>\n",
       "      <td>2.08</td>\n",
       "      <td>1.35</td>\n",
       "      <td>0.0</td>\n",
       "      <td>0.54</td>\n",
       "      <td>61.0</td>\n",
       "      <td>tbd</td>\n",
       "      <td>E10+</td>\n",
       "    </tr>\n",
       "    <tr>\n",
       "      <th>520</th>\n",
       "      <td>Zumba Fitness 2</td>\n",
       "      <td>Wii</td>\n",
       "      <td>2011.0</td>\n",
       "      <td>Sports</td>\n",
       "      <td>1.51</td>\n",
       "      <td>1.03</td>\n",
       "      <td>0.0</td>\n",
       "      <td>0.27</td>\n",
       "      <td>NaN</td>\n",
       "      <td>tbd</td>\n",
       "      <td>T</td>\n",
       "    </tr>\n",
       "    <tr>\n",
       "      <th>645</th>\n",
       "      <td>uDraw Studio</td>\n",
       "      <td>Wii</td>\n",
       "      <td>2010.0</td>\n",
       "      <td>Misc</td>\n",
       "      <td>1.65</td>\n",
       "      <td>0.57</td>\n",
       "      <td>0.0</td>\n",
       "      <td>0.20</td>\n",
       "      <td>71.0</td>\n",
       "      <td>tbd</td>\n",
       "      <td>E</td>\n",
       "    </tr>\n",
       "    <tr>\n",
       "      <th>657</th>\n",
       "      <td>Frogger's Adventures: Temple of the Frog</td>\n",
       "      <td>GBA</td>\n",
       "      <td>NaN</td>\n",
       "      <td>Adventure</td>\n",
       "      <td>2.15</td>\n",
       "      <td>0.18</td>\n",
       "      <td>0.0</td>\n",
       "      <td>0.07</td>\n",
       "      <td>73.0</td>\n",
       "      <td>tbd</td>\n",
       "      <td>E</td>\n",
       "    </tr>\n",
       "    <tr>\n",
       "      <th>...</th>\n",
       "      <td>...</td>\n",
       "      <td>...</td>\n",
       "      <td>...</td>\n",
       "      <td>...</td>\n",
       "      <td>...</td>\n",
       "      <td>...</td>\n",
       "      <td>...</td>\n",
       "      <td>...</td>\n",
       "      <td>...</td>\n",
       "      <td>...</td>\n",
       "      <td>...</td>\n",
       "    </tr>\n",
       "    <tr>\n",
       "      <th>16695</th>\n",
       "      <td>Planet Monsters</td>\n",
       "      <td>GBA</td>\n",
       "      <td>2001.0</td>\n",
       "      <td>Action</td>\n",
       "      <td>0.01</td>\n",
       "      <td>0.00</td>\n",
       "      <td>0.0</td>\n",
       "      <td>0.00</td>\n",
       "      <td>67.0</td>\n",
       "      <td>tbd</td>\n",
       "      <td>E</td>\n",
       "    </tr>\n",
       "    <tr>\n",
       "      <th>16697</th>\n",
       "      <td>Bust-A-Move 3000</td>\n",
       "      <td>GC</td>\n",
       "      <td>2003.0</td>\n",
       "      <td>Puzzle</td>\n",
       "      <td>0.01</td>\n",
       "      <td>0.00</td>\n",
       "      <td>0.0</td>\n",
       "      <td>0.00</td>\n",
       "      <td>53.0</td>\n",
       "      <td>tbd</td>\n",
       "      <td>E</td>\n",
       "    </tr>\n",
       "    <tr>\n",
       "      <th>16698</th>\n",
       "      <td>Mega Brain Boost</td>\n",
       "      <td>DS</td>\n",
       "      <td>2008.0</td>\n",
       "      <td>Puzzle</td>\n",
       "      <td>0.01</td>\n",
       "      <td>0.00</td>\n",
       "      <td>0.0</td>\n",
       "      <td>0.00</td>\n",
       "      <td>48.0</td>\n",
       "      <td>tbd</td>\n",
       "      <td>E</td>\n",
       "    </tr>\n",
       "    <tr>\n",
       "      <th>16704</th>\n",
       "      <td>Plushees</td>\n",
       "      <td>DS</td>\n",
       "      <td>2008.0</td>\n",
       "      <td>Simulation</td>\n",
       "      <td>0.01</td>\n",
       "      <td>0.00</td>\n",
       "      <td>0.0</td>\n",
       "      <td>0.00</td>\n",
       "      <td>NaN</td>\n",
       "      <td>tbd</td>\n",
       "      <td>E</td>\n",
       "    </tr>\n",
       "    <tr>\n",
       "      <th>16706</th>\n",
       "      <td>Men in Black II: Alien Escape</td>\n",
       "      <td>GC</td>\n",
       "      <td>2003.0</td>\n",
       "      <td>Shooter</td>\n",
       "      <td>0.01</td>\n",
       "      <td>0.00</td>\n",
       "      <td>0.0</td>\n",
       "      <td>0.00</td>\n",
       "      <td>NaN</td>\n",
       "      <td>tbd</td>\n",
       "      <td>T</td>\n",
       "    </tr>\n",
       "  </tbody>\n",
       "</table>\n",
       "<p>2424 rows × 11 columns</p>\n",
       "</div>"
      ],
      "text/plain": [
       "                                           Name Platform  Year_of_Release  \\\n",
       "119                               Zumba Fitness      Wii           2010.0   \n",
       "301              Namco Museum: 50th Anniversary      PS2           2005.0   \n",
       "520                             Zumba Fitness 2      Wii           2011.0   \n",
       "645                                uDraw Studio      Wii           2010.0   \n",
       "657    Frogger's Adventures: Temple of the Frog      GBA              NaN   \n",
       "...                                         ...      ...              ...   \n",
       "16695                           Planet Monsters      GBA           2001.0   \n",
       "16697                          Bust-A-Move 3000       GC           2003.0   \n",
       "16698                          Mega Brain Boost       DS           2008.0   \n",
       "16704                                  Plushees       DS           2008.0   \n",
       "16706             Men in Black II: Alien Escape       GC           2003.0   \n",
       "\n",
       "            Genre  NA_sales  EU_sales  JP_sales  Other_sales  Critic_Score  \\\n",
       "119        Sports      3.45      2.59       0.0         0.66           NaN   \n",
       "301          Misc      2.08      1.35       0.0         0.54          61.0   \n",
       "520        Sports      1.51      1.03       0.0         0.27           NaN   \n",
       "645          Misc      1.65      0.57       0.0         0.20          71.0   \n",
       "657     Adventure      2.15      0.18       0.0         0.07          73.0   \n",
       "...           ...       ...       ...       ...          ...           ...   \n",
       "16695      Action      0.01      0.00       0.0         0.00          67.0   \n",
       "16697      Puzzle      0.01      0.00       0.0         0.00          53.0   \n",
       "16698      Puzzle      0.01      0.00       0.0         0.00          48.0   \n",
       "16704  Simulation      0.01      0.00       0.0         0.00           NaN   \n",
       "16706     Shooter      0.01      0.00       0.0         0.00           NaN   \n",
       "\n",
       "      User_Score Rating  \n",
       "119          tbd      E  \n",
       "301          tbd   E10+  \n",
       "520          tbd      T  \n",
       "645          tbd      E  \n",
       "657          tbd      E  \n",
       "...          ...    ...  \n",
       "16695        tbd      E  \n",
       "16697        tbd      E  \n",
       "16698        tbd      E  \n",
       "16704        tbd      E  \n",
       "16706        tbd      T  \n",
       "\n",
       "[2424 rows x 11 columns]"
      ]
     },
     "execution_count": 16,
     "metadata": {},
     "output_type": "execute_result"
    }
   ],
   "source": [
    "#visulizar los registros en la variable user_code con valor\n",
    "#TBD\n",
    "video_juegos[video_juegos['User_Score'] == 'tbd']"
   ]
  },
  {
   "cell_type": "markdown",
   "metadata": {},
   "source": [
    "Vamos observar todos los valores que se pueden obtener en la columna, **User_Score**."
   ]
  },
  {
   "cell_type": "code",
   "execution_count": 17,
   "metadata": {},
   "outputs": [
    {
     "data": {
      "text/plain": [
       "tbd    2424\n",
       "7.8     324\n",
       "8       290\n",
       "8.2     282\n",
       "8.3     254\n",
       "       ... \n",
       "0.2       2\n",
       "2.3       2\n",
       "9.6       2\n",
       "9.7       1\n",
       "0         1\n",
       "Name: User_Score, Length: 96, dtype: int64"
      ]
     },
     "execution_count": 17,
     "metadata": {},
     "output_type": "execute_result"
    }
   ],
   "source": [
    "#listado de valores de la variable User_Score\n",
    "video_juegos['User_Score'].value_counts()"
   ]
  },
  {
   "cell_type": "markdown",
   "metadata": {},
   "source": [
    "En esta columna vamos a categorizarla, debido a que la magnitud de los datos registrados con TBD, es importante; con esto mantenemos reprensatividad de los datos como muestra de la población que se busca analizar."
   ]
  },
  {
   "cell_type": "markdown",
   "metadata": {},
   "source": [
    ".<a id=paso1-3></a>\n",
    "###  Buscar registros duplicados."
   ]
  },
  {
   "cell_type": "markdown",
   "metadata": {},
   "source": [
    "Vamos ha ver si existen duplicados en este DataFrame."
   ]
  },
  {
   "cell_type": "code",
   "execution_count": 18,
   "metadata": {
    "scrolled": true
   },
   "outputs": [
    {
     "data": {
      "text/plain": [
       "0"
      ]
     },
     "execution_count": 18,
     "metadata": {},
     "output_type": "execute_result"
    }
   ],
   "source": [
    "#Revista para verificar que el DataFrame no haya\n",
    "#registros duplicados\n",
    "video_juegos.duplicated().sum()"
   ]
  },
  {
   "cell_type": "markdown",
   "metadata": {},
   "source": [
    "Verifiquemos no pueda existir un registro con la misma plataforma, en el mismo año de lanzamiento."
   ]
  },
  {
   "cell_type": "code",
   "execution_count": 19,
   "metadata": {},
   "outputs": [
    {
     "data": {
      "text/plain": [
       "Name                              Platform  Year_of_Release\n",
       "Madden NFL 13                     PS3       2012.0             2\n",
       " Beyblade Burst                   3DS       2016.0             1\n",
       "Ratatouille                       PC        2007.0             1\n",
       "Rapala Tournament Fishing!        X360      2006.0             1\n",
       "Rapala Trophies                   PSP       2006.0             1\n",
       "                                                              ..\n",
       "Halo Wars                         X360      2009.0             1\n",
       "Halo: Combat Evolved              PC        2003.0             1\n",
       "                                  XB        2001.0             1\n",
       "Halo: Combat Evolved Anniversary  X360      2011.0             1\n",
       "¡Shin Chan Flipa en colores!      DS        2007.0             1\n",
       "Length: 16443, dtype: int64"
      ]
     },
     "execution_count": 19,
     "metadata": {},
     "output_type": "execute_result"
    }
   ],
   "source": [
    "#conforme al párrafo anterior escudriñamos en el DataFrame\n",
    "video_juegos[['Name', 'Platform', 'Year_of_Release']].value_counts()"
   ]
  },
  {
   "cell_type": "markdown",
   "metadata": {},
   "source": [
    ".<a id=paso2></a>\n",
    "##  Preparación de los datos."
   ]
  },
  {
   "cell_type": "markdown",
   "metadata": {},
   "source": [
    ".<a id=paso2-1></a>\n",
    "###  Adecuar nombre de columnas."
   ]
  },
  {
   "cell_type": "markdown",
   "metadata": {},
   "source": [
    "Reemplacemos los nombres de las columnas para que todos esten  en minúsculas.\n"
   ]
  },
  {
   "cell_type": "code",
   "execution_count": 20,
   "metadata": {},
   "outputs": [
    {
     "name": "stdout",
     "output_type": "stream",
     "text": [
      "<class 'pandas.core.frame.DataFrame'>\n",
      "Int64Index: 16713 entries, 0 to 16714\n",
      "Data columns (total 11 columns):\n",
      " #   Column           Non-Null Count  Dtype  \n",
      "---  ------           --------------  -----  \n",
      " 0   name             16713 non-null  object \n",
      " 1   platform         16713 non-null  object \n",
      " 2   year_of_release  16444 non-null  float64\n",
      " 3   genre            16713 non-null  object \n",
      " 4   na_sales         16713 non-null  float64\n",
      " 5   eu_sales         16713 non-null  float64\n",
      " 6   jp_sales         16713 non-null  float64\n",
      " 7   other_sales      16713 non-null  float64\n",
      " 8   critic_score     8137 non-null   float64\n",
      " 9   user_score       10014 non-null  object \n",
      " 10  rating           9949 non-null   object \n",
      "dtypes: float64(6), object(5)\n",
      "memory usage: 1.5+ MB\n"
     ]
    }
   ],
   "source": [
    "#analisis_usu3 = analisis_usu3.rename(columns = {\"id\":\"llamadas\"})\n",
    "video_juegos = video_juegos.rename(columns = {'Name':'name',\n",
    "                                              'Platform':'platform', \n",
    "                                              'Year_of_Release': 'year_of_release', \n",
    "                                              'Genre':'genre',  \n",
    "                                              'NA_sales':'na_sales', \n",
    "                                              'EU_sales':'eu_sales',\n",
    "                                              'JP_sales':'jp_sales',  \n",
    "                                              'Other_sales':'other_sales',\n",
    "                                              'Critic_Score':'critic_score',  \n",
    "                                              'User_Score':'user_score', \n",
    "                                              'Rating':'rating' })\n",
    "video_juegos.info()"
   ]
  },
  {
   "cell_type": "markdown",
   "metadata": {},
   "source": [
    ".<a id=paso2-2></a>\n",
    "###  Manejo de datos ausentes."
   ]
  },
  {
   "cell_type": "markdown",
   "metadata": {},
   "source": [
    "Trataremos el las opciones de eliminación de datos ó de imputación analizando el caso por columnas. Lo anterior se hace debido a las posibles modificaciones en la representatividad de los datos al usar la imputación; provocando sesgos por ejemplo. \n",
    "\n",
    "\n",
    "Ahora vamos a definir tabla dinámicas para usar posteriormente una función que se implenta para buscar imputar los datos ausentes identificados en la sección anterior."
   ]
  },
  {
   "cell_type": "markdown",
   "metadata": {},
   "source": [
    ".<a id=paso2-2-1></a>\n",
    "####  Datos de la variable year_of_release."
   ]
  },
  {
   "cell_type": "markdown",
   "metadata": {},
   "source": [
    "Hagamos un pequeño análisis, para definir si hacemos una imputación esta columna o quizas, eliminar los datos de nuestro estudio."
   ]
  },
  {
   "cell_type": "markdown",
   "metadata": {},
   "source": [
    "Para decidir que es mejor, definamos que tanto impacto tendrán la eliminación de datos, si el porcentaje es alto será un indicador muy determinante en no eliminar los registros que se encuentran ausentes en la columna <em>year_of_release</em>."
   ]
  },
  {
   "cell_type": "code",
   "execution_count": 21,
   "metadata": {
    "scrolled": true
   },
   "outputs": [
    {
     "data": {
      "text/plain": [
       "'PORCENTAJE DE VALORES AUSENTES EN year_of_release EN COMPARACIÓN CON EL CONJUNTO DE DATOS COMPLETO: 1.61%'"
      ]
     },
     "execution_count": 21,
     "metadata": {},
     "output_type": "execute_result"
    }
   ],
   "source": [
    "#para determinar el porcentaje de datos ausentes\n",
    "#en la columna year_of_release\n",
    "'PORCENTAJE DE VALORES AUSENTES EN year_of_release EN COMPARACIÓN CON '  + (\n",
    "'EL CONJUNTO DE DATOS COMPLETO:' + \"{: .2%}\".format(( \n",
    "    video_juegos['year_of_release'].isna().sum()/len(video_juegos) )))"
   ]
  },
  {
   "cell_type": "markdown",
   "metadata": {},
   "source": [
    "Observamos que los datos si se omiten no son de gran volumen en el porcentaje que conforman la totalidad en nuestro dataframe. Por lo anterior no se omitirán sin temor a que tengan gran impacto en la naturaleza de la muestra.\n"
   ]
  },
  {
   "cell_type": "code",
   "execution_count": 22,
   "metadata": {},
   "outputs": [],
   "source": [
    "#eliminamos los datos nulos en la columna year_of_release\n",
    "video_juegos.dropna(subset=['year_of_release'], inplace = True)"
   ]
  },
  {
   "cell_type": "code",
   "execution_count": 23,
   "metadata": {},
   "outputs": [
    {
     "name": "stdout",
     "output_type": "stream",
     "text": [
      "DATOS CON REGISTROS AUSENTES EN LA COLUMNA year_of _release\n"
     ]
    },
    {
     "data": {
      "text/plain": [
       "0"
      ]
     },
     "execution_count": 23,
     "metadata": {},
     "output_type": "execute_result"
    }
   ],
   "source": [
    "#verificamos que no existan datos vacios \n",
    "print('DATOS CON REGISTROS AUSENTES EN LA COLUMNA year_of _release')\n",
    "video_juegos.loc[\n",
    "                video_juegos[\n",
    "                'year_of_release'].isna() == True, 'year_of_release'].count()"
   ]
  },
  {
   "cell_type": "markdown",
   "metadata": {},
   "source": [
    ".<a id=paso2-2-2></a>\n",
    "####  Datos de la variable critic_score."
   ]
  },
  {
   "cell_type": "markdown",
   "metadata": {},
   "source": [
    "Primero analicemos los registros ausente en la columna <em> critic_score </em>. En el contexto de cuantos registros tenemos en esta condición."
   ]
  },
  {
   "cell_type": "code",
   "execution_count": 24,
   "metadata": {},
   "outputs": [
    {
     "data": {
      "text/plain": [
       "'PORCENTAJE DE VALORES AUSENTES EN critic_score EN COMPARACIÓN CON EL CONJUNTO DE DATOS COMPLETO: 51.45%'"
      ]
     },
     "execution_count": 24,
     "metadata": {},
     "output_type": "execute_result"
    }
   ],
   "source": [
    "#para determinar el porcentaje de datos ausentes\n",
    "#en la columna critic_score\n",
    "'PORCENTAJE DE VALORES AUSENTES EN critic_score EN COMPARACIÓN CON '  + (\n",
    "'EL CONJUNTO DE DATOS COMPLETO:' + \"{: .2%}\".format(( \n",
    "    video_juegos['critic_score'].isna().sum()/len(video_juegos) )))"
   ]
  },
  {
   "cell_type": "markdown",
   "metadata": {},
   "source": [
    "Es un porcentaje considerable. No es opción eliminar los datos para este caso la población que se analiza será afectada por tan importante eliminación del estudio. Si se opta por la imputación en los datos relacionados a critic_score puede traer problemas en las pruebas estadísticas que deseamos aplicar sobre ese dato. \n",
    "\n",
    "Se les mantendrá con el valor nan al considerarlo un dato importante, teniendolo en consideración cuando se haga analisis sobre esta variable."
   ]
  },
  {
   "cell_type": "markdown",
   "metadata": {},
   "source": [
    ".<a id=paso2-2-3></a>\n",
    "####  Datos de la variable user_score."
   ]
  },
  {
   "cell_type": "markdown",
   "metadata": {},
   "source": [
    "Primero analicemos los registros ausentes en la columna <em> user_score </em>. En el contexto de cuantos registros tenemos en esta condición."
   ]
  },
  {
   "cell_type": "code",
   "execution_count": 25,
   "metadata": {},
   "outputs": [
    {
     "data": {
      "text/plain": [
       "'PORCENTAJE DE VALORES AUSENTES EN critic_score EN COMPARACIÓN CON EL CONJUNTO DE DATOS COMPLETO: 40.17%'"
      ]
     },
     "execution_count": 25,
     "metadata": {},
     "output_type": "execute_result"
    }
   ],
   "source": [
    "#para determinar el porcentaje de datos ausentes\n",
    "#en la columna user_score\n",
    "'PORCENTAJE DE VALORES AUSENTES EN critic_score EN COMPARACIÓN CON '  + (\n",
    "'EL CONJUNTO DE DATOS COMPLETO:' + \"{: .2%}\".format(( \n",
    "    video_juegos['user_score'].isna().sum()/len(video_juegos) )))"
   ]
  },
  {
   "cell_type": "markdown",
   "metadata": {},
   "source": [
    "Es un porcentaje considerable. No es opción eliminar los datos para este caso; la población que se analiza será afectada por tan importante eliminación del estudio. Si se opta por la imputación en los datos relacionados a <em> user_score </em> puede traer problemas en las pruebas estadísticas que deseamos aplicar sobre ese dato. \n",
    "\n",
    "Se les mantendrá con el valor nan al considerarlo un dato importante, teniendolo en consideración cuando se haga analisis sobre esta variable."
   ]
  },
  {
   "cell_type": "markdown",
   "metadata": {},
   "source": [
    "Como tenemos una variable categórica, para este caso, vamos a realizar una columna para caracterizarla."
   ]
  },
  {
   "cell_type": "markdown",
   "metadata": {},
   "source": [
    "Vamos ahora a categorizar esta variable mediante una columna a la que llamaremos <em>cat_userScore</em>.\n",
    "\n",
    "Como los valores que indican:\n",
    "- TBD; significa \"to be determined\" (a determinar) se les calificara como 0, puesto que no sean designado ninguna calificación para determinar la opinión de los usuarios.\n",
    "- Los que tengan calificación menor 6 como reprobados asignado valores negativos.\n",
    "- Los que tengan calificación mayor a 6 serán tomados como aprobados,\n",
    "- Los que tienen calificaciones de cero se les asignara la categoria de -0.1, del lado de los reprobados."
   ]
  },
  {
   "cell_type": "code",
   "execution_count": 26,
   "metadata": {},
   "outputs": [
    {
     "data": {
      "text/plain": [
       "count    16444.000000\n",
       "mean         2.067119\n",
       "std          4.494265\n",
       "min         -5.900000\n",
       "25%         -1.000000\n",
       "50%          0.000000\n",
       "75%          7.300000\n",
       "max          9.700000\n",
       "Name: cat_user_Score, dtype: float64"
      ]
     },
     "execution_count": 26,
     "metadata": {},
     "output_type": "execute_result"
    }
   ],
   "source": [
    "#vamos a categorizar la columna de 'price'\n",
    "#definimos la función para implantar las categorias de la columna 'price'\n",
    "\n",
    "def jerarquia_cat_user_Score(dato): \n",
    "    if str(dato) == 'nan':\n",
    "        return -1 \n",
    "    if str(dato) == 'tbd':\n",
    "        return 0\n",
    "    if float(dato) == 0:\n",
    "        return -0.1    \n",
    "    if float(dato) < 6:\n",
    "        return -float(dato)\n",
    "    else:\n",
    "        return float(dato)\n",
    "    \n",
    "#asignamos categorias al cat_userScore                                                                               \n",
    "video_juegos['cat_user_Score'] = video_juegos['user_score'].agg(jerarquia_cat_user_Score)\n",
    "video_juegos['cat_user_Score'].describe()                                                                       "
   ]
  },
  {
   "cell_type": "markdown",
   "metadata": {},
   "source": [
    ".<a id=paso2-2-4></a>\n",
    "####  Datos de la variable rating."
   ]
  },
  {
   "cell_type": "markdown",
   "metadata": {},
   "source": [
    "Pasemos finalmente a imputar los datos de la variable <em> rating</em>; para esto es necesario hacerlo de manera análoga al inciso anterior ya que esta variable también es categórica."
   ]
  },
  {
   "cell_type": "code",
   "execution_count": 27,
   "metadata": {},
   "outputs": [
    {
     "data": {
      "text/html": [
       "<div>\n",
       "<style scoped>\n",
       "    .dataframe tbody tr th:only-of-type {\n",
       "        vertical-align: middle;\n",
       "    }\n",
       "\n",
       "    .dataframe tbody tr th {\n",
       "        vertical-align: top;\n",
       "    }\n",
       "\n",
       "    .dataframe thead th {\n",
       "        text-align: right;\n",
       "    }\n",
       "</style>\n",
       "<table border=\"1\" class=\"dataframe\">\n",
       "  <thead>\n",
       "    <tr style=\"text-align: right;\">\n",
       "      <th></th>\n",
       "      <th>rating</th>\n",
       "    </tr>\n",
       "    <tr>\n",
       "      <th>name</th>\n",
       "      <th></th>\n",
       "    </tr>\n",
       "  </thead>\n",
       "  <tbody>\n",
       "    <tr>\n",
       "      <th>Tales of Xillia 2</th>\n",
       "      <td>T</td>\n",
       "    </tr>\n",
       "    <tr>\n",
       "      <th>.hack//Infection Part 1</th>\n",
       "      <td>T</td>\n",
       "    </tr>\n",
       "    <tr>\n",
       "      <th>.hack//Mutation Part 2</th>\n",
       "      <td>T</td>\n",
       "    </tr>\n",
       "    <tr>\n",
       "      <th>.hack//Outbreak Part 3</th>\n",
       "      <td>T</td>\n",
       "    </tr>\n",
       "    <tr>\n",
       "      <th>007 Racing</th>\n",
       "      <td>T</td>\n",
       "    </tr>\n",
       "    <tr>\n",
       "      <th>...</th>\n",
       "      <td>...</td>\n",
       "    </tr>\n",
       "    <tr>\n",
       "      <th>thinkSMART</th>\n",
       "      <td>E</td>\n",
       "    </tr>\n",
       "    <tr>\n",
       "      <th>thinkSMART FAMILY!</th>\n",
       "      <td>E</td>\n",
       "    </tr>\n",
       "    <tr>\n",
       "      <th>thinkSMART: Chess for Kids</th>\n",
       "      <td>E</td>\n",
       "    </tr>\n",
       "    <tr>\n",
       "      <th>uDraw Studio</th>\n",
       "      <td>E</td>\n",
       "    </tr>\n",
       "    <tr>\n",
       "      <th>uDraw Studio: Instant Artist</th>\n",
       "      <td>E</td>\n",
       "    </tr>\n",
       "  </tbody>\n",
       "</table>\n",
       "<p>5996 rows × 1 columns</p>\n",
       "</div>"
      ],
      "text/plain": [
       "                             rating\n",
       "name                               \n",
       " Tales of Xillia 2                T\n",
       ".hack//Infection Part 1           T\n",
       ".hack//Mutation Part 2            T\n",
       ".hack//Outbreak Part 3            T\n",
       "007 Racing                        T\n",
       "...                             ...\n",
       "thinkSMART                        E\n",
       "thinkSMART FAMILY!                E\n",
       "thinkSMART: Chess for Kids        E\n",
       "uDraw Studio                      E\n",
       "uDraw Studio: Instant Artist      E\n",
       "\n",
       "[5996 rows x 1 columns]"
      ]
     },
     "execution_count": 27,
     "metadata": {},
     "output_type": "execute_result"
    }
   ],
   "source": [
    "#pasemos a definir las tabla dinámicas que nos ayudarán\n",
    "# deben ser usando la agrupación de datos completos de la misma \n",
    "# por medio de las variables names y platform.\n",
    "\n",
    "filtro_rating = video_juegos.loc[\n",
    "    video_juegos['rating'].isna() == False]\n",
    "\n",
    "datos_rating = filtro_rating.pivot_table(\n",
    "    index = 'name',\n",
    "    values = 'rating',\n",
    "    aggfunc = pd.Series.mode)\n",
    "\n",
    "\n",
    "datos_rating"
   ]
  },
  {
   "cell_type": "code",
   "execution_count": 28,
   "metadata": {},
   "outputs": [
    {
     "data": {
      "text/html": [
       "<div>\n",
       "<style scoped>\n",
       "    .dataframe tbody tr th:only-of-type {\n",
       "        vertical-align: middle;\n",
       "    }\n",
       "\n",
       "    .dataframe tbody tr th {\n",
       "        vertical-align: top;\n",
       "    }\n",
       "\n",
       "    .dataframe thead th {\n",
       "        text-align: right;\n",
       "    }\n",
       "</style>\n",
       "<table border=\"1\" class=\"dataframe\">\n",
       "  <thead>\n",
       "    <tr style=\"text-align: right;\">\n",
       "      <th></th>\n",
       "      <th>rating</th>\n",
       "    </tr>\n",
       "    <tr>\n",
       "      <th>platform</th>\n",
       "      <th></th>\n",
       "    </tr>\n",
       "  </thead>\n",
       "  <tbody>\n",
       "    <tr>\n",
       "      <th>3DS</th>\n",
       "      <td>E</td>\n",
       "    </tr>\n",
       "    <tr>\n",
       "      <th>DC</th>\n",
       "      <td>T</td>\n",
       "    </tr>\n",
       "    <tr>\n",
       "      <th>DS</th>\n",
       "      <td>E</td>\n",
       "    </tr>\n",
       "    <tr>\n",
       "      <th>GBA</th>\n",
       "      <td>E</td>\n",
       "    </tr>\n",
       "    <tr>\n",
       "      <th>GC</th>\n",
       "      <td>E</td>\n",
       "    </tr>\n",
       "    <tr>\n",
       "      <th>PC</th>\n",
       "      <td>T</td>\n",
       "    </tr>\n",
       "    <tr>\n",
       "      <th>PS</th>\n",
       "      <td>E</td>\n",
       "    </tr>\n",
       "    <tr>\n",
       "      <th>PS2</th>\n",
       "      <td>T</td>\n",
       "    </tr>\n",
       "    <tr>\n",
       "      <th>PS3</th>\n",
       "      <td>T</td>\n",
       "    </tr>\n",
       "    <tr>\n",
       "      <th>PS4</th>\n",
       "      <td>T</td>\n",
       "    </tr>\n",
       "    <tr>\n",
       "      <th>PSP</th>\n",
       "      <td>T</td>\n",
       "    </tr>\n",
       "    <tr>\n",
       "      <th>PSV</th>\n",
       "      <td>T</td>\n",
       "    </tr>\n",
       "    <tr>\n",
       "      <th>Wii</th>\n",
       "      <td>E</td>\n",
       "    </tr>\n",
       "    <tr>\n",
       "      <th>WiiU</th>\n",
       "      <td>E10+</td>\n",
       "    </tr>\n",
       "    <tr>\n",
       "      <th>X360</th>\n",
       "      <td>T</td>\n",
       "    </tr>\n",
       "    <tr>\n",
       "      <th>XB</th>\n",
       "      <td>T</td>\n",
       "    </tr>\n",
       "    <tr>\n",
       "      <th>XOne</th>\n",
       "      <td>M</td>\n",
       "    </tr>\n",
       "  </tbody>\n",
       "</table>\n",
       "</div>"
      ],
      "text/plain": [
       "         rating\n",
       "platform       \n",
       "3DS           E\n",
       "DC            T\n",
       "DS            E\n",
       "GBA           E\n",
       "GC            E\n",
       "PC            T\n",
       "PS            E\n",
       "PS2           T\n",
       "PS3           T\n",
       "PS4           T\n",
       "PSP           T\n",
       "PSV           T\n",
       "Wii           E\n",
       "WiiU       E10+\n",
       "X360          T\n",
       "XB            T\n",
       "XOne          M"
      ]
     },
     "execution_count": 28,
     "metadata": {},
     "output_type": "execute_result"
    }
   ],
   "source": [
    "#esta tabla dinámica es usada si no se encuentra los datos \n",
    "#de búsqueda en la tabla dinámica que usa la variable name \n",
    "#como index, creada anteriormente\n",
    "datos_rating2 = filtro_rating.pivot_table(\n",
    "    index = 'platform',\n",
    "    values = 'rating',\n",
    "    aggfunc = pd.Series.mode)\n",
    "\n",
    "\n",
    "datos_rating2"
   ]
  },
  {
   "cell_type": "code",
   "execution_count": 29,
   "metadata": {},
   "outputs": [
    {
     "data": {
      "text/html": [
       "<div>\n",
       "<style scoped>\n",
       "    .dataframe tbody tr th:only-of-type {\n",
       "        vertical-align: middle;\n",
       "    }\n",
       "\n",
       "    .dataframe tbody tr th {\n",
       "        vertical-align: top;\n",
       "    }\n",
       "\n",
       "    .dataframe thead th {\n",
       "        text-align: right;\n",
       "    }\n",
       "</style>\n",
       "<table border=\"1\" class=\"dataframe\">\n",
       "  <thead>\n",
       "    <tr style=\"text-align: right;\">\n",
       "      <th></th>\n",
       "      <th>rating</th>\n",
       "    </tr>\n",
       "    <tr>\n",
       "      <th>genre</th>\n",
       "      <th></th>\n",
       "    </tr>\n",
       "  </thead>\n",
       "  <tbody>\n",
       "    <tr>\n",
       "      <th>Action</th>\n",
       "      <td>T</td>\n",
       "    </tr>\n",
       "    <tr>\n",
       "      <th>Adventure</th>\n",
       "      <td>E</td>\n",
       "    </tr>\n",
       "    <tr>\n",
       "      <th>Fighting</th>\n",
       "      <td>T</td>\n",
       "    </tr>\n",
       "    <tr>\n",
       "      <th>Misc</th>\n",
       "      <td>E</td>\n",
       "    </tr>\n",
       "    <tr>\n",
       "      <th>Platform</th>\n",
       "      <td>E</td>\n",
       "    </tr>\n",
       "    <tr>\n",
       "      <th>Puzzle</th>\n",
       "      <td>E</td>\n",
       "    </tr>\n",
       "    <tr>\n",
       "      <th>Racing</th>\n",
       "      <td>E</td>\n",
       "    </tr>\n",
       "    <tr>\n",
       "      <th>Role-Playing</th>\n",
       "      <td>T</td>\n",
       "    </tr>\n",
       "    <tr>\n",
       "      <th>Shooter</th>\n",
       "      <td>M</td>\n",
       "    </tr>\n",
       "    <tr>\n",
       "      <th>Simulation</th>\n",
       "      <td>E</td>\n",
       "    </tr>\n",
       "    <tr>\n",
       "      <th>Sports</th>\n",
       "      <td>E</td>\n",
       "    </tr>\n",
       "    <tr>\n",
       "      <th>Strategy</th>\n",
       "      <td>T</td>\n",
       "    </tr>\n",
       "  </tbody>\n",
       "</table>\n",
       "</div>"
      ],
      "text/plain": [
       "             rating\n",
       "genre              \n",
       "Action            T\n",
       "Adventure         E\n",
       "Fighting          T\n",
       "Misc              E\n",
       "Platform          E\n",
       "Puzzle            E\n",
       "Racing            E\n",
       "Role-Playing      T\n",
       "Shooter           M\n",
       "Simulation        E\n",
       "Sports            E\n",
       "Strategy          T"
      ]
     },
     "execution_count": 29,
     "metadata": {},
     "output_type": "execute_result"
    }
   ],
   "source": [
    "#esta tabla dinámica es usada si no se encuentra los datos \n",
    "#de búsqueda en la tabla dinámica que usa la variable name \n",
    "#como index, creada anteriormente\n",
    "datos_rating3 = filtro_rating.pivot_table(\n",
    "    index = 'genre',\n",
    "    values = 'rating',\n",
    "    aggfunc = pd.Series.mode)\n",
    "datos_rating3"
   ]
  },
  {
   "cell_type": "code",
   "execution_count": 30,
   "metadata": {},
   "outputs": [],
   "source": [
    "#definiendo la función para la imputación de 'rating'\n",
    "def imputa_rating(datos):\n",
    "    if pd.isna(datos['rating']):\n",
    "        try:\n",
    "            if len(datos_rating ['rating'][datos['name']]) > 1:\n",
    "                return str(datos_rating ['rating'][datos['name']])\n",
    "            return datos_rating ['rating'][datos['name']]\n",
    "        except:\n",
    "            try:\n",
    "                return datos_rating2 ['rating'][datos['platform']]\n",
    "            except:\n",
    "                return datos_rating3 ['rating'][datos['genre']]\n",
    "    return datos['rating']\n",
    "    "
   ]
  },
  {
   "cell_type": "code",
   "execution_count": 31,
   "metadata": {},
   "outputs": [],
   "source": [
    "#realizamos la imputación de datos \n",
    "video_juegos['rating'] = video_juegos.apply(\n",
    "                                    imputa_rating, axis = 1)"
   ]
  },
  {
   "cell_type": "code",
   "execution_count": 32,
   "metadata": {
    "scrolled": true
   },
   "outputs": [
    {
     "name": "stdout",
     "output_type": "stream",
     "text": [
      "DATOS CON REGISTROS AUSENTES EN LA COLUMNA rating\n"
     ]
    },
    {
     "data": {
      "text/plain": [
       "0"
      ]
     },
     "execution_count": 32,
     "metadata": {},
     "output_type": "execute_result"
    }
   ],
   "source": [
    "# verificamos que no haya mas valores ausentes \n",
    "#en la columna 'rating'\n",
    "print('DATOS CON REGISTROS AUSENTES EN LA COLUMNA rating')\n",
    "\n",
    "video_juegos['rating'].isnull().sum() "
   ]
  },
  {
   "cell_type": "markdown",
   "metadata": {},
   "source": [
    ".<a id=paso2-3></a>\n",
    "### Conviertir los datos en los tipos necesarios"
   ]
  },
  {
   "cell_type": "markdown",
   "metadata": {},
   "source": [
    "Convirtamos a los datos en los tipos necesarios. Para poder realizar manipulaciones de datos en el análisis sin problemas."
   ]
  },
  {
   "cell_type": "code",
   "execution_count": 33,
   "metadata": {},
   "outputs": [
    {
     "data": {
      "text/plain": [
       "name                object\n",
       "platform            object\n",
       "year_of_release    float64\n",
       "genre               object\n",
       "na_sales           float64\n",
       "eu_sales           float64\n",
       "jp_sales           float64\n",
       "other_sales        float64\n",
       "critic_score       float64\n",
       "user_score          object\n",
       "rating              object\n",
       "cat_user_Score     float64\n",
       "dtype: object"
      ]
     },
     "execution_count": 33,
     "metadata": {},
     "output_type": "execute_result"
    }
   ],
   "source": [
    "#verifiquemos nuevamente los tipos de datos del Dataframe\n",
    "video_juegos.dtypes"
   ]
  },
  {
   "cell_type": "code",
   "execution_count": 34,
   "metadata": {
    "scrolled": true
   },
   "outputs": [
    {
     "data": {
      "text/plain": [
       "name                 object\n",
       "platform             object\n",
       "year_of_release       int64\n",
       "genre              category\n",
       "na_sales            float64\n",
       "eu_sales            float64\n",
       "jp_sales            float64\n",
       "other_sales         float64\n",
       "critic_score        float64\n",
       "user_score           object\n",
       "rating             category\n",
       "cat_user_Score      float64\n",
       "dtype: object"
      ]
     },
     "execution_count": 34,
     "metadata": {},
     "output_type": "execute_result"
    }
   ],
   "source": [
    "#Convirtamos a tipo de datos cadena de caracteres\n",
    "video_juegos = video_juegos.astype({\"name\": 'str', \"platform\": 'str', \n",
    "                                    \"genre\": 'category', \"rating\": 'category'})\n",
    "\n",
    "#Convirtamos a tipo de datos entero las variables correspondientes\n",
    "video_juegos = video_juegos.astype({\"year_of_release\": 'int64'})\n",
    "                                   # , \n",
    "                                   # \"critic_score\": 'int64'})\n",
    "video_juegos.dtypes"
   ]
  },
  {
   "cell_type": "markdown",
   "metadata": {},
   "source": [
    ".<a id=paso2-4></a>\n",
    "### Calcular las ventas totales para cada juego."
   ]
  },
  {
   "cell_type": "markdown",
   "metadata": {},
   "source": [
    " El cálculo de ventas totales es indicador importante que nos puede indicar el éxito en ventas del video juego. Colocaremos esta información en una columna separada."
   ]
  },
  {
   "cell_type": "code",
   "execution_count": 35,
   "metadata": {},
   "outputs": [
    {
     "data": {
      "text/plain": [
       "count    16444.000000\n",
       "mean         0.536023\n",
       "std          1.558786\n",
       "min          0.000000\n",
       "25%          0.060000\n",
       "50%          0.170000\n",
       "75%          0.470000\n",
       "max         82.540000\n",
       "Name: ventas_totales, dtype: float64"
      ]
     },
     "execution_count": 35,
     "metadata": {},
     "output_type": "execute_result"
    }
   ],
   "source": [
    "#esta es la columna designada\n",
    "video_juegos['ventas_totales'] = (video_juegos['na_sales'] + \n",
    "                                  video_juegos['eu_sales'] + \n",
    "                                  video_juegos['jp_sales'] + \n",
    "                                  video_juegos['other_sales'])\n",
    "video_juegos['ventas_totales'].describe()"
   ]
  },
  {
   "cell_type": "markdown",
   "metadata": {},
   "source": [
    ".<a id=paso2-5></a>\n",
    "### Gestión de datos duplicados"
   ]
  },
  {
   "cell_type": "markdown",
   "metadata": {},
   "source": [
    "Los duplicados en los datos de cadena exigen una atención especial. Desde el punto de vista de Python, una `'A'` mayúscula y una `'a'` minúscula son símbolos diferentes.\n",
    "\n",
    "Para detectar entradas duplicadas como esas, podemos cambiar todos los caracteres de la cadena a todos a minúsculas ó bien a mayúsculas, cuando se requiere."
   ]
  },
  {
   "cell_type": "code",
   "execution_count": 36,
   "metadata": {},
   "outputs": [
    {
     "data": {
      "text/html": [
       "<div>\n",
       "<style scoped>\n",
       "    .dataframe tbody tr th:only-of-type {\n",
       "        vertical-align: middle;\n",
       "    }\n",
       "\n",
       "    .dataframe tbody tr th {\n",
       "        vertical-align: top;\n",
       "    }\n",
       "\n",
       "    .dataframe thead th {\n",
       "        text-align: right;\n",
       "    }\n",
       "</style>\n",
       "<table border=\"1\" class=\"dataframe\">\n",
       "  <thead>\n",
       "    <tr style=\"text-align: right;\">\n",
       "      <th></th>\n",
       "      <th>name</th>\n",
       "      <th>platform</th>\n",
       "      <th>year_of_release</th>\n",
       "      <th>genre</th>\n",
       "      <th>na_sales</th>\n",
       "      <th>eu_sales</th>\n",
       "      <th>jp_sales</th>\n",
       "      <th>other_sales</th>\n",
       "      <th>critic_score</th>\n",
       "      <th>user_score</th>\n",
       "      <th>rating</th>\n",
       "      <th>cat_user_Score</th>\n",
       "      <th>ventas_totales</th>\n",
       "    </tr>\n",
       "  </thead>\n",
       "  <tbody>\n",
       "    <tr>\n",
       "      <th>0</th>\n",
       "      <td>wii sports</td>\n",
       "      <td>wii</td>\n",
       "      <td>2006</td>\n",
       "      <td>sports</td>\n",
       "      <td>41.36</td>\n",
       "      <td>28.96</td>\n",
       "      <td>3.77</td>\n",
       "      <td>8.45</td>\n",
       "      <td>76.0</td>\n",
       "      <td>8</td>\n",
       "      <td>E</td>\n",
       "      <td>8.0</td>\n",
       "      <td>82.54</td>\n",
       "    </tr>\n",
       "    <tr>\n",
       "      <th>1</th>\n",
       "      <td>super mario bros.</td>\n",
       "      <td>nes</td>\n",
       "      <td>1985</td>\n",
       "      <td>platform</td>\n",
       "      <td>29.08</td>\n",
       "      <td>3.58</td>\n",
       "      <td>6.81</td>\n",
       "      <td>0.77</td>\n",
       "      <td>NaN</td>\n",
       "      <td>NaN</td>\n",
       "      <td>E</td>\n",
       "      <td>-1.0</td>\n",
       "      <td>40.24</td>\n",
       "    </tr>\n",
       "    <tr>\n",
       "      <th>2</th>\n",
       "      <td>mario kart wii</td>\n",
       "      <td>wii</td>\n",
       "      <td>2008</td>\n",
       "      <td>racing</td>\n",
       "      <td>15.68</td>\n",
       "      <td>12.76</td>\n",
       "      <td>3.79</td>\n",
       "      <td>3.29</td>\n",
       "      <td>82.0</td>\n",
       "      <td>8.3</td>\n",
       "      <td>E</td>\n",
       "      <td>8.3</td>\n",
       "      <td>35.52</td>\n",
       "    </tr>\n",
       "    <tr>\n",
       "      <th>3</th>\n",
       "      <td>wii sports resort</td>\n",
       "      <td>wii</td>\n",
       "      <td>2009</td>\n",
       "      <td>sports</td>\n",
       "      <td>15.61</td>\n",
       "      <td>10.93</td>\n",
       "      <td>3.28</td>\n",
       "      <td>2.95</td>\n",
       "      <td>80.0</td>\n",
       "      <td>8</td>\n",
       "      <td>E</td>\n",
       "      <td>8.0</td>\n",
       "      <td>32.77</td>\n",
       "    </tr>\n",
       "    <tr>\n",
       "      <th>4</th>\n",
       "      <td>pokemon red/pokemon blue</td>\n",
       "      <td>gb</td>\n",
       "      <td>1996</td>\n",
       "      <td>role-playing</td>\n",
       "      <td>11.27</td>\n",
       "      <td>8.89</td>\n",
       "      <td>10.22</td>\n",
       "      <td>1.00</td>\n",
       "      <td>NaN</td>\n",
       "      <td>NaN</td>\n",
       "      <td>T</td>\n",
       "      <td>-1.0</td>\n",
       "      <td>31.38</td>\n",
       "    </tr>\n",
       "    <tr>\n",
       "      <th>...</th>\n",
       "      <td>...</td>\n",
       "      <td>...</td>\n",
       "      <td>...</td>\n",
       "      <td>...</td>\n",
       "      <td>...</td>\n",
       "      <td>...</td>\n",
       "      <td>...</td>\n",
       "      <td>...</td>\n",
       "      <td>...</td>\n",
       "      <td>...</td>\n",
       "      <td>...</td>\n",
       "      <td>...</td>\n",
       "      <td>...</td>\n",
       "    </tr>\n",
       "    <tr>\n",
       "      <th>16710</th>\n",
       "      <td>samurai warriors: sanada maru</td>\n",
       "      <td>ps3</td>\n",
       "      <td>2016</td>\n",
       "      <td>action</td>\n",
       "      <td>0.00</td>\n",
       "      <td>0.00</td>\n",
       "      <td>0.01</td>\n",
       "      <td>0.00</td>\n",
       "      <td>NaN</td>\n",
       "      <td>NaN</td>\n",
       "      <td>T</td>\n",
       "      <td>-1.0</td>\n",
       "      <td>0.01</td>\n",
       "    </tr>\n",
       "    <tr>\n",
       "      <th>16711</th>\n",
       "      <td>lma manager 2007</td>\n",
       "      <td>x360</td>\n",
       "      <td>2006</td>\n",
       "      <td>sports</td>\n",
       "      <td>0.00</td>\n",
       "      <td>0.01</td>\n",
       "      <td>0.00</td>\n",
       "      <td>0.00</td>\n",
       "      <td>NaN</td>\n",
       "      <td>NaN</td>\n",
       "      <td>T</td>\n",
       "      <td>-1.0</td>\n",
       "      <td>0.01</td>\n",
       "    </tr>\n",
       "    <tr>\n",
       "      <th>16712</th>\n",
       "      <td>haitaka no psychedelica</td>\n",
       "      <td>psv</td>\n",
       "      <td>2016</td>\n",
       "      <td>adventure</td>\n",
       "      <td>0.00</td>\n",
       "      <td>0.00</td>\n",
       "      <td>0.01</td>\n",
       "      <td>0.00</td>\n",
       "      <td>NaN</td>\n",
       "      <td>NaN</td>\n",
       "      <td>T</td>\n",
       "      <td>-1.0</td>\n",
       "      <td>0.01</td>\n",
       "    </tr>\n",
       "    <tr>\n",
       "      <th>16713</th>\n",
       "      <td>spirits &amp; spells</td>\n",
       "      <td>gba</td>\n",
       "      <td>2003</td>\n",
       "      <td>platform</td>\n",
       "      <td>0.01</td>\n",
       "      <td>0.00</td>\n",
       "      <td>0.00</td>\n",
       "      <td>0.00</td>\n",
       "      <td>NaN</td>\n",
       "      <td>NaN</td>\n",
       "      <td>E</td>\n",
       "      <td>-1.0</td>\n",
       "      <td>0.01</td>\n",
       "    </tr>\n",
       "    <tr>\n",
       "      <th>16714</th>\n",
       "      <td>winning post 8 2016</td>\n",
       "      <td>psv</td>\n",
       "      <td>2016</td>\n",
       "      <td>simulation</td>\n",
       "      <td>0.00</td>\n",
       "      <td>0.00</td>\n",
       "      <td>0.01</td>\n",
       "      <td>0.00</td>\n",
       "      <td>NaN</td>\n",
       "      <td>NaN</td>\n",
       "      <td>T</td>\n",
       "      <td>-1.0</td>\n",
       "      <td>0.01</td>\n",
       "    </tr>\n",
       "  </tbody>\n",
       "</table>\n",
       "<p>16444 rows × 13 columns</p>\n",
       "</div>"
      ],
      "text/plain": [
       "                                name platform  year_of_release         genre  \\\n",
       "0                         wii sports      wii             2006        sports   \n",
       "1                  super mario bros.      nes             1985      platform   \n",
       "2                     mario kart wii      wii             2008        racing   \n",
       "3                  wii sports resort      wii             2009        sports   \n",
       "4           pokemon red/pokemon blue       gb             1996  role-playing   \n",
       "...                              ...      ...              ...           ...   \n",
       "16710  samurai warriors: sanada maru      ps3             2016        action   \n",
       "16711               lma manager 2007     x360             2006        sports   \n",
       "16712        haitaka no psychedelica      psv             2016     adventure   \n",
       "16713               spirits & spells      gba             2003      platform   \n",
       "16714            winning post 8 2016      psv             2016    simulation   \n",
       "\n",
       "       na_sales  eu_sales  jp_sales  other_sales  critic_score user_score  \\\n",
       "0         41.36     28.96      3.77         8.45          76.0          8   \n",
       "1         29.08      3.58      6.81         0.77           NaN        NaN   \n",
       "2         15.68     12.76      3.79         3.29          82.0        8.3   \n",
       "3         15.61     10.93      3.28         2.95          80.0          8   \n",
       "4         11.27      8.89     10.22         1.00           NaN        NaN   \n",
       "...         ...       ...       ...          ...           ...        ...   \n",
       "16710      0.00      0.00      0.01         0.00           NaN        NaN   \n",
       "16711      0.00      0.01      0.00         0.00           NaN        NaN   \n",
       "16712      0.00      0.00      0.01         0.00           NaN        NaN   \n",
       "16713      0.01      0.00      0.00         0.00           NaN        NaN   \n",
       "16714      0.00      0.00      0.01         0.00           NaN        NaN   \n",
       "\n",
       "      rating  cat_user_Score  ventas_totales  \n",
       "0          E             8.0           82.54  \n",
       "1          E            -1.0           40.24  \n",
       "2          E             8.3           35.52  \n",
       "3          E             8.0           32.77  \n",
       "4          T            -1.0           31.38  \n",
       "...      ...             ...             ...  \n",
       "16710      T            -1.0            0.01  \n",
       "16711      T            -1.0            0.01  \n",
       "16712      T            -1.0            0.01  \n",
       "16713      E            -1.0            0.01  \n",
       "16714      T            -1.0            0.01  \n",
       "\n",
       "[16444 rows x 13 columns]"
      ]
     },
     "execution_count": 36,
     "metadata": {},
     "output_type": "execute_result"
    }
   ],
   "source": [
    "#Reduciendo todo en las columnas con tipo cadena de caracteres\n",
    "#a letras minúsculas ó letras mayúsculas\n",
    "video_juegos['name'] = video_juegos['name'].str.lower()\n",
    "video_juegos['platform'] = video_juegos['platform'].str.lower()\n",
    "video_juegos['genre'] = video_juegos['genre'].str.lower()\n",
    "video_juegos['rating'] = video_juegos['rating'].str.upper()\n",
    "\n",
    "#para visualizar el cambio\n",
    "video_juegos"
   ]
  },
  {
   "cell_type": "markdown",
   "metadata": {},
   "source": [
    "Ahora vamos a visualizar el único par de registros que tienen el mismo nombre de video juego, en la misma plataforma, en el mismo año de lanzamiento."
   ]
  },
  {
   "cell_type": "code",
   "execution_count": 37,
   "metadata": {},
   "outputs": [
    {
     "data": {
      "text/html": [
       "<div>\n",
       "<style scoped>\n",
       "    .dataframe tbody tr th:only-of-type {\n",
       "        vertical-align: middle;\n",
       "    }\n",
       "\n",
       "    .dataframe tbody tr th {\n",
       "        vertical-align: top;\n",
       "    }\n",
       "\n",
       "    .dataframe thead th {\n",
       "        text-align: right;\n",
       "    }\n",
       "</style>\n",
       "<table border=\"1\" class=\"dataframe\">\n",
       "  <thead>\n",
       "    <tr style=\"text-align: right;\">\n",
       "      <th></th>\n",
       "      <th>name</th>\n",
       "      <th>platform</th>\n",
       "      <th>year_of_release</th>\n",
       "      <th>genre</th>\n",
       "      <th>na_sales</th>\n",
       "      <th>eu_sales</th>\n",
       "      <th>jp_sales</th>\n",
       "      <th>other_sales</th>\n",
       "      <th>critic_score</th>\n",
       "      <th>user_score</th>\n",
       "      <th>rating</th>\n",
       "      <th>cat_user_Score</th>\n",
       "      <th>ventas_totales</th>\n",
       "    </tr>\n",
       "  </thead>\n",
       "  <tbody>\n",
       "    <tr>\n",
       "      <th>604</th>\n",
       "      <td>madden nfl 13</td>\n",
       "      <td>ps3</td>\n",
       "      <td>2012</td>\n",
       "      <td>sports</td>\n",
       "      <td>2.11</td>\n",
       "      <td>0.22</td>\n",
       "      <td>0.0</td>\n",
       "      <td>0.23</td>\n",
       "      <td>83.0</td>\n",
       "      <td>5.5</td>\n",
       "      <td>E</td>\n",
       "      <td>-5.5</td>\n",
       "      <td>2.56</td>\n",
       "    </tr>\n",
       "    <tr>\n",
       "      <th>16230</th>\n",
       "      <td>madden nfl 13</td>\n",
       "      <td>ps3</td>\n",
       "      <td>2012</td>\n",
       "      <td>sports</td>\n",
       "      <td>0.00</td>\n",
       "      <td>0.01</td>\n",
       "      <td>0.0</td>\n",
       "      <td>0.00</td>\n",
       "      <td>83.0</td>\n",
       "      <td>5.5</td>\n",
       "      <td>E</td>\n",
       "      <td>-5.5</td>\n",
       "      <td>0.01</td>\n",
       "    </tr>\n",
       "  </tbody>\n",
       "</table>\n",
       "</div>"
      ],
      "text/plain": [
       "                name platform  year_of_release   genre  na_sales  eu_sales  \\\n",
       "604    madden nfl 13      ps3             2012  sports      2.11      0.22   \n",
       "16230  madden nfl 13      ps3             2012  sports      0.00      0.01   \n",
       "\n",
       "       jp_sales  other_sales  critic_score user_score rating  cat_user_Score  \\\n",
       "604         0.0         0.23          83.0        5.5      E            -5.5   \n",
       "16230       0.0         0.00          83.0        5.5      E            -5.5   \n",
       "\n",
       "       ventas_totales  \n",
       "604              2.56  \n",
       "16230            0.01  "
      ]
     },
     "execution_count": 37,
     "metadata": {},
     "output_type": "execute_result"
    }
   ],
   "source": [
    "#Registros duplicados en name, plataform y year_of_release\n",
    "video_juegos[(video_juegos['name'] == ('Madden NFL 13').lower())\n",
    "            & (video_juegos['platform'] == ('PS3').lower())\n",
    "            & (video_juegos['year_of_release'] == 2012)]"
   ]
  },
  {
   "cell_type": "markdown",
   "metadata": {},
   "source": [
    "Podemos observar que solo una diferencia en las columnas <em>eu_sales</em> y  <em>eu_sales</em>, sumaremos la cantidad de 0.01, en la mencionada columna en el registro 604, claro antes borraremos el registro con el índice 16230."
   ]
  },
  {
   "cell_type": "code",
   "execution_count": 38,
   "metadata": {},
   "outputs": [
    {
     "data": {
      "text/html": [
       "<div>\n",
       "<style scoped>\n",
       "    .dataframe tbody tr th:only-of-type {\n",
       "        vertical-align: middle;\n",
       "    }\n",
       "\n",
       "    .dataframe tbody tr th {\n",
       "        vertical-align: top;\n",
       "    }\n",
       "\n",
       "    .dataframe thead th {\n",
       "        text-align: right;\n",
       "    }\n",
       "</style>\n",
       "<table border=\"1\" class=\"dataframe\">\n",
       "  <thead>\n",
       "    <tr style=\"text-align: right;\">\n",
       "      <th></th>\n",
       "      <th>name</th>\n",
       "      <th>platform</th>\n",
       "      <th>year_of_release</th>\n",
       "      <th>genre</th>\n",
       "      <th>na_sales</th>\n",
       "      <th>eu_sales</th>\n",
       "      <th>jp_sales</th>\n",
       "      <th>other_sales</th>\n",
       "      <th>critic_score</th>\n",
       "      <th>user_score</th>\n",
       "      <th>rating</th>\n",
       "      <th>cat_user_Score</th>\n",
       "      <th>ventas_totales</th>\n",
       "    </tr>\n",
       "  </thead>\n",
       "  <tbody>\n",
       "    <tr>\n",
       "      <th>604</th>\n",
       "      <td>madden nfl 13</td>\n",
       "      <td>ps3</td>\n",
       "      <td>2012</td>\n",
       "      <td>sports</td>\n",
       "      <td>2.11</td>\n",
       "      <td>0.22</td>\n",
       "      <td>0.0</td>\n",
       "      <td>0.23</td>\n",
       "      <td>83.0</td>\n",
       "      <td>5.5</td>\n",
       "      <td>E</td>\n",
       "      <td>-5.5</td>\n",
       "      <td>2.56</td>\n",
       "    </tr>\n",
       "  </tbody>\n",
       "</table>\n",
       "</div>"
      ],
      "text/plain": [
       "              name platform  year_of_release   genre  na_sales  eu_sales  \\\n",
       "604  madden nfl 13      ps3             2012  sports      2.11      0.22   \n",
       "\n",
       "     jp_sales  other_sales  critic_score user_score rating  cat_user_Score  \\\n",
       "604       0.0         0.23          83.0        5.5      E            -5.5   \n",
       "\n",
       "     ventas_totales  \n",
       "604            2.56  "
      ]
     },
     "execution_count": 38,
     "metadata": {},
     "output_type": "execute_result"
    }
   ],
   "source": [
    "#Borrar el registro con el índice 16230\n",
    "video_juegos.drop(16230, axis=0, inplace=True)\n",
    "\n",
    "#se suma 0.01 en la columna eu_sales\n",
    "video_juegos.iloc[604,5] = 0.22 + 0.01\n",
    "\n",
    "#se suma 0.01 en la columna ventas_totales\n",
    "video_juegos.iloc[604,11] = 2.56 + 0.01\n",
    "\n",
    "#verificando los cambios\n",
    "video_juegos[(video_juegos['name'] == ('Madden NFL 13').lower())\n",
    "            & (video_juegos['platform'] == ('PS3').lower())\n",
    "            & (video_juegos['year_of_release'] == 2012)]"
   ]
  },
  {
   "cell_type": "markdown",
   "metadata": {},
   "source": [
    "<a id=paso3></a>\n",
    "## . Análisis de los datos."
   ]
  },
  {
   "cell_type": "markdown",
   "metadata": {},
   "source": [
    "Vamos a ser un escaneo para obtener información sobre cuántos juegos fueron lanzados en diferentes años. ¿Serán significativos los datos de cada período?"
   ]
  },
  {
   "cell_type": "code",
   "execution_count": 39,
   "metadata": {},
   "outputs": [
    {
     "data": {
      "image/png": "[encoded data removed]",
      "text/plain": [
       "<Figure size 432x288 with 1 Axes>"
      ]
     },
     "metadata": {
      "needs_background": "light"
     },
     "output_type": "display_data"
    }
   ],
   "source": [
    "#relizando un histograma de frecuencias nos dira cuantos registros\n",
    "#es decir cuanto juegos fueron lanzados con los datos \n",
    "#registrados en la columna year_of_release\n",
    "video_juegos['year_of_release'].hist()\n",
    "plt.title('FRECUENCIA DE LANZAMIENTOS POR AÑO', fontweight ='bold', fontsize = 12)\n",
    "plt.xlabel('año', fontweight ='bold', fontsize = 10)\n",
    "plt.ylabel('número de juegos', fontweight ='bold', fontsize = 10)\n",
    "plt.grid(True)\n",
    "plt.show()   \n",
    " "
   ]
  },
  {
   "cell_type": "markdown",
   "metadata": {},
   "source": [
    "Como puede observarse había una clara tendencia a incrementarse hasta pasar el año 2010, con una notable recaida hacia 2015."
   ]
  },
  {
   "cell_type": "markdown",
   "metadata": {},
   "source": [
    "Observemos si varían las ventas de una plataforma a otra."
   ]
  },
  {
   "cell_type": "code",
   "execution_count": 40,
   "metadata": {},
   "outputs": [
    {
     "data": {
      "text/html": [
       "<div>\n",
       "<style scoped>\n",
       "    .dataframe tbody tr th:only-of-type {\n",
       "        vertical-align: middle;\n",
       "    }\n",
       "\n",
       "    .dataframe tbody tr th {\n",
       "        vertical-align: top;\n",
       "    }\n",
       "\n",
       "    .dataframe thead th {\n",
       "        text-align: right;\n",
       "    }\n",
       "</style>\n",
       "<table border=\"1\" class=\"dataframe\">\n",
       "  <thead>\n",
       "    <tr style=\"text-align: right;\">\n",
       "      <th></th>\n",
       "      <th>ventas_totales</th>\n",
       "    </tr>\n",
       "    <tr>\n",
       "      <th>platform</th>\n",
       "      <th></th>\n",
       "    </tr>\n",
       "  </thead>\n",
       "  <tbody>\n",
       "    <tr>\n",
       "      <th>2600</th>\n",
       "      <td>86.48</td>\n",
       "    </tr>\n",
       "    <tr>\n",
       "      <th>3do</th>\n",
       "      <td>0.10</td>\n",
       "    </tr>\n",
       "    <tr>\n",
       "      <th>3ds</th>\n",
       "      <td>257.81</td>\n",
       "    </tr>\n",
       "    <tr>\n",
       "      <th>dc</th>\n",
       "      <td>15.95</td>\n",
       "    </tr>\n",
       "    <tr>\n",
       "      <th>ds</th>\n",
       "      <td>802.78</td>\n",
       "    </tr>\n",
       "    <tr>\n",
       "      <th>gb</th>\n",
       "      <td>254.43</td>\n",
       "    </tr>\n",
       "    <tr>\n",
       "      <th>gba</th>\n",
       "      <td>312.88</td>\n",
       "    </tr>\n",
       "    <tr>\n",
       "      <th>gc</th>\n",
       "      <td>196.73</td>\n",
       "    </tr>\n",
       "    <tr>\n",
       "      <th>gen</th>\n",
       "      <td>28.35</td>\n",
       "    </tr>\n",
       "    <tr>\n",
       "      <th>gg</th>\n",
       "      <td>0.04</td>\n",
       "    </tr>\n",
       "    <tr>\n",
       "      <th>n64</th>\n",
       "      <td>218.01</td>\n",
       "    </tr>\n",
       "    <tr>\n",
       "      <th>nes</th>\n",
       "      <td>251.05</td>\n",
       "    </tr>\n",
       "    <tr>\n",
       "      <th>ng</th>\n",
       "      <td>1.44</td>\n",
       "    </tr>\n",
       "    <tr>\n",
       "      <th>pc</th>\n",
       "      <td>255.76</td>\n",
       "    </tr>\n",
       "    <tr>\n",
       "      <th>pcfx</th>\n",
       "      <td>0.03</td>\n",
       "    </tr>\n",
       "    <tr>\n",
       "      <th>ps</th>\n",
       "      <td>727.58</td>\n",
       "    </tr>\n",
       "    <tr>\n",
       "      <th>ps2</th>\n",
       "      <td>1233.56</td>\n",
       "    </tr>\n",
       "    <tr>\n",
       "      <th>ps3</th>\n",
       "      <td>931.33</td>\n",
       "    </tr>\n",
       "    <tr>\n",
       "      <th>ps4</th>\n",
       "      <td>314.14</td>\n",
       "    </tr>\n",
       "    <tr>\n",
       "      <th>psp</th>\n",
       "      <td>289.53</td>\n",
       "    </tr>\n",
       "    <tr>\n",
       "      <th>psv</th>\n",
       "      <td>53.81</td>\n",
       "    </tr>\n",
       "    <tr>\n",
       "      <th>sat</th>\n",
       "      <td>33.59</td>\n",
       "    </tr>\n",
       "    <tr>\n",
       "      <th>scd</th>\n",
       "      <td>1.86</td>\n",
       "    </tr>\n",
       "    <tr>\n",
       "      <th>snes</th>\n",
       "      <td>200.04</td>\n",
       "    </tr>\n",
       "    <tr>\n",
       "      <th>tg16</th>\n",
       "      <td>0.16</td>\n",
       "    </tr>\n",
       "    <tr>\n",
       "      <th>wii</th>\n",
       "      <td>891.18</td>\n",
       "    </tr>\n",
       "    <tr>\n",
       "      <th>wiiu</th>\n",
       "      <td>82.19</td>\n",
       "    </tr>\n",
       "    <tr>\n",
       "      <th>ws</th>\n",
       "      <td>1.42</td>\n",
       "    </tr>\n",
       "    <tr>\n",
       "      <th>x360</th>\n",
       "      <td>961.24</td>\n",
       "    </tr>\n",
       "    <tr>\n",
       "      <th>xb</th>\n",
       "      <td>251.57</td>\n",
       "    </tr>\n",
       "    <tr>\n",
       "      <th>xone</th>\n",
       "      <td>159.32</td>\n",
       "    </tr>\n",
       "  </tbody>\n",
       "</table>\n",
       "</div>"
      ],
      "text/plain": [
       "          ventas_totales\n",
       "platform                \n",
       "2600               86.48\n",
       "3do                 0.10\n",
       "3ds               257.81\n",
       "dc                 15.95\n",
       "ds                802.78\n",
       "gb                254.43\n",
       "gba               312.88\n",
       "gc                196.73\n",
       "gen                28.35\n",
       "gg                  0.04\n",
       "n64               218.01\n",
       "nes               251.05\n",
       "ng                  1.44\n",
       "pc                255.76\n",
       "pcfx                0.03\n",
       "ps                727.58\n",
       "ps2              1233.56\n",
       "ps3               931.33\n",
       "ps4               314.14\n",
       "psp               289.53\n",
       "psv                53.81\n",
       "sat                33.59\n",
       "scd                 1.86\n",
       "snes              200.04\n",
       "tg16                0.16\n",
       "wii               891.18\n",
       "wiiu               82.19\n",
       "ws                  1.42\n",
       "x360              961.24\n",
       "xb                251.57\n",
       "xone              159.32"
      ]
     },
     "execution_count": 40,
     "metadata": {},
     "output_type": "execute_result"
    }
   ],
   "source": [
    "# relizamos la suma de las ventas totales agrupadas \n",
    "# por plataformas\n",
    "datos_ventas = video_juegos.pivot_table(\n",
    "    index = 'platform',\n",
    "    values = 'ventas_totales',\n",
    "    aggfunc = 'sum')\n",
    "datos_ventas"
   ]
  },
  {
   "cell_type": "code",
   "execution_count": 41,
   "metadata": {},
   "outputs": [
    {
     "data": {
      "image/png": "[encoded data removed]",
      "text/plain": [
       "<Figure size 720x432 with 1 Axes>"
      ]
     },
     "metadata": {
      "needs_background": "light"
     },
     "output_type": "display_data"
    }
   ],
   "source": [
    "#trazamos los datos mediante un gráfico de barras\n",
    "\n",
    "datos_ventas.sort_values(by = 'ventas_totales', \n",
    "                         ascending=True).plot(kind='bar', \n",
    "                   figsize=(10, 6), \n",
    "                   color = 'sandybrown') \n",
    "plt.title('VENTAS TOTALES POR PLATAFORMA', fontweight ='bold', fontsize = 12)\n",
    "plt.grid(True)\n",
    "plt.show()          "
   ]
  },
  {
   "cell_type": "markdown",
   "metadata": {},
   "source": [
    "Las plataformas con mayores ventas totales son **x360** y **ps2**. Construyamos ahora una distribución basada en los datos de cada año."
   ]
  },
  {
   "cell_type": "code",
   "execution_count": 42,
   "metadata": {},
   "outputs": [
    {
     "data": {
      "image/png": "[encoded data removed]",
      "text/plain": [
       "<Figure size 432x288 with 1 Axes>"
      ]
     },
     "metadata": {
      "needs_background": "light"
     },
     "output_type": "display_data"
    }
   ],
   "source": [
    "#creado 2 dataframes para los datos de cada plataforma\n",
    "X360_ventas = video_juegos.loc[\n",
    "              video_juegos['platform'] == 'x360'].sort_values(by = 'year_of_release')\n",
    "PS2_ventas = video_juegos.loc[\n",
    "              video_juegos['platform'] == 'ps2'].sort_values(by = 'year_of_release')\n",
    "\n",
    "#Creamos un frame auxiliar para observar el comportamiento de el número de\n",
    "#de fechas en call_date \n",
    "data1 = X360_ventas.pivot_table(index = 'year_of_release',\n",
    "                                values = 'ventas_totales',\n",
    "                                aggfunc = 'sum')\n",
    "\n",
    "data2 = PS2_ventas.pivot_table(index = 'year_of_release',\n",
    "                                values = 'ventas_totales',\n",
    "                                aggfunc = 'sum')\n",
    "#realizamos la traza de los dos grupos de datos anteriores\n",
    "#en una gráfica comparativa. X360\n",
    "sns.barplot(x=data1.index, \n",
    "            y=data1['ventas_totales'], \n",
    "            alpha=0.7,\n",
    "            label=\"X360\",\n",
    "            color=\"gray\")\n",
    "#usando los limites obtenidos con los valores atípicos PS2\n",
    "sns.barplot(x=data1.index, \n",
    "            y=data2['ventas_totales'], \n",
    "            alpha=0.7,\n",
    "            label=\"PS2\",\n",
    "            color=\"gold\")\n",
    "plt.legend()\n",
    "plt.title('ventas por año de la consolas X360 y PS2', fontweight ='bold', fontsize = 12)\n",
    "plt.xlabel('años', fontweight ='bold', fontsize = 10)\n",
    "plt.ylabel('ventas', fontweight ='bold', fontsize = 10)\n",
    "plt.xticks(rotation=45)\n",
    "plt.grid(True)\n",
    "plt.show()"
   ]
  },
  {
   "cell_type": "markdown",
   "metadata": {},
   "source": [
    "Aboquemos hacer una busqueda de las plataformas que solían ser populares pero que ahora no tienen ventas."
   ]
  },
  {
   "cell_type": "code",
   "execution_count": 43,
   "metadata": {},
   "outputs": [],
   "source": [
    "#traduciendo en código phyton  la oración anterior\n",
    "#podemos expresarla ...\n",
    "#tenemos un DataFrame para las peores ventas en video juegos en la última decáda\n",
    "enCaida = video_juegos[(video_juegos.year_of_release.isin(\n",
    "                                    range (2011, 2017, 1)))\n",
    "             & (video_juegos['ventas_totales'] < 0.1)\n",
    "            ].sort_values(by ='year_of_release')\n",
    "\n",
    "#tenemos un DataFrame para las mejores ventas de los video juegos\n",
    "#en los años anteriores\n",
    "EnCrecida = video_juegos[(video_juegos.year_of_release.isin(\n",
    "                                    range (1980, 2011, 1)))\n",
    "             & (video_juegos['ventas_totales'] > 0.9)\n",
    "            ].sort_values(by ='year_of_release')\n",
    "\n"
   ]
  },
  {
   "cell_type": "code",
   "execution_count": 44,
   "metadata": {},
   "outputs": [
    {
     "data": {
      "text/html": [
       "<div>\n",
       "<style scoped>\n",
       "    .dataframe tbody tr th:only-of-type {\n",
       "        vertical-align: middle;\n",
       "    }\n",
       "\n",
       "    .dataframe tbody tr th {\n",
       "        vertical-align: top;\n",
       "    }\n",
       "\n",
       "    .dataframe thead th {\n",
       "        text-align: right;\n",
       "    }\n",
       "</style>\n",
       "<table border=\"1\" class=\"dataframe\">\n",
       "  <thead>\n",
       "    <tr style=\"text-align: right;\">\n",
       "      <th></th>\n",
       "      <th>name</th>\n",
       "      <th>platform</th>\n",
       "      <th>year_of_release</th>\n",
       "      <th>genre</th>\n",
       "      <th>na_sales</th>\n",
       "      <th>eu_sales</th>\n",
       "      <th>jp_sales</th>\n",
       "      <th>other_sales</th>\n",
       "      <th>critic_score</th>\n",
       "      <th>user_score</th>\n",
       "      <th>rating</th>\n",
       "      <th>cat_user_Score</th>\n",
       "      <th>ventas_totales</th>\n",
       "    </tr>\n",
       "  </thead>\n",
       "  <tbody>\n",
       "    <tr>\n",
       "      <th>546</th>\n",
       "      <td>missile command</td>\n",
       "      <td>2600</td>\n",
       "      <td>1980</td>\n",
       "      <td>shooter</td>\n",
       "      <td>2.56</td>\n",
       "      <td>0.17</td>\n",
       "      <td>0.00</td>\n",
       "      <td>0.03</td>\n",
       "      <td>NaN</td>\n",
       "      <td>NaN</td>\n",
       "      <td>M</td>\n",
       "      <td>-1.0</td>\n",
       "      <td>2.76</td>\n",
       "    </tr>\n",
       "    <tr>\n",
       "      <th>1764</th>\n",
       "      <td>kaboom!</td>\n",
       "      <td>2600</td>\n",
       "      <td>1980</td>\n",
       "      <td>misc</td>\n",
       "      <td>1.07</td>\n",
       "      <td>0.07</td>\n",
       "      <td>0.00</td>\n",
       "      <td>0.01</td>\n",
       "      <td>NaN</td>\n",
       "      <td>NaN</td>\n",
       "      <td>E</td>\n",
       "      <td>-1.0</td>\n",
       "      <td>1.15</td>\n",
       "    </tr>\n",
       "    <tr>\n",
       "      <th>1968</th>\n",
       "      <td>defender</td>\n",
       "      <td>2600</td>\n",
       "      <td>1980</td>\n",
       "      <td>misc</td>\n",
       "      <td>0.99</td>\n",
       "      <td>0.05</td>\n",
       "      <td>0.00</td>\n",
       "      <td>0.01</td>\n",
       "      <td>NaN</td>\n",
       "      <td>NaN</td>\n",
       "      <td>T</td>\n",
       "      <td>-1.0</td>\n",
       "      <td>1.05</td>\n",
       "    </tr>\n",
       "    <tr>\n",
       "      <th>262</th>\n",
       "      <td>asteroids</td>\n",
       "      <td>2600</td>\n",
       "      <td>1980</td>\n",
       "      <td>shooter</td>\n",
       "      <td>4.00</td>\n",
       "      <td>0.26</td>\n",
       "      <td>0.00</td>\n",
       "      <td>0.05</td>\n",
       "      <td>NaN</td>\n",
       "      <td>NaN</td>\n",
       "      <td>M</td>\n",
       "      <td>-1.0</td>\n",
       "      <td>4.31</td>\n",
       "    </tr>\n",
       "    <tr>\n",
       "      <th>736</th>\n",
       "      <td>frogger</td>\n",
       "      <td>2600</td>\n",
       "      <td>1981</td>\n",
       "      <td>action</td>\n",
       "      <td>2.06</td>\n",
       "      <td>0.12</td>\n",
       "      <td>0.00</td>\n",
       "      <td>0.02</td>\n",
       "      <td>NaN</td>\n",
       "      <td>NaN</td>\n",
       "      <td>T</td>\n",
       "      <td>-1.0</td>\n",
       "      <td>2.20</td>\n",
       "    </tr>\n",
       "    <tr>\n",
       "      <th>...</th>\n",
       "      <td>...</td>\n",
       "      <td>...</td>\n",
       "      <td>...</td>\n",
       "      <td>...</td>\n",
       "      <td>...</td>\n",
       "      <td>...</td>\n",
       "      <td>...</td>\n",
       "      <td>...</td>\n",
       "      <td>...</td>\n",
       "      <td>...</td>\n",
       "      <td>...</td>\n",
       "      <td>...</td>\n",
       "      <td>...</td>\n",
       "    </tr>\n",
       "    <tr>\n",
       "      <th>13715</th>\n",
       "      <td>bullet girls 2</td>\n",
       "      <td>psv</td>\n",
       "      <td>2016</td>\n",
       "      <td>action</td>\n",
       "      <td>0.00</td>\n",
       "      <td>0.00</td>\n",
       "      <td>0.04</td>\n",
       "      <td>0.00</td>\n",
       "      <td>NaN</td>\n",
       "      <td>NaN</td>\n",
       "      <td>T</td>\n",
       "      <td>-1.0</td>\n",
       "      <td>0.04</td>\n",
       "    </tr>\n",
       "    <tr>\n",
       "      <th>13721</th>\n",
       "      <td>nobunaga's ambition: sphere of influence - sen...</td>\n",
       "      <td>psv</td>\n",
       "      <td>2016</td>\n",
       "      <td>misc</td>\n",
       "      <td>0.00</td>\n",
       "      <td>0.00</td>\n",
       "      <td>0.04</td>\n",
       "      <td>0.00</td>\n",
       "      <td>NaN</td>\n",
       "      <td>NaN</td>\n",
       "      <td>T</td>\n",
       "      <td>-1.0</td>\n",
       "      <td>0.04</td>\n",
       "    </tr>\n",
       "    <tr>\n",
       "      <th>13729</th>\n",
       "      <td>rugby challenge 3</td>\n",
       "      <td>ps4</td>\n",
       "      <td>2016</td>\n",
       "      <td>sports</td>\n",
       "      <td>0.00</td>\n",
       "      <td>0.04</td>\n",
       "      <td>0.00</td>\n",
       "      <td>0.01</td>\n",
       "      <td>64.0</td>\n",
       "      <td>6.8</td>\n",
       "      <td>E</td>\n",
       "      <td>6.8</td>\n",
       "      <td>0.05</td>\n",
       "    </tr>\n",
       "    <tr>\n",
       "      <th>13425</th>\n",
       "      <td>12-sai. koisuru diary</td>\n",
       "      <td>3ds</td>\n",
       "      <td>2016</td>\n",
       "      <td>adventure</td>\n",
       "      <td>0.00</td>\n",
       "      <td>0.00</td>\n",
       "      <td>0.05</td>\n",
       "      <td>0.00</td>\n",
       "      <td>NaN</td>\n",
       "      <td>NaN</td>\n",
       "      <td>E</td>\n",
       "      <td>-1.0</td>\n",
       "      <td>0.05</td>\n",
       "    </tr>\n",
       "    <tr>\n",
       "      <th>16714</th>\n",
       "      <td>winning post 8 2016</td>\n",
       "      <td>psv</td>\n",
       "      <td>2016</td>\n",
       "      <td>simulation</td>\n",
       "      <td>0.00</td>\n",
       "      <td>0.00</td>\n",
       "      <td>0.01</td>\n",
       "      <td>0.00</td>\n",
       "      <td>NaN</td>\n",
       "      <td>NaN</td>\n",
       "      <td>T</td>\n",
       "      <td>-1.0</td>\n",
       "      <td>0.01</td>\n",
       "    </tr>\n",
       "  </tbody>\n",
       "</table>\n",
       "<p>3498 rows × 13 columns</p>\n",
       "</div>"
      ],
      "text/plain": [
       "                                                    name platform  \\\n",
       "546                                      missile command     2600   \n",
       "1764                                             kaboom!     2600   \n",
       "1968                                            defender     2600   \n",
       "262                                            asteroids     2600   \n",
       "736                                              frogger     2600   \n",
       "...                                                  ...      ...   \n",
       "13715                                     bullet girls 2      psv   \n",
       "13721  nobunaga's ambition: sphere of influence - sen...      psv   \n",
       "13729                                  rugby challenge 3      ps4   \n",
       "13425                              12-sai. koisuru diary      3ds   \n",
       "16714                                winning post 8 2016      psv   \n",
       "\n",
       "       year_of_release       genre  na_sales  eu_sales  jp_sales  other_sales  \\\n",
       "546               1980     shooter      2.56      0.17      0.00         0.03   \n",
       "1764              1980        misc      1.07      0.07      0.00         0.01   \n",
       "1968              1980        misc      0.99      0.05      0.00         0.01   \n",
       "262               1980     shooter      4.00      0.26      0.00         0.05   \n",
       "736               1981      action      2.06      0.12      0.00         0.02   \n",
       "...                ...         ...       ...       ...       ...          ...   \n",
       "13715             2016      action      0.00      0.00      0.04         0.00   \n",
       "13721             2016        misc      0.00      0.00      0.04         0.00   \n",
       "13729             2016      sports      0.00      0.04      0.00         0.01   \n",
       "13425             2016   adventure      0.00      0.00      0.05         0.00   \n",
       "16714             2016  simulation      0.00      0.00      0.01         0.00   \n",
       "\n",
       "       critic_score user_score rating  cat_user_Score  ventas_totales  \n",
       "546             NaN        NaN      M            -1.0            2.76  \n",
       "1764            NaN        NaN      E            -1.0            1.15  \n",
       "1968            NaN        NaN      T            -1.0            1.05  \n",
       "262             NaN        NaN      M            -1.0            4.31  \n",
       "736             NaN        NaN      T            -1.0            2.20  \n",
       "...             ...        ...    ...             ...             ...  \n",
       "13715           NaN        NaN      T            -1.0            0.04  \n",
       "13721           NaN        NaN      T            -1.0            0.04  \n",
       "13729          64.0        6.8      E             6.8            0.05  \n",
       "13425           NaN        NaN      E            -1.0            0.05  \n",
       "16714           NaN        NaN      T            -1.0            0.01  \n",
       "\n",
       "[3498 rows x 13 columns]"
      ]
     },
     "execution_count": 44,
     "metadata": {},
     "output_type": "execute_result"
    }
   ],
   "source": [
    "#los dos dataframes son concatenados para obtener los datos de\n",
    "#por una parte de las plataformas populares, en el pasado\n",
    "#con las plataformas en olvido en la actualidad\n",
    "plataform_desuso = pd.concat([EnCrecida, enCaida], sort=False)\n",
    "plataform_desuso"
   ]
  },
  {
   "cell_type": "code",
   "execution_count": 45,
   "metadata": {},
   "outputs": [],
   "source": [
    "#realizamos un objeto series para poder obtener los años en\n",
    "#en que se realizarón los últimos juegos para cada plataforma\n",
    "fin_plataforma = plataform_desuso.groupby('platform')['year_of_release'].max()"
   ]
  },
  {
   "cell_type": "code",
   "execution_count": 46,
   "metadata": {},
   "outputs": [],
   "source": [
    "#realizamos un objeto series para poder obtener los años en\n",
    "#en que se realizarón los primeros juegos para cada plataforma\n",
    "inicio_plataforma = plataform_desuso.groupby('platform')['year_of_release'].min()"
   ]
  },
  {
   "cell_type": "code",
   "execution_count": 47,
   "metadata": {},
   "outputs": [
    {
     "data": {
      "text/html": [
       "<div>\n",
       "<style scoped>\n",
       "    .dataframe tbody tr th:only-of-type {\n",
       "        vertical-align: middle;\n",
       "    }\n",
       "\n",
       "    .dataframe tbody tr th {\n",
       "        vertical-align: top;\n",
       "    }\n",
       "\n",
       "    .dataframe thead th {\n",
       "        text-align: right;\n",
       "    }\n",
       "</style>\n",
       "<table border=\"1\" class=\"dataframe\">\n",
       "  <thead>\n",
       "    <tr style=\"text-align: right;\">\n",
       "      <th></th>\n",
       "      <th>inicio</th>\n",
       "      <th>fin</th>\n",
       "      <th>periodo</th>\n",
       "    </tr>\n",
       "    <tr>\n",
       "      <th>platform</th>\n",
       "      <th></th>\n",
       "      <th></th>\n",
       "      <th></th>\n",
       "    </tr>\n",
       "  </thead>\n",
       "  <tbody>\n",
       "    <tr>\n",
       "      <th>scd</th>\n",
       "      <td>1993</td>\n",
       "      <td>1993</td>\n",
       "      <td>0</td>\n",
       "    </tr>\n",
       "    <tr>\n",
       "      <th>sat</th>\n",
       "      <td>1994</td>\n",
       "      <td>1995</td>\n",
       "      <td>1</td>\n",
       "    </tr>\n",
       "    <tr>\n",
       "      <th>dc</th>\n",
       "      <td>1998</td>\n",
       "      <td>2000</td>\n",
       "      <td>2</td>\n",
       "    </tr>\n",
       "    <tr>\n",
       "      <th>ps4</th>\n",
       "      <td>2014</td>\n",
       "      <td>2016</td>\n",
       "      <td>2</td>\n",
       "    </tr>\n",
       "    <tr>\n",
       "      <th>2600</th>\n",
       "      <td>1980</td>\n",
       "      <td>1983</td>\n",
       "      <td>3</td>\n",
       "    </tr>\n",
       "    <tr>\n",
       "      <th>xone</th>\n",
       "      <td>2013</td>\n",
       "      <td>2016</td>\n",
       "      <td>3</td>\n",
       "    </tr>\n",
       "    <tr>\n",
       "      <th>gen</th>\n",
       "      <td>1990</td>\n",
       "      <td>1994</td>\n",
       "      <td>4</td>\n",
       "    </tr>\n",
       "    <tr>\n",
       "      <th>n64</th>\n",
       "      <td>1996</td>\n",
       "      <td>2000</td>\n",
       "      <td>4</td>\n",
       "    </tr>\n",
       "    <tr>\n",
       "      <th>wiiu</th>\n",
       "      <td>2012</td>\n",
       "      <td>2016</td>\n",
       "      <td>4</td>\n",
       "    </tr>\n",
       "    <tr>\n",
       "      <th>gc</th>\n",
       "      <td>2001</td>\n",
       "      <td>2006</td>\n",
       "      <td>5</td>\n",
       "    </tr>\n",
       "    <tr>\n",
       "      <th>psv</th>\n",
       "      <td>2011</td>\n",
       "      <td>2016</td>\n",
       "      <td>5</td>\n",
       "    </tr>\n",
       "    <tr>\n",
       "      <th>3ds</th>\n",
       "      <td>2011</td>\n",
       "      <td>2016</td>\n",
       "      <td>5</td>\n",
       "    </tr>\n",
       "    <tr>\n",
       "      <th>xb</th>\n",
       "      <td>2000</td>\n",
       "      <td>2006</td>\n",
       "      <td>6</td>\n",
       "    </tr>\n",
       "    <tr>\n",
       "      <th>gba</th>\n",
       "      <td>2001</td>\n",
       "      <td>2007</td>\n",
       "      <td>6</td>\n",
       "    </tr>\n",
       "    <tr>\n",
       "      <th>snes</th>\n",
       "      <td>1990</td>\n",
       "      <td>1996</td>\n",
       "      <td>6</td>\n",
       "    </tr>\n",
       "    <tr>\n",
       "      <th>ps</th>\n",
       "      <td>1994</td>\n",
       "      <td>2003</td>\n",
       "      <td>9</td>\n",
       "    </tr>\n",
       "    <tr>\n",
       "      <th>ds</th>\n",
       "      <td>2004</td>\n",
       "      <td>2013</td>\n",
       "      <td>9</td>\n",
       "    </tr>\n",
       "    <tr>\n",
       "      <th>wii</th>\n",
       "      <td>2006</td>\n",
       "      <td>2015</td>\n",
       "      <td>9</td>\n",
       "    </tr>\n",
       "    <tr>\n",
       "      <th>nes</th>\n",
       "      <td>1983</td>\n",
       "      <td>1993</td>\n",
       "      <td>10</td>\n",
       "    </tr>\n",
       "    <tr>\n",
       "      <th>ps3</th>\n",
       "      <td>2006</td>\n",
       "      <td>2016</td>\n",
       "      <td>10</td>\n",
       "    </tr>\n",
       "    <tr>\n",
       "      <th>x360</th>\n",
       "      <td>2005</td>\n",
       "      <td>2016</td>\n",
       "      <td>11</td>\n",
       "    </tr>\n",
       "    <tr>\n",
       "      <th>psp</th>\n",
       "      <td>2004</td>\n",
       "      <td>2015</td>\n",
       "      <td>11</td>\n",
       "    </tr>\n",
       "    <tr>\n",
       "      <th>ps2</th>\n",
       "      <td>2000</td>\n",
       "      <td>2011</td>\n",
       "      <td>11</td>\n",
       "    </tr>\n",
       "    <tr>\n",
       "      <th>gb</th>\n",
       "      <td>1988</td>\n",
       "      <td>2001</td>\n",
       "      <td>13</td>\n",
       "    </tr>\n",
       "    <tr>\n",
       "      <th>pc</th>\n",
       "      <td>1992</td>\n",
       "      <td>2016</td>\n",
       "      <td>24</td>\n",
       "    </tr>\n",
       "  </tbody>\n",
       "</table>\n",
       "</div>"
      ],
      "text/plain": [
       "          inicio   fin  periodo\n",
       "platform                       \n",
       "scd         1993  1993        0\n",
       "sat         1994  1995        1\n",
       "dc          1998  2000        2\n",
       "ps4         2014  2016        2\n",
       "2600        1980  1983        3\n",
       "xone        2013  2016        3\n",
       "gen         1990  1994        4\n",
       "n64         1996  2000        4\n",
       "wiiu        2012  2016        4\n",
       "gc          2001  2006        5\n",
       "psv         2011  2016        5\n",
       "3ds         2011  2016        5\n",
       "xb          2000  2006        6\n",
       "gba         2001  2007        6\n",
       "snes        1990  1996        6\n",
       "ps          1994  2003        9\n",
       "ds          2004  2013        9\n",
       "wii         2006  2015        9\n",
       "nes         1983  1993       10\n",
       "ps3         2006  2016       10\n",
       "x360        2005  2016       11\n",
       "psp         2004  2015       11\n",
       "ps2         2000  2011       11\n",
       "gb          1988  2001       13\n",
       "pc          1992  2016       24"
      ]
     },
     "execution_count": 47,
     "metadata": {},
     "output_type": "execute_result"
    }
   ],
   "source": [
    "#para unir la información de los dos objetos series realizamos un\n",
    "#diccionario de datos \n",
    "datos = {'inicio': inicio_plataforma, 'fin':fin_plataforma }\n",
    "#manufacturamos un dataframe para poder recepcionar los datos \n",
    "#del diccionario \n",
    "vida_plataform = pd.DataFrame.from_dict(datos)\n",
    "#finalmente realizamos una columna que indique el periodo \n",
    "#de vida de cada plataforma\n",
    "vida_plataform['periodo'] = vida_plataform['fin'] - vida_plataform['inicio']\n",
    "vida_plataform = vida_plataform.sort_values(by ='periodo')\n",
    "vida_plataform"
   ]
  },
  {
   "cell_type": "markdown",
   "metadata": {},
   "source": [
    "Trazamos la información, de la tabla anterior para visualizar los periodos de vida de cada plataforma."
   ]
  },
  {
   "cell_type": "code",
   "execution_count": 48,
   "metadata": {},
   "outputs": [
    {
     "data": {
      "image/png": "[encoded data removed]",
      "text/plain": [
       "<Figure size 720x360 with 1 Axes>"
      ]
     },
     "metadata": {
      "needs_background": "light"
     },
     "output_type": "display_data"
    }
   ],
   "source": [
    "\n",
    "consolas = vida_plataform.index\n",
    "values = vida_plataform['periodo']\n",
    "matices=['DarkSeaGreen', 'Darkgreen', 'DarkCyan', 'DarkSlateGray', 'burlywood', 'DarkOrange']\n",
    "fig = plt.figure(figsize=(10, 5))\n",
    " \n",
    "# usando un gráfico tipo barra para indicar los datos del data frame anterior\n",
    "plt.barh(consolas, values, color= matices) \n",
    "plt.xlabel(\"número de años en el mercado\")\n",
    "plt.ylabel(\"Plataformas\")\n",
    "plt.title(\"PERIODO DE VIDA DE LAS PLATAFORMAS PARA VIDEO JUEGOS\")\n",
    "plt.grid(True)\n",
    "plt.show()\n"
   ]
  },
  {
   "cell_type": "code",
   "execution_count": 49,
   "metadata": {},
   "outputs": [
    {
     "name": "stdout",
     "output_type": "stream",
     "text": [
      "EL PERIODO PROMEDIO DE VIDA DE LAS PLATAFORMAS ES DE: 6.92  años\n"
     ]
    }
   ],
   "source": [
    "print('EL PERIODO PROMEDIO DE VIDA DE LAS PLATAFORMAS ES DE:', \n",
    "      vida_plataform['periodo'].mean(), ' años' )"
   ]
  },
  {
   "cell_type": "code",
   "execution_count": 50,
   "metadata": {},
   "outputs": [
    {
     "name": "stdout",
     "output_type": "stream",
     "text": [
      "EL PERIODO MEDIO DE VIDA DE LAS PLATAFORMAS ES DE: 6.0  años\n"
     ]
    }
   ],
   "source": [
    "print('EL PERIODO MEDIO DE VIDA DE LAS PLATAFORMAS ES DE:', \n",
    "      vida_plataform['periodo'].median(), ' años' )"
   ]
  },
  {
   "cell_type": "markdown",
   "metadata": {},
   "source": [
    "Los estadísticos anteriores nos indican que las plataformas tienen un periordo de vida de poco más de 7 años. \n",
    "\n",
    "Mientras que las plataformas nuevas deben aparecer de la diferencia de valores que obtendramos entre los inicios de cada plataforma registrada, ordenadas de manera ascendente."
   ]
  },
  {
   "cell_type": "code",
   "execution_count": 51,
   "metadata": {},
   "outputs": [],
   "source": [
    "#ordenamos la columna en forma ascendente que tiene los años de \n",
    "#lanzamiento registrados de cada consola\n",
    "Serie_años_ini = vida_plataform['inicio'].sort_values(ascending=False)\n",
    "#relizamos un list que nos indica la diferencia entra los años de lanzamiento\n",
    "lista_diferencias = []\n",
    "anterior = Serie_años_ini[0]\n",
    "#recorriendo los elementos del dataframe que realizamos con la información\n",
    "#de los periodos en años de las plataformas\n",
    "for i in Serie_años_ini:\n",
    "    if anterior == Serie_años_ini[0]:\n",
    "        next\n",
    "    lista_diferencias.append(anterior - i)\n",
    "    anterior = i\n"
   ]
  },
  {
   "cell_type": "code",
   "execution_count": 52,
   "metadata": {},
   "outputs": [
    {
     "name": "stdout",
     "output_type": "stream",
     "text": [
      "EL PERIODO EN QUE MEDIO EN QUE SURGEN UNA PLATAFORMA NUEVA ES:  1\n"
     ]
    }
   ],
   "source": [
    "#para poder obtener un estadistíco de esta list\n",
    "media = statistics.mean(lista_diferencias)\n",
    "print('EL PERIODO EN QUE MEDIO EN QUE SURGEN UNA PLATAFORMA NUEVA ES: '\n",
    "      , media)"
   ]
  },
  {
   "cell_type": "markdown",
   "metadata": {},
   "source": [
    "Para construir un modelo predictivo para el 2017, debemos usar los datos del periodo 2012-2016, esto en base a los resultados anteriormente obtenidos."
   ]
  },
  {
   "cell_type": "markdown",
   "metadata": {},
   "source": [
    ".<a id=paso3-1></a>\n",
    "### Análisis de datos relevantes para el año 2017."
   ]
  },
  {
   "cell_type": "code",
   "execution_count": 53,
   "metadata": {
    "scrolled": true
   },
   "outputs": [
    {
     "data": {
      "text/html": [
       "<div>\n",
       "<style scoped>\n",
       "    .dataframe tbody tr th:only-of-type {\n",
       "        vertical-align: middle;\n",
       "    }\n",
       "\n",
       "    .dataframe tbody tr th {\n",
       "        vertical-align: top;\n",
       "    }\n",
       "\n",
       "    .dataframe thead th {\n",
       "        text-align: right;\n",
       "    }\n",
       "</style>\n",
       "<table border=\"1\" class=\"dataframe\">\n",
       "  <thead>\n",
       "    <tr style=\"text-align: right;\">\n",
       "      <th></th>\n",
       "      <th>name</th>\n",
       "      <th>platform</th>\n",
       "      <th>year_of_release</th>\n",
       "      <th>genre</th>\n",
       "      <th>na_sales</th>\n",
       "      <th>eu_sales</th>\n",
       "      <th>jp_sales</th>\n",
       "      <th>other_sales</th>\n",
       "      <th>critic_score</th>\n",
       "      <th>user_score</th>\n",
       "      <th>rating</th>\n",
       "      <th>cat_user_Score</th>\n",
       "      <th>ventas_totales</th>\n",
       "    </tr>\n",
       "  </thead>\n",
       "  <tbody>\n",
       "    <tr>\n",
       "      <th>16</th>\n",
       "      <td>grand theft auto v</td>\n",
       "      <td>ps3</td>\n",
       "      <td>2013</td>\n",
       "      <td>action</td>\n",
       "      <td>7.02</td>\n",
       "      <td>9.09</td>\n",
       "      <td>0.98</td>\n",
       "      <td>3.96</td>\n",
       "      <td>97.0</td>\n",
       "      <td>8.2</td>\n",
       "      <td>M</td>\n",
       "      <td>8.2</td>\n",
       "      <td>21.05</td>\n",
       "    </tr>\n",
       "    <tr>\n",
       "      <th>23</th>\n",
       "      <td>grand theft auto v</td>\n",
       "      <td>x360</td>\n",
       "      <td>2013</td>\n",
       "      <td>action</td>\n",
       "      <td>9.66</td>\n",
       "      <td>5.14</td>\n",
       "      <td>0.06</td>\n",
       "      <td>1.41</td>\n",
       "      <td>97.0</td>\n",
       "      <td>8.1</td>\n",
       "      <td>M</td>\n",
       "      <td>8.1</td>\n",
       "      <td>16.27</td>\n",
       "    </tr>\n",
       "    <tr>\n",
       "      <th>31</th>\n",
       "      <td>call of duty: black ops 3</td>\n",
       "      <td>ps4</td>\n",
       "      <td>2015</td>\n",
       "      <td>shooter</td>\n",
       "      <td>6.03</td>\n",
       "      <td>5.86</td>\n",
       "      <td>0.36</td>\n",
       "      <td>2.38</td>\n",
       "      <td>NaN</td>\n",
       "      <td>NaN</td>\n",
       "      <td>T</td>\n",
       "      <td>-1.0</td>\n",
       "      <td>14.63</td>\n",
       "    </tr>\n",
       "    <tr>\n",
       "      <th>33</th>\n",
       "      <td>pokemon x/pokemon y</td>\n",
       "      <td>3ds</td>\n",
       "      <td>2013</td>\n",
       "      <td>role-playing</td>\n",
       "      <td>5.28</td>\n",
       "      <td>4.19</td>\n",
       "      <td>4.35</td>\n",
       "      <td>0.78</td>\n",
       "      <td>NaN</td>\n",
       "      <td>NaN</td>\n",
       "      <td>E</td>\n",
       "      <td>-1.0</td>\n",
       "      <td>14.60</td>\n",
       "    </tr>\n",
       "    <tr>\n",
       "      <th>34</th>\n",
       "      <td>call of duty: black ops ii</td>\n",
       "      <td>ps3</td>\n",
       "      <td>2012</td>\n",
       "      <td>shooter</td>\n",
       "      <td>4.99</td>\n",
       "      <td>5.73</td>\n",
       "      <td>0.65</td>\n",
       "      <td>2.42</td>\n",
       "      <td>83.0</td>\n",
       "      <td>5.3</td>\n",
       "      <td>M</td>\n",
       "      <td>-5.3</td>\n",
       "      <td>13.79</td>\n",
       "    </tr>\n",
       "    <tr>\n",
       "      <th>...</th>\n",
       "      <td>...</td>\n",
       "      <td>...</td>\n",
       "      <td>...</td>\n",
       "      <td>...</td>\n",
       "      <td>...</td>\n",
       "      <td>...</td>\n",
       "      <td>...</td>\n",
       "      <td>...</td>\n",
       "      <td>...</td>\n",
       "      <td>...</td>\n",
       "      <td>...</td>\n",
       "      <td>...</td>\n",
       "      <td>...</td>\n",
       "    </tr>\n",
       "    <tr>\n",
       "      <th>16674</th>\n",
       "      <td>tsukigime ranko's longest day</td>\n",
       "      <td>ps3</td>\n",
       "      <td>2014</td>\n",
       "      <td>action</td>\n",
       "      <td>0.00</td>\n",
       "      <td>0.01</td>\n",
       "      <td>0.00</td>\n",
       "      <td>0.00</td>\n",
       "      <td>NaN</td>\n",
       "      <td>NaN</td>\n",
       "      <td>T</td>\n",
       "      <td>-1.0</td>\n",
       "      <td>0.01</td>\n",
       "    </tr>\n",
       "    <tr>\n",
       "      <th>16678</th>\n",
       "      <td>end of nations</td>\n",
       "      <td>pc</td>\n",
       "      <td>2012</td>\n",
       "      <td>strategy</td>\n",
       "      <td>0.01</td>\n",
       "      <td>0.00</td>\n",
       "      <td>0.00</td>\n",
       "      <td>0.00</td>\n",
       "      <td>NaN</td>\n",
       "      <td>NaN</td>\n",
       "      <td>T</td>\n",
       "      <td>-1.0</td>\n",
       "      <td>0.01</td>\n",
       "    </tr>\n",
       "    <tr>\n",
       "      <th>16682</th>\n",
       "      <td>grisaia no kajitsu: la fruit de la grisaia</td>\n",
       "      <td>psp</td>\n",
       "      <td>2013</td>\n",
       "      <td>adventure</td>\n",
       "      <td>0.00</td>\n",
       "      <td>0.00</td>\n",
       "      <td>0.01</td>\n",
       "      <td>0.00</td>\n",
       "      <td>NaN</td>\n",
       "      <td>NaN</td>\n",
       "      <td>T</td>\n",
       "      <td>-1.0</td>\n",
       "      <td>0.01</td>\n",
       "    </tr>\n",
       "    <tr>\n",
       "      <th>16692</th>\n",
       "      <td>metal gear solid v: ground zeroes</td>\n",
       "      <td>pc</td>\n",
       "      <td>2014</td>\n",
       "      <td>action</td>\n",
       "      <td>0.00</td>\n",
       "      <td>0.01</td>\n",
       "      <td>0.00</td>\n",
       "      <td>0.00</td>\n",
       "      <td>80.0</td>\n",
       "      <td>7.6</td>\n",
       "      <td>M</td>\n",
       "      <td>7.6</td>\n",
       "      <td>0.01</td>\n",
       "    </tr>\n",
       "    <tr>\n",
       "      <th>16707</th>\n",
       "      <td>aiyoku no eustia</td>\n",
       "      <td>psv</td>\n",
       "      <td>2014</td>\n",
       "      <td>misc</td>\n",
       "      <td>0.00</td>\n",
       "      <td>0.00</td>\n",
       "      <td>0.01</td>\n",
       "      <td>0.00</td>\n",
       "      <td>NaN</td>\n",
       "      <td>NaN</td>\n",
       "      <td>T</td>\n",
       "      <td>-1.0</td>\n",
       "      <td>0.01</td>\n",
       "    </tr>\n",
       "  </tbody>\n",
       "</table>\n",
       "<p>2383 rows × 13 columns</p>\n",
       "</div>"
      ],
      "text/plain": [
       "                                             name platform  year_of_release  \\\n",
       "16                             grand theft auto v      ps3             2013   \n",
       "23                             grand theft auto v     x360             2013   \n",
       "31                      call of duty: black ops 3      ps4             2015   \n",
       "33                            pokemon x/pokemon y      3ds             2013   \n",
       "34                     call of duty: black ops ii      ps3             2012   \n",
       "...                                           ...      ...              ...   \n",
       "16674               tsukigime ranko's longest day      ps3             2014   \n",
       "16678                              end of nations       pc             2012   \n",
       "16682  grisaia no kajitsu: la fruit de la grisaia      psp             2013   \n",
       "16692           metal gear solid v: ground zeroes       pc             2014   \n",
       "16707                            aiyoku no eustia      psv             2014   \n",
       "\n",
       "              genre  na_sales  eu_sales  jp_sales  other_sales  critic_score  \\\n",
       "16           action      7.02      9.09      0.98         3.96          97.0   \n",
       "23           action      9.66      5.14      0.06         1.41          97.0   \n",
       "31          shooter      6.03      5.86      0.36         2.38           NaN   \n",
       "33     role-playing      5.28      4.19      4.35         0.78           NaN   \n",
       "34          shooter      4.99      5.73      0.65         2.42          83.0   \n",
       "...             ...       ...       ...       ...          ...           ...   \n",
       "16674        action      0.00      0.01      0.00         0.00           NaN   \n",
       "16678      strategy      0.01      0.00      0.00         0.00           NaN   \n",
       "16682     adventure      0.00      0.00      0.01         0.00           NaN   \n",
       "16692        action      0.00      0.01      0.00         0.00          80.0   \n",
       "16707          misc      0.00      0.00      0.01         0.00           NaN   \n",
       "\n",
       "      user_score rating  cat_user_Score  ventas_totales  \n",
       "16           8.2      M             8.2           21.05  \n",
       "23           8.1      M             8.1           16.27  \n",
       "31           NaN      T            -1.0           14.63  \n",
       "33           NaN      E            -1.0           14.60  \n",
       "34           5.3      M            -5.3           13.79  \n",
       "...          ...    ...             ...             ...  \n",
       "16674        NaN      T            -1.0            0.01  \n",
       "16678        NaN      T            -1.0            0.01  \n",
       "16682        NaN      T            -1.0            0.01  \n",
       "16692        7.6      M             7.6            0.01  \n",
       "16707        NaN      T            -1.0            0.01  \n",
       "\n",
       "[2383 rows x 13 columns]"
      ]
     },
     "execution_count": 53,
     "metadata": {},
     "output_type": "execute_result"
    }
   ],
   "source": [
    "#Trabajaremos solo con los datos que consideras relevantes.\n",
    "#Ignoraremos  los datos de años anteriores ,es decir que estan fuera \n",
    "#de nuestro periodo 2012-2016.\n",
    "filtro2016 = video_juegos[\n",
    "    video_juegos.year_of_release.isin(range (2012, 2016, 1))]\n",
    "filtro2016"
   ]
  },
  {
   "cell_type": "markdown",
   "metadata": {},
   "source": [
    "Analicemos las **ventas totales**, en este filtro, para observar que plataformas fueron las lideres en ventas en el periodo 2012-2016."
   ]
  },
  {
   "cell_type": "code",
   "execution_count": 54,
   "metadata": {},
   "outputs": [
    {
     "data": {
      "image/png": "[encoded data removed]",
      "text/plain": [
       "<Figure size 432x288 with 1 Axes>"
      ]
     },
     "metadata": {
      "needs_background": "light"
     },
     "output_type": "display_data"
    }
   ],
   "source": [
    "#realizamos la traza del filtro de datos para el periodo 2012-201\n",
    "# creando la gráfica de barras\n",
    "plt.bar(filtro2016['platform'], filtro2016['ventas_totales'], \n",
    "        color = 'indigo') \n",
    " \n",
    "plt.xlabel(\"plataformas\", fontweight ='bold', fontsize = 9)\n",
    "plt.ylabel(\"ventas\", fontweight ='bold', fontsize = 9)\n",
    "plt.title(\"VENTAS DE PLATAFORMAS 2012-2016\", fontweight ='bold', fontsize = 12)\n",
    "plt.xticks(rotation=45)\n",
    "plt.grid(True)\n",
    "plt.show()"
   ]
  },
  {
   "cell_type": "markdown",
   "metadata": {},
   "source": [
    "Vamos a analizar las plataformas según su desempeño por año."
   ]
  },
  {
   "cell_type": "code",
   "execution_count": 55,
   "metadata": {},
   "outputs": [
    {
     "data": {
      "text/html": [
       "<div>\n",
       "<style scoped>\n",
       "    .dataframe tbody tr th:only-of-type {\n",
       "        vertical-align: middle;\n",
       "    }\n",
       "\n",
       "    .dataframe tbody tr th {\n",
       "        vertical-align: top;\n",
       "    }\n",
       "\n",
       "    .dataframe thead th {\n",
       "        text-align: right;\n",
       "    }\n",
       "</style>\n",
       "<table border=\"1\" class=\"dataframe\">\n",
       "  <thead>\n",
       "    <tr style=\"text-align: right;\">\n",
       "      <th>year_of_release</th>\n",
       "      <th>2012</th>\n",
       "      <th>2013</th>\n",
       "      <th>2014</th>\n",
       "      <th>2015</th>\n",
       "    </tr>\n",
       "    <tr>\n",
       "      <th>platform</th>\n",
       "      <th></th>\n",
       "      <th></th>\n",
       "      <th></th>\n",
       "      <th></th>\n",
       "    </tr>\n",
       "  </thead>\n",
       "  <tbody>\n",
       "    <tr>\n",
       "      <th>3ds</th>\n",
       "      <td>51.36</td>\n",
       "      <td>56.57</td>\n",
       "      <td>43.76</td>\n",
       "      <td>27.78</td>\n",
       "    </tr>\n",
       "    <tr>\n",
       "      <th>ds</th>\n",
       "      <td>11.01</td>\n",
       "      <td>1.54</td>\n",
       "      <td>NaN</td>\n",
       "      <td>NaN</td>\n",
       "    </tr>\n",
       "    <tr>\n",
       "      <th>pc</th>\n",
       "      <td>23.22</td>\n",
       "      <td>12.38</td>\n",
       "      <td>13.28</td>\n",
       "      <td>8.52</td>\n",
       "    </tr>\n",
       "    <tr>\n",
       "      <th>ps3</th>\n",
       "      <td>107.35</td>\n",
       "      <td>113.25</td>\n",
       "      <td>47.76</td>\n",
       "      <td>16.82</td>\n",
       "    </tr>\n",
       "    <tr>\n",
       "      <th>ps4</th>\n",
       "      <td>NaN</td>\n",
       "      <td>25.99</td>\n",
       "      <td>100.00</td>\n",
       "      <td>118.90</td>\n",
       "    </tr>\n",
       "    <tr>\n",
       "      <th>psp</th>\n",
       "      <td>7.69</td>\n",
       "      <td>3.14</td>\n",
       "      <td>0.24</td>\n",
       "      <td>0.12</td>\n",
       "    </tr>\n",
       "    <tr>\n",
       "      <th>psv</th>\n",
       "      <td>16.19</td>\n",
       "      <td>10.59</td>\n",
       "      <td>11.90</td>\n",
       "      <td>6.25</td>\n",
       "    </tr>\n",
       "    <tr>\n",
       "      <th>wii</th>\n",
       "      <td>21.71</td>\n",
       "      <td>8.59</td>\n",
       "      <td>3.75</td>\n",
       "      <td>1.14</td>\n",
       "    </tr>\n",
       "    <tr>\n",
       "      <th>wiiu</th>\n",
       "      <td>17.56</td>\n",
       "      <td>21.65</td>\n",
       "      <td>22.03</td>\n",
       "      <td>16.35</td>\n",
       "    </tr>\n",
       "    <tr>\n",
       "      <th>x360</th>\n",
       "      <td>99.74</td>\n",
       "      <td>88.58</td>\n",
       "      <td>34.74</td>\n",
       "      <td>11.96</td>\n",
       "    </tr>\n",
       "    <tr>\n",
       "      <th>xone</th>\n",
       "      <td>NaN</td>\n",
       "      <td>18.96</td>\n",
       "      <td>54.07</td>\n",
       "      <td>60.14</td>\n",
       "    </tr>\n",
       "  </tbody>\n",
       "</table>\n",
       "</div>"
      ],
      "text/plain": [
       "year_of_release    2012    2013    2014    2015\n",
       "platform                                       \n",
       "3ds               51.36   56.57   43.76   27.78\n",
       "ds                11.01    1.54     NaN     NaN\n",
       "pc                23.22   12.38   13.28    8.52\n",
       "ps3              107.35  113.25   47.76   16.82\n",
       "ps4                 NaN   25.99  100.00  118.90\n",
       "psp                7.69    3.14    0.24    0.12\n",
       "psv               16.19   10.59   11.90    6.25\n",
       "wii               21.71    8.59    3.75    1.14\n",
       "wiiu              17.56   21.65   22.03   16.35\n",
       "x360              99.74   88.58   34.74   11.96\n",
       "xone                NaN   18.96   54.07   60.14"
      ]
     },
     "execution_count": 55,
     "metadata": {},
     "output_type": "execute_result"
    }
   ],
   "source": [
    "#implementar una tabla dinámica para resumir las ventas\n",
    "#para cada plataforma por año dentro del período 2012-2016\n",
    "desempeño2016 = filtro2016.pivot_table(index='platform',\n",
    "                       values='ventas_totales', \n",
    "                       columns ='year_of_release',\n",
    "                       aggfunc='sum')\n",
    "desempeño2016"
   ]
  },
  {
   "cell_type": "code",
   "execution_count": 56,
   "metadata": {},
   "outputs": [
    {
     "data": {
      "image/png": "[encoded data removed]",
      "text/plain": [
       "<Figure size 720x360 with 1 Axes>"
      ]
     },
     "metadata": {
      "needs_background": "light"
     },
     "output_type": "display_data"
    }
   ],
   "source": [
    "\n",
    "# Definimos el espacio de trabajo para cada barra \n",
    "#indicadora del progreso en ventas de cada plataforma\n",
    "barWidth = 0.25\n",
    "fig = plt.subplots(figsize =(10, 5))\n",
    "\n",
    "# usando los datos de nuestra tabla dinámica\n",
    "#tenemos los siguientes datos\n",
    "\n",
    "tresds=[51.76, 57.04, 3.76, 27.78]\n",
    "ds=[11.67, 1.54 ,0, 0]\n",
    "pc=[23.45, 13.01, 13.28, 8.52]\n",
    "ps3=[108.28, 113.25, 47.76, 16.82]\n",
    "ps4=[0, 25.99, 100.00, 118.90]\n",
    "psp=[7.95, 3.38, 0.24, 0.12]\n",
    "psv=[16.19, 10.59, 12.16, 6.25]\n",
    "wii=[22.94, 8.59, 3.75, 1.14]\n",
    "wiiu=[17.56, 21.65, 22.03, 16.35]\n",
    "x360=[100.72, 88.58, 34.74, 11.96]\n",
    "xone= [0, 18.96, 54.07, 60.14]\n",
    "# posiones de cada una de las listas de datos frente al indicador\n",
    "# horizontal de cada año \n",
    "br1 = np.arange(len(tresds))\n",
    "br2 = [x + barWidth for x in br1]\n",
    "br3 = [x + barWidth for x in br2]\n",
    "br4 = [x + barWidth for x in br3]\n",
    "br5 = [x + barWidth for x in br4]\n",
    "br6 = [x + barWidth for x in br5]\n",
    "br7 = [x + barWidth for x in br6]\n",
    "br8 = [x + barWidth for x in br7]\n",
    "br9 = [x + barWidth for x in br8]\n",
    "br10 = [x + barWidth for x in br9] \n",
    "br11 = [x + barWidth for x in br10] \n",
    "\n",
    "    \n",
    "# implementación de las gráficas de barras para cada plataforma\n",
    "plt.bar(br1, tresds, color ='gold', width = barWidth,\n",
    "edgecolor ='grey', label ='3ds')\n",
    "plt.bar(br2, ds, color ='grey', width = barWidth,\n",
    "edgecolor ='grey', label ='ds')\n",
    "plt.bar(br3, pc, color ='peru', width = barWidth,\n",
    "edgecolor ='grey', label ='pc')\n",
    "plt.bar(br4, ps3, color ='aquamarine', width = barWidth,\n",
    "edgecolor ='grey', label ='ps3')\n",
    "plt.bar(br5, ps4, color ='darkseagreen', width = barWidth,\n",
    "edgecolor ='grey', label ='ps4')\n",
    "plt.bar(br6, psp, color ='tomato', width = barWidth,\n",
    "edgecolor ='grey', label ='psp')        \n",
    "plt.bar(br7, psv, color ='olive', width = barWidth,\n",
    "edgecolor ='grey', label ='psv')\n",
    "plt.bar(br8, wii, color ='orange', width = barWidth,\n",
    "edgecolor ='grey', label ='wii')\n",
    "plt.bar(br9, wiiu, color ='dodgerblue', width = barWidth,\n",
    "edgecolor ='grey', label ='wiiu')\n",
    "plt.bar(br10, x360, color ='b', width = barWidth,\n",
    "edgecolor ='grey', label ='x360')\n",
    "plt.bar(br11, xone, color ='red', width = barWidth,\n",
    "edgecolor ='grey', label ='xone')\n",
    "\n",
    "\n",
    "# Se adicionan los titulos\n",
    "plt.xlabel('Años', fontweight ='bold', fontsize = 15)\n",
    "plt.ylabel('Ventas Totales', fontweight ='bold', fontsize = 15)\n",
    "plt.xticks([r + barWidth for r in range(len(tresds))],\n",
    "    ['2012', '2013', '2014', '2015'])\n",
    "\n",
    "plt.legend()\n",
    "plt.grid(True)\n",
    "plt.show()\n"
   ]
  },
  {
   "cell_type": "markdown",
   "metadata": {},
   "source": [
    "Los resultados obtenidos son:\n",
    " - Las plataformas líderes en ventas; PS3, X360, PS4, 3DS.\n",
    " - En crecimiento: PS2, WIIU, etc."
   ]
  },
  {
   "cell_type": "markdown",
   "metadata": {},
   "source": [
    ".<a id=paso3-2></a>\n",
    "### Análisis del promedio en ventas por plataforma."
   ]
  },
  {
   "cell_type": "markdown",
   "metadata": {},
   "source": [
    "Analizaré con un diagrama de caja  las ventas globales de todos los juegos, desglosados por plataforma. Lo anteiror para buscar diferencias significativas en las ventas. "
   ]
  },
  {
   "cell_type": "code",
   "execution_count": 57,
   "metadata": {},
   "outputs": [
    {
     "data": {
      "image/png": "[encoded data removed]",
      "text/plain": [
       "<Figure size 720x360 with 1 Axes>"
      ]
     },
     "metadata": {
      "needs_background": "light"
     },
     "output_type": "display_data"
    }
   ],
   "source": [
    "#se realiza un gráfico tipo caja para observar las ventas \n",
    "#desglozabo por plataformas\n",
    "\n",
    "video_juegos.boxplot(column= 'ventas_totales', \n",
    "                     by ='platform', \n",
    "                     figsize=(10, 5))\n",
    "plt.xticks(rotation=45)\n",
    "plt.xlabel(\"plataformas\", \n",
    "           fontweight ='bold', \n",
    "           fontsize = 9)\n",
    "plt.ylabel(\"ventas\", \n",
    "           fontweight ='bold', \n",
    "           fontsize = 9)\n",
    "plt.title(\"VENTAS DE TOTALES DE VIDEO JUEGOS POR PLATAFORMA\", \n",
    "          fontweight ='bold', \n",
    "          fontsize = 12)\n",
    "plt.xticks(rotation=45)\n",
    "plt.ylim(-0.5, 4)  #establece el rango para el eje vertical\n",
    "plt.grid(True)\n",
    "plt.show()"
   ]
  },
  {
   "cell_type": "markdown",
   "metadata": {},
   "source": [
    "Existe mucha dispersión en los datos considerados atípicos. Observemos las ventas promedio para observar la tendencia central de la muestra."
   ]
  },
  {
   "cell_type": "code",
   "execution_count": 58,
   "metadata": {},
   "outputs": [
    {
     "data": {
      "text/html": [
       "<div>\n",
       "<style scoped>\n",
       "    .dataframe tbody tr th:only-of-type {\n",
       "        vertical-align: middle;\n",
       "    }\n",
       "\n",
       "    .dataframe tbody tr th {\n",
       "        vertical-align: top;\n",
       "    }\n",
       "\n",
       "    .dataframe thead th {\n",
       "        text-align: right;\n",
       "    }\n",
       "</style>\n",
       "<table border=\"1\" class=\"dataframe\">\n",
       "  <thead>\n",
       "    <tr style=\"text-align: right;\">\n",
       "      <th></th>\n",
       "      <th>ventas_totales</th>\n",
       "    </tr>\n",
       "    <tr>\n",
       "      <th>platform</th>\n",
       "      <th></th>\n",
       "    </tr>\n",
       "  </thead>\n",
       "  <tbody>\n",
       "    <tr>\n",
       "      <th>pcfx</th>\n",
       "      <td>0.030000</td>\n",
       "    </tr>\n",
       "    <tr>\n",
       "      <th>3do</th>\n",
       "      <td>0.033333</td>\n",
       "    </tr>\n",
       "    <tr>\n",
       "      <th>gg</th>\n",
       "      <td>0.040000</td>\n",
       "    </tr>\n",
       "    <tr>\n",
       "      <th>tg16</th>\n",
       "      <td>0.080000</td>\n",
       "    </tr>\n",
       "    <tr>\n",
       "      <th>ng</th>\n",
       "      <td>0.120000</td>\n",
       "    </tr>\n",
       "    <tr>\n",
       "      <th>psv</th>\n",
       "      <td>0.125431</td>\n",
       "    </tr>\n",
       "    <tr>\n",
       "      <th>sat</th>\n",
       "      <td>0.194162</td>\n",
       "    </tr>\n",
       "    <tr>\n",
       "      <th>ws</th>\n",
       "      <td>0.236667</td>\n",
       "    </tr>\n",
       "    <tr>\n",
       "      <th>psp</th>\n",
       "      <td>0.242691</td>\n",
       "    </tr>\n",
       "    <tr>\n",
       "      <th>pc</th>\n",
       "      <td>0.267252</td>\n",
       "    </tr>\n",
       "    <tr>\n",
       "      <th>dc</th>\n",
       "      <td>0.306731</td>\n",
       "    </tr>\n",
       "    <tr>\n",
       "      <th>scd</th>\n",
       "      <td>0.310000</td>\n",
       "    </tr>\n",
       "    <tr>\n",
       "      <th>xb</th>\n",
       "      <td>0.313288</td>\n",
       "    </tr>\n",
       "    <tr>\n",
       "      <th>gc</th>\n",
       "      <td>0.362970</td>\n",
       "    </tr>\n",
       "    <tr>\n",
       "      <th>ds</th>\n",
       "      <td>0.378491</td>\n",
       "    </tr>\n",
       "    <tr>\n",
       "      <th>gba</th>\n",
       "      <td>0.385795</td>\n",
       "    </tr>\n",
       "    <tr>\n",
       "      <th>3ds</th>\n",
       "      <td>0.503535</td>\n",
       "    </tr>\n",
       "    <tr>\n",
       "      <th>wiiu</th>\n",
       "      <td>0.559116</td>\n",
       "    </tr>\n",
       "    <tr>\n",
       "      <th>ps2</th>\n",
       "      <td>0.579953</td>\n",
       "    </tr>\n",
       "    <tr>\n",
       "      <th>ps</th>\n",
       "      <td>0.611412</td>\n",
       "    </tr>\n",
       "    <tr>\n",
       "      <th>xone</th>\n",
       "      <td>0.645020</td>\n",
       "    </tr>\n",
       "    <tr>\n",
       "      <th>n64</th>\n",
       "      <td>0.689905</td>\n",
       "    </tr>\n",
       "    <tr>\n",
       "      <th>wii</th>\n",
       "      <td>0.692986</td>\n",
       "    </tr>\n",
       "    <tr>\n",
       "      <th>ps3</th>\n",
       "      <td>0.713663</td>\n",
       "    </tr>\n",
       "    <tr>\n",
       "      <th>2600</th>\n",
       "      <td>0.745517</td>\n",
       "    </tr>\n",
       "    <tr>\n",
       "      <th>x360</th>\n",
       "      <td>0.780227</td>\n",
       "    </tr>\n",
       "    <tr>\n",
       "      <th>ps4</th>\n",
       "      <td>0.801378</td>\n",
       "    </tr>\n",
       "    <tr>\n",
       "      <th>snes</th>\n",
       "      <td>0.836987</td>\n",
       "    </tr>\n",
       "    <tr>\n",
       "      <th>gen</th>\n",
       "      <td>1.050000</td>\n",
       "    </tr>\n",
       "    <tr>\n",
       "      <th>nes</th>\n",
       "      <td>2.561735</td>\n",
       "    </tr>\n",
       "    <tr>\n",
       "      <th>gb</th>\n",
       "      <td>2.622990</td>\n",
       "    </tr>\n",
       "  </tbody>\n",
       "</table>\n",
       "</div>"
      ],
      "text/plain": [
       "          ventas_totales\n",
       "platform                \n",
       "pcfx            0.030000\n",
       "3do             0.033333\n",
       "gg              0.040000\n",
       "tg16            0.080000\n",
       "ng              0.120000\n",
       "psv             0.125431\n",
       "sat             0.194162\n",
       "ws              0.236667\n",
       "psp             0.242691\n",
       "pc              0.267252\n",
       "dc              0.306731\n",
       "scd             0.310000\n",
       "xb              0.313288\n",
       "gc              0.362970\n",
       "ds              0.378491\n",
       "gba             0.385795\n",
       "3ds             0.503535\n",
       "wiiu            0.559116\n",
       "ps2             0.579953\n",
       "ps              0.611412\n",
       "xone            0.645020\n",
       "n64             0.689905\n",
       "wii             0.692986\n",
       "ps3             0.713663\n",
       "2600            0.745517\n",
       "x360            0.780227\n",
       "ps4             0.801378\n",
       "snes            0.836987\n",
       "gen             1.050000\n",
       "nes             2.561735\n",
       "gb              2.622990"
      ]
     },
     "execution_count": 58,
     "metadata": {},
     "output_type": "execute_result"
    }
   ],
   "source": [
    "#implemetamos una tabla dinámica, que nos permita visulizar\n",
    "#la información de ventas promedio por plataforma\n",
    "venta_promedio_plataform = video_juegos.pivot_table(\n",
    "    index='platform', \n",
    "    values='ventas_totales',\n",
    "    aggfunc='mean')\n",
    "venta_promedio_plataform.sort_values(by=['ventas_totales'])"
   ]
  },
  {
   "cell_type": "code",
   "execution_count": 59,
   "metadata": {},
   "outputs": [
    {
     "data": {
      "image/png": "[encoded data removed]",
      "text/plain": [
       "<Figure size 432x288 with 1 Axes>"
      ]
     },
     "metadata": {
      "needs_background": "light"
     },
     "output_type": "display_data"
    }
   ],
   "source": [
    "#implementamos un gráfico para visulizar la diferencia que\n",
    "#se presenta en unas plataforma con respecto a las demas\n",
    "venta_promedio_plataform.sort_values(by=['ventas_totales']).plot()\n",
    "plt.xticks(rotation=45)\n",
    "plt.xlabel(\"plataformas\", fontweight ='bold', fontsize = 9)\n",
    "plt.ylabel(\"ventas totales\", fontweight ='bold', fontsize = 9)\n",
    "plt.title(\"VENTAS DE PROMEDIO\", fontweight ='bold', fontsize = 12)\n",
    "plt.xticks(rotation=45)\n",
    "plt.grid(True)\n",
    "plt.show()"
   ]
  },
  {
   "cell_type": "markdown",
   "metadata": {},
   "source": [
    "Sucede que hay cambios al considerar  las ventas promedio por plataformas. Se presentan con amplia superioridad a las consolas: **gb, nes** y **gen**."
   ]
  },
  {
   "cell_type": "markdown",
   "metadata": {},
   "source": [
    ".<a id=paso3-3></a>\n",
    "### Efecto de las reseñas sobre las ventas."
   ]
  },
  {
   "cell_type": "markdown",
   "metadata": {},
   "source": [
    "Para observar cómo las reseñas de usuarios y profesionales afectan las ventas de una plataforma popular, implementemos un gráfico de dispersión "
   ]
  },
  {
   "cell_type": "code",
   "execution_count": 60,
   "metadata": {},
   "outputs": [
    {
     "data": {
      "image/png": "[encoded data removed]",
      "text/plain": [
       "<Figure size 432x288 with 1 Axes>"
      ]
     },
     "metadata": {
      "needs_background": "light"
     },
     "output_type": "display_data"
    }
   ],
   "source": [
    "#implemetamos el gráfico de dispersión propuesto en las lineas \n",
    "#anteriormente descritas\n",
    "video_juegos.plot(x='critic_score', \n",
    "                  y='ventas_totales', \n",
    "           kind='scatter', \n",
    "           alpha=0.1, color = 'olive')\n",
    "plt.title('Correlación entre las Críticas y Ventas', \n",
    "          fontweight ='bold', fontsize = 12)  \n",
    "plt.ylim(0, 7)\n",
    "plt.xlabel('Critica', fontweight ='bold', fontsize = 10)\n",
    "plt.ylabel('Ventas Totales', fontweight ='bold', fontsize = 10)\n",
    "plt.grid(True)\n",
    "plt.show()"
   ]
  },
  {
   "cell_type": "markdown",
   "metadata": {},
   "source": [
    "Existe forma de medir la correlación que se presenta visualmente en el gráfico anterior, mediante el uso del coeficiente de correlación de Pearson."
   ]
  },
  {
   "cell_type": "code",
   "execution_count": 61,
   "metadata": {},
   "outputs": [
    {
     "data": {
      "text/plain": [
       "0.24541357385073304"
      ]
     },
     "execution_count": 61,
     "metadata": {},
     "output_type": "execute_result"
    }
   ],
   "source": [
    "# vamos a comparar las ventas promedio contra las evaluaciones de las\n",
    "#criticas de expertos en el tema \n",
    "video_juegos['critic_score'].corr(video_juegos['ventas_totales']) "
   ]
  },
  {
   "cell_type": "markdown",
   "metadata": {},
   "source": [
    "Existe una correlación positiva, aunque muy débil.\n",
    "\n",
    "A continuación usemos la categorización, de la columna usando la variable, <em> cat_user_Score </em>."
   ]
  },
  {
   "cell_type": "code",
   "execution_count": 62,
   "metadata": {},
   "outputs": [
    {
     "data": {
      "text/plain": [
       "dtype('float64')"
      ]
     },
     "execution_count": 62,
     "metadata": {},
     "output_type": "execute_result"
    }
   ],
   "source": [
    "#cambiamos el tipo de datos para poder potenciar una\n",
    "#prueba de correlación lineal con la variable ventas_totales\n",
    "video_juegos['cat_user_Score'] = video_juegos['cat_user_Score'].astype('float')\n",
    "video_juegos['cat_user_Score'].dtypes\n"
   ]
  },
  {
   "cell_type": "markdown",
   "metadata": {},
   "source": [
    "Observemos si se observa correlación entre los valores reprobatorios de la variable."
   ]
  },
  {
   "cell_type": "code",
   "execution_count": 63,
   "metadata": {},
   "outputs": [
    {
     "data": {
      "image/png": "[encoded data removed]",
      "text/plain": [
       "<Figure size 720x360 with 1 Axes>"
      ]
     },
     "metadata": {
      "needs_background": "light"
     },
     "output_type": "display_data"
    }
   ],
   "source": [
    "#implemetamos el gráfico de dispersión propuesto en las lineas \n",
    "#anteriormente descritas\n",
    "video_juegos.loc[video_juegos['cat_user_Score'] <= 0].sort_values( by = 'cat_user_Score', \n",
    "                         ascending=True).plot(x='cat_user_Score', \n",
    "                                              y='ventas_totales', \n",
    "                                              kind='scatter', \n",
    "                                              alpha=0.5, \n",
    "                                              color = 'purple', \n",
    "                                              figsize=(10, 5))\n",
    "plt.title('Correlación entre las opiniones de Usuarios y Ventas', \n",
    "          fontweight ='bold', fontsize = 12)  \n",
    "plt.ylim(0, 4)\n",
    "plt.xlabel('Opiniones con reprobación de los Usuarios', fontweight ='bold', fontsize = 10)\n",
    "plt.ylabel('Ventas Totales', fontweight ='bold', fontsize = 10)\n",
    "plt.grid(True)\n",
    "plt.xticks(rotation=45)\n",
    "plt.show()"
   ]
  },
  {
   "cell_type": "markdown",
   "metadata": {},
   "source": [
    "Teniendo en cuenta que modificamos los datos a negativos para calificaciones reprobatorias y que incluimos los valores de cero,que expresan los valores TBD, de los video juegos por evaluar. A la vista hay cierta tendencia de correlación linea, positiva."
   ]
  },
  {
   "cell_type": "code",
   "execution_count": 64,
   "metadata": {},
   "outputs": [
    {
     "data": {
      "image/png": "[encoded data removed]",
      "text/plain": [
       "<Figure size 720x360 with 1 Axes>"
      ]
     },
     "metadata": {
      "needs_background": "light"
     },
     "output_type": "display_data"
    }
   ],
   "source": [
    "#implemetamos el gráfico de dispersión propuesto en las lineas \n",
    "#anteriormente descritas\n",
    "video_juegos.loc[video_juegos['cat_user_Score'] >= 0].sort_values( by = 'cat_user_Score', \n",
    "                         ascending=True).plot(x='cat_user_Score', \n",
    "                                              y='ventas_totales', \n",
    "                                              kind='scatter', \n",
    "                                              alpha=0.5, \n",
    "                                              color = 'purple', \n",
    "                                              figsize=(10, 5))\n",
    "plt.title('Correlación entre las opiniones de Usuarios y Ventas', \n",
    "          fontweight ='bold', fontsize = 12)  \n",
    "plt.xlim(6, 10)\n",
    "plt.ylim(0, 10)\n",
    "plt.xlabel('Opiniones con Aprobación de los Usuarios', fontweight ='bold', fontsize = 10)\n",
    "plt.ylabel('Ventas Totales', fontweight ='bold', fontsize = 10)\n",
    "plt.grid(True)\n",
    "plt.xticks(rotation=45)\n",
    "plt.show()"
   ]
  },
  {
   "cell_type": "markdown",
   "metadata": {},
   "source": [
    "El analisís de la categorización de la variable indica una tendencia, verifiquemos esto con los registros que tenemos completos en esta variable."
   ]
  },
  {
   "cell_type": "code",
   "execution_count": 65,
   "metadata": {
    "scrolled": true
   },
   "outputs": [
    {
     "data": {
      "image/png": "[encoded data removed]",
      "text/plain": [
       "<Figure size 720x360 with 1 Axes>"
      ]
     },
     "metadata": {
      "needs_background": "light"
     },
     "output_type": "display_data"
    }
   ],
   "source": [
    "#implemetamos el gráfico de dispersión propuesto en las lineas \n",
    "#anteriormente descritas\n",
    "video_juegos.loc[video_juegos['user_score'].isnull()== False \n",
    "                ].sort_values( by = 'user_score', \n",
    "                         ascending=True).plot(x='user_score', \n",
    "                                              y='ventas_totales', \n",
    "                                              kind='scatter', \n",
    "                                              alpha=0.1, \n",
    "                                              color = 'purple', \n",
    "                                              figsize=(10, 5))\n",
    "plt.title('Correlación entre las opiniones de Usuarios y Ventas', \n",
    "          fontweight ='bold', fontsize = 12)  \n",
    "plt.xlim(35, 100)\n",
    "plt.ylim(0, 20)\n",
    "plt.xlabel('Opinión Usuarios', fontweight ='bold', fontsize = 10)\n",
    "plt.ylabel('Ventas Totales', fontweight ='bold', fontsize = 10)\n",
    "plt.grid(True)\n",
    "plt.xticks(rotation=45)\n",
    "plt.show()"
   ]
  },
  {
   "cell_type": "markdown",
   "metadata": {},
   "source": [
    "Existe una correlación positiva, aunque muy débil. Confirmemos mediante una evaluación con el coeficiente de correlación, usando la categorización de la variable <em>user_score</em> que es <em>cat_user_Score</em>."
   ]
  },
  {
   "cell_type": "code",
   "execution_count": 66,
   "metadata": {},
   "outputs": [
    {
     "data": {
      "text/plain": [
       "0.12094207566221299"
      ]
     },
     "execution_count": 66,
     "metadata": {},
     "output_type": "execute_result"
    }
   ],
   "source": [
    "# vamos a comparar las ventas promedio contra las evaluaciones de las\n",
    "#criticas de usuarios en el tema \n",
    "video_juegos['cat_user_Score'].corr(video_juegos['ventas_totales']) "
   ]
  },
  {
   "cell_type": "markdown",
   "metadata": {},
   "source": [
    ".<a id=paso3-4></a>\n",
    "### Comparando las ventas de  mismos juegos en otras plataformas."
   ]
  },
  {
   "cell_type": "markdown",
   "metadata": {},
   "source": [
    "Realizemos una tabla dinámica que nos permita observar las ventas, de cada una de los videojuegos frente a las plataformas en las que se les designó el lanzamiento.\n",
    "\n",
    "Para tal efecto, vamos a usar los datos de las consolas con mayor desempeño de ventas por año, ádemas de incluir la de asenso en las ventas durante los último 16 años. Según lo obtenido en los apartados anteriores."
   ]
  },
  {
   "cell_type": "code",
   "execution_count": 67,
   "metadata": {},
   "outputs": [
    {
     "data": {
      "text/html": [
       "<div>\n",
       "<style scoped>\n",
       "    .dataframe tbody tr th:only-of-type {\n",
       "        vertical-align: middle;\n",
       "    }\n",
       "\n",
       "    .dataframe tbody tr th {\n",
       "        vertical-align: top;\n",
       "    }\n",
       "\n",
       "    .dataframe thead th {\n",
       "        text-align: right;\n",
       "    }\n",
       "</style>\n",
       "<table border=\"1\" class=\"dataframe\">\n",
       "  <thead>\n",
       "    <tr style=\"text-align: right;\">\n",
       "      <th></th>\n",
       "      <th>platform</th>\n",
       "    </tr>\n",
       "    <tr>\n",
       "      <th>name</th>\n",
       "      <th></th>\n",
       "    </tr>\n",
       "  </thead>\n",
       "  <tbody>\n",
       "    <tr>\n",
       "      <th>7 days to die</th>\n",
       "      <td>2</td>\n",
       "    </tr>\n",
       "    <tr>\n",
       "      <th>adventure time: explore the dungeon because i don't know!</th>\n",
       "      <td>2</td>\n",
       "    </tr>\n",
       "    <tr>\n",
       "      <th>adventure time: finn &amp; jake investigations</th>\n",
       "      <td>4</td>\n",
       "    </tr>\n",
       "    <tr>\n",
       "      <th>aegis of earth: protonovus assault</th>\n",
       "      <td>2</td>\n",
       "    </tr>\n",
       "    <tr>\n",
       "      <th>agatha christie's the abc murders</th>\n",
       "      <td>2</td>\n",
       "    </tr>\n",
       "    <tr>\n",
       "      <th>...</th>\n",
       "      <td>...</td>\n",
       "    </tr>\n",
       "    <tr>\n",
       "      <th>yoshi</th>\n",
       "      <td>2</td>\n",
       "    </tr>\n",
       "    <tr>\n",
       "      <th>yoshi's cookie</th>\n",
       "      <td>2</td>\n",
       "    </tr>\n",
       "    <tr>\n",
       "      <th>young justice: legacy</th>\n",
       "      <td>2</td>\n",
       "    </tr>\n",
       "    <tr>\n",
       "      <th>zombie army trilogy</th>\n",
       "      <td>2</td>\n",
       "    </tr>\n",
       "    <tr>\n",
       "      <th>zombiu</th>\n",
       "      <td>2</td>\n",
       "    </tr>\n",
       "  </tbody>\n",
       "</table>\n",
       "<p>352 rows × 1 columns</p>\n",
       "</div>"
      ],
      "text/plain": [
       "                                                    platform\n",
       "name                                                        \n",
       "7 days to die                                              2\n",
       "adventure time: explore the dungeon because i d...         2\n",
       "adventure time: finn & jake investigations                 4\n",
       "aegis of earth: protonovus assault                         2\n",
       "agatha christie's the abc murders                          2\n",
       "...                                                      ...\n",
       "yoshi                                                      2\n",
       "yoshi's cookie                                             2\n",
       "young justice: legacy                                      2\n",
       "zombie army trilogy                                        2\n",
       "zombiu                                                     2\n",
       "\n",
       "[352 rows x 1 columns]"
      ]
     },
     "execution_count": 67,
     "metadata": {},
     "output_type": "execute_result"
    }
   ],
   "source": [
    "#con una tabla dinámica, obtenemos que juegos a sido lanzados en \n",
    "#mas de una plataforma, para realizar comparativos de \n",
    "#desempeño en ventas\n",
    "mas_plataform = video_juegos.loc[\n",
    "                    video_juegos.platform.isin(\n",
    "                     [\"ps4\" ,\"ps3\",\"xone\",\"3ds\",\"gb\",\"nes\",\"gen\"])              \n",
    "                                ].pivot_table(index= 'name', \n",
    "                                             values= 'platform',\n",
    "                                            aggfunc= 'count')\n",
    "mas_plataform = mas_plataform.loc[\n",
    "    mas_plataform['platform'] > 1]\n",
    "mas_plataform"
   ]
  },
  {
   "cell_type": "code",
   "execution_count": 68,
   "metadata": {},
   "outputs": [
    {
     "data": {
      "text/html": [
       "<div>\n",
       "<style scoped>\n",
       "    .dataframe tbody tr th:only-of-type {\n",
       "        vertical-align: middle;\n",
       "    }\n",
       "\n",
       "    .dataframe tbody tr th {\n",
       "        vertical-align: top;\n",
       "    }\n",
       "\n",
       "    .dataframe thead th {\n",
       "        text-align: right;\n",
       "    }\n",
       "</style>\n",
       "<table border=\"1\" class=\"dataframe\">\n",
       "  <thead>\n",
       "    <tr style=\"text-align: right;\">\n",
       "      <th>platform</th>\n",
       "      <th>3ds</th>\n",
       "      <th>ps3</th>\n",
       "      <th>ps4</th>\n",
       "      <th>x360</th>\n",
       "      <th>xone</th>\n",
       "    </tr>\n",
       "    <tr>\n",
       "      <th>name</th>\n",
       "      <th></th>\n",
       "      <th></th>\n",
       "      <th></th>\n",
       "      <th></th>\n",
       "      <th></th>\n",
       "    </tr>\n",
       "  </thead>\n",
       "  <tbody>\n",
       "    <tr>\n",
       "      <th>alien: isolation</th>\n",
       "      <td>0.00</td>\n",
       "      <td>0.00</td>\n",
       "      <td>1.12</td>\n",
       "      <td>0.00</td>\n",
       "      <td>0.00</td>\n",
       "    </tr>\n",
       "    <tr>\n",
       "      <th>assassin's creed iv: black flag</th>\n",
       "      <td>0.00</td>\n",
       "      <td>3.71</td>\n",
       "      <td>0.00</td>\n",
       "      <td>0.00</td>\n",
       "      <td>0.00</td>\n",
       "    </tr>\n",
       "    <tr>\n",
       "      <th>atelier sophie: the alchemist of the mysterious book</th>\n",
       "      <td>0.00</td>\n",
       "      <td>0.00</td>\n",
       "      <td>0.12</td>\n",
       "      <td>0.00</td>\n",
       "      <td>0.00</td>\n",
       "    </tr>\n",
       "    <tr>\n",
       "      <th>brothers: a tale of two sons</th>\n",
       "      <td>0.00</td>\n",
       "      <td>0.00</td>\n",
       "      <td>0.13</td>\n",
       "      <td>0.00</td>\n",
       "      <td>0.04</td>\n",
       "    </tr>\n",
       "    <tr>\n",
       "      <th>dark souls ii</th>\n",
       "      <td>0.00</td>\n",
       "      <td>1.28</td>\n",
       "      <td>0.00</td>\n",
       "      <td>0.00</td>\n",
       "      <td>0.00</td>\n",
       "    </tr>\n",
       "    <tr>\n",
       "      <th>grand theft auto v</th>\n",
       "      <td>0.00</td>\n",
       "      <td>21.05</td>\n",
       "      <td>12.62</td>\n",
       "      <td>16.27</td>\n",
       "      <td>0.00</td>\n",
       "    </tr>\n",
       "    <tr>\n",
       "      <th>jojo's bizarre adventure: all star battle</th>\n",
       "      <td>0.00</td>\n",
       "      <td>0.58</td>\n",
       "      <td>0.00</td>\n",
       "      <td>0.00</td>\n",
       "      <td>0.00</td>\n",
       "    </tr>\n",
       "    <tr>\n",
       "      <th>lego the hobbit</th>\n",
       "      <td>0.00</td>\n",
       "      <td>0.00</td>\n",
       "      <td>0.00</td>\n",
       "      <td>0.45</td>\n",
       "      <td>0.00</td>\n",
       "    </tr>\n",
       "    <tr>\n",
       "      <th>metal gear solid v: the phantom pain</th>\n",
       "      <td>0.00</td>\n",
       "      <td>0.00</td>\n",
       "      <td>3.42</td>\n",
       "      <td>0.00</td>\n",
       "      <td>0.00</td>\n",
       "    </tr>\n",
       "    <tr>\n",
       "      <th>metro: last light</th>\n",
       "      <td>0.00</td>\n",
       "      <td>0.42</td>\n",
       "      <td>0.00</td>\n",
       "      <td>0.35</td>\n",
       "      <td>0.00</td>\n",
       "    </tr>\n",
       "    <tr>\n",
       "      <th>middle-earth: shadow of mordor</th>\n",
       "      <td>0.00</td>\n",
       "      <td>0.00</td>\n",
       "      <td>2.96</td>\n",
       "      <td>0.00</td>\n",
       "      <td>0.00</td>\n",
       "    </tr>\n",
       "    <tr>\n",
       "      <th>rayman legends</th>\n",
       "      <td>0.00</td>\n",
       "      <td>0.58</td>\n",
       "      <td>1.02</td>\n",
       "      <td>0.43</td>\n",
       "      <td>0.00</td>\n",
       "    </tr>\n",
       "    <tr>\n",
       "      <th>samurai warriors 4</th>\n",
       "      <td>0.00</td>\n",
       "      <td>0.00</td>\n",
       "      <td>0.24</td>\n",
       "      <td>0.00</td>\n",
       "      <td>0.00</td>\n",
       "    </tr>\n",
       "    <tr>\n",
       "      <th>shovel knight</th>\n",
       "      <td>0.15</td>\n",
       "      <td>0.00</td>\n",
       "      <td>0.00</td>\n",
       "      <td>0.00</td>\n",
       "      <td>0.00</td>\n",
       "    </tr>\n",
       "    <tr>\n",
       "      <th>steins;gate 0</th>\n",
       "      <td>0.00</td>\n",
       "      <td>0.00</td>\n",
       "      <td>0.05</td>\n",
       "      <td>0.00</td>\n",
       "      <td>0.00</td>\n",
       "    </tr>\n",
       "    <tr>\n",
       "      <th>the elder scrolls online</th>\n",
       "      <td>0.00</td>\n",
       "      <td>0.00</td>\n",
       "      <td>0.00</td>\n",
       "      <td>0.00</td>\n",
       "      <td>1.28</td>\n",
       "    </tr>\n",
       "    <tr>\n",
       "      <th>the last of us</th>\n",
       "      <td>0.00</td>\n",
       "      <td>5.86</td>\n",
       "      <td>0.00</td>\n",
       "      <td>0.00</td>\n",
       "      <td>0.00</td>\n",
       "    </tr>\n",
       "    <tr>\n",
       "      <th>the witcher 3: wild hunt</th>\n",
       "      <td>0.00</td>\n",
       "      <td>0.00</td>\n",
       "      <td>3.97</td>\n",
       "      <td>0.00</td>\n",
       "      <td>1.30</td>\n",
       "    </tr>\n",
       "    <tr>\n",
       "      <th>the wolf among us</th>\n",
       "      <td>0.00</td>\n",
       "      <td>0.00</td>\n",
       "      <td>0.21</td>\n",
       "      <td>0.00</td>\n",
       "      <td>0.00</td>\n",
       "    </tr>\n",
       "    <tr>\n",
       "      <th>wolfenstein: the new order</th>\n",
       "      <td>0.00</td>\n",
       "      <td>0.00</td>\n",
       "      <td>1.54</td>\n",
       "      <td>0.00</td>\n",
       "      <td>0.00</td>\n",
       "    </tr>\n",
       "  </tbody>\n",
       "</table>\n",
       "</div>"
      ],
      "text/plain": [
       "platform                                             3ds    ps3    ps4   x360  \\\n",
       "name                                                                            \n",
       "alien: isolation                                    0.00   0.00   1.12   0.00   \n",
       "assassin's creed iv: black flag                     0.00   3.71   0.00   0.00   \n",
       "atelier sophie: the alchemist of the mysterious...  0.00   0.00   0.12   0.00   \n",
       "brothers: a tale of two sons                        0.00   0.00   0.13   0.00   \n",
       "dark souls ii                                       0.00   1.28   0.00   0.00   \n",
       "grand theft auto v                                  0.00  21.05  12.62  16.27   \n",
       "jojo's bizarre adventure: all star battle           0.00   0.58   0.00   0.00   \n",
       "lego the hobbit                                     0.00   0.00   0.00   0.45   \n",
       "metal gear solid v: the phantom pain                0.00   0.00   3.42   0.00   \n",
       "metro: last light                                   0.00   0.42   0.00   0.35   \n",
       "middle-earth: shadow of mordor                      0.00   0.00   2.96   0.00   \n",
       "rayman legends                                      0.00   0.58   1.02   0.43   \n",
       "samurai warriors 4                                  0.00   0.00   0.24   0.00   \n",
       "shovel knight                                       0.15   0.00   0.00   0.00   \n",
       "steins;gate 0                                       0.00   0.00   0.05   0.00   \n",
       "the elder scrolls online                            0.00   0.00   0.00   0.00   \n",
       "the last of us                                      0.00   5.86   0.00   0.00   \n",
       "the witcher 3: wild hunt                            0.00   0.00   3.97   0.00   \n",
       "the wolf among us                                   0.00   0.00   0.21   0.00   \n",
       "wolfenstein: the new order                          0.00   0.00   1.54   0.00   \n",
       "\n",
       "platform                                            xone  \n",
       "name                                                      \n",
       "alien: isolation                                    0.00  \n",
       "assassin's creed iv: black flag                     0.00  \n",
       "atelier sophie: the alchemist of the mysterious...  0.00  \n",
       "brothers: a tale of two sons                        0.04  \n",
       "dark souls ii                                       0.00  \n",
       "grand theft auto v                                  0.00  \n",
       "jojo's bizarre adventure: all star battle           0.00  \n",
       "lego the hobbit                                     0.00  \n",
       "metal gear solid v: the phantom pain                0.00  \n",
       "metro: last light                                   0.00  \n",
       "middle-earth: shadow of mordor                      0.00  \n",
       "rayman legends                                      0.00  \n",
       "samurai warriors 4                                  0.00  \n",
       "shovel knight                                       0.00  \n",
       "steins;gate 0                                       0.00  \n",
       "the elder scrolls online                            1.28  \n",
       "the last of us                                      0.00  \n",
       "the witcher 3: wild hunt                            1.30  \n",
       "the wolf among us                                   0.00  \n",
       "wolfenstein: the new order                          0.00  "
      ]
     },
     "execution_count": 68,
     "metadata": {},
     "output_type": "execute_result"
    }
   ],
   "source": [
    "#se prepara un filtro para obtener los datos relevantes\n",
    "rangoAños = range (2013, 2016, 1)\n",
    "rangoJuegos = mas_plataform.index\n",
    "filtrar = ('(platform == \"x360\" ' )\n",
    "filtrar = filtrar  + (' or platform == \"ps4\" ')\n",
    "filtrar = filtrar  + (' or platform == \"ps3\" ')\n",
    "filtrar = filtrar  + (' or platform == \"xone\" ')\n",
    "filtrar = filtrar  + (' or platform == \"3ds\" ')\n",
    "filtrar = filtrar  + (' or platform == \"gb\" ')\n",
    "filtrar = filtrar  + (' or platform == \"nes\" ')\n",
    "filtrar = filtrar  + (' or platform == \"gen\") ' )\n",
    "filtrar = filtrar  +  ( 'and (year_of_release in @rangoAños) ')\n",
    "filtrar = filtrar  +  ( 'and (name in @rangoJuegos) ')\n",
    "filtrar = filtrar  +  ( 'and (cat_user_Score > 8) ')\n",
    "filtrar = filtrar  +  ( 'and (critic_score > 60) ')\n",
    "#se filtran las mejores plataformas según su desempeño en ventas totales\n",
    "filtro_mejores_plataformas = video_juegos.query(filtrar)\n",
    "\n",
    "juegos_plataforma = filtro_mejores_plataformas.pivot_table(index= 'name', \n",
    "                                             values= 'ventas_totales',\n",
    "                                            columns = 'platform',\n",
    "                                            aggfunc= 'sum')\n",
    "#depuramos los valores de la reciente tabla dinámica en los que no hay\n",
    "#datos\n",
    "lista_plataform = ['3ds', 'ps3', 'ps4', 'x360', 'xone']\n",
    "for plataforma in lista_plataform:\n",
    "    juegos_plataforma [ plataforma ].fillna (0 , inplace = True )\n",
    "\n",
    "juegos_plataforma"
   ]
  },
  {
   "cell_type": "markdown",
   "metadata": {},
   "source": [
    "Usando los datos de la tabla anterior, realizaremos un resumen de esta usando la siguiente metodología; podremos puntos por cada juego de la lista que resulte con el número mayor de ventas.\n",
    "\n",
    "Realizaremos un tabla, apoyados en un diccionario donde se guardará el puntaje obtenido de cada consola que fué relevante de la tabla dinámica mostrada arriba de estas líneas."
   ]
  },
  {
   "cell_type": "code",
   "execution_count": 69,
   "metadata": {},
   "outputs": [
    {
     "data": {
      "text/html": [
       "<div>\n",
       "<style scoped>\n",
       "    .dataframe tbody tr th:only-of-type {\n",
       "        vertical-align: middle;\n",
       "    }\n",
       "\n",
       "    .dataframe tbody tr th {\n",
       "        vertical-align: top;\n",
       "    }\n",
       "\n",
       "    .dataframe thead th {\n",
       "        text-align: right;\n",
       "    }\n",
       "</style>\n",
       "<table border=\"1\" class=\"dataframe\">\n",
       "  <thead>\n",
       "    <tr style=\"text-align: right;\">\n",
       "      <th></th>\n",
       "      <th>puntaje</th>\n",
       "    </tr>\n",
       "  </thead>\n",
       "  <tbody>\n",
       "    <tr>\n",
       "      <th>3ds</th>\n",
       "      <td>0</td>\n",
       "    </tr>\n",
       "    <tr>\n",
       "      <th>ps3</th>\n",
       "      <td>0</td>\n",
       "    </tr>\n",
       "    <tr>\n",
       "      <th>ps4</th>\n",
       "      <td>0</td>\n",
       "    </tr>\n",
       "    <tr>\n",
       "      <th>x360</th>\n",
       "      <td>0</td>\n",
       "    </tr>\n",
       "    <tr>\n",
       "      <th>xone</th>\n",
       "      <td>0</td>\n",
       "    </tr>\n",
       "  </tbody>\n",
       "</table>\n",
       "</div>"
      ],
      "text/plain": [
       "      puntaje\n",
       "3ds         0\n",
       "ps3         0\n",
       "ps4         0\n",
       "x360        0\n",
       "xone        0"
      ]
     },
     "execution_count": 69,
     "metadata": {},
     "output_type": "execute_result"
    }
   ],
   "source": [
    "#diccionario y dataframe donde se recepcionará los puntajes para\n",
    "#evaluar el desmpeño de las plataformas consideradas relevantes \n",
    "#para nuestro análisis\n",
    "data = {'3ds':0,\n",
    "        'ps3':0, \n",
    "        'ps4':0, \n",
    "        'x360':0, \n",
    "        'xone':0\n",
    "        } \n",
    "puntaje = pd.DataFrame.from_dict(data, orient ='index') \n",
    "puntaje = puntaje.rename(columns = {0:'puntaje'})\n",
    "puntaje"
   ]
  },
  {
   "cell_type": "code",
   "execution_count": 70,
   "metadata": {},
   "outputs": [
    {
     "data": {
      "text/html": [
       "<div>\n",
       "<style scoped>\n",
       "    .dataframe tbody tr th:only-of-type {\n",
       "        vertical-align: middle;\n",
       "    }\n",
       "\n",
       "    .dataframe tbody tr th {\n",
       "        vertical-align: top;\n",
       "    }\n",
       "\n",
       "    .dataframe thead th {\n",
       "        text-align: right;\n",
       "    }\n",
       "</style>\n",
       "<table border=\"1\" class=\"dataframe\">\n",
       "  <thead>\n",
       "    <tr style=\"text-align: right;\">\n",
       "      <th></th>\n",
       "      <th>puntaje</th>\n",
       "    </tr>\n",
       "  </thead>\n",
       "  <tbody>\n",
       "    <tr>\n",
       "      <th>3ds</th>\n",
       "      <td>1</td>\n",
       "    </tr>\n",
       "    <tr>\n",
       "      <th>ps3</th>\n",
       "      <td>6</td>\n",
       "    </tr>\n",
       "    <tr>\n",
       "      <th>ps4</th>\n",
       "      <td>11</td>\n",
       "    </tr>\n",
       "    <tr>\n",
       "      <th>x360</th>\n",
       "      <td>1</td>\n",
       "    </tr>\n",
       "    <tr>\n",
       "      <th>xone</th>\n",
       "      <td>1</td>\n",
       "    </tr>\n",
       "  </tbody>\n",
       "</table>\n",
       "</div>"
      ],
      "text/plain": [
       "      puntaje\n",
       "3ds         1\n",
       "ps3         6\n",
       "ps4        11\n",
       "x360        1\n",
       "xone        1"
      ]
     },
     "execution_count": 70,
     "metadata": {},
     "output_type": "execute_result"
    }
   ],
   "source": [
    "#vamos ahora a obtener las plataformas que más puntaje obtengan\n",
    "#haciendo uso de la tabla anterior\n",
    "for juego in juegos_plataforma.index:\n",
    "    for plataforma in puntaje.index:\n",
    "        if max(juegos_plataforma.loc[juegos_plataforma.index==juego].max(axis=1)) == float(juegos_plataforma.loc[ \n",
    "        juegos_plataforma.index == juego, plataforma\n",
    "            ]):\n",
    "            puntaje.loc[puntaje.index == plataforma] = puntaje.loc[puntaje.index == plataforma]  + 1 \n",
    "puntaje  "
   ]
  },
  {
   "cell_type": "code",
   "execution_count": 71,
   "metadata": {},
   "outputs": [
    {
     "data": {
      "image/png": "[encoded data removed]",
      "text/plain": [
       "<Figure size 432x288 with 1 Axes>"
      ]
     },
     "metadata": {
      "needs_background": "light"
     },
     "output_type": "display_data"
    }
   ],
   "source": [
    "#procedemos a realizar la traza de los puntajes en una gráfica\n",
    "puntaje.plot(kind='bar', color = 'darkorange') \n",
    "plt.title('PUNTAJE SOBRE LAS VENTAS DE LOS MISMOS JUEGOS', fontweight ='bold', fontsize = 12)\n",
    "plt.grid(True)\n",
    "plt.xticks(rotation=45)\n",
    "plt.xlabel('plataformas', fontweight ='bold', fontsize = 10 )\n",
    "plt.show()          "
   ]
  },
  {
   "cell_type": "markdown",
   "metadata": {},
   "source": [
    "Podemos concluir que las plataformas que prometen mas ventas con los datos actuales PS3 y PS4."
   ]
  },
  {
   "cell_type": "markdown",
   "metadata": {},
   "source": [
    ".<a id=paso3-5></a>\n",
    "### Géneros más rentables."
   ]
  },
  {
   "cell_type": "markdown",
   "metadata": {},
   "source": [
    "Será interesante, conocer si los géneros presentan alguna influencia determinante en las ventas. Tracemos los datos generales y observemos cuáles son los que \n",
    "mas ventas se adjudican."
   ]
  },
  {
   "cell_type": "code",
   "execution_count": 72,
   "metadata": {},
   "outputs": [
    {
     "data": {
      "image/png": "[encoded data removed]",
      "text/plain": [
       "<Figure size 432x288 with 1 Axes>"
      ]
     },
     "metadata": {
      "needs_background": "light"
     },
     "output_type": "display_data"
    }
   ],
   "source": [
    "#gráfica de las ventas por género\n",
    "\n",
    "\n",
    "fig, ax = plt.subplots()\n",
    "\n",
    "# datos a comparar en la gráfica\n",
    "y_pos = video_juegos['genre']\n",
    "x_pos = video_juegos['ventas_totales']\n",
    "\n",
    "ax.barh(y_pos, x_pos, align='center', color= 'teal')\n",
    "ax.grid(True)\n",
    "ax.set_yticks(y_pos)\n",
    "ax.invert_yaxis()  \n",
    "ax.set_xlabel('ventas', fontweight ='bold', fontsize = 10 )\n",
    "ax.set_title('GÉNERO VS VENTAS', fontweight ='bold', fontsize = 10 )\n",
    "\n",
    "plt.show()"
   ]
  },
  {
   "cell_type": "markdown",
   "metadata": {},
   "source": [
    "El género SPORTS es el que domina en este aspecto de ventas. \n",
    "\n",
    "Los géneros con ventas altas refieren a cierta tendencia por comprar los juegos que definen una un inicio y una meta por alcanzar.\n",
    "\n",
    "Los géneros con ventas bajas refieren a la tendencia a no preferir a los juegos que requieren de estrategias y conocimiento avanzado para utilizarlos."
   ]
  },
  {
   "cell_type": "markdown",
   "metadata": {},
   "source": [
    "<a id=paso4></a>\n",
    "## . Creando un perfíl de usuario para cada región."
   ]
  },
  {
   "cell_type": "markdown",
   "metadata": {},
   "source": [
    "Para cada región es muy probable que existan diferencias entre los géneros consumidos, el tipo de plataforma entre otros aspectos. Por lo que es relevante implementar un análisis sobre esta variable en influencia con las demás, estudiadas."
   ]
  },
  {
   "cell_type": "markdown",
   "metadata": {},
   "source": [
    ".<a id=paso4-1></a>\n",
    "### Cinco plataformas principales."
   ]
  },
  {
   "cell_type": "markdown",
   "metadata": {},
   "source": [
    "Describamos las variaciones de las cinco plataformas principales en sus cuotas de mercado de una región a otra. Recordemos que tenemos tres (NA, UE, JP)."
   ]
  },
  {
   "cell_type": "code",
   "execution_count": 73,
   "metadata": {},
   "outputs": [],
   "source": [
    "#En cada una de las siguientes listas vaciaremos las ventas por región para\n",
    "#las cinco consolas mas relevantes en \n",
    "#lista_plataform = ['3ds', 'ps3', 'ps4', 'x360', 'xone']\n",
    "NA_means = []\n",
    "UE_means = []\n",
    "JP_means = []\n",
    "#definimos una función para llenar las listas con la información para \n",
    "#cada región\n",
    "def implementa_means(consola):\n",
    "    NA_means.append(video_juegos.loc[\n",
    "        video_juegos['platform'] == consola , 'na_sales'].sum())\n",
    "    UE_means.append(video_juegos.loc[\n",
    "        video_juegos['platform'] == consola , 'eu_sales'].sum())\n",
    "    JP_means.append(video_juegos.loc[\n",
    "        video_juegos['platform'] == consola , 'na_sales'].sum())\n",
    "    \n",
    "#lista_plataform = ['3ds', 'ps3', 'ps4', 'x360', 'xone'], tiene los datos de\n",
    "#las consolas mas relevantes\n",
    "for elemento in lista_plataform:\n",
    "    implementa_means(elemento)"
   ]
  },
  {
   "cell_type": "code",
   "execution_count": 74,
   "metadata": {},
   "outputs": [
    {
     "data": {
      "image/png": "[encoded data removed]",
      "text/plain": [
       "<Figure size 432x288 with 1 Axes>"
      ]
     },
     "metadata": {
      "needs_background": "light"
     },
     "output_type": "display_data"
    }
   ],
   "source": [
    "#Obtenemos la posicion de cada etiqueta en el eje de X\n",
    "x = np.arange(len(lista_plataform))\n",
    "#tamaño de cada barra\n",
    "width = 0.25\n",
    "\n",
    "fig, ax = plt.subplots()\n",
    "\n",
    "#Generamos las barras para el conjunto de hombres\n",
    "rects1 = ax.bar(x + 0.00, NA_means, width, label='NA')\n",
    "#Generamos las barras para el conjunto de mujeres\n",
    "rects2 = ax.bar(x + 0.25, UE_means, width, label='UE')\n",
    "#Generamos las barras para el conjunto de mujeres\n",
    "rects3 = ax.bar(x + 0.50, JP_means, width, label='JP')\n",
    "\n",
    "#Añadimos las etiquetas de identificacion de valores en el grafico\n",
    "ax.set_xlabel('plataformas', fontweight ='bold')\n",
    "ax.set_title('CUOTAS DE VENTAS POR REGIÓN', fontweight ='bold')\n",
    "ax.set_xticks(x)\n",
    "ax.set_xticklabels(lista_plataform)\n",
    "#Añadimos un legen() esto permite mmostrar con colores a que pertence cada valor.\n",
    "ax.legend()\n",
    "\n",
    "def autolabel(rects):\n",
    "    \"\"\"Funcion para agregar una etiqueta con el valor en cada barra\"\"\"\n",
    "    for rect in rects:\n",
    "        height = round(rect.get_height())\n",
    "        ax.annotate('{}'.format(height),\n",
    "                    xy=(rect.get_x() + rect.get_width() / 2, height),\n",
    "                    xytext=(0, 3),  # 3 points vertical offset\n",
    "                    textcoords=\"offset points\",\n",
    "                    ha='center', va='bottom')\n",
    "\n",
    "#Añadimos las etiquetas para cada barra\n",
    "autolabel(rects1)\n",
    "autolabel(rects2)\n",
    "autolabel(rects3)\n",
    "\n",
    "fig.tight_layout()\n",
    "plt.savefig('doble_barra.png')\n",
    "plt.ylim(0, 650)\n",
    "plt.grid(True)\n",
    "#Mostramos la grafica con el metodo show()\n",
    "plt.show()\n"
   ]
  },
  {
   "cell_type": "markdown",
   "metadata": {},
   "source": [
    "En las plataformas estudiadas únicamente varia la predominancia del mercado de la unión europea en la consola **PS4**.\n",
    "\n",
    "Las ventas entre el mercado de Norteámerica y Japón son en el resumén consideradas como iguales con una segunda instancia para el mercado de la unión europea."
   ]
  },
  {
   "cell_type": "markdown",
   "metadata": {},
   "source": [
    ".<a id=paso4-2></a>\n",
    "### Cinco géneros principales."
   ]
  },
  {
   "cell_type": "markdown",
   "metadata": {},
   "source": [
    "Hagamos un análisis análogo para los cinco géneros principales. De conformidad con el apartado 344 de este estudio son: SPORTS, PLATFORM y RACING."
   ]
  },
  {
   "cell_type": "code",
   "execution_count": 75,
   "metadata": {},
   "outputs": [],
   "source": [
    "#En cada una de las siguientes listas vaciaremos las ventas por región para\n",
    "#los génros mas relevantes en SPORTS, PLATFORM y RACING.\n",
    "NA_means = []\n",
    "UE_means = []\n",
    "JP_means = []\n",
    "#definimos una función para llenar las listas con la información para \n",
    "#cada región\n",
    "def implementa_means2(genero):\n",
    "    NA_means.append(video_juegos.loc[\n",
    "        video_juegos['genre'] == genero , 'na_sales'].sum())\n",
    "    UE_means.append(video_juegos.loc[\n",
    "        video_juegos['genre'] == genero , 'eu_sales'].sum())\n",
    "    JP_means.append(video_juegos.loc[\n",
    "        video_juegos['genre'] == genero , 'na_sales'].sum())\n",
    "    \n",
    "#tiene los datos de las consolas mas relevantes    \n",
    "lista_generos = ['sports', 'platform', 'racing']\n",
    "for elemento in lista_generos:\n",
    "    implementa_means2(elemento)"
   ]
  },
  {
   "cell_type": "code",
   "execution_count": 76,
   "metadata": {},
   "outputs": [
    {
     "data": {
      "image/png": "[encoded data removed]",
      "text/plain": [
       "<Figure size 432x288 with 1 Axes>"
      ]
     },
     "metadata": {
      "needs_background": "light"
     },
     "output_type": "display_data"
    }
   ],
   "source": [
    "\n",
    "#Obtenemos la posicion de cada etiqueta en el eje de X\n",
    "x = np.arange(len(lista_generos))\n",
    "#tamaño de cada barra\n",
    "width = 0.25\n",
    "\n",
    "fig, ax = plt.subplots()\n",
    "\n",
    "#Generamos las barras para el conjunto de hombres\n",
    "rects1 = ax.bar(x + 0.00, NA_means, width, label='NA')\n",
    "#Generamos las barras para el conjunto de mujeres\n",
    "rects2 = ax.bar(x + 0.25, UE_means, width, label='UE')\n",
    "#Generamos las barras para el conjunto de mujeres\n",
    "rects3 = ax.bar(x + 0.50, JP_means, width, label='JP')\n",
    "\n",
    "#Añadimos las etiquetas de identificacion de valores en el grafico\n",
    "ax.set_xlabel('géneros', fontweight ='bold')\n",
    "ax.set_title('CUOTAS DE VENTAS POR REGIÓN', fontweight ='bold')\n",
    "ax.set_xticks(x)\n",
    "ax.set_xticklabels(lista_generos)\n",
    "#Añadimos un legen() esto permite mmostrar con colores a que pertence cada valor.\n",
    "ax.legend()\n",
    "\n",
    "def autolabel(rects):\n",
    "    \"\"\"Funcion para agregar una etiqueta con el valor en cada barra\"\"\"\n",
    "    for rect in rects:\n",
    "        height = round(rect.get_height())\n",
    "        ax.annotate('{}'.format(height),\n",
    "                    xy=(rect.get_x() + rect.get_width() / 2, height),\n",
    "                    xytext=(0, 3),  # 3 points vertical offset\n",
    "                    textcoords=\"offset points\",\n",
    "                    ha='center', va='bottom')\n",
    "\n",
    "#Añadimos las etiquetas para cada barra\n",
    "autolabel(rects1)\n",
    "autolabel(rects2)\n",
    "autolabel(rects3)\n",
    "\n",
    "fig.tight_layout()\n",
    "plt.savefig('doble_barra.png')\n",
    "plt.ylim(0, 750)\n",
    "plt.grid(True)\n",
    "#Mostramos la grafica con el metodo show()\n",
    "plt.show()\n"
   ]
  },
  {
   "cell_type": "markdown",
   "metadata": {},
   "source": [
    "Como se puede observar presentan la misma estructura de empate en ventas entre las regiones de Norteámerica y Japón , tercer lugar la Unión Europea.\n",
    " \n",
    "Por otra parte tenemos a la notoría influencia en las ventas para los juegos del género **sports**."
   ]
  },
  {
   "cell_type": "markdown",
   "metadata": {},
   "source": [
    ".<a id=paso4-3></a>\n",
    "### Influencia de las Clasificaciones de ESRB ."
   ]
  },
  {
   "cell_type": "markdown",
   "metadata": {},
   "source": [
    "Si las clasificaciones de ESRB afectan a las ventas en regiones individuales. Para el efecto debemos de preguntarnos si existe correlación entre las dos variantes."
   ]
  },
  {
   "cell_type": "code",
   "execution_count": 77,
   "metadata": {},
   "outputs": [
    {
     "data": {
      "image/png": "[encoded data removed]",
      "text/plain": [
       "<Figure size 432x288 with 1 Axes>"
      ]
     },
     "metadata": {
      "needs_background": "light"
     },
     "output_type": "display_data"
    }
   ],
   "source": [
    "#establecer un diagrama de correlación y observar la influencia\n",
    "# si existe interdepencia de ambas variables\n",
    "\n",
    "video_juegos.plot(x='rating', \n",
    "                  y='ventas_totales', \n",
    "           kind='scatter', \n",
    "           color = 'darksalmon')\n",
    "plt.title('Correlación entre Clasificaciones y Ventas', \n",
    "          fontweight ='bold', fontsize = 12)  \n",
    "plt.xlabel('Clasificación', fontweight ='bold', fontsize = 10)\n",
    "plt.ylabel('Ventas Totales', fontweight ='bold', fontsize = 10)\n",
    "plt.xticks(rotation=45)\n",
    "plt.grid(True)\n",
    "plt.show()"
   ]
  },
  {
   "cell_type": "markdown",
   "metadata": {},
   "source": [
    "Veamos que existe una cierta tendencia lineal negativa, para los juegos que ese clasifican para mayores edades, como es de experarse debido a que estamos segmentado el mercado de la clasificación E-every thing- , T- Teen- a M-Mature."
   ]
  },
  {
   "cell_type": "markdown",
   "metadata": {},
   "source": [
    "<a id=paso5></a>\n",
    "## . Pruebas de hipotesís."
   ]
  },
  {
   "cell_type": "markdown",
   "metadata": {},
   "source": [
    "Para identificar patrones que determinen si un juego tiene éxito o no; partamos primero de si la evidencia observadad en las plataformas es estadísticamente real, es decir que si hay razones para pensar que el éxito en ventas esta marcadamente influenciado por el tipo de plataforma. "
   ]
  },
  {
   "cell_type": "markdown",
   "metadata": {},
   "source": [
    ".<a id=paso5-1></a>\n",
    "### Las plataformas y las calificaciones de usuarios ."
   ]
  },
  {
   "cell_type": "markdown",
   "metadata": {},
   "source": [
    "Realizaremos una prueba de hipotesís en los siguientes terminos:\n",
    "- <em>Las calificaciones promedio de los usuarios para las plataformas Xbox One y PC son las mismas<em/>.\n",
    "    \n",
    "Si el valor promedio de esta población es igual, hay fuerte evidencia estadísitica de que las plataformas de lanzamiento,  no forman un aspecto que influya en las calificaciones, que recibe un video juego.\n",
    "\n",
    "Usemos la notación $\\mu_{\\text{XOne}}$ para denotar las calificaciones promedio de la plataforma de **Xbox One** y $\\mu_{\\text{PC}}$ para denotar las calificaciones promedio de la plataforma de **PC**.\n",
    "\n",
    "1. Nuestras hipótesis a plantear serán:\n",
    "\n",
    "$H_0: \\mu_{\\text{XOne}} = \\mu_{\\text{PC}}$\n",
    "\n",
    "$H_a: \\mu_{\\text{XOne}} \\neq \\mu_{\\text{PC}}$\n",
    "\n",
    "2. Establezcamos un nivel de significancia del 90%.\n",
    "\n",
    "3. Seleccionemos un estadístico de prueba."
   ]
  },
  {
   "cell_type": "code",
   "execution_count": 78,
   "metadata": {},
   "outputs": [
    {
     "name": "stdout",
     "output_type": "stream",
     "text": [
      "p-value:  0.00018915851026593628\n",
      "Rechazamos la hipótesis nula\n"
     ]
    }
   ],
   "source": [
    "#pasamos en dos objetos lista las dos muestras de valores \n",
    "#para analizar\n",
    "\n",
    "sample_Xbox = video_juegos.loc[video_juegos['platform'] == 'xone', 'cat_user_Score']\n",
    "sample_PC = video_juegos.loc[video_juegos['platform'] == 'pc', 'cat_user_Score']\n",
    "\n",
    "alpha = 0.9 # el nivel de significancia estadística crítica\n",
    "# si el valor p es menor que alfa, rechazamos la hipótesis\n",
    "\n",
    "results = st.ttest_ind(sample_Xbox, sample_PC)\n",
    "\n",
    "print('p-value: ', results.pvalue)\n",
    "\n",
    "if results.pvalue < alpha:\n",
    "    print(\"Rechazamos la hipótesis nula\")\n",
    "else:\n",
    "    print(\"No rechazamos la hipótesis nula\")"
   ]
  },
  {
   "cell_type": "markdown",
   "metadata": {},
   "source": [
    "Es decir si existe influencia entre las calificaciones de los usuarios y las plataformas, estudiadas."
   ]
  },
  {
   "cell_type": "markdown",
   "metadata": {},
   "source": [
    "El valor p nos dice que aunque las cantidades promedio para los dos plataformas sean iguales, esta probabilidad mucho mayor  90% de probabilidad de obtener aleatoriamente una diferencia de ese tamaño o mayor. Esta probabilidad es claramente demasiado alta para concluir que no existe una diferencia significativa entre los valores promedio registrados para cada plataforma."
   ]
  },
  {
   "cell_type": "markdown",
   "metadata": {},
   "source": [
    ".<a id=paso5-2></a>\n",
    "### Los géneros y las calificaciones de usuarios ."
   ]
  },
  {
   "cell_type": "markdown",
   "metadata": {},
   "source": [
    "El género presentó evidencia de su influencia en las ventas para un video juego. Verifiquemos esto usando una prueba estadísitica, para los géneros de **Deportes** y **Acción**. \n",
    "\n",
    "\n",
    "Realizaremos una prueba de hipotesís en los siguientes terminos:\n",
    "- <em> Las calificaciones promedio de los usuarios para los géneros de Acción y Deportes son diferentes<em/>. \n",
    "\n",
    "Si el valor promedio de esta población es igual, hay fuerte evidencia estadísitica de que los géneros no forman un aspecto que influya en las calificaciones, que recibe un video juego.\n",
    "    \n",
    "Usemos la notación $\\mu_{\\text{Acción}}$ para denotar las calificaciones promedio de él género **action** y $\\mu_{\\text{Deportes}}$ para denotar las calificaciones promedio de él género **Deportes**.\n",
    "\n",
    "1. Nuestras hipótesis a plantear serán:\n",
    "\n",
    "$H_0: \\mu_{\\text{Acción}} = \\mu_{\\text{Deportes}}$\n",
    "\n",
    "$H_a: \\mu_{\\text{Acción}} \\neq \\mu_{\\text{Deportes}}$\n",
    "\n",
    "2. Establezcamos un nivel de significancia del 90%.\n",
    "\n",
    "3. Seleccionemos un estadístico de prueba."
   ]
  },
  {
   "cell_type": "code",
   "execution_count": 79,
   "metadata": {},
   "outputs": [
    {
     "name": "stdout",
     "output_type": "stream",
     "text": [
      "p-value:  4.980302438830364e-06\n",
      "Rechazamos la hipótesis nula\n"
     ]
    }
   ],
   "source": [
    "#pasamos en dos objetos lista las dos muestras de valores \n",
    "#para analizar\n",
    "\n",
    "\n",
    "sample_accion = video_juegos.loc[video_juegos['genre'] == 'action', 'cat_user_Score']\n",
    "sample_deporte = video_juegos.loc[video_juegos['genre'] == 'sports', 'cat_user_Score']\n",
    "\n",
    "alpha = 0.90 # el nivel de significancia estadística crítica\n",
    "# si el valor p es menor que alfa, rechazamos la hipótesis\n",
    "\n",
    "results = st.ttest_ind(sample_accion, sample_deporte)\n",
    "\n",
    "print('p-value: ', results.pvalue)\n",
    "\n",
    "if results.pvalue < alpha:\n",
    "    print(\"Rechazamos la hipótesis nula\")\n",
    "else:\n",
    "    print(\"No rechazamos la hipótesis nula\")"
   ]
  },
  {
   "cell_type": "markdown",
   "metadata": {},
   "source": [
    "El valor p nos dice que aunque las cantidades promedio para los dos plataformas sean iguales, esta probabilidad mucho mayor  90% de probabilidad de obtener aleatoriamente una diferencia de ese tamaño o mayor. Esta probabilidad es claramente demasiado alta para concluir que no existe una diferencia significativa entre los valores promedio registrados para cada género."
   ]
  },
  {
   "cell_type": "markdown",
   "metadata": {},
   "source": [
    "Es decir si existe influencia entre las calificaciones de los géneros, estudiados."
   ]
  },
  {
   "cell_type": "markdown",
   "metadata": {},
   "source": [
    "<a id=paso6></a>\n",
    "## . Conclusión General."
   ]
  },
  {
   "cell_type": "markdown",
   "metadata": {},
   "source": [
    "1. Existe evidencia de la influencia entre el género elegido para realizar un video juego y las calificaciones de preferencia de los usuarios.\n",
    "2. Existe evidencia de la influencia entre la plataforma de lanzamiento elegida para realizar un video juego y las calificaciones de preferencia de los usuarios.\n",
    "3. Se debe tomar con reserva la influencia de las clasificaciones ESRB, encuanto a las ventas para un video juego, aunque es relevante tomarlas en consideración.\n",
    "4. Las ventas de un video juego presentan una tendencia a estar muy influenciadas por las regiones Norteaméricana y Japonesa."
   ]
  },
  {
   "cell_type": "markdown",
   "metadata": {},
   "source": [
    "<a id='R6'></a> \n",
    "## . Recomendaciones. \n",
    "- `Se recomienda favorecer la realización de video juegos en las plataformas 'ps3', 'ps4', 'x360' y 'xone'.`\n",
    "- `Se recomienda favorecer la realización de video juegos en los géneros 'sports', 'platform' y 'racing'.`\n",
    "- `Las ventas por región debe considerarse como prioridad las reseñas de las regiones Norteaméricana y de Japón.`"
   ]
  },
  {
   "cell_type": "markdown",
   "metadata": {},
   "source": [
    "[Volver a Contenidos](#back)"
   ]
  }
 ],
 "metadata": {
  "kernelspec": {
   "display_name": "Python 3 (ipykernel)",
   "language": "python",
   "name": "python3"
  },
  "language_info": {
   "codemirror_mode": {
    "name": "ipython",
    "version": 3
   },
   "file_extension": ".py",
   "mimetype": "text/x-python",
   "name": "python",
   "nbconvert_exporter": "python",
   "pygments_lexer": "ipython3",
   "version": "3.9.5"
  },
  "toc": {
   "base_numbering": 1,
   "nav_menu": {
    "height": "12px",
    "width": "160px"
   },
   "number_sections": true,
   "sideBar": true,
   "skip_h1_title": true,
   "title_cell": "Table of Contents",
   "title_sidebar": "Contents",
   "toc_cell": false,
   "toc_position": {
    "height": "calc(100% - 180px)",
    "left": "10px",
    "top": "150px",
    "width": "282.4px"
   },
   "toc_section_display": true,
   "toc_window_display": true
  }
 },
 "nbformat": 4,
 "nbformat_minor": 2
}
